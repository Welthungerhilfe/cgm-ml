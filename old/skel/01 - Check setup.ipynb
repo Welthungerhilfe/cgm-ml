{
 "cells": [
  {
   "cell_type": "markdown",
   "metadata": {},
   "source": [
    "# Checking if your machine is properly set-up.\n",
    "\n",
    "Our endeavours require that your machine is properly set up. The main requirement is that you have got 1. the proper python version and 2. the basic necessary modules installed. The following script - if executed successfully - will give you a good indication on that matter."
   ]
  },
  {
   "cell_type": "code",
   "execution_count": 1,
   "metadata": {},
   "outputs": [
    {
     "name": "stdout",
     "output_type": "stream",
     "text": [
      "/data/anaconda/envs/py36-tf2/lib/python36.zip\n",
      "/data/anaconda/envs/py36-tf2/lib/python3.6\n",
      "/data/anaconda/envs/py36-tf2/lib/python3.6/lib-dynload\n",
      "\n",
      "/data/anaconda/envs/py36-tf2/lib/python3.6/site-packages\n",
      "/data/anaconda/envs/py36-tf2/lib/python3.6/site-packages/IPython/extensions\n",
      "/data/home/tbehrens/.ipython\n",
      "Python version is fine!\n",
      "tensorflow: 2.0.0\n",
      "matplotlib: 3.1.2\n",
      "PIL: 6.2.1\n",
      "numpy: 1.17.3\n",
      "h5py: 2.9.0\n",
      "glob2: (0, 7)\n",
      "progressbar: 3.47.0\n",
      "tqdm: 4.39.0\n",
      "Success! You are on a very good way!\n"
     ]
    }
   ],
   "source": [
    "# Ignore warnings.\n",
    "import warnings\n",
    "warnings.filterwarnings(\"ignore\")\n",
    "\n",
    "# Check python version.\n",
    "import sys\n",
    "print(\"\\n\".join(sys.path))\n",
    "assert sys.version_info[0] == 3 and sys.version_info[1] == 6, \"Requires Python 3.6.x, got \" + str(sys.version_info)\n",
    "print(\"Python version is fine!\")\n",
    "\n",
    "# Check tensorflow.\n",
    "import tensorflow\n",
    "print(\"tensorflow:\", tensorflow.__version__)\n",
    "\n",
    "# Check tensorflow.\n",
    "import matplotlib\n",
    "print(\"matplotlib:\", matplotlib.__version__)\n",
    "\n",
    "# Check PIL.\n",
    "import PIL\n",
    "print(\"PIL:\", PIL.__version__)\n",
    "\n",
    "# Check numpy.\n",
    "import numpy\n",
    "print(\"numpy:\", numpy.__version__)\n",
    "\n",
    "# Check pyntcloud.\n",
    "from pyntcloud import PyntCloud\n",
    "# print(\"pyntcloud:\", pyntcloud.__version__)\n",
    "\n",
    "import h5py\n",
    "print(\"h5py:\", h5py.__version__)\n",
    "\n",
    "import glob2\n",
    "print(\"glob2:\", glob2.__version__)\n",
    "\n",
    "import progressbar\n",
    "print(\"progressbar:\", progressbar.__version__)\n",
    "\n",
    "import tqdm\n",
    "print(\"tqdm:\", tqdm.__version__)\n",
    "\n",
    "\n",
    "print(\"Success! You are on a very good way!\")"
   ]
  },
  {
   "cell_type": "markdown",
   "metadata": {},
   "source": [
    "# Best practice: Train on a GPU.\n",
    "Although it is expected to be perfectly feasible to develop on a CPU, we strongly advise you to train anything on a GPU. Training on a GPU is definitely faster than on a CPU. The following script checks the availability of GPUs on your system."
   ]
  },
  {
   "cell_type": "code",
   "execution_count": 2,
   "metadata": {},
   "outputs": [
    {
     "name": "stdout",
     "output_type": "stream",
     "text": [
      "Available GPUs: ['/device:GPU:0', '/device:GPU:1']\n",
      "Looks good! You got access to a GPU.\n"
     ]
    }
   ],
   "source": [
    "from tensorflow.python.client import device_lib\n",
    "\n",
    "def get_available_gpus():\n",
    "    local_device_protos = device_lib.list_local_devices()\n",
    "    return [x.name for x in local_device_protos if x.device_type == 'GPU']\n",
    "\n",
    "available_gpus = get_available_gpus()\n",
    "print(\"Available GPUs:\", available_gpus)\n",
    "if len(available_gpus) != 0:\n",
    "    print(\"Looks good! You got access to a GPU.\")"
   ]
  },
  {
   "cell_type": "code",
   "execution_count": 3,
   "metadata": {},
   "outputs": [
    {
     "name": "stdout",
     "output_type": "stream",
     "text": [
      "Model: \"sequential\"\n",
      "_________________________________________________________________\n",
      "Layer (type)                 Output Shape              Param #   \n",
      "=================================================================\n",
      "dense (Dense)                (None, 10)                7850      \n",
      "=================================================================\n",
      "Total params: 7,850\n",
      "Trainable params: 7,850\n",
      "Non-trainable params: 0\n",
      "_________________________________________________________________\n",
      "Train on 100 samples\n",
      "100/100 [==============================] - 1s 8ms/sample - loss: 12.3738 - accuracy: 0.1100\n",
      "Training worked!\n"
     ]
    }
   ],
   "source": [
    "from tensorflow.keras import models, layers\n",
    "import numpy as np\n",
    "\n",
    "model = models.Sequential()\n",
    "model.add(layers.Dense(10, activation='softmax', input_shape=(784,)))\n",
    "model.summary()\n",
    "\n",
    "model.compile(loss='categorical_crossentropy',\n",
    "              optimizer=\"rmsprop\",\n",
    "              metrics=['accuracy'])\n",
    "\n",
    "model.fit(\n",
    "    np.random.random((100, 784)), np.random.random((100, 10))\n",
    ")\n",
    "\n",
    "print(\"Training worked!\")"
   ]
  },
  {
   "cell_type": "markdown",
   "metadata": {},
   "source": [
    "Thank you very much. Software and hardware seem to be in a good state."
   ]
  }
 ],
 "metadata": {
  "kernelspec": {
   "display_name": "py36-tf2",
   "language": "python",
   "name": "py36-tf2"
  },
  "language_info": {
   "codemirror_mode": {
    "name": "ipython",
    "version": 3
   },
   "file_extension": ".py",
   "mimetype": "text/x-python",
   "name": "python",
   "nbconvert_exporter": "python",
   "pygments_lexer": "ipython3",
   "version": "3.6.9"
  }
 },
 "nbformat": 4,
 "nbformat_minor": 2
}
