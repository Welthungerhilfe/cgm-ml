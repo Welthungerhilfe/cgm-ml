{
 "cells": [
  {
   "cell_type": "markdown",
   "metadata": {},
   "source": [
    "# Train PointNet (https://arxiv.org/abs/1612.00593).\n",
    "\n",
    "This notebook shows you how to use the PreprocessedDataGenerator in order to train PointNet.\n",
    "\n",
    "The PreprocessedDataGenerator uses preprocessed-data instead of ETL-data. Wheras ETL-data comes mainly as PCD-files, preprocessed-data comes mainly as pointclouds stored as numpy-arrays. We identified PCD-loading as a bottleneck. "
   ]
  },
  {
   "cell_type": "code",
   "execution_count": 3,
   "metadata": {},
   "outputs": [],
   "source": [
    "import sys\n",
    "sys.path.insert(0, \"..\")\n",
    "\n",
    "import numpy as np\n",
    "import os\n",
    "import random"
   ]
  },
  {
   "cell_type": "markdown",
   "metadata": {},
   "source": [
    "# Get the dataset path.\n",
    "\n",
    "This snippet shows you how to get the lates preprocessed path."
   ]
  },
  {
   "cell_type": "code",
   "execution_count": 4,
   "metadata": {},
   "outputs": [
    {
     "name": "stdout",
     "output_type": "stream",
     "text": [
      "Using dataset path /whhdata/preprocessed/2019_04_21_22_32_09\n"
     ]
    }
   ],
   "source": [
    "from cgmcore.preprocesseddatagenerator import get_dataset_path\n",
    "\n",
    "dataset_path = get_dataset_path(\"/whhdata/preprocessed\")\n",
    "print(\"Using dataset path\", dataset_path)"
   ]
  },
  {
   "cell_type": "markdown",
   "metadata": {},
   "source": [
    "# Hyperparameters."
   ]
  },
  {
   "cell_type": "code",
   "execution_count": 6,
   "metadata": {},
   "outputs": [],
   "source": [
    "steps_per_epoch = 10\n",
    "validation_steps = 10\n",
    "epochs = 100\n",
    "batch_size = 1\n",
    "random_seed = 667"
   ]
  },
  {
   "cell_type": "markdown",
   "metadata": {},
   "source": [
    "# Create data-generator.\n",
    "\n",
    "The method create_datagenerator_from_parameters is a convencience method. It allows you to instantiate a generator from a specification-dictionary."
   ]
  },
  {
   "cell_type": "code",
   "execution_count": 7,
   "metadata": {},
   "outputs": [
    {
     "name": "stdout",
     "output_type": "stream",
     "text": [
      "Creating data-generator...\n"
     ]
    }
   ],
   "source": [
    "from cgmcore.preprocesseddatagenerator import create_datagenerator_from_parameters\n",
    "\n",
    "dataset_parameters_pointclouds = {}\n",
    "dataset_parameters_pointclouds[\"input_type\"] = \"pointcloud\"\n",
    "dataset_parameters_pointclouds[\"output_targets\"] = [\"weight\"]\n",
    "dataset_parameters_pointclouds[\"random_seed\"] = random_seed\n",
    "dataset_parameters_pointclouds[\"pointcloud_target_size\"] = 35000\n",
    "dataset_parameters_pointclouds[\"pointcloud_random_rotation\"] = False\n",
    "dataset_parameters_pointclouds[\"sequence_length\"] = 0\n",
    "datagenerator_instance_pointclouds = create_datagenerator_from_parameters(dataset_path, dataset_parameters_pointclouds)"
   ]
  },
  {
   "cell_type": "markdown",
   "metadata": {},
   "source": [
    "# Getting the QR-Codes and do a train-validate-split.\n",
    "\n",
    "The data-generator is perfectly capable of retrieving all QR-codes from the dataset. This snipped shows how to do so and how to split the QR-codes into two sets: Train and validate."
   ]
  },
  {
   "cell_type": "code",
   "execution_count": 11,
   "metadata": {},
   "outputs": [
    {
     "name": "stdout",
     "output_type": "stream",
     "text": [
      "QR-codes for training:\n",
      " MH_WHH_0001\tMH_WHH_0002\tMH_WHH_0003\tMH_WHH_0004\tMH_WHH_0007\tMH_WHH_0008\tMH_WHH_0011\tMH_WHH_0012\tMH_WHH_0013\tMH_WHH_0014\tMH_WHH_0016\tMH_WHH_0018\tMH_WHH_0019\tMH_WHH_0022\tMH_WHH_0027\tMH_WHH_0028\tMH_WHH_0030\tMH_WHH_0031\tMH_WHH_0032\tMH_WHH_0033\tMH_WHH_0034\tMH_WHH_0035\tMH_WHH_0036\tMH_WHH_0039\tMH_WHH_0041\tMH_WHH_0042\tMH_WHH_0043\tMH_WHH_0044\tMH_WHH_0045\tMH_WHH_0046\tMH_WHH_0047\tMH_WHH_0048\tMH_WHH_0049\tMH_WHH_0053\tMH_WHH_0056\tMH_WHH_0063\tMH_WHH_0075\tMH_WHH_0081\tMH_WHH_0082\tMH_WHH_0083\tMH_WHH_0095\tMH_WHH_0096\tMH_WHH_0104\tMH_WHH_0116\tMH_WHH_0117\tMH_WHH_0118\tMH_WHH_0120\tMH_WHH_0125\tMH_WHH_0135\tMH_WHH_0137\tMH_WHH_0143\tMH_WHH_0148\tMH_WHH_0149\tMH_WHH_0150\tMH_WHH_0153\tMH_WHH_0154\tMH_WHH_0155\tMH_WHH_0156\tMH_WHH_0158\tMH_WHH_0159\tMH_WHH_0161\tMH_WHH_0162\tMH_WHH_0164\tMH_WHH_0166\tMH_WHH_0167\tMH_WHH_0170\tMH_WHH_0176\tMH_WHH_0177\tMH_WHH_0178\tMH_WHH_0179\tMH_WHH_0182\tMH_WHH_0183\tMH_WHH_0185\tMH_WHH_0187\tMH_WHH_0188\tMH_WHH_0189\tMH_WHH_0192\tMH_WHH_0202\tMH_WHH_0204\tMH_WHH_0206\tMH_WHH_0207\tMH_WHH_0770\tMH_WHH_0810\tMH_WHH_0811\tMH_WHH_0812\tMH_WHH_0889\tMH_WHH_0896\tMH_WHH_1004\tMH_WHH_1011\tMH_WHH_1012\tMH_WHH_1025\tMH_WHH_1026\tMH_WHH_1032\tMH_WHH_1037\n",
      "QR-codes for validation:\n",
      " MH_WHH_0010\tMH_WHH_0015\tMH_WHH_0017\tMH_WHH_0026\tMH_WHH_0029\tMH_WHH_0037\tMH_WHH_0052\tMH_WHH_0054\tMH_WHH_0076\tMH_WHH_0077\tMH_WHH_0097\tMH_WHH_0102\tMH_WHH_0109\tMH_WHH_0119\tMH_WHH_0124\tMH_WHH_0126\tMH_WHH_0147\tMH_WHH_0152\tMH_WHH_0165\tMH_WHH_0168\tMH_WHH_0173\tMH_WHH_0205\tMH_WHH_0897\tMH_WHH_1035\n"
     ]
    }
   ],
   "source": [
    "# Get the QR-codes.\n",
    "qrcodes_to_use = datagenerator_instance_pointclouds.qrcodes[0:9999]\n",
    "\n",
    "# Do the split.\n",
    "random.seed(random_seed)\n",
    "qrcodes_shuffle = qrcodes_to_use[:]\n",
    "random.shuffle(qrcodes_shuffle)\n",
    "split_index = int(0.8 * len(qrcodes_shuffle))\n",
    "qrcodes_train = sorted(qrcodes_shuffle[:split_index])\n",
    "qrcodes_validate = sorted(qrcodes_shuffle[split_index:])\n",
    "del qrcodes_shuffle\n",
    "print(\"QR-codes for training:\\n\", \"\\t\".join(qrcodes_train))\n",
    "print(\"QR-codes for validation:\\n\", \"\\t\".join(qrcodes_validate))"
   ]
  },
  {
   "cell_type": "markdown",
   "metadata": {},
   "source": [
    "# Creating python generators for training and validation.\n",
    "\n",
    "Now both QR-codes lists can be used for creating the actual generators. One for training and one for validation."
   ]
  },
  {
   "cell_type": "code",
   "execution_count": 12,
   "metadata": {},
   "outputs": [],
   "source": [
    "# Create python generators.\n",
    "generator_pointclouds_train = datagenerator_instance_pointclouds.generate(size=batch_size, qrcodes_to_use=qrcodes_train)\n",
    "generator_pointclouds_validate = datagenerator_instance_pointclouds.generate(size=batch_size, qrcodes_to_use=qrcodes_validate)"
   ]
  },
  {
   "cell_type": "markdown",
   "metadata": {},
   "source": [
    "# Using the generator to create data manually.\n",
    "\n",
    "Of course you can use the generator to create data manually anytime."
   ]
  },
  {
   "cell_type": "code",
   "execution_count": 13,
   "metadata": {},
   "outputs": [
    {
     "name": "stdout",
     "output_type": "stream",
     "text": [
      "Input-shape: (1, 35000, 3)\n",
      "Output-shape: (1, 1)\n"
     ]
    }
   ],
   "source": [
    "train_x, train_y = next(generator_pointclouds_train)\n",
    "print(\"Input-shape:\", train_x.shape)\n",
    "print(\"Output-shape:\", train_y.shape)"
   ]
  },
  {
   "cell_type": "markdown",
   "metadata": {},
   "source": [
    "# Training-details.\n",
    "\n",
    "Training-details are a dictionary that gets stored in a file after training. It is supposed to contain information that is valuable. For example data that is relevant for training including the hyper-parameters. Intended to be used when comparing different models."
   ]
  },
  {
   "cell_type": "code",
   "execution_count": 14,
   "metadata": {},
   "outputs": [],
   "source": [
    "training_details = {\n",
    "    \"dataset_path\" : dataset_path,\n",
    "    \"qrcodes_train\" : qrcodes_train,\n",
    "    \"qrcodes_validate\" : qrcodes_validate,\n",
    "    \"steps_per_epoch\" : steps_per_epoch,\n",
    "    \"validation_steps\" : validation_steps,\n",
    "    \"epochs\" : epochs,\n",
    "    \"batch_size\" : batch_size,\n",
    "    \"random_seed\" : random_seed,\n",
    "}"
   ]
  },
  {
   "cell_type": "markdown",
   "metadata": {},
   "source": [
    "# Training PointNet.\n",
    "\n",
    "The module modelutils contains methods for creating Neural Nets. The following code shows how to instantiate and train PointNet."
   ]
  },
  {
   "cell_type": "code",
   "execution_count": 15,
   "metadata": {},
   "outputs": [
    {
     "name": "stderr",
     "output_type": "stream",
     "text": [
      "Using TensorFlow backend.\n"
     ]
    },
    {
     "name": "stdout",
     "output_type": "stream",
     "text": [
      "_________________________________________________________________\n",
      "Layer (type)                 Output Shape              Param #   \n",
      "=================================================================\n",
      "input_1 (InputLayer)         (None, 35000, 3)          0         \n",
      "_________________________________________________________________\n",
      "lambda_1 (Lambda)            (None, 35000, 3)          0         \n",
      "_________________________________________________________________\n",
      "conv1d_4 (Conv1D)            (None, 35000, 64)         256       \n",
      "_________________________________________________________________\n",
      "batch_normalization_6 (Batch (None, 35000, 64)         256       \n",
      "_________________________________________________________________\n",
      "conv1d_5 (Conv1D)            (None, 35000, 64)         4160      \n",
      "_________________________________________________________________\n",
      "batch_normalization_7 (Batch (None, 35000, 64)         256       \n",
      "_________________________________________________________________\n",
      "lambda_2 (Lambda)            (None, 35000, 64)         0         \n",
      "_________________________________________________________________\n",
      "conv1d_9 (Conv1D)            (None, 35000, 64)         4160      \n",
      "_________________________________________________________________\n",
      "batch_normalization_13 (Batc (None, 35000, 64)         256       \n",
      "_________________________________________________________________\n",
      "conv1d_10 (Conv1D)           (None, 35000, 128)        8320      \n",
      "_________________________________________________________________\n",
      "batch_normalization_14 (Batc (None, 35000, 128)        512       \n",
      "_________________________________________________________________\n",
      "conv1d_11 (Conv1D)           (None, 35000, 1024)       132096    \n",
      "_________________________________________________________________\n",
      "batch_normalization_15 (Batc (None, 35000, 1024)       4096      \n",
      "_________________________________________________________________\n",
      "max_pooling1d_3 (MaxPooling1 (None, 1, 1024)           0         \n",
      "_________________________________________________________________\n",
      "dense_7 (Dense)              (None, 1, 64)             65600     \n",
      "_________________________________________________________________\n",
      "batch_normalization_16 (Batc (None, 1, 64)             256       \n",
      "_________________________________________________________________\n",
      "dropout_1 (Dropout)          (None, 1, 64)             0         \n",
      "_________________________________________________________________\n",
      "dense_8 (Dense)              (None, 1, 1)              65        \n",
      "_________________________________________________________________\n",
      "flatten_1 (Flatten)          (None, 1)                 0         \n",
      "=================================================================\n",
      "Total params: 220,289\n",
      "Trainable params: 217,473\n",
      "Non-trainable params: 2,816\n",
      "_________________________________________________________________\n",
      "Epoch 1/100\n",
      "10/10 [==============================] - 48s 5s/step - loss: 106.7003 - mean_absolute_error: 10.1470 - val_loss: 230584.7229 - val_mean_absolute_error: 319.6063\n",
      "Epoch 2/100\n",
      "10/10 [==============================] - 46s 5s/step - loss: 117.3433 - mean_absolute_error: 10.6715 - val_loss: 268983.2134 - val_mean_absolute_error: 299.6673\n",
      "Epoch 3/100\n",
      "10/10 [==============================] - 46s 5s/step - loss: 114.0069 - mean_absolute_error: 10.5450 - val_loss: 392626.9385 - val_mean_absolute_error: 353.3056\n",
      "Epoch 4/100\n",
      "10/10 [==============================] - 46s 5s/step - loss: 110.2615 - mean_absolute_error: 10.3116 - val_loss: 379213.8439 - val_mean_absolute_error: 309.1123\n",
      "Epoch 5/100\n",
      "10/10 [==============================] - 46s 5s/step - loss: 94.8363 - mean_absolute_error: 9.6144 - val_loss: 47483.0634 - val_mean_absolute_error: 174.3182\n",
      "Epoch 6/100\n",
      "10/10 [==============================] - 47s 5s/step - loss: 99.7689 - mean_absolute_error: 9.8135 - val_loss: 873844.6458 - val_mean_absolute_error: 522.0746\n",
      "Epoch 7/100\n",
      "10/10 [==============================] - 46s 5s/step - loss: 110.8525 - mean_absolute_error: 10.2433 - val_loss: 337663.5854 - val_mean_absolute_error: 344.8302\n",
      "Epoch 8/100\n",
      "10/10 [==============================] - 46s 5s/step - loss: 129.6142 - mean_absolute_error: 10.8634 - val_loss: 389375.5938 - val_mean_absolute_error: 343.8087\n",
      "Epoch 9/100\n",
      "10/10 [==============================] - 46s 5s/step - loss: 82.0109 - mean_absolute_error: 8.8502 - val_loss: 599680.7718 - val_mean_absolute_error: 454.8722\n",
      "Epoch 10/100\n",
      "10/10 [==============================] - 46s 5s/step - loss: 78.2824 - mean_absolute_error: 8.4901 - val_loss: 28127.5394 - val_mean_absolute_error: 157.2602\n",
      "Epoch 11/100\n",
      "10/10 [==============================] - 46s 5s/step - loss: 107.9816 - mean_absolute_error: 9.9280 - val_loss: 91539.3731 - val_mean_absolute_error: 260.7581\n",
      "Epoch 12/100\n",
      "10/10 [==============================] - 46s 5s/step - loss: 97.8384 - mean_absolute_error: 9.5056 - val_loss: 446484.5851 - val_mean_absolute_error: 396.8806\n",
      "Epoch 13/100\n",
      "10/10 [==============================] - 46s 5s/step - loss: 69.7649 - mean_absolute_error: 8.1075 - val_loss: 82778.7580 - val_mean_absolute_error: 244.0013\n",
      "Epoch 14/100\n",
      "10/10 [==============================] - 46s 5s/step - loss: 85.1686 - mean_absolute_error: 8.9678 - val_loss: 220828.8117 - val_mean_absolute_error: 285.8684\n",
      "Epoch 15/100\n",
      "10/10 [==============================] - 46s 5s/step - loss: 118.5411 - mean_absolute_error: 10.5538 - val_loss: 158779.0519 - val_mean_absolute_error: 245.9167\n",
      "Epoch 16/100\n",
      "10/10 [==============================] - 46s 5s/step - loss: 636.8083 - mean_absolute_error: 14.8560 - val_loss: 230881.1557 - val_mean_absolute_error: 355.9142\n",
      "Epoch 17/100\n",
      "10/10 [==============================] - 46s 5s/step - loss: 65.9596 - mean_absolute_error: 7.5655 - val_loss: 330041.5185 - val_mean_absolute_error: 389.6652\n",
      "Epoch 18/100\n",
      "10/10 [==============================] - 46s 5s/step - loss: 1036.5014 - mean_absolute_error: 20.7515 - val_loss: 82611.0390 - val_mean_absolute_error: 213.4418\n",
      "Epoch 19/100\n",
      "10/10 [==============================] - 46s 5s/step - loss: 60.7361 - mean_absolute_error: 7.5562 - val_loss: 870200.5355 - val_mean_absolute_error: 414.6724\n",
      "Epoch 20/100\n",
      "10/10 [==============================] - 46s 5s/step - loss: 488.7164 - mean_absolute_error: 14.9846 - val_loss: 168431.4008 - val_mean_absolute_error: 245.6146\n",
      "Epoch 21/100\n",
      "10/10 [==============================] - 46s 5s/step - loss: 88.8671 - mean_absolute_error: 9.2531 - val_loss: 578344.7452 - val_mean_absolute_error: 393.9592\n",
      "Epoch 22/100\n",
      "10/10 [==============================] - 46s 5s/step - loss: 78.0638 - mean_absolute_error: 8.5266 - val_loss: 50410.6067 - val_mean_absolute_error: 187.5470\n",
      "Epoch 23/100\n",
      "10/10 [==============================] - 46s 5s/step - loss: 49.6414 - mean_absolute_error: 6.7243 - val_loss: 37480.0387 - val_mean_absolute_error: 167.0048\n",
      "Epoch 24/100\n",
      "10/10 [==============================] - 46s 5s/step - loss: 74.8457 - mean_absolute_error: 8.4116 - val_loss: 1196789.4586 - val_mean_absolute_error: 665.6589\n",
      "Epoch 25/100\n",
      "10/10 [==============================] - 46s 5s/step - loss: 83.7235 - mean_absolute_error: 8.6319 - val_loss: 667405.1954 - val_mean_absolute_error: 459.1923\n",
      "Epoch 26/100\n",
      "10/10 [==============================] - 46s 5s/step - loss: 73.0281 - mean_absolute_error: 8.2094 - val_loss: 291017.0347 - val_mean_absolute_error: 327.9069\n",
      "Epoch 27/100\n",
      "10/10 [==============================] - 46s 5s/step - loss: 48.6933 - mean_absolute_error: 6.5989 - val_loss: 54006.6862 - val_mean_absolute_error: 166.3589\n",
      "Epoch 28/100\n",
      "10/10 [==============================] - 46s 5s/step - loss: 609.3036 - mean_absolute_error: 14.6935 - val_loss: 132768.4824 - val_mean_absolute_error: 246.9593\n",
      "Epoch 29/100\n",
      "10/10 [==============================] - 46s 5s/step - loss: 61.7347 - mean_absolute_error: 7.4475 - val_loss: 626517.0086 - val_mean_absolute_error: 422.0776\n",
      "Epoch 30/100\n",
      "10/10 [==============================] - 46s 5s/step - loss: 81.5948 - mean_absolute_error: 8.8452 - val_loss: 95193.8863 - val_mean_absolute_error: 255.4033\n",
      "Epoch 31/100\n",
      "10/10 [==============================] - 47s 5s/step - loss: 81.8169 - mean_absolute_error: 8.5541 - val_loss: 330752.0920 - val_mean_absolute_error: 441.5120\n",
      "Epoch 32/100\n"
     ]
    },
    {
     "name": "stdout",
     "output_type": "stream",
     "text": [
      "10/10 [==============================] - 47s 5s/step - loss: 56.0516 - mean_absolute_error: 6.8788 - val_loss: 192572.2457 - val_mean_absolute_error: 299.9578\n",
      "Epoch 33/100\n",
      "10/10 [==============================] - 46s 5s/step - loss: 56.6780 - mean_absolute_error: 7.0571 - val_loss: 56389.0117 - val_mean_absolute_error: 187.3013\n",
      "Epoch 34/100\n",
      "10/10 [==============================] - 47s 5s/step - loss: 37.2123 - mean_absolute_error: 5.8474 - val_loss: 1281094.8244 - val_mean_absolute_error: 720.6793\n",
      "Epoch 35/100\n",
      "10/10 [==============================] - 47s 5s/step - loss: 58.4084 - mean_absolute_error: 7.2745 - val_loss: 2988548.2808 - val_mean_absolute_error: 1045.8084\n",
      "Epoch 36/100\n",
      "10/10 [==============================] - 47s 5s/step - loss: 54.9535 - mean_absolute_error: 6.6289 - val_loss: 170474.0752 - val_mean_absolute_error: 282.3500\n",
      "Epoch 37/100\n",
      "10/10 [==============================] - 47s 5s/step - loss: 61.0632 - mean_absolute_error: 7.4780 - val_loss: 147882.9956 - val_mean_absolute_error: 221.8717\n",
      "Epoch 38/100\n",
      "10/10 [==============================] - 47s 5s/step - loss: 56.7786 - mean_absolute_error: 6.9920 - val_loss: 1588331.8094 - val_mean_absolute_error: 758.2197\n",
      "Epoch 39/100\n",
      "10/10 [==============================] - 47s 5s/step - loss: 55.3878 - mean_absolute_error: 6.3872 - val_loss: 599621.3141 - val_mean_absolute_error: 382.8310\n",
      "Epoch 40/100\n",
      "10/10 [==============================] - 47s 5s/step - loss: 46.9891 - mean_absolute_error: 6.3247 - val_loss: 422147.7451 - val_mean_absolute_error: 398.4397\n",
      "Epoch 41/100\n",
      "10/10 [==============================] - 48s 5s/step - loss: 33.9293 - mean_absolute_error: 5.2467 - val_loss: 1584422.9536 - val_mean_absolute_error: 822.7663\n",
      "Epoch 42/100\n",
      "10/10 [==============================] - 47s 5s/step - loss: 35.6535 - mean_absolute_error: 5.1752 - val_loss: 33668.9867 - val_mean_absolute_error: 172.5116\n",
      "Epoch 43/100\n",
      "10/10 [==============================] - 47s 5s/step - loss: 35.7200 - mean_absolute_error: 5.5143 - val_loss: 1627863.5835 - val_mean_absolute_error: 612.9228\n",
      "Epoch 44/100\n",
      "10/10 [==============================] - 47s 5s/step - loss: 13.6589 - mean_absolute_error: 3.1058 - val_loss: 2119789.2294 - val_mean_absolute_error: 985.5824\n",
      "Epoch 45/100\n",
      "10/10 [==============================] - 48s 5s/step - loss: 544.8331 - mean_absolute_error: 11.2919 - val_loss: 1351703.5133 - val_mean_absolute_error: 748.2274\n",
      "Epoch 46/100\n",
      "10/10 [==============================] - 47s 5s/step - loss: 35.8046 - mean_absolute_error: 5.4534 - val_loss: 2092825.8975 - val_mean_absolute_error: 867.2307\n",
      "Epoch 47/100\n",
      "10/10 [==============================] - 48s 5s/step - loss: 38.7019 - mean_absolute_error: 5.4925 - val_loss: 3487924.7223 - val_mean_absolute_error: 1233.7260\n",
      "Epoch 48/100\n",
      "10/10 [==============================] - 47s 5s/step - loss: 26.1392 - mean_absolute_error: 4.1983 - val_loss: 441518.6159 - val_mean_absolute_error: 451.0486\n",
      "Epoch 49/100\n",
      "10/10 [==============================] - 47s 5s/step - loss: 510.7394 - mean_absolute_error: 10.8407 - val_loss: 990353.1872 - val_mean_absolute_error: 441.9138\n",
      "Epoch 50/100\n",
      "10/10 [==============================] - 47s 5s/step - loss: 33.6586 - mean_absolute_error: 5.4484 - val_loss: 92069.0053 - val_mean_absolute_error: 198.9377\n",
      "Epoch 51/100\n",
      "10/10 [==============================] - 48s 5s/step - loss: 23.4221 - mean_absolute_error: 4.0667 - val_loss: 1358093.3792 - val_mean_absolute_error: 711.1440\n",
      "Epoch 52/100\n",
      "10/10 [==============================] - 48s 5s/step - loss: 26.0257 - mean_absolute_error: 4.3041 - val_loss: 66292.5696 - val_mean_absolute_error: 218.5436\n",
      "Epoch 53/100\n",
      "10/10 [==============================] - 47s 5s/step - loss: 24.1407 - mean_absolute_error: 4.0657 - val_loss: 528913.0353 - val_mean_absolute_error: 434.0757\n",
      "Epoch 54/100\n",
      "10/10 [==============================] - 47s 5s/step - loss: 20.9264 - mean_absolute_error: 4.3213 - val_loss: 92029.0681 - val_mean_absolute_error: 261.6514\n",
      "Epoch 55/100\n",
      "10/10 [==============================] - 48s 5s/step - loss: 539.7423 - mean_absolute_error: 10.9474 - val_loss: 56315.1304 - val_mean_absolute_error: 196.2515\n",
      "Epoch 56/100\n",
      "10/10 [==============================] - 48s 5s/step - loss: 19.9494 - mean_absolute_error: 3.7036 - val_loss: 322928.7560 - val_mean_absolute_error: 443.6627\n",
      "Epoch 57/100\n",
      "10/10 [==============================] - 48s 5s/step - loss: 10.8075 - mean_absolute_error: 3.0674 - val_loss: 187596.4258 - val_mean_absolute_error: 392.7341\n",
      "Epoch 58/100\n",
      "10/10 [==============================] - 48s 5s/step - loss: 20.9721 - mean_absolute_error: 3.8047 - val_loss: 44029.4723 - val_mean_absolute_error: 187.3357\n",
      "Epoch 59/100\n",
      "10/10 [==============================] - 47s 5s/step - loss: 5.9980 - mean_absolute_error: 1.9393 - val_loss: 460901.0567 - val_mean_absolute_error: 468.6915\n",
      "Epoch 60/100\n",
      "10/10 [==============================] - 47s 5s/step - loss: 25.9650 - mean_absolute_error: 4.4926 - val_loss: 551508.0377 - val_mean_absolute_error: 478.2344\n",
      "Epoch 61/100\n",
      "10/10 [==============================] - 47s 5s/step - loss: 11.8289 - mean_absolute_error: 3.1226 - val_loss: 1287452.4660 - val_mean_absolute_error: 632.1539\n",
      "Epoch 62/100\n",
      "10/10 [==============================] - 47s 5s/step - loss: 18.5657 - mean_absolute_error: 3.5178 - val_loss: 173266.0264 - val_mean_absolute_error: 323.3039\n",
      "Epoch 63/100\n",
      "10/10 [==============================] - 48s 5s/step - loss: 5.7941 - mean_absolute_error: 2.0391 - val_loss: 359111.6030 - val_mean_absolute_error: 429.2262\n",
      "Epoch 64/100\n",
      "10/10 [==============================] - 47s 5s/step - loss: 4.8881 - mean_absolute_error: 1.7770 - val_loss: 708048.6484 - val_mean_absolute_error: 530.4486\n",
      "Epoch 65/100\n",
      "10/10 [==============================] - 47s 5s/step - loss: 14.9569 - mean_absolute_error: 3.2713 - val_loss: 943125.8306 - val_mean_absolute_error: 582.4300\n",
      "Epoch 66/100\n",
      "10/10 [==============================] - 48s 5s/step - loss: 7.8027 - mean_absolute_error: 2.0585 - val_loss: 378986.3646 - val_mean_absolute_error: 380.6512\n",
      "Epoch 67/100\n",
      "10/10 [==============================] - 47s 5s/step - loss: 372.7924 - mean_absolute_error: 9.5260 - val_loss: 1048554.9779 - val_mean_absolute_error: 630.0681\n",
      "Epoch 68/100\n",
      "10/10 [==============================] - 47s 5s/step - loss: 11.5739 - mean_absolute_error: 2.5337 - val_loss: 1832627.2219 - val_mean_absolute_error: 719.4649\n",
      "Epoch 69/100\n",
      "10/10 [==============================] - 47s 5s/step - loss: 17.4394 - mean_absolute_error: 3.7584 - val_loss: 177491.0170 - val_mean_absolute_error: 350.6963\n",
      "Epoch 70/100\n",
      "10/10 [==============================] - 47s 5s/step - loss: 16.1991 - mean_absolute_error: 3.3110 - val_loss: 476013.5755 - val_mean_absolute_error: 451.0354\n",
      "Epoch 71/100\n",
      "10/10 [==============================] - 48s 5s/step - loss: 13.9092 - mean_absolute_error: 2.9143 - val_loss: 2456733.4459 - val_mean_absolute_error: 1027.5390\n",
      "Epoch 72/100\n",
      "10/10 [==============================] - 48s 5s/step - loss: 15.1078 - mean_absolute_error: 3.0759 - val_loss: 324171.8292 - val_mean_absolute_error: 410.8606\n",
      "Epoch 73/100\n",
      "10/10 [==============================] - 48s 5s/step - loss: 6.0551 - mean_absolute_error: 2.0886 - val_loss: 935943.9863 - val_mean_absolute_error: 588.1289\n",
      "Epoch 74/100\n",
      "10/10 [==============================] - 48s 5s/step - loss: 10.1006 - mean_absolute_error: 2.8487 - val_loss: 190026.3262 - val_mean_absolute_error: 319.8958\n",
      "Epoch 75/100\n",
      "10/10 [==============================] - 48s 5s/step - loss: 472.6236 - mean_absolute_error: 8.3156 - val_loss: 2779693.8189 - val_mean_absolute_error: 862.1067\n",
      "Epoch 76/100\n",
      "10/10 [==============================] - 47s 5s/step - loss: 310.6778 - mean_absolute_error: 7.6095 - val_loss: 3325074.4016 - val_mean_absolute_error: 1096.8327\n",
      "Epoch 77/100\n",
      "10/10 [==============================] - 47s 5s/step - loss: 4.7292 - mean_absolute_error: 1.7251 - val_loss: 3549825.7061 - val_mean_absolute_error: 1129.0084\n",
      "Epoch 78/100\n",
      "10/10 [==============================] - 47s 5s/step - loss: 6.7644 - mean_absolute_error: 2.0931 - val_loss: 148585.4479 - val_mean_absolute_error: 337.8961\n",
      "Epoch 79/100\n"
     ]
    },
    {
     "name": "stdout",
     "output_type": "stream",
     "text": [
      "10/10 [==============================] - 47s 5s/step - loss: 14.4660 - mean_absolute_error: 2.9060 - val_loss: 495096.6458 - val_mean_absolute_error: 429.6565\n",
      "Epoch 80/100\n",
      "10/10 [==============================] - 47s 5s/step - loss: 6.4114 - mean_absolute_error: 2.2314 - val_loss: 1085464.3597 - val_mean_absolute_error: 650.1693\n",
      "Epoch 81/100\n",
      "10/10 [==============================] - 47s 5s/step - loss: 6.2845 - mean_absolute_error: 2.1494 - val_loss: 1855343.5164 - val_mean_absolute_error: 926.6469\n",
      "Epoch 82/100\n",
      "10/10 [==============================] - 47s 5s/step - loss: 9.1622 - mean_absolute_error: 2.6338 - val_loss: 463347.6861 - val_mean_absolute_error: 560.8209\n",
      "Epoch 83/100\n",
      "10/10 [==============================] - 47s 5s/step - loss: 10.1122 - mean_absolute_error: 2.8193 - val_loss: 2993231.9107 - val_mean_absolute_error: 994.5796\n",
      "Epoch 84/100\n",
      "10/10 [==============================] - 48s 5s/step - loss: 8.2639 - mean_absolute_error: 1.9891 - val_loss: 501294.5336 - val_mean_absolute_error: 600.8538\n",
      "Epoch 85/100\n",
      "10/10 [==============================] - 47s 5s/step - loss: 15.2022 - mean_absolute_error: 2.9818 - val_loss: 1741178.3237 - val_mean_absolute_error: 829.8194\n",
      "Epoch 86/100\n",
      "10/10 [==============================] - 47s 5s/step - loss: 17.1810 - mean_absolute_error: 3.1330 - val_loss: 90987.2546 - val_mean_absolute_error: 279.0824\n",
      "Epoch 87/100\n",
      "10/10 [==============================] - 47s 5s/step - loss: 6.3163 - mean_absolute_error: 2.2528 - val_loss: 712347.0880 - val_mean_absolute_error: 487.5139\n",
      "Epoch 88/100\n",
      "10/10 [==============================] - 47s 5s/step - loss: 10.3852 - mean_absolute_error: 2.3707 - val_loss: 331441.4267 - val_mean_absolute_error: 417.8921\n",
      "Epoch 89/100\n",
      "10/10 [==============================] - 47s 5s/step - loss: 2.8900 - mean_absolute_error: 1.2792 - val_loss: 2011613.4544 - val_mean_absolute_error: 940.8324\n",
      "Epoch 90/100\n",
      "10/10 [==============================] - 47s 5s/step - loss: 12.0953 - mean_absolute_error: 3.0082 - val_loss: 137083.0986 - val_mean_absolute_error: 321.7688\n",
      "Epoch 91/100\n",
      "10/10 [==============================] - 47s 5s/step - loss: 15.9760 - mean_absolute_error: 3.4756 - val_loss: 2793817.3863 - val_mean_absolute_error: 1169.4511\n",
      "Epoch 92/100\n",
      "10/10 [==============================] - 47s 5s/step - loss: 13.3360 - mean_absolute_error: 3.1225 - val_loss: 284324.4584 - val_mean_absolute_error: 476.9850\n",
      "Epoch 93/100\n",
      "10/10 [==============================] - 48s 5s/step - loss: 13.5466 - mean_absolute_error: 3.2209 - val_loss: 1861210.1291 - val_mean_absolute_error: 851.3522\n",
      "Epoch 94/100\n",
      "10/10 [==============================] - 47s 5s/step - loss: 18.1394 - mean_absolute_error: 3.9607 - val_loss: 2837562.7704 - val_mean_absolute_error: 886.3253\n",
      "Epoch 95/100\n",
      "10/10 [==============================] - 47s 5s/step - loss: 479.9567 - mean_absolute_error: 9.3673 - val_loss: 142200.2512 - val_mean_absolute_error: 344.6514\n",
      "Epoch 96/100\n",
      "10/10 [==============================] - 47s 5s/step - loss: 6.5157 - mean_absolute_error: 2.2005 - val_loss: 91124.4298 - val_mean_absolute_error: 272.0948\n",
      "Epoch 97/100\n",
      "10/10 [==============================] - 47s 5s/step - loss: 5.9620 - mean_absolute_error: 2.0020 - val_loss: 156469.6187 - val_mean_absolute_error: 316.1964\n",
      "Epoch 98/100\n",
      "10/10 [==============================] - 47s 5s/step - loss: 5.5401 - mean_absolute_error: 1.8666 - val_loss: 2286366.6129 - val_mean_absolute_error: 987.0552\n",
      "Epoch 99/100\n",
      "10/10 [==============================] - 47s 5s/step - loss: 7.1884 - mean_absolute_error: 2.0162 - val_loss: 70504.0620 - val_mean_absolute_error: 237.4361\n",
      "Epoch 100/100\n",
      "10/10 [==============================] - 47s 5s/step - loss: 317.7952 - mean_absolute_error: 7.5573 - val_loss: 68395.6491 - val_mean_absolute_error: 240.4421\n"
     ]
    }
   ],
   "source": [
    "from cgmcore import modelutils\n",
    "\n",
    "input_shape = (dataset_parameters_pointclouds[\"pointcloud_target_size\"], 3)\n",
    "output_size = 1\n",
    "model_pointnet = modelutils.create_point_net(input_shape, output_size, hidden_sizes = [64])\n",
    "model_pointnet.summary()\n",
    "    \n",
    "model_pointnet.compile(\n",
    "    optimizer=\"rmsprop\",\n",
    "    loss=\"mse\",\n",
    "    metrics=[\"mae\"]\n",
    "    )\n",
    "\n",
    "history = model_pointnet.fit_generator(\n",
    "    generator_pointclouds_train,\n",
    "    steps_per_epoch=steps_per_epoch,\n",
    "    epochs=epochs,\n",
    "    validation_data=generator_pointclouds_validate,\n",
    "    validation_steps=validation_steps\n",
    "    )"
   ]
  },
  {
   "cell_type": "markdown",
   "metadata": {},
   "source": [
    "# Saving everything.\n",
    "\n",
    "This saves the model, its history and the training-details to some output directory. The created artifacts can later be uses in order to compare different models."
   ]
  },
  {
   "cell_type": "code",
   "execution_count": 11,
   "metadata": {},
   "outputs": [
    {
     "name": "stdout",
     "output_type": "stream",
     "text": [
      "Saving model and history...\n",
      "WARNING! Failed to save model. Use model-weights instead.\n",
      "Saved model weights to./20190505-1652-pointnet-model-weights.h5\n",
      "Saved training details to./20190505-1652-pointnet-details.p\n",
      "Saved history to./20190505-1652-pointnet-history.p\n"
     ]
    }
   ],
   "source": [
    "output_path = \".\"\n",
    "\n",
    "modelutils.save_model_and_history(output_path, model_pointnet, history, training_details, \"pointnet\")"
   ]
  },
  {
   "cell_type": "code",
   "execution_count": null,
   "metadata": {},
   "outputs": [],
   "source": []
  }
 ],
 "metadata": {
  "kernelspec": {
   "display_name": "Python 3",
   "language": "python",
   "name": "python3"
  },
  "language_info": {
   "codemirror_mode": {
    "name": "ipython",
    "version": 3
   },
   "file_extension": ".py",
   "mimetype": "text/x-python",
   "name": "python",
   "nbconvert_exporter": "python",
   "pygments_lexer": "ipython3",
   "version": "3.6.5"
  }
 },
 "nbformat": 4,
 "nbformat_minor": 2
}
