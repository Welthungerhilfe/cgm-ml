{
 "cells": [
  {
   "cell_type": "markdown",
   "metadata": {},
   "source": [
    "# README.\n",
    "\n",
    "This notebook shows how to do some very basic analysis of the measurements."
   ]
  },
  {
   "cell_type": "code",
   "execution_count": null,
   "metadata": {},
   "outputs": [],
   "source": [
    "!cp /whhdata/dbconnection.json ."
   ]
  },
  {
   "cell_type": "code",
   "execution_count": null,
   "metadata": {
    "scrolled": true
   },
   "outputs": [],
   "source": [
    "%matplotlib inline\n",
    "import dbutils\n",
    "import pandas as pd\n",
    "import matplotlib.pyplot as plt\n",
    "import os\n",
    "from datetime import date\n",
    "from time import mktime\n",
    "import calendar\n",
    "import time\n",
    "import numpy as np\n",
    "from IPython.display import display\n",
    "\n",
    "# Where to store outputs.\n",
    "output_path = \".\"\n",
    "\n",
    "# Connect to database.\n",
    "main_connector = dbutils.connect_to_main_database()\n",
    "\n",
    "measurement_types = [\"manual\", \"v0.1\", \"v0.2\"]"
   ]
  },
  {
   "cell_type": "markdown",
   "metadata": {},
   "source": [
    "# Simple analytics of database data."
   ]
  },
  {
   "cell_type": "code",
   "execution_count": null,
   "metadata": {
    "scrolled": true
   },
   "outputs": [],
   "source": [
    "main_connector = dbutils.connect_to_main_database()\n",
    "\n",
    "sql_statement = \"SELECT COUNT(*) FROM person;\"\n",
    "result = main_connector.execute(sql_statement, fetch_all=True)[0][0]\n",
    "print(result, \"persons\")\n",
    "\n",
    "sql_statement = \"SELECT COUNT(*) FROM measure;\"\n",
    "result = main_connector.execute(sql_statement, fetch_all=True)[0][0]\n",
    "print(result, \"measures\")\n",
    "\n",
    "for measurement_type in measurement_types:\n",
    "    sql_statement = \"SELECT COUNT(*) FROM measure WHERE type='{}';\".format(measurement_type)\n",
    "    result = main_connector.execute(sql_statement, fetch_all=True)[0][0]\n",
    "    print(result, \"measures with type {}\".format(measurement_type))\n",
    "    \n",
    "sql_statement = \"SELECT COUNT(*) FROM artifact;\"\n",
    "result = main_connector.execute(sql_statement, fetch_all=True)[0][0]\n",
    "print(result, \"artifacts\")\n",
    "\n",
    "sql_statement = \"SELECT COUNT(*) FROM artifact WHERE type='rgb';\"\n",
    "result = main_connector.execute(sql_statement, fetch_all=True)[0][0]\n",
    "print(result, \"artifacts with type rgb\")\n",
    "\n",
    "sql_statement = \"SELECT COUNT(*) FROM artifact WHERE type='pcd';\"\n",
    "result = main_connector.execute(sql_statement, fetch_all=True)[0][0]\n",
    "print(result, \"artifacts with type pcd\")\n",
    "\n",
    "sql_statement = \"SELECT COUNT(*) FROM artifact WHERE measure_id IS NOT NULL;\"\n",
    "result = main_connector.execute(sql_statement, fetch_all=True)[0][0]\n",
    "print(result, \"artifacts with measure\")\n",
    "\n",
    "sql_statement = \"SELECT COUNT(*) FROM artifact WHERE measure_id IS NULL;\"\n",
    "result = main_connector.execute(sql_statement, fetch_all=True)[0][0]\n",
    "print(result, \"artifacts without measure\")\n",
    "    \n",
    "sql_statement = \"SELECT SUM(file_size) FROM artifact;\"\n",
    "result = main_connector.execute(sql_statement, fetch_all=True)[0][0]\n",
    "print(int(result / (1024 * 1024 * 1024)), \"GB artifacts data\")\n",
    "\n",
    "sql_statement = \"SELECT SUM(file_size) FROM artifact WHERE type='rgb';\"\n",
    "result = main_connector.execute(sql_statement, fetch_all=True)[0][0]\n",
    "print(int(result / (1024 * 1024 * 1024)), \"GB artifacts data with type rgb\")\n",
    "      \n",
    "sql_statement = \"SELECT SUM(file_size) FROM artifact WHERE type='pcd';\"\n",
    "result = main_connector.execute(sql_statement, fetch_all=True)[0][0]\n",
    "print(int(result / (1024 * 1024 * 1024)), \"GB artifacts data with type pcd\")\n",
    "\n",
    "sql_statement = \"SELECT COUNT(DISTINCT(qr_code)) FROM artifact;\"\n",
    "result = main_connector.execute(sql_statement, fetch_all=True)[0][0]\n",
    "print(result, \"unique QR codes on artifact level\")\n",
    "\n",
    "sql_statement = \"SELECT COUNT(DISTINCT(qr_code)) FROM artifact WHERE measure_id IS NULL;\"\n",
    "result = main_connector.execute(sql_statement, fetch_all=True)[0][0]\n",
    "print(result, \"unique QR codes on artifact level without measure_id\")\n",
    "\n",
    "sql_statement = \"SELECT COUNT(*) FROM artifact_quality;\"\n",
    "result = main_connector.execute(sql_statement, fetch_all=True)[0][0]\n",
    "print(result, \"artifact quality KPIs\")"
   ]
  },
  {
   "cell_type": "markdown",
   "metadata": {},
   "source": [
    "# Getting statistical values of measurements."
   ]
  },
  {
   "cell_type": "code",
   "execution_count": null,
   "metadata": {
    "scrolled": true
   },
   "outputs": [],
   "source": [
    "columns = [\n",
    " 'age',\n",
    " 'height',\n",
    " 'weight',\n",
    " 'muac',\n",
    " 'head_circumference',\n",
    "]\n",
    "\n",
    "headers = []\n",
    "rows = []\n",
    "for column in columns:\n",
    "    sql_statement = \"SELECT MIN({0}), AVG({0}), MAX({0}) FROM measure WHERE type = 'manual' AND age > 0 AND age <10000;\".format(column)\n",
    "    minimum, average, maximum = main_connector.execute(sql_statement, fetch_one=True)\n",
    "    \n",
    "    rows.append([column, minimum, average, maximum])\n",
    "    \n",
    "headers = (\"key\", \"minimum\", \"average\", \"maximum\")\n",
    "df = pd.DataFrame(rows, columns=headers)\n",
    "df"
   ]
  },
  {
   "cell_type": "markdown",
   "metadata": {},
   "source": [
    "# Creating pie charts for some columns."
   ]
  },
  {
   "cell_type": "code",
   "execution_count": null,
   "metadata": {
    "scrolled": false
   },
   "outputs": [],
   "source": [
    "from collections import Counter\n",
    "\n",
    "def make_pie(key):\n",
    "    sql_statement = \"SELECT {} FROM measure;\".format(key)\n",
    "    values_list = main_connector.execute(sql_statement, fetch_all=True)\n",
    "\n",
    "    most_common = Counter(values_list).most_common(10000)\n",
    "\n",
    "    # TODO percent\n",
    "    values = []\n",
    "    keys = []\n",
    "    for key, value in most_common:\n",
    "        print(key, value)\n",
    "        keys.append(str(key))\n",
    "        values.append(value)\n",
    "        \n",
    "    plt.figure(figsize=(15, 15))\n",
    "    patches, texts = plt.pie(values)\n",
    "    plt.legend(patches, keys)\n",
    "    plt.title(df_key)\n",
    "    plt.savefig(os.path.join(output_path, \"pie-{}.png\".format(df_key)))\n",
    "\n",
    "    \n",
    "df_keys = [\"created_by\", \"oedema\"]\n",
    "for df_key in df_keys:\n",
    "    make_pie(df_key)"
   ]
  },
  {
   "cell_type": "markdown",
   "metadata": {},
   "source": [
    "# Render histograms."
   ]
  },
  {
   "cell_type": "code",
   "execution_count": null,
   "metadata": {
    "scrolled": true
   },
   "outputs": [],
   "source": [
    "def render_histogram(key, values, bins, title):\n",
    "    plt.figure(figsize=(20, 4))\n",
    "    plt.hist(values, bins=bins)\n",
    "    plt.title(title)\n",
    "    plt.show()\n",
    "    plt.close()\n",
    "    \n",
    "render_parameters = []\n",
    "render_parameters.append((\"age\", 400, 3000))\n",
    "render_parameters.append((\"height\", 400, 120))\n",
    "render_parameters.append((\"weight\", 400, 30))\n",
    "render_parameters.append((\"muac\", 400, 25))\n",
    "render_parameters.append((\"head_circumference\", 400, 25))\n",
    "for key, bins, maximum in render_parameters:\n",
    "    sql_statement = \"SELECT {} FROM measure WHERE type='manual' AND {}<{}\".format(key, key, maximum)\n",
    "    results = main_connector.execute(sql_statement, fetch_all=True)\n",
    "    values = [result[0] for result in results]\n",
    "    render_histogram(key, values, bins, \"Distribution of {}\".format(key))"
   ]
  },
  {
   "cell_type": "markdown",
   "metadata": {},
   "source": [
    "# Render scatter plots."
   ]
  },
  {
   "cell_type": "code",
   "execution_count": null,
   "metadata": {
    "scrolled": false
   },
   "outputs": [],
   "source": [
    "def render_scatterplot(key1, key2, x_values, y_values, title):\n",
    "    plt.figure(figsize=(5, 5))\n",
    "    plt.scatter(x_values, y_values, s=4)\n",
    "    plt.xlabel(key1)\n",
    "    plt.ylabel(key2)\n",
    "    plt.title(title)\n",
    "    plt.show()\n",
    "    plt.close()\n",
    "    \n",
    "render_parameters = []\n",
    "render_parameters.append((\"height\", \"weight\", 120, 20))\n",
    "render_parameters.append((\"height\", \"age\", 120, 2000))\n",
    "render_parameters.append((\"weight\", \"age\", 20, 2000))\n",
    "render_parameters.append((\"weight\", \"muac\", 20, 20))\n",
    "render_parameters.append((\"weight\", \"head_circumference\", 20, 200))\n",
    "for key1, key2, maximum1, maximum2 in render_parameters:\n",
    "    sql_statement = \"SELECT {}, {} FROM measure WHERE type='manual'\".format(key1, key2)\n",
    "    sql_statement += \" AND {}<{} AND {}<{}\".format(key1, maximum1, key2, maximum2)\n",
    "    results = main_connector.execute(sql_statement, fetch_all=True)\n",
    "    results = np.array(results)\n",
    "    x_values = results[:,0]\n",
    "    y_values = results[:,1]\n",
    "    render_scatterplot(key1, key2, x_values, y_values, \"{} for {}\".format(key1, key2))"
   ]
  },
  {
   "cell_type": "markdown",
   "metadata": {},
   "source": [
    "# Specifying parameters."
   ]
  },
  {
   "cell_type": "code",
   "execution_count": null,
   "metadata": {
    "scrolled": true
   },
   "outputs": [],
   "source": [
    "time_range = []\n",
    "for month in range(6, 13):\n",
    "    time_range.append((2018, month))\n",
    "for month in range(1, 6):\n",
    "    time_range.append((2018, month))\n",
    "    \n",
    "figsize=(10, 5)"
   ]
  },
  {
   "cell_type": "markdown",
   "metadata": {},
   "source": [
    "# Render measures."
   ]
  },
  {
   "cell_type": "code",
   "execution_count": null,
   "metadata": {
    "scrolled": false
   },
   "outputs": [],
   "source": [
    "for measurement_type in measurement_types:\n",
    "    plot_values = []\n",
    "    plot_labels = []\n",
    "    for year, month in time_range:\n",
    "\n",
    "        # Getting the start.\n",
    "        start_day = 1\n",
    "        start_date = date(year, month, start_day)\n",
    "        start_timestamp = str(1000 * int(mktime(start_date.timetuple())))\n",
    "\n",
    "        # Getting the end.\n",
    "        _, end_day = calendar.monthrange(year, month)\n",
    "        end_date = date(year, month, end_day)\n",
    "        end_timestamp = str(1000 * int(mktime(end_date.timetuple())))\n",
    "\n",
    "        # Getting the number of entries from the database.\n",
    "        sql_statement = \"\"\n",
    "        sql_statement += \"SELECT COUNT(*) FROM measure\"\n",
    "        sql_statement += \" WHERE type='{}'\".format(measurement_type)\n",
    "        sql_statement += \" AND timestamp >= {}\".format(start_timestamp)\n",
    "        sql_statement += \" AND timestamp <= {}\".format(end_timestamp)\n",
    "        number_of_entries = main_connector.execute(sql_statement, fetch_one=True)[0]\n",
    "\n",
    "        # Prepare the plot.\n",
    "        plot_values.append(number_of_entries)\n",
    "        plot_labels.append(\"{}-{}\".format(year, month))\n",
    "\n",
    "    # Plot the plot.\n",
    "    plt.figure(figsize=figsize)\n",
    "    plt.bar(plot_labels, plot_values)\n",
    "    plt.title(\"Number of measures over time with type {}\".format(measurement_type))\n",
    "    plt.show()\n",
    "    plt.close()\n",
    "    \n",
    "    rows = []\n",
    "    for row_date, row_count in zip(plot_labels, plot_values):\n",
    "        rows.append((row_date, row_count))\n",
    "    \n",
    "    headers = (\"Date\", \"Count\")\n",
    "    df = pd.DataFrame(rows, columns=headers)\n",
    "    display(df)"
   ]
  },
  {
   "cell_type": "markdown",
   "metadata": {},
   "source": [
    "# Artifacts and artifacts without measure."
   ]
  },
  {
   "cell_type": "code",
   "execution_count": null,
   "metadata": {
    "scrolled": true
   },
   "outputs": [],
   "source": [
    "plot_values = []\n",
    "plot_values_no_measure = []\n",
    "plot_labels = []\n",
    "for year, month in time_range:\n",
    "        \n",
    "    # Getting the start.\n",
    "    start_day = 1\n",
    "    start_date = date(year, month, start_day)\n",
    "    start_timestamp = str(1000 * int(mktime(start_date.timetuple())))\n",
    "\n",
    "    # Getting the end.\n",
    "    _, end_day = calendar.monthrange(year, month)\n",
    "    end_date = date(year, month, end_day)\n",
    "    end_timestamp = str(1000 * int(mktime(end_date.timetuple())))\n",
    "\n",
    "    # Getting the number of artifacts.\n",
    "    sql_statement = \"\"\n",
    "    sql_statement += \"SELECT COUNT(*) FROM artifact\"\n",
    "    sql_statement += \" WHERE create_date >= {}\".format(start_timestamp)\n",
    "    sql_statement += \" AND create_date <= {}\".format(end_timestamp)\n",
    "    number_of_entries = main_connector.execute(sql_statement, fetch_one=True)[0]\n",
    "    plot_values.append(number_of_entries)\n",
    "\n",
    "    # Getting the number of artifacts without measures.\n",
    "    sql_statement = \"\"\n",
    "    sql_statement += \"SELECT COUNT(*) FROM artifact\"\n",
    "    sql_statement += \" WHERE create_date >= {}\".format(start_timestamp)\n",
    "    sql_statement += \" AND create_date <= {}\".format(end_timestamp)\n",
    "    sql_statement += \" AND measure_id IS NULL\"\n",
    "    number_of_entries = main_connector.execute(sql_statement, fetch_one=True)[0]\n",
    "    plot_values_no_measure.append(number_of_entries)\n",
    "\n",
    "    plot_labels.append(\"{}-{}\".format(year, month))\n",
    "        \n",
    "# Plot the plot.\n",
    "plt.figure(figsize=figsize)\n",
    "plt.bar(plot_labels, plot_values, label=\"artifacts\")\n",
    "plt.bar(plot_labels, plot_values_no_measure, label=\"artifacts without measure\")\n",
    "plt.legend()\n",
    "plt.title(\"Number of artifacts over time\")\n",
    "plt.show()\n",
    "plt.close()"
   ]
  },
  {
   "cell_type": "markdown",
   "metadata": {},
   "source": [
    "# Available data in GBs."
   ]
  },
  {
   "cell_type": "code",
   "execution_count": null,
   "metadata": {
    "scrolled": true
   },
   "outputs": [],
   "source": [
    "plot_values_total = []\n",
    "plot_values_images = []\n",
    "plot_values_pointclouds = []\n",
    "plot_labels = []\n",
    "for year, month in time_range:\n",
    "        \n",
    "    # Getting the start.\n",
    "    start_day = 1\n",
    "    start_date = date(year, month, start_day)\n",
    "    start_timestamp = str(1000 * int(mktime(start_date.timetuple())))\n",
    "\n",
    "    # Getting the end.\n",
    "    _, end_day = calendar.monthrange(year, month)\n",
    "    end_date = date(year, month, end_day)\n",
    "    end_timestamp = str(1000 * int(mktime(end_date.timetuple())))\n",
    "\n",
    "    # Getting the overall filesize.\n",
    "    sql_statement = \"\"\n",
    "    sql_statement += \"SELECT SUM(file_size) FROM artifact\"\n",
    "    sql_statement += \" WHERE create_date >= {}\".format(start_timestamp)\n",
    "    sql_statement += \" AND create_date <= {}\".format(end_timestamp)\n",
    "    number_of_entries = main_connector.execute(sql_statement, fetch_one=True)[0]\n",
    "    if number_of_entries == None:\n",
    "        number_of_entries = 0\n",
    "    plot_values_total.append(number_of_entries)\n",
    "\n",
    "    # Getting the overall filesize.\n",
    "    sql_statement = \"\"\n",
    "    sql_statement += \"SELECT SUM(file_size) FROM artifact\"\n",
    "    sql_statement += \" WHERE create_date >= {}\".format(start_timestamp)\n",
    "    sql_statement += \" AND create_date <= {}\".format(end_timestamp)\n",
    "    sql_statement += \" AND type='pcd'\"\n",
    "    number_of_entries = main_connector.execute(sql_statement, fetch_one=True)[0]\n",
    "    if number_of_entries == None:\n",
    "        number_of_entries = 0\n",
    "    plot_values_pointclouds.append(number_of_entries)\n",
    "\n",
    "    # Getting the overall filesize.\n",
    "    sql_statement = \"\"\n",
    "    sql_statement += \"SELECT SUM(file_size) FROM artifact\"\n",
    "    sql_statement += \" WHERE create_date >= {}\".format(start_timestamp)\n",
    "    sql_statement += \" AND create_date <= {}\".format(end_timestamp)\n",
    "    sql_statement += \" AND type='rgb'\"\n",
    "    number_of_entries = main_connector.execute(sql_statement, fetch_one=True)[0]\n",
    "    if number_of_entries == None:\n",
    "        number_of_entries = 0\n",
    "    plot_values_images.append(number_of_entries)\n",
    "\n",
    "    # Labels\n",
    "    plot_labels.append(\"{}-{}\".format(year, month))\n",
    "        \n",
    "# Plot the plot.\n",
    "plt.figure(figsize=figsize)\n",
    "plt.bar(plot_labels, plot_values_total, label=\"Total\")\n",
    "plt.bar(plot_labels, plot_values_images, label=\"Images\")\n",
    "plt.bar(plot_labels, plot_values_pointclouds, label=\"Pointclouds\")\n",
    "plt.legend()\n",
    "plt.title(\"Artifact data in GBs\")\n",
    "plt.show()\n",
    "plt.close()"
   ]
  },
  {
   "cell_type": "markdown",
   "metadata": {},
   "source": [
    "# Number of QR codes on artifact level."
   ]
  },
  {
   "cell_type": "code",
   "execution_count": null,
   "metadata": {
    "scrolled": true
   },
   "outputs": [],
   "source": [
    "plot_values = []\n",
    "plot_labels = []\n",
    "for year, month in time_range:\n",
    "        \n",
    "    # Getting the start.\n",
    "    start_day = 1\n",
    "    start_date = date(year, month, start_day)\n",
    "    start_timestamp = str(1000 * int(mktime(start_date.timetuple())))\n",
    "\n",
    "    # Getting the end.\n",
    "    _, end_day = calendar.monthrange(year, month)\n",
    "    end_date = date(year, month, end_day)\n",
    "    end_timestamp = str(1000 * int(mktime(end_date.timetuple())))\n",
    "\n",
    "    # Getting the number of entries from the database.\n",
    "    sql_statement = \"\"\n",
    "    sql_statement += \"SELECT COUNT(DISTINCT(qr_code)) FROM artifact\"\n",
    "    sql_statement += \" WHERE create_date >= {}\".format(start_timestamp)\n",
    "    sql_statement += \" AND create_date <= {}\".format(end_timestamp)\n",
    "    number_of_entries = main_connector.execute(sql_statement, fetch_one=True)[0]\n",
    "\n",
    "    # Prepare the plot.\n",
    "    plot_values.append(number_of_entries)\n",
    "    plot_labels.append(\"{}-{}\".format(year, month))\n",
    "        \n",
    "# Plot the plot.\n",
    "plt.figure(figsize=figsize)\n",
    "plt.bar(plot_labels, plot_values)\n",
    "plt.title(\"Number qr codes from artifacts.\")\n",
    "plt.show()\n",
    "plt.close()"
   ]
  },
  {
   "cell_type": "code",
   "execution_count": null,
   "metadata": {
    "scrolled": true
   },
   "outputs": [],
   "source": [
    "plot_values = []\n",
    "plot_labels = []\n",
    "for year, month in time_range:\n",
    "        \n",
    "    # Getting the start.\n",
    "    start_day = 1\n",
    "    start_date = date(year, month, start_day)\n",
    "    start_timestamp = str(1000 * int(mktime(start_date.timetuple())))\n",
    "\n",
    "    # Getting the end.\n",
    "    _, end_day = calendar.monthrange(year, month)\n",
    "    end_date = date(year, month, end_day)\n",
    "    end_timestamp = str(1000 * int(mktime(end_date.timetuple())))\n",
    "\n",
    "    # Getting the number of entries from the database.\n",
    "    sql_statement = \"\"\n",
    "    sql_statement += \"SELECT COUNT(*) FROM person\"\n",
    "    sql_statement += \" WHERE timestamp >= {}\".format(start_timestamp)\n",
    "    sql_statement += \" AND timestamp <= {}\".format(end_timestamp)\n",
    "    number_of_entries = main_connector.execute(sql_statement, fetch_one=True)[0]\n",
    "\n",
    "    # Prepare the plot.\n",
    "    plot_values.append(number_of_entries)\n",
    "    plot_labels.append(\"{}-{}\".format(year, month))\n",
    "        \n",
    "# Plot the plot.\n",
    "plt.figure(figsize=figsize)\n",
    "plt.bar(plot_labels, plot_values)\n",
    "plt.legend()\n",
    "plt.title(\"Number of persons.\")\n",
    "plt.show()\n",
    "plt.close()"
   ]
  },
  {
   "cell_type": "markdown",
   "metadata": {},
   "source": [
    "# Just some numbers."
   ]
  },
  {
   "cell_type": "code",
   "execution_count": null,
   "metadata": {
    "scrolled": true
   },
   "outputs": [],
   "source": [
    "sql_statement = \"\"\n",
    "sql_statement += \"SELECT MIN(create_date), MAX(create_date) FROM artifact;\"\n",
    "min_create_date, max_create_date = main_connector.execute(sql_statement, fetch_one=True)\n",
    "\n",
    "min_create_date = time.strftime(\"%a %d %b %Y %H:%M:%S GMT\", time.gmtime(min_create_date / 1000.0))\n",
    "print(\"First artifact:\", min_create_date)\n",
    "\n",
    "max_create_date = time.strftime(\"%a %d %b %Y %H:%M:%S GMT\", time.gmtime(max_create_date / 1000.0))\n",
    "print(\"Last artifact:\", max_create_date)"
   ]
  },
  {
   "cell_type": "code",
   "execution_count": null,
   "metadata": {
    "scrolled": true
   },
   "outputs": [],
   "source": [
    "sql_statement = \"\"\n",
    "sql_statement += \"SELECT MIN(timestamp), MAX(timestamp) FROM measure;\"\n",
    "min_create_date, max_create_date = main_connector.execute(sql_statement, fetch_one=True)\n",
    "\n",
    "min_create_date = time.strftime(\"%a %d %b %Y %H:%M:%S GMT\", time.gmtime(min_create_date / 1000.0))\n",
    "print(\"First measure:\", min_create_date)\n",
    "\n",
    "max_create_date = time.strftime(\"%a %d %b %Y %H:%M:%S GMT\", time.gmtime(max_create_date / 1000.0))\n",
    "print(\"Last measure:\", max_create_date)"
   ]
  },
  {
   "cell_type": "code",
   "execution_count": null,
   "metadata": {
    "scrolled": true
   },
   "outputs": [],
   "source": []
  }
 ],
 "metadata": {
  "kernelspec": {
   "display_name": "Python 3.5",
   "language": "python",
   "name": "python3"
  },
  "language_info": {
   "codemirror_mode": {
    "name": "ipython",
    "version": 3
   },
   "file_extension": ".py",
   "mimetype": "text/x-python",
   "name": "python",
   "nbconvert_exporter": "python",
   "pygments_lexer": "ipython3",
   "version": "3.5.5"
  }
 },
 "nbformat": 4,
 "nbformat_minor": 2
}
