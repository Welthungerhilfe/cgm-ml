{
 "cells": [
  {
   "cell_type": "markdown",
   "metadata": {},
   "source": [
    "### Please make sure you have access rights for all resources and follow all the contribution guidelines. "
   ]
  },
  {
   "cell_type": "markdown",
   "metadata": {},
   "source": [
    "## To Know about the architecture of the complete project\n",
    "\n",
    "https://dev.azure.com/cgmwhh/ChildGrowthMonitor/_git/infrastructure?path=%2Foperations_manual.md&version=GBmaster&fullScreen=true"
   ]
  },
  {
   "cell_type": "markdown",
   "metadata": {},
   "source": [
    "## Step 1: Git Implementation\n",
    "Refer the readme to setup Git workflow [https://github.com/Welthungerhilfe/cgm-ml]"
   ]
  },
  {
   "cell_type": "markdown",
   "metadata": {},
   "source": [
    "## Step 2: JupyterHub Access\n",
    "- Get acces to jupyterhub https://hub.childgrowthmonitor.org\n",
    "- On the Terminal Clone the cgm-ml repo\n",
    "    git clone https://github.com/Welthungerhilfe/cgm-ml.git\n",
    "- cd cgm-ml"
   ]
  },
  {
   "cell_type": "markdown",
   "metadata": {},
   "source": [
    "## Step 3: Setting up the database\n",
    "- On terminal\n",
    "- cp /whhdata/dbconnection.json notebooks/cgm-ml/cgm_database\n",
    "- cd /notebooks/cgm-ml/cgm_database  \n",
    "- Refer to [dbutils.py](cgm-ml/cgm_database/dbutils.py) for helpful database operations."
   ]
  },
  {
   "cell_type": "markdown",
   "metadata": {},
   "source": [
    "## Some key points to lookout for\n",
    "- After changing your intital password on jupyterhub, the connection may close.\n",
    "- Azure portal and Azure devops share the same azure user object, so login data are always identical. Linux user objects are     independent of Azure user objects. changing your password in one system does NOT change the password in the other system.\n",
    "- Also, the two Jupyterhub linux VMs have independent user management, so role assignment, access rights, passwords might even    differ depending on whether you use the data scientist VM with GPU or the one without.\n",
    "- Jupyterhub user directories are temporary only and might be deleted at any time"
   ]
  },
  {
   "cell_type": "code",
   "execution_count": 5,
   "metadata": {},
   "outputs": [
    {
     "name": "stderr",
     "output_type": "stream",
     "text": [
      "/data/anaconda/envs/datathon/lib/python3.6/site-packages/psycopg2/__init__.py:144: UserWarning: The psycopg2 wheel package will be renamed from release 2.8; in order to keep installing from binary please use \"pip install psycopg2-binary\" instead. For details see: <http://initd.org/psycopg/docs/install.html#binary-install-from-pypi>.\n",
      "  \"\"\")\n"
     ]
    }
   ],
   "source": [
    "import dbutils\n",
    "import pandas as pd\n",
    "import matplotlib.pyplot as plt\n",
    "import os\n",
    "import glob2\n",
    "from random import randint\n",
    "from IPython.core.display import Image, display\n",
    "import numpy as np\n",
    "from skimage import transform,io\n",
    "import cv2\n",
    "import IPython\n",
    "\n",
    "# Where to store outputs.\n",
    "output_path = \"/outputs\"\n",
    "output_path = \".\"\n",
    "\n",
    "# Connect to database.\n",
    "main_connector = dbutils.connect_to_main_database()\n"
   ]
  },
  {
   "cell_type": "code",
   "execution_count": 2,
   "metadata": {},
   "outputs": [
    {
     "data": {
      "text/plain": [
       "['id',\n",
       " 'measurement_id',\n",
       " 'person_id',\n",
       " 'qrcode',\n",
       " 'sex',\n",
       " 'type',\n",
       " 'age_days',\n",
       " 'height_cms',\n",
       " 'weight_kgs',\n",
       " 'muac_cms',\n",
       " 'head_circumference_cms',\n",
       " 'oedema',\n",
       " 'latitude',\n",
       " 'longitude',\n",
       " 'address',\n",
       " 'timestamp',\n",
       " 'deleted',\n",
       " 'deleted_by',\n",
       " 'visible',\n",
       " 'created_by']"
      ]
     },
     "execution_count": 2,
     "metadata": {},
     "output_type": "execute_result"
    }
   ],
   "source": [
    "main_connector.get_columns(\"measurements\")"
   ]
  },
  {
   "cell_type": "code",
   "execution_count": 3,
   "metadata": {},
   "outputs": [
    {
     "data": {
      "text/plain": [
       "['id',\n",
       " 'path',\n",
       " 'qrcode',\n",
       " 'last_updated',\n",
       " 'rejected_by_expert',\n",
       " 'had_error',\n",
       " 'error_message',\n",
       " 'width_px',\n",
       " 'height_px',\n",
       " 'blur_variance',\n",
       " 'measurement_id']"
      ]
     },
     "execution_count": 3,
     "metadata": {},
     "output_type": "execute_result"
    }
   ],
   "source": [
    "main_connector.get_columns('image_data')"
   ]
  },
  {
   "cell_type": "code",
   "execution_count": 3,
   "metadata": {},
   "outputs": [],
   "source": [
    "def imshow(img):\n",
    "    _,ret = cv2.imencode('.jpg', img) \n",
    "    i = IPython.display.Image(data=ret)\n",
    "    IPython.display.display(i)"
   ]
  },
  {
   "cell_type": "code",
   "execution_count": 8,
   "metadata": {},
   "outputs": [
    {
     "name": "stdout",
     "output_type": "stream",
     "text": [
      "jpg_paths 94\n"
     ]
    }
   ],
   "source": [
    "training_path = \"/whhdata/person/MH_WHH_0035/measurements/1537342371195/rgb/\"\n",
    "glob_search_path = os.path.join(training_path, \"**/*.jpg\")\n",
    "jpg_paths = glob2.glob(glob_search_path)\n",
    "print(\"jpg_paths\", len(jpg_paths))"
   ]
  },
  {
   "cell_type": "markdown",
   "metadata": {},
   "source": [
    "### Some random sample"
   ]
  },
  {
   "cell_type": "code",
   "execution_count": null,
   "metadata": {},
   "outputs": [],
   "source": [
    "index = randint(0,len(jpg_paths)-1)\n",
    "img_filename = jpg_paths[index]\n",
    "image = io.imread(img_filename)\n",
    "print(\"File %s: %s\" % (index, img_filename))\n",
    "imshow(image)"
   ]
  },
  {
   "cell_type": "code",
   "execution_count": 10,
   "metadata": {},
   "outputs": [
    {
     "data": {
      "text/plain": [
       "[]"
      ]
     },
     "execution_count": 10,
     "metadata": {},
     "output_type": "execute_result"
    }
   ],
   "source": [
    "main_connector.get_columns('point_cloud')"
   ]
  },
  {
   "cell_type": "markdown",
   "metadata": {},
   "source": [
    "## Function to display point cloud data\n"
   ]
  },
  {
   "cell_type": "code",
   "execution_count": 11,
   "metadata": {},
   "outputs": [],
   "source": [
    "from cgmcore.utils import load_pcd_as_ndarray\n",
    "from cgmcore.utils import render_pointcloud\n",
    "def plot_pcd(pcd_path):\n",
    "    pointcloud = load_pcd_as_ndarray(pcd_path)\n",
    "    print(\"Loading... pointcloud with shape {}.\".format(pointcloud.shape))\n",
    "    render_pointcloud(pointcloud, \"A pointcloud\")"
   ]
  },
  {
   "cell_type": "code",
   "execution_count": null,
   "metadata": {},
   "outputs": [],
   "source": [
    "pcd_path = \"/whhdata/person/MH_WHH_0035/measurements/1537342371195/pc/pc_MH_WHH_0035_1537342371195_104_000.pcd\"\n",
    "plot_pcd(pcd_path)"
   ]
  },
  {
   "cell_type": "code",
   "execution_count": null,
   "metadata": {},
   "outputs": [],
   "source": []
  }
 ],
 "metadata": {
  "kernelspec": {
   "display_name": "Python 3",
   "language": "python",
   "name": "python3"
  },
  "language_info": {
   "codemirror_mode": {
    "name": "ipython",
    "version": 3
   },
   "file_extension": ".py",
   "mimetype": "text/x-python",
   "name": "python",
   "nbconvert_exporter": "python",
   "pygments_lexer": "ipython3",
   "version": "3.6.5"
  }
 },
 "nbformat": 4,
 "nbformat_minor": 2
}
