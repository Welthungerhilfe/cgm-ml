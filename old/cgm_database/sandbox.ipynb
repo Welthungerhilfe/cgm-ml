{
 "cells": [
  {
   "cell_type": "code",
   "execution_count": 1,
   "metadata": {},
   "outputs": [],
   "source": [
    "import warnings\n",
    "warnings.filterwarnings(\"ignore\")\n",
    "import dbutils\n",
    "import time\n",
    "import pandas as pd\n",
    "from IPython.display import display\n",
    "import numpy as np\n",
    "last_check = 0"
   ]
  },
  {
   "cell_type": "code",
   "execution_count": 16,
   "metadata": {},
   "outputs": [
    {
     "name": "stdout",
     "output_type": "stream",
     "text": [
      "31728 [('MP_WHH_1472', 'pc_MP_WHH_1472_1543999951917_107_020.pcd', '/localssd/anondata/qrcode/qrcode/MP_WHH_1472/measurements/1543999951917/pc/pc_MP_WHH_1472_1543999951917_107_020.pcd', 'pcd', 1031, 81.9, 9.45, 12.9, 45.3, 'standing'), ('MP_WHH_1472', 'pc_MP_WHH_1472_1543999951917_104_007.pcd', '/localssd/anondata/qrcode/qrcode/MP_WHH_1472/measurements/1543999951917/pc/pc_MP_WHH_1472_1543999951917_104_007.pcd', 'pcd', 1031, 81.9, 9.45, 12.9, 45.3, 'standing')]\n"
     ]
    }
   ],
   "source": [
    "main_connector = dbutils.connect_to_main_database()\n",
    "\n",
    "[WHH] Provide pointers to cleaner dataset  \n",
    "sql_statement = \"\"\"\n",
    "    SELECT \n",
    "        qr_code, \n",
    "        artifact_id, \n",
    "        REPLACE(artifact_path, '/whhdata', '/localssd/anondata/qrcode'),\n",
    "        type, \n",
    "        age, \n",
    "        height, \n",
    "        weight, \n",
    "        muac, \n",
    "        head_circumference, \n",
    "        status \n",
    "    FROM artifacts_with_targets \n",
    "    WHERE type='pcd'\n",
    "    AND status='standing';\n",
    "    \"\"\"\n",
    "result = main_connector.execute(sql_statement, fetch_all=True)\n",
    "print(len(result), result[0:2])\n",
    "\n"
   ]
  },
  {
   "cell_type": "code",
   "execution_count": 14,
   "metadata": {},
   "outputs": [
    {
     "name": "stdout",
     "output_type": "stream",
     "text": [
      "pc_MP_WHH_2510_1540360822453_104_000.pcd\r\n",
      "pc_MP_WHH_2510_1540360822453_104_001.pcd\r\n",
      "pc_MP_WHH_2510_1540360822453_104_002.pcd\r\n",
      "pc_MP_WHH_2510_1540360822453_104_003.pcd\r\n",
      "pc_MP_WHH_2510_1540360822453_107_004.pcd\r\n",
      "pc_MP_WHH_2510_1540360822453_107_005.pcd\r\n",
      "pc_MP_WHH_2510_1540360822453_107_006.pcd\r\n",
      "pc_MP_WHH_2510_1540360822453_107_007.pcd\r\n",
      "pc_MP_WHH_2510_1540360822453_110_008.pcd\r\n",
      "pc_MP_WHH_2510_1540360822453_110_009.pcd\r\n"
     ]
    }
   ],
   "source": [
    "!ls /localssd/anondata/qrcode-new/MP_WHH_2510/measurements/1540360822453/pc"
   ]
  },
  {
   "cell_type": "code",
   "execution_count": 96,
   "metadata": {},
   "outputs": [
    {
     "name": "stdout",
     "output_type": "stream",
     "text": [
      "None\n"
     ]
    }
   ],
   "source": [
    "sql_statement = \"\"\"\n",
    "CREATE TABLE IF NOT EXISTS artifact_result (\n",
    "    PRIMARY KEY(artifact_id, model_name, target_key),\n",
    "    model_name TEXT NOT NULL,\n",
    "    target_key TEXT NOT NULL,\n",
    "    value REAL NOT NULL,\n",
    "    artifact_id VARCHAR(255) REFERENCES artifact(id)\n",
    ");\n",
    "\"\"\"\n",
    "\n",
    "#result = main_connector.execute(sql_statement)\n",
    "#print(result)"
   ]
  },
  {
   "cell_type": "code",
   "execution_count": 97,
   "metadata": {},
   "outputs": [
    {
     "name": "stdout",
     "output_type": "stream",
     "text": [
      "11852\n",
      "MAE 2.1382949540326273\n",
      "('/whhdata/qrcode/MP_WHH_2090/measurements/1545203433321/pc/pc_MP_WHH_2090_1545203433321_107_017.pcd', 9.15527e-05)\n",
      "('/whhdata/qrcode/RJ_WHH_2408/measurements/1546589285943/pc/pc_RJ_WHH_2408_1546589285943_110_036.pcd', 0.000106812)\n",
      "('/whhdata/qrcode/RJ_WHH_1360/measurements/1543398649988/pc/pc_RJ_WHH_1360_1543398649988_110_038.pcd', 0.000442505)\n",
      "('/whhdata/qrcode/RJ_WHH_2030/measurements/1544084080847/pc/pc_RJ_WHH_2030_1544084080847_110_046.pcd', 0.000602722)\n",
      "('/whhdata/qrcode/RJ_WHH_2836/measurements/1541673404916/pc/pc_RJ_WHH_2836_1541673404916_110_028.pcd', 0.000976563)\n",
      "('/whhdata/qrcode/MP_WHH_1056/measurements/1542608690637/pc/pc_MP_WHH_1056_1542608690637_107_020.pcd', 0.00139618)\n",
      "('/whhdata/qrcode/MP_WHH_1435/measurements/1543821979649/pc/pc_MP_WHH_1435_1543821979649_107_024.pcd', 0.00151825)\n",
      "('/whhdata/qrcode/SAM-GOV-050/measurements/1531380435249/pc/pc_SAM-GOV-050_1531380435249_107_017.pcd', 0.00219727)\n",
      "('/whhdata/qrcode/RJ_WHH_3439/measurements/1542620553382/pc/pc_RJ_WHH_3439_1542620553382_107_019.pcd', 0.00278473)\n",
      "('/whhdata/qrcode/MP_WHH_0006/measurements/1538377853711/pc/pc_MP_WHH_0006_1538377853711_104_005.pcd', 0.00294495)\n"
     ]
    }
   ],
   "source": [
    "sql_statement = \"\"\"\n",
    "SELECT a.path, ABS(ar.value - m.height) AS loss \n",
    "  FROM artifact_result ar\n",
    "  INNER JOIN artifact a ON ar.artifact_id=a.id\n",
    "  INNER JOIN measure m ON a.measure_id=m.id\n",
    "  INNER JOIN measure_quality mq ON mq.measure_id=m.id\n",
    "  WHERE ar.target_key='height'\n",
    "  AND ar.model_name ='20190913-1807_220-55height'\n",
    "  AND m.type='manual'\n",
    "--  AND ABS(ar.value - m.height) < 1.0\n",
    "  AND mq.key='expert_status'\n",
    "  AND mq.text_value='standing'\n",
    "  ORDER BY loss\n",
    ";\n",
    "\"\"\"\n",
    "\n",
    "result = main_connector.execute(sql_statement, fetch_all=True)\n",
    "print(len(result))\n",
    "mean_loss = np.mean([x[1] for x in result])\n",
    "print(\"MAE\", mean_loss)\n",
    "for x in result[0:10]:\n",
    "    print(x)"
   ]
  },
  {
   "cell_type": "code",
   "execution_count": 99,
   "metadata": {},
   "outputs": [
    {
     "name": "stdout",
     "output_type": "stream",
     "text": [
      "125751 1104760\n",
      "11.382653245953872\n"
     ]
    }
   ],
   "source": [
    "sql_statement = \"SELECT COUNT(*) FROM artifact;\"\n",
    "artifacts = main_connector.execute(sql_statement, fetch_one=True)[0]\n",
    "\n",
    "sql_statement = \"SELECT COUNT(*) FROM artifact_result;\"\n",
    "artifact_results = main_connector.execute(sql_statement, fetch_one=True)[0]\n",
    "\n",
    "print(artifact_results, artifacts)\n",
    "print(100 * artifact_results / artifacts)"
   ]
  },
  {
   "cell_type": "code",
   "execution_count": 93,
   "metadata": {},
   "outputs": [
    {
     "name": "stdout",
     "output_type": "stream",
     "text": [
      "20190913-1807_220-55height\n"
     ]
    }
   ],
   "source": [
    "sql_statement = \"SELECT DISTINCT(model_name) FROM artifact_result;\"\n",
    "result = main_connector.execute(sql_statement, fetch_one=True)[0]\n",
    "print(result)\n"
   ]
  },
  {
   "cell_type": "code",
   "execution_count": 2,
   "metadata": {},
   "outputs": [
    {
     "name": "stdout",
     "output_type": "stream",
     "text": [
      "[79.0, 79.2, 81.2]\n"
     ]
    }
   ],
   "source": [
    "main_connector = dbutils.connect_to_main_database()\n",
    "sql_statement = \"SELECT height FROM measure m INNER JOIN person p on m.person_id=p.id WHERE qr_code='SAM-GOV-030' AND m.type='manual' ORDER BY m.timestamp;\"\n",
    "result = main_connector.execute(sql_statement, fetch_all=True)\n",
    "result = [r[0] for r in result]\n",
    "print(result)"
   ]
  },
  {
   "cell_type": "code",
   "execution_count": 3,
   "metadata": {},
   "outputs": [
    {
     "name": "stdout",
     "output_type": "stream",
     "text": [
      "[('20190708-0919_2379-595height',)]\n"
     ]
    }
   ],
   "source": [
    "main_connector = dbutils.connect_to_main_database()\n",
    "sql_statement = \"SELECT DISTINCT(type) FROM artifact_quality WHERE type='20190708-0919_2379-595height';\"\n",
    "result = main_connector.execute(sql_statement, fetch_all=True)\n",
    "print(result)"
   ]
  },
  {
   "cell_type": "code",
   "execution_count": 4,
   "metadata": {},
   "outputs": [
    {
     "name": "stdout",
     "output_type": "stream",
     "text": [
      "[('20190806-1551_220-55height',), ('20190718-2123_2550-638weight',), ('20190708-0919_2379-595height',), ('rgb',), ('20190723-1119_2550-638weight',), ('pcd',)]\n"
     ]
    }
   ],
   "source": [
    "main_connector = dbutils.connect_to_main_database()\n",
    "sql_statement = \"SELECT DISTINCT(type) FROM artifact_quality;\"\n",
    "result = main_connector.execute(sql_statement, fetch_all=True)\n",
    "print(result)"
   ]
  },
  {
   "cell_type": "code",
   "execution_count": 6,
   "metadata": {},
   "outputs": [
    {
     "name": "stdout",
     "output_type": "stream",
     "text": [
      "0 132565 PCDs in artifact_quality\n",
      "Change\n"
     ]
    }
   ],
   "source": [
    "main_connector = dbutils.connect_to_main_database()\n",
    "sql_statement = \"SELECT COUNT(*) FROM artifact_quality WHERE type='20190708-0919_2379-595height';\"\n",
    "result = main_connector.execute(sql_statement, fetch_one=True)[0]\n",
    "print(last_check, result, \"PCDs in artifact_quality\")\n",
    "\n",
    "if last_check != result:\n",
    "    print(\"Change\")\n",
    "else:\n",
    "    print(\"No change\")\n",
    "last_check = result"
   ]
  },
  {
   "cell_type": "code",
   "execution_count": 7,
   "metadata": {},
   "outputs": [
    {
     "name": "stdout",
     "output_type": "stream",
     "text": [
      "[(223249,)] PCDs in artifact\n"
     ]
    }
   ],
   "source": [
    "main_connector = dbutils.connect_to_main_database()\n",
    "sql_statement = \"SELECT COUNT(*) FROM artifact WHERE type='pcd';\"\n",
    "result = main_connector.execute(sql_statement, fetch_all=True)\n",
    "print(result, \"PCDs in artifact\")"
   ]
  },
  {
   "cell_type": "markdown",
   "metadata": {},
   "source": [
    "# Scan level MAEs."
   ]
  },
  {
   "cell_type": "code",
   "execution_count": 8,
   "metadata": {},
   "outputs": [
    {
     "name": "stdout",
     "output_type": "stream",
     "text": [
      "Found 6859 qr-codes.\n"
     ]
    }
   ],
   "source": [
    "main_connector = dbutils.connect_to_main_database()\n",
    "\n",
    "sql_statement = \"\"\n",
    "sql_statement += \"SELECT COUNT(DISTINCT p.qr_code) FROM person p;\"\n",
    "\n",
    "result = main_connector.execute(sql_statement, fetch_one=True)[0]\n",
    "print(\"Found {} qr-codes.\".format(result))"
   ]
  },
  {
   "cell_type": "code",
   "execution_count": 13,
   "metadata": {},
   "outputs": [
    {
     "name": "stdout",
     "output_type": "stream",
     "text": [
      "1.8696751594543457\n",
      "Found 7028 manual scans\n",
      "number of fused scans: [(137949,)]\n",
      "number of pcd scans: [(223249,)]\n"
     ]
    }
   ],
   "source": [
    "# Select all QR-code-create-date pairs. Those are scans.\n",
    "sql_statement = \"\"\n",
    "sql_statement += \"SELECT DISTINCT p.qr_code, m.timestamp, m.id as measure_id\"\n",
    "sql_statement += \" FROM measure m\"\n",
    "sql_statement += \" INNER JOIN person p on m.person_id=p.id\"\n",
    "sql_statement += \" WHERE m.type='manual'\"\n",
    "sql_statement += \";\"\n",
    "\n",
    "start = time.time()\n",
    "scans = main_connector.execute(sql_statement, fetch_all=True)\n",
    "end = time.time()\n",
    "print(end - start)\n",
    "\n",
    "print(\"Found {} manual scans\".format(len(scans)))\n",
    "#print(scans[200:300])\n",
    "\n",
    "\n",
    "\n",
    "sql_statement = \"\"\n",
    "sql_statement += \"SELECT COUNT(*)\"\n",
    "sql_statement += \" FROM artifact\"\n",
    "sql_statement += \" WHERE type='pcrgb'\"\n",
    "sql_statement += \";\"\n",
    "\n",
    "scans = main_connector.execute(sql_statement, fetch_all=True)\n",
    "print (\"number of fused scans: \" + str(scans))\n",
    "\n",
    "sql_statement = \"\"\n",
    "sql_statement += \"SELECT COUNT(*)\"\n",
    "sql_statement += \" FROM artifact\"\n",
    "sql_statement += \" WHERE type='pcd'\"\n",
    "sql_statement += \";\"\n",
    "\n",
    "scans = main_connector.execute(sql_statement, fetch_all=True)\n",
    "print (\"number of pcd scans: \" + str(scans))"
   ]
  },
  {
   "cell_type": "code",
   "execution_count": 50,
   "metadata": {},
   "outputs": [
    {
     "name": "stdout",
     "output_type": "stream",
     "text": [
      "MH_WHH_0077 1538717985089\n",
      "9.917351961135864\n",
      "9.407123565673828\n"
     ]
    }
   ],
   "source": [
    "model = \"20190708-0919_2379-595height\"\n",
    "\n",
    "for scan in scans[200:201]:\n",
    "    qr_code = pair[0]\n",
    "    create_date = pair[1]\n",
    "    print(qr_code, create_date)\n",
    "    \n",
    "    sql_statement = \"\"\n",
    "    sql_statement += \"SELECT SUM(aq.value) \"\n",
    "    sql_statement += \" FROM artifact_quality aq\"\n",
    "    sql_statement += \" INNER JOIN artifact a ON a.id = aq.artifact_id\"\n",
    "    sql_statement += \" WHERE aq.key='mae'\"\n",
    "    sql_statement += \" AND aq.type='{}'\".format(model)\n",
    "    sql_statement += \" AND a.qr_code='{}'\".format(qr_code)\n",
    "    sql_statement += \" AND a.create_date='{}'\".format(create_date)\n",
    "    sql_statement += \";\"\n",
    "\n",
    "    start = time.time()\n",
    "    result = main_connector.execute(sql_statement, fetch_all=True)\n",
    "    end = time.time()\n",
    "    print(end - start)"
   ]
  },
  {
   "cell_type": "code",
   "execution_count": 51,
   "metadata": {},
   "outputs": [
    {
     "data": {
      "text/plain": [
       "18.602777777777778"
      ]
     },
     "execution_count": 51,
     "metadata": {},
     "output_type": "execute_result"
    }
   ],
   "source": [
    "6697 * 10 / (60 * 60)"
   ]
  },
  {
   "cell_type": "code",
   "execution_count": 25,
   "metadata": {},
   "outputs": [
    {
     "name": "stdout",
     "output_type": "stream",
     "text": [
      "('MH_WHH_0187',)\n",
      "(1537851618537,)\n",
      "11.59768009185791\n"
     ]
    }
   ],
   "source": [
    "print(qr_codes[0])\n",
    "for qr_code in qr_codes[0:10]:\n",
    "    qr_code = qr_code[0]\n",
    "    \n",
    "    # Get all create dates for that qr-code.\n",
    "    sql_statement = \"\"\n",
    "    sql_statement += \"SELECT DISTINCT(a.create_date) FROM artifact a\"\n",
    "    sql_statement += \" WHERE a.qr_code='{}'\".format(qr_code)\n",
    "    sql_statement += \";\"\n",
    "    \n",
    "    start = time.time()\n",
    "    create_dates = main_connector.execute(sql_statement, fetch_all=True)\n",
    "    for create_date in create_dates:\n",
    "        create_date = create_dates[0]\n",
    "        print(r)\n",
    "    end = time.time()\n",
    "    print(end - start)\n",
    "    break\n",
    "    "
   ]
  },
  {
   "cell_type": "code",
   "execution_count": 22,
   "metadata": {},
   "outputs": [
    {
     "name": "stdout",
     "output_type": "stream",
     "text": [
      "SELECT a.qr_code, a.create_date, AVG(aq.value) FROM artifact_quality aq INNER JOIN artifact a ON a.id = aq.artifact_id WHERE aq.key='mae' AND aq.type='20190708-0919_2379-595height' GROUP BY a.qr_code, a.create_date;\n",
      "5.318471670150757\n",
      "4063 results\n",
      "('MH_WHH_0001', 1536913319075, 8.64329643249512)\n",
      "('MH_WHH_0002', 1536910804577, 0.409949730182516)\n",
      "('MH_WHH_0003', 1536913710517, 15.8390997524919)\n",
      "('MH_WHH_0007', 1537269381827, 9.00559854507446)\n",
      "('MH_WHH_0007', 1537269534213, 9.87686772500315)\n",
      "('MH_WHH_0010', 1537166990387, 10.1984226829127)\n",
      "('MH_WHH_0010', 1537167038624, 9.68606387867647)\n",
      "('MH_WHH_0011', 1537174095389, 1.1296624077691)\n",
      "('MH_WHH_0012', 1536921402623, 8.35233191287879)\n",
      "('MH_WHH_0013', 1537346511739, 5.59329244252798)\n"
     ]
    },
    {
     "data": {
      "text/html": [
       "<div>\n",
       "<style scoped>\n",
       "    .dataframe tbody tr th:only-of-type {\n",
       "        vertical-align: middle;\n",
       "    }\n",
       "\n",
       "    .dataframe tbody tr th {\n",
       "        vertical-align: top;\n",
       "    }\n",
       "\n",
       "    .dataframe thead th {\n",
       "        text-align: right;\n",
       "    }\n",
       "</style>\n",
       "<table border=\"1\" class=\"dataframe\">\n",
       "  <thead>\n",
       "    <tr style=\"text-align: right;\">\n",
       "      <th></th>\n",
       "      <th>QR-Code</th>\n",
       "      <th>Timestamp</th>\n",
       "      <th>MAE</th>\n",
       "    </tr>\n",
       "  </thead>\n",
       "  <tbody>\n",
       "    <tr>\n",
       "      <th>0</th>\n",
       "      <td>MH_WHH_0001</td>\n",
       "      <td>1536913319075</td>\n",
       "      <td>8.643296</td>\n",
       "    </tr>\n",
       "    <tr>\n",
       "      <th>1</th>\n",
       "      <td>MH_WHH_0002</td>\n",
       "      <td>1536910804577</td>\n",
       "      <td>0.409950</td>\n",
       "    </tr>\n",
       "    <tr>\n",
       "      <th>2</th>\n",
       "      <td>MH_WHH_0003</td>\n",
       "      <td>1536913710517</td>\n",
       "      <td>15.839100</td>\n",
       "    </tr>\n",
       "    <tr>\n",
       "      <th>3</th>\n",
       "      <td>MH_WHH_0007</td>\n",
       "      <td>1537269381827</td>\n",
       "      <td>9.005599</td>\n",
       "    </tr>\n",
       "    <tr>\n",
       "      <th>4</th>\n",
       "      <td>MH_WHH_0007</td>\n",
       "      <td>1537269534213</td>\n",
       "      <td>9.876868</td>\n",
       "    </tr>\n",
       "    <tr>\n",
       "      <th>5</th>\n",
       "      <td>MH_WHH_0010</td>\n",
       "      <td>1537166990387</td>\n",
       "      <td>10.198423</td>\n",
       "    </tr>\n",
       "    <tr>\n",
       "      <th>6</th>\n",
       "      <td>MH_WHH_0010</td>\n",
       "      <td>1537167038624</td>\n",
       "      <td>9.686064</td>\n",
       "    </tr>\n",
       "    <tr>\n",
       "      <th>7</th>\n",
       "      <td>MH_WHH_0011</td>\n",
       "      <td>1537174095389</td>\n",
       "      <td>1.129662</td>\n",
       "    </tr>\n",
       "    <tr>\n",
       "      <th>8</th>\n",
       "      <td>MH_WHH_0012</td>\n",
       "      <td>1536921402623</td>\n",
       "      <td>8.352332</td>\n",
       "    </tr>\n",
       "    <tr>\n",
       "      <th>9</th>\n",
       "      <td>MH_WHH_0013</td>\n",
       "      <td>1537346511739</td>\n",
       "      <td>5.593292</td>\n",
       "    </tr>\n",
       "  </tbody>\n",
       "</table>\n",
       "</div>"
      ],
      "text/plain": [
       "       QR-Code      Timestamp        MAE\n",
       "0  MH_WHH_0001  1536913319075   8.643296\n",
       "1  MH_WHH_0002  1536910804577   0.409950\n",
       "2  MH_WHH_0003  1536913710517  15.839100\n",
       "3  MH_WHH_0007  1537269381827   9.005599\n",
       "4  MH_WHH_0007  1537269534213   9.876868\n",
       "5  MH_WHH_0010  1537166990387  10.198423\n",
       "6  MH_WHH_0010  1537167038624   9.686064\n",
       "7  MH_WHH_0011  1537174095389   1.129662\n",
       "8  MH_WHH_0012  1536921402623   8.352332\n",
       "9  MH_WHH_0013  1537346511739   5.593292"
      ]
     },
     "metadata": {},
     "output_type": "display_data"
    }
   ],
   "source": [
    "#SELECT a.qr_code, AVG(aq.value) \n",
    "#FROM artifact_quality as aq\n",
    "#INNER JOIN artifact as a\n",
    "#  ON a.artifact_id = aq.artifact_id\n",
    "#WHERE aq.key='mae'\n",
    "#AND aq.type='20190708-0919_2379-595height'\n",
    "#GROUP BY a.qr_code, a.create_date;\n",
    "\n",
    "#main_connector = dbutils.connect_to_main_database()\n",
    "\n",
    "model_name = \"20190708-0919_2379-595height\"\n",
    "\n",
    "sql_statement = \"\"\n",
    "sql_statement += \"SELECT a.qr_code, a.create_date, AVG(aq.value) FROM artifact_quality aq\"\n",
    "sql_statement += \" INNER JOIN artifact a ON a.id = aq.artifact_id\"\n",
    "sql_statement += \" WHERE aq.key='mae'\"\n",
    "sql_statement += \" AND aq.type='{}'\".format(model_name)\n",
    "sql_statement += \" GROUP BY a.qr_code, a.create_date\"\n",
    "sql_statement += \";\"\n",
    "\n",
    "print(sql_statement)\n",
    "\n",
    "start = time.time()\n",
    "result = main_connector.execute(sql_statement, fetch_all=True)\n",
    "end = time.time()\n",
    "print(end - start)\n",
    "\n",
    "\n",
    "print(len(result), \"results\")\n",
    "\n",
    "#last_check = len(result)\n",
    "rows = []\n",
    "for r in result[0:10]:\n",
    "    qr_code = r[0]\n",
    "    create_date = r[1]\n",
    "    mae = r[2]\n",
    "    row = (qr_code, create_date, mae)\n",
    "    print(row)\n",
    "    rows.append(row)\n",
    "    \n",
    "columns = [\"QR-Code\", \"Timestamp\", \"MAE\"]\n",
    "\n",
    "df = pd.DataFrame(rows, columns=columns)\n",
    "display(df)"
   ]
  },
  {
   "cell_type": "code",
   "execution_count": null,
   "metadata": {},
   "outputs": [],
   "source": [
    "\n",
    "sql_statement = \"SELECT * FROM artifacts_with_targets WHERE type='pcd';\"\n",
    "result = main_connector.execute(sql_statement, fetch_all=True)\n",
    "print(len(result), result[0:2])"
   ]
  },
  {
   "cell_type": "code",
   "execution_count": null,
   "metadata": {},
   "outputs": [],
   "source": [
    "sql_statement = \"SELECT COUNT(*) FROM artifact_quality WHERE key='number_of_points';\"\n",
    "result = main_connector.execute(sql_statement, fetch_all=True)\n",
    "print(len(result), result[0:2])"
   ]
  },
  {
   "cell_type": "code",
   "execution_count": null,
   "metadata": {},
   "outputs": [],
   "source": [
    "sql_statement = \"SELECT COUNT(*) FROM artifact_quality;\"\n",
    "result = main_connector.execute(sql_statement, fetch_all=True)\n",
    "print(result)"
   ]
  },
  {
   "cell_type": "code",
   "execution_count": null,
   "metadata": {},
   "outputs": [],
   "source": [
    "sql_statement = \"SELECT COUNT(*) FROM artifact WHERE path LIKE '%scantimestamp%';\"\n",
    "result = main_connector.execute(sql_statement, fetch_all=True)[0][0]\n",
    "print(result)\n",
    "\n",
    "sql_statement = \"SELECT COUNT(*) FROM artifact WHERE path LIKE '% %';\"\n",
    "print(sql_statement)\n",
    "result = main_connector.execute(sql_statement, fetch_all=True)[0][0]\n",
    "print(result)\n",
    "\n",
    "sql_statement = \"SELECT COUNT(*) FROM artifact WHERE path NOT LIKE '%scantimestamp%';\"\n",
    "result = main_connector.execute(sql_statement, fetch_all=True)[0][0]\n",
    "print(result)\n",
    "\n"
   ]
  },
  {
   "cell_type": "code",
   "execution_count": null,
   "metadata": {},
   "outputs": [],
   "source": [
    "sql_statement = \"SELECT id, tango_timestamp FROM artifact WHERE tango_timestamp = ROUND(tango_timestamp) AND type='pcd';\"\n",
    "result = main_connector.execute(sql_statement, fetch_all=True)\n",
    "print(len(result), result[0:2])\n",
    "\n",
    "sql_statement = \"SELECT id, tango_timestamp FROM artifact WHERE tango_timestamp != ROUND(tango_timestamp) AND type='pcd';\"\n",
    "result = main_connector.execute(sql_statement, fetch_all=True)\n",
    "print(len(result), result[0:2])\n",
    "\n",
    "#for r in result[0:10]:\n",
    "#    print(r[0], r[1])"
   ]
  },
  {
   "cell_type": "code",
   "execution_count": null,
   "metadata": {},
   "outputs": [],
   "source": [
    "sql_statement = \"SELECT id, tango_timestamp FROM artifact;\"\n",
    "result = main_connector.execute(sql_statement, fetch_all=True)\n",
    "result = result[:100]\n",
    "print(result[0:2])\n",
    "for r in result:\n",
    "    print(r[0], r[1])"
   ]
  },
  {
   "cell_type": "code",
   "execution_count": null,
   "metadata": {},
   "outputs": [],
   "source": [
    "sql_statement = \"SELECT COUNT(*) FROM artifact_quality WHERE key='confidence_avg';\"\n",
    "result = main_connector.execute(sql_statement, fetch_all=True)[0][0]\n",
    "print(result, \"artifact quality KPIs\")\n",
    "\n",
    "sql_statement = \"SELECT MIN(value) FROM artifact_quality WHERE key='number_of_points';\"\n",
    "result = main_connector.execute(sql_statement, fetch_all=True)[0][0]\n",
    "print(result, \"artifact quality KPIs\")"
   ]
  },
  {
   "cell_type": "code",
   "execution_count": null,
   "metadata": {},
   "outputs": [],
   "source": [
    "main_connector = dbutils.connect_to_main_database()\n",
    "\n",
    "sql_statement = \"SELECT COUNT(*) FROM artifact_quality;\"\n",
    "result = main_connector.execute(sql_statement, fetch_all=True)[0][0]\n",
    "print(result, \"entries in artifact_quality\")\n",
    "\n",
    "sql_statement = \"SELECT COUNT(*) FROM artifact_quality WHERE value=0.0;\"\n",
    "result = main_connector.execute(sql_statement, fetch_all=True)[0][0]\n",
    "print(result, \"entries in artifact_quality where value is 0.0\")\n",
    "\n",
    "sql_statement = \"SELECT COUNT(*) FROM artifact_quality WHERE key='confidence_avg';\"\n",
    "result = main_connector.execute(sql_statement, fetch_all=True)[0][0]\n",
    "print(result, \"entries in artifact_quality with key confidence_avg\")\n",
    "\n",
    "sql_statement = \"SELECT COUNT(*) FROM artifact_quality WHERE key='number_of_points';\"\n",
    "result = main_connector.execute(sql_statement, fetch_all=True)[0][0]\n",
    "print(result, \"entries in artifact_quality with key number_of_points\")\n",
    "\n",
    "sql_statement = \"SELECT COUNT(DISTINCT(artifact_id)) FROM artifact_quality;\"\n",
    "result = main_connector.execute(sql_statement, fetch_all=True)[0][0]\n",
    "print(result, \"distinct artifact_ids in artifact_quality\")\n",
    "\n",
    "sql_statement = \"SELECT COUNT(*) FROM artifact WHERE type='pcd';\"\n",
    "result = main_connector.execute(sql_statement, fetch_all=True)[0][0]\n",
    "print(result, \"PCDs in artifacts\")\n",
    "\n",
    "sql_statement = \"SELECT COUNT(*) FROM artifacts_with_targets WHERE type='pcd';\"\n",
    "result = main_connector.execute(sql_statement, fetch_all=True)[0][0]\n",
    "print(result, \"PCDs in artifacts_with_targets\")"
   ]
  },
  {
   "cell_type": "code",
   "execution_count": null,
   "metadata": {},
   "outputs": [],
   "source": [
    "#sql_statement = \"DELETE FROM artifact_quality WHERE value=0.0;\"\n",
    "#result = main_connector.execute(sql_statement, fetch_all=True)[0][0]"
   ]
  },
  {
   "cell_type": "code",
   "execution_count": null,
   "metadata": {},
   "outputs": [],
   "source": [
    "sql_statement = \"SELECT COUNT(*) FROM artifacts_with_targets WHERE type='pcd';\"\n",
    "result = main_connector.execute(sql_statement, fetch_all=True)[0][0]\n",
    "print(result, \"PCDs in artifacts_with_targets\")"
   ]
  },
  {
   "cell_type": "code",
   "execution_count": null,
   "metadata": {},
   "outputs": [],
   "source": []
  }
 ],
 "metadata": {
  "kernelspec": {
   "display_name": "Python 3.5",
   "language": "python",
   "name": "python3"
  },
  "language_info": {
   "codemirror_mode": {
    "name": "ipython",
    "version": 3
   },
   "file_extension": ".py",
   "mimetype": "text/x-python",
   "name": "python",
   "nbconvert_exporter": "python",
   "pygments_lexer": "ipython3",
   "version": "3.5.5"
  }
 },
 "nbformat": 4,
 "nbformat_minor": 2
}
