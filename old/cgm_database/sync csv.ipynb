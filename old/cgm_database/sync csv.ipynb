{
 "cells": [
  {
   "cell_type": "markdown",
   "metadata": {},
   "source": [
    "# README.\n",
    "This notebook synchronizes the database with the CSV file in /whhdata."
   ]
  },
  {
   "cell_type": "code",
   "execution_count": 10,
   "metadata": {},
   "outputs": [],
   "source": [
    "import os\n",
    "import glob\n",
    "import pandas as pd\n",
    "import dbutils\n",
    "import progressbar"
   ]
  },
  {
   "cell_type": "markdown",
   "metadata": {},
   "source": [
    "# Locate and load CSV from whhdata."
   ]
  },
  {
   "cell_type": "code",
   "execution_count": 2,
   "metadata": {},
   "outputs": [
    {
     "name": "stdout",
     "output_type": "stream",
     "text": [
      "Using ['/whhdata/results-measures-20190319-102143.csv']\n"
     ]
    }
   ],
   "source": [
    "# Where to get the data.\n",
    "whhdata_path = \"/whhdata\"\n",
    "glob_search_path = os.path.join(whhdata_path, \"*.csv\")\n",
    "csv_paths = sorted(glob.glob(glob_search_path))\n",
    "csv_path = csv_paths[0]\n",
    "print(\"Using {}\".format(csv_paths))"
   ]
  },
  {
   "cell_type": "code",
   "execution_count": 3,
   "metadata": {},
   "outputs": [],
   "source": [
    "# Load the data-frame.\n",
    "df = pd.read_csv(csv_path)"
   ]
  },
  {
   "cell_type": "code",
   "execution_count": 21,
   "metadata": {},
   "outputs": [
    {
     "data": {
      "text/html": [
       "<div>\n",
       "<style scoped>\n",
       "    .dataframe tbody tr th:only-of-type {\n",
       "        vertical-align: middle;\n",
       "    }\n",
       "\n",
       "    .dataframe tbody tr th {\n",
       "        vertical-align: top;\n",
       "    }\n",
       "\n",
       "    .dataframe thead th {\n",
       "        text-align: right;\n",
       "    }\n",
       "</style>\n",
       "<table border=\"1\" class=\"dataframe\">\n",
       "  <thead>\n",
       "    <tr style=\"text-align: right;\">\n",
       "      <th></th>\n",
       "      <th>id</th>\n",
       "      <th>personId</th>\n",
       "      <th>qrcode</th>\n",
       "      <th>sex</th>\n",
       "      <th>type</th>\n",
       "      <th>age</th>\n",
       "      <th>height</th>\n",
       "      <th>weight</th>\n",
       "      <th>muac</th>\n",
       "      <th>headCircumference</th>\n",
       "      <th>oedema</th>\n",
       "      <th>latitude</th>\n",
       "      <th>longitude</th>\n",
       "      <th>address</th>\n",
       "      <th>timestamp</th>\n",
       "      <th>deleted</th>\n",
       "      <th>deletedBy</th>\n",
       "      <th>visible</th>\n",
       "      <th>createdBy</th>\n",
       "    </tr>\n",
       "  </thead>\n",
       "  <tbody>\n",
       "    <tr>\n",
       "      <th>0</th>\n",
       "      <td>fb3bfc1a748e12ee_measure_1552552380603_hfPIPRf...</td>\n",
       "      <td>fb3bfc1a748e12ee_mandloi_1552552136224_j441qmO...</td>\n",
       "      <td>NaN</td>\n",
       "      <td>NaN</td>\n",
       "      <td>manual</td>\n",
       "      <td>1371</td>\n",
       "      <td>90.5</td>\n",
       "      <td>10.70</td>\n",
       "      <td>13.5</td>\n",
       "      <td>46.2</td>\n",
       "      <td>False</td>\n",
       "      <td>22.337960</td>\n",
       "      <td>74.953553</td>\n",
       "      <td>NaN</td>\n",
       "      <td>1552890976734</td>\n",
       "      <td>False</td>\n",
       "      <td>NaN</td>\n",
       "      <td>False</td>\n",
       "      <td>cgm15whh@gmail.com</td>\n",
       "    </tr>\n",
       "    <tr>\n",
       "      <th>1</th>\n",
       "      <td>fb3bfc1a748e12ee_measure_1552378132366_b3zadc7...</td>\n",
       "      <td>fb3bfc1a748e12ee_jamra_1552378019288_CilAQntVd...</td>\n",
       "      <td>NaN</td>\n",
       "      <td>NaN</td>\n",
       "      <td>manual</td>\n",
       "      <td>1104</td>\n",
       "      <td>85.4</td>\n",
       "      <td>9.75</td>\n",
       "      <td>14.1</td>\n",
       "      <td>43.3</td>\n",
       "      <td>False</td>\n",
       "      <td>22.363275</td>\n",
       "      <td>74.999870</td>\n",
       "      <td>NaN</td>\n",
       "      <td>1552891706555</td>\n",
       "      <td>False</td>\n",
       "      <td>NaN</td>\n",
       "      <td>False</td>\n",
       "      <td>cgm15whh@gmail.com</td>\n",
       "    </tr>\n",
       "    <tr>\n",
       "      <th>2</th>\n",
       "      <td>fb3bfc1a748e12ee_measure_1552374894278_oLUZcV3...</td>\n",
       "      <td>fb3bfc1a748e12ee_nigwal_1552374875042_YyE4As6U...</td>\n",
       "      <td>NaN</td>\n",
       "      <td>NaN</td>\n",
       "      <td>manual</td>\n",
       "      <td>617</td>\n",
       "      <td>76.3</td>\n",
       "      <td>8.20</td>\n",
       "      <td>13.5</td>\n",
       "      <td>45.0</td>\n",
       "      <td>False</td>\n",
       "      <td>22.363275</td>\n",
       "      <td>74.999870</td>\n",
       "      <td>NaN</td>\n",
       "      <td>1552891706483</td>\n",
       "      <td>False</td>\n",
       "      <td>NaN</td>\n",
       "      <td>False</td>\n",
       "      <td>cgm15whh@gmail.com</td>\n",
       "    </tr>\n",
       "    <tr>\n",
       "      <th>3</th>\n",
       "      <td>fb3bfc1a748e12ee_measure_1552376998993_qhSkTpX...</td>\n",
       "      <td>fb3bfc1a748e12ee_jamra_1552376878360_GZ2RfdJKN...</td>\n",
       "      <td>NaN</td>\n",
       "      <td>NaN</td>\n",
       "      <td>manual</td>\n",
       "      <td>707</td>\n",
       "      <td>74.0</td>\n",
       "      <td>7.30</td>\n",
       "      <td>11.6</td>\n",
       "      <td>44.3</td>\n",
       "      <td>False</td>\n",
       "      <td>22.363275</td>\n",
       "      <td>74.999870</td>\n",
       "      <td>NaN</td>\n",
       "      <td>1552891706532</td>\n",
       "      <td>False</td>\n",
       "      <td>NaN</td>\n",
       "      <td>False</td>\n",
       "      <td>cgm15whh@gmail.com</td>\n",
       "    </tr>\n",
       "    <tr>\n",
       "      <th>4</th>\n",
       "      <td>fb3bfc1a748e12ee_measure_1552376299613_pDjxYHV...</td>\n",
       "      <td>fb3bfc1a748e12ee_buawar_1552376170986_vFRpgUMz...</td>\n",
       "      <td>NaN</td>\n",
       "      <td>NaN</td>\n",
       "      <td>manual</td>\n",
       "      <td>608</td>\n",
       "      <td>71.0</td>\n",
       "      <td>7.65</td>\n",
       "      <td>12.6</td>\n",
       "      <td>42.6</td>\n",
       "      <td>False</td>\n",
       "      <td>22.363275</td>\n",
       "      <td>74.999870</td>\n",
       "      <td>NaN</td>\n",
       "      <td>1552891706509</td>\n",
       "      <td>False</td>\n",
       "      <td>NaN</td>\n",
       "      <td>False</td>\n",
       "      <td>cgm15whh@gmail.com</td>\n",
       "    </tr>\n",
       "  </tbody>\n",
       "</table>\n",
       "</div>"
      ],
      "text/plain": [
       "                                                  id  \\\n",
       "0  fb3bfc1a748e12ee_measure_1552552380603_hfPIPRf...   \n",
       "1  fb3bfc1a748e12ee_measure_1552378132366_b3zadc7...   \n",
       "2  fb3bfc1a748e12ee_measure_1552374894278_oLUZcV3...   \n",
       "3  fb3bfc1a748e12ee_measure_1552376998993_qhSkTpX...   \n",
       "4  fb3bfc1a748e12ee_measure_1552376299613_pDjxYHV...   \n",
       "\n",
       "                                            personId qrcode  sex    type  \\\n",
       "0  fb3bfc1a748e12ee_mandloi_1552552136224_j441qmO...    NaN  NaN  manual   \n",
       "1  fb3bfc1a748e12ee_jamra_1552378019288_CilAQntVd...    NaN  NaN  manual   \n",
       "2  fb3bfc1a748e12ee_nigwal_1552374875042_YyE4As6U...    NaN  NaN  manual   \n",
       "3  fb3bfc1a748e12ee_jamra_1552376878360_GZ2RfdJKN...    NaN  NaN  manual   \n",
       "4  fb3bfc1a748e12ee_buawar_1552376170986_vFRpgUMz...    NaN  NaN  manual   \n",
       "\n",
       "    age  height  weight  muac  headCircumference  oedema   latitude  \\\n",
       "0  1371    90.5   10.70  13.5               46.2   False  22.337960   \n",
       "1  1104    85.4    9.75  14.1               43.3   False  22.363275   \n",
       "2   617    76.3    8.20  13.5               45.0   False  22.363275   \n",
       "3   707    74.0    7.30  11.6               44.3   False  22.363275   \n",
       "4   608    71.0    7.65  12.6               42.6   False  22.363275   \n",
       "\n",
       "   longitude address      timestamp  deleted deletedBy  visible  \\\n",
       "0  74.953553     NaN  1552890976734    False       NaN    False   \n",
       "1  74.999870     NaN  1552891706555    False       NaN    False   \n",
       "2  74.999870     NaN  1552891706483    False       NaN    False   \n",
       "3  74.999870     NaN  1552891706532    False       NaN    False   \n",
       "4  74.999870     NaN  1552891706509    False       NaN    False   \n",
       "\n",
       "            createdBy  \n",
       "0  cgm15whh@gmail.com  \n",
       "1  cgm15whh@gmail.com  \n",
       "2  cgm15whh@gmail.com  \n",
       "3  cgm15whh@gmail.com  \n",
       "4  cgm15whh@gmail.com  "
      ]
     },
     "execution_count": 21,
     "metadata": {},
     "output_type": "execute_result"
    }
   ],
   "source": [
    "# Print some samples.\n",
    "df.head()"
   ]
  },
  {
   "cell_type": "code",
   "execution_count": 22,
   "metadata": {},
   "outputs": [
    {
     "data": {
      "text/plain": [
       "['id',\n",
       " 'personId',\n",
       " 'qrcode',\n",
       " 'sex',\n",
       " 'type',\n",
       " 'age',\n",
       " 'height',\n",
       " 'weight',\n",
       " 'muac',\n",
       " 'headCircumference',\n",
       " 'oedema',\n",
       " 'latitude',\n",
       " 'longitude',\n",
       " 'address',\n",
       " 'timestamp',\n",
       " 'deleted',\n",
       " 'deletedBy',\n",
       " 'visible',\n",
       " 'createdBy']"
      ]
     },
     "execution_count": 22,
     "metadata": {},
     "output_type": "execute_result"
    }
   ],
   "source": [
    "# List all columns.\n",
    "columns = list(df)\n",
    "columns"
   ]
  },
  {
   "cell_type": "markdown",
   "metadata": {},
   "source": [
    "# Mapping the CSV-columns to DB-columns."
   ]
  },
  {
   "cell_type": "code",
   "execution_count": 6,
   "metadata": {},
   "outputs": [
    {
     "data": {
      "text/plain": [
       "{'id': 'measurement_id',\n",
       " 'personId': 'person_id',\n",
       " 'qrcode': 'qrcode',\n",
       " 'sex': 'sex',\n",
       " 'type': 'type',\n",
       " 'age': 'age_days',\n",
       " 'height': 'height_cms',\n",
       " 'weight': 'weight_cms',\n",
       " 'muac': 'muac_cms',\n",
       " 'headCircumference': 'head_circumference_cms',\n",
       " 'oedema': 'oedema',\n",
       " 'latitude': 'latitude',\n",
       " 'longitude': 'longitude',\n",
       " 'address': 'address',\n",
       " 'timestamp': 'timestamp',\n",
       " 'deleted': 'deleted',\n",
       " 'deletedBy': 'deleted_by',\n",
       " 'visible': 'visible',\n",
       " 'createdBy': 'created_by'}"
      ]
     },
     "execution_count": 6,
     "metadata": {},
     "output_type": "execute_result"
    }
   ],
   "source": [
    "columns_mapping = { column: column for column in columns}\n",
    "columns_mapping[\"id\"] = \"measurement_id\"\n",
    "columns_mapping[\"personId\"] = \"person_id\"\n",
    "columns_mapping[\"age\"] = \"age_days\"\n",
    "columns_mapping[\"height\"] = \"height_cms\"\n",
    "columns_mapping[\"weight\"] = \"weight_cms\"\n",
    "columns_mapping[\"muac\"] = \"muac_cms\"\n",
    "columns_mapping[\"headCircumference\"] = \"head_circumference_cms\"\n",
    "columns_mapping[\"deletedBy\"] = \"deleted_by\"\n",
    "columns_mapping[\"createdBy\"] = \"created_by\"\n",
    "columns_mapping[\"personId\"] = \"person_id\"\n",
    "columns_mapping"
   ]
  },
  {
   "cell_type": "markdown",
   "metadata": {},
   "source": [
    "# Synchronize the DB."
   ]
  },
  {
   "cell_type": "code",
   "execution_count": 20,
   "metadata": {},
   "outputs": [
    {
     "name": "stdout",
     "output_type": "stream",
     "text": [
      "Number of rows before: 13739\n"
     ]
    },
    {
     "name": "stderr",
     "output_type": "stream",
     "text": [
      "  2% (348 of 13739) |                    | Elapsed Time: 0:00:00 ETA:   0:00:05"
     ]
    },
    {
     "name": "stdout",
     "output_type": "stream",
     "text": [
      "Number of rows after clear: 0\n"
     ]
    },
    {
     "name": "stderr",
     "output_type": "stream",
     "text": [
      "100% (13739 of 13739) |##################| Elapsed Time: 0:00:07 Time:  0:00:07\n"
     ]
    },
    {
     "name": "stdout",
     "output_type": "stream",
     "text": [
      "Number of rows after: 13739\n"
     ]
    }
   ],
   "source": [
    "# Connect to the database.\n",
    "main_connector = dbutils.connect_to_main_database()\n",
    "table = \"measurements\"\n",
    "\n",
    "# Number of rows before.\n",
    "rows_number = main_connector.get_number_of_rows(table)\n",
    "print(\"Number of rows before: {}\".format(rows_number))\n",
    "\n",
    "# Drop table. # TODO consider update.\n",
    "main_connector.clear_table(table)\n",
    "\n",
    "# Number of rows after.\n",
    "rows_number = main_connector.get_number_of_rows(table)\n",
    "print(\"Number of rows after clear: {}\".format(rows_number))\n",
    "\n",
    "# Insert data in batches.\n",
    "batch_size = 1000\n",
    "sql_statement = \"\"\n",
    "rows_number_df = len(df.index)\n",
    "bar = progressbar.ProgressBar(max_value=rows_number_df)\n",
    "for index, row in df.iterrows():\n",
    "    bar.update(index)\n",
    "    sql_statement += \"INSERT INTO {}\".format(\"measurements\") + \" \"\n",
    "    \n",
    "    keys = []\n",
    "    values = []\n",
    "    for df_key, db_key in columns_mapping.items():\n",
    "        keys.append(str(db_key))\n",
    "        values.append(\"'\" + str(row[df_key]) + \"'\")\n",
    "    \n",
    "    keys_string = \"(\" + \", \".join(keys) + \")\"\n",
    "    values_string = \"VALUES (\" + \", \".join(values) + \")\"\n",
    "    sql_statement += keys_string\n",
    "    sql_statement += \"\\n\" + values_string\n",
    "    sql_statement += \";\" + \"\\n\"\n",
    "\n",
    "    if index != 0 and ((index % batch_size) == 0 or index == rows_number_df - 1):\n",
    "        main_connector.execute(sql_statement)\n",
    "        sql_statement = \"\"\n",
    "\n",
    "bar.finish()\n",
    "\n",
    "# Number of rows after sync.\n",
    "rows_number = main_connector.get_number_of_rows(table)\n",
    "print(\"Number of rows after: {}\".format(rows_number))"
   ]
  },
  {
   "cell_type": "code",
   "execution_count": null,
   "metadata": {},
   "outputs": [],
   "source": []
  }
 ],
 "metadata": {
  "kernelspec": {
   "display_name": "Python 3",
   "language": "python",
   "name": "python3"
  },
  "language_info": {
   "codemirror_mode": {
    "name": "ipython",
    "version": 3
   },
   "file_extension": ".py",
   "mimetype": "text/x-python",
   "name": "python",
   "nbconvert_exporter": "python",
   "pygments_lexer": "ipython3",
   "version": "3.6.5"
  }
 },
 "nbformat": 4,
 "nbformat_minor": 2
}
