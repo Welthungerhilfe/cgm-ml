{
 "metadata": {
  "language_info": {
   "codemirror_mode": {
    "name": "ipython",
    "version": 3
   },
   "file_extension": ".py",
   "mimetype": "text/x-python",
   "name": "python",
   "nbconvert_exporter": "python",
   "pygments_lexer": "ipython3",
   "version": "3.6.9-final"
  },
  "orig_nbformat": 2,
  "kernelspec": {
   "name": "python36964bitazuremlpy366d6fc225ff3443caa96be346196c6812",
   "display_name": "Python 3.6.9 64-bit ('azureml_py36')"
  }
 },
 "nbformat": 4,
 "nbformat_minor": 2,
 "cells": [
  {
   "cell_type": "code",
   "execution_count": 21,
   "metadata": {},
   "outputs": [],
   "source": [
    "import os\n",
    "import time\n",
    "import shutil\n",
    "import tempfile\n",
    "from auth import get_auth\n",
    "from azureml.core import Workspace, Experiment, Run\n",
    "#from azureml.core import Dataset\n",
    "#from azureml.core.dataset import Dataset\n",
    "import glob\n",
    "from src.test_config import MODEL_CONFIG, EVAL_CONFIG, DATA_CONFIG, RESULT_CONFIG"
   ]
  },
  {
   "cell_type": "code",
   "execution_count": null,
   "metadata": {},
   "outputs": [],
   "source": [
    "code_dir = \"src\"\n",
    "paths = glob.glob(os.path.join(code_dir, \"*.py\"))\n",
    "paths"
   ]
  },
  {
   "cell_type": "code",
   "execution_count": null,
   "metadata": {},
   "outputs": [],
   "source": [
    "#create a temp folder and copy code, model and dataset"
   ]
  },
  {
   "cell_type": "code",
   "execution_count": null,
   "metadata": {},
   "outputs": [],
   "source": [
    "print(\"Creating temp folder...\")\n",
    "temp_path = \"tmp_eval\"\n",
    "if os.path.exists(temp_path):\n",
    "    shutil.rmtree(temp_path)\n",
    "os.mkdir(temp_path)\n",
    "\n",
    "for p in paths:\n",
    "    shutil.copy(p, temp_path)\n",
    "print(\"Done.\")"
   ]
  },
  {
   "cell_type": "code",
   "execution_count": null,
   "metadata": {},
   "outputs": [],
   "source": [
    "def download_model(ws, EXPERIMENT_NAME, RUN_ID, INPUT_LOCATION, OUTPUT_LOCATION):\n",
    "    '''\n",
    "    Download the pretrained model\n",
    "    Input:\n",
    "         ws: workspace to access the experiment\n",
    "         EXPERIMENT_NAME: Name of the experiment in which model is saved\n",
    "         RUN_ID: Run Id of the experiment in which model is pre-trained \n",
    "         INPUT_LOCATION: Input location in a RUN Id\n",
    "         OUTPUT_LOCATION: Location for saving the model\n",
    "    '''\n",
    "    experiment = Experiment(workspace = ws, name = EXPERIMENT_NAME)\n",
    "    #Download the model on which evaluation need to be done\n",
    "    run = Run(experiment, run_id = RUN_ID)\n",
    "    #run.get_details()\n",
    "    run.download_file(INPUT_LOCATION, OUTPUT_LOCATION)\n",
    "    print(\"Successfully downloaded model\")"
   ]
  },
  {
   "cell_type": "code",
   "execution_count": null,
   "metadata": {},
   "outputs": [],
   "source": [
    "#When run manually use below\n",
    "#ws = Workspace.from_config()\n",
    "#When run through pipeline use below\n",
    "ws = Workspace.from_config(auth = get_auth())"
   ]
  },
  {
   "cell_type": "code",
   "execution_count": null,
   "metadata": {},
   "outputs": [],
   "source": [
    "download_model(ws, MODEL_CONFIG.EXPERIMENT_NAME, MODEL_CONFIG.RUN_ID,\n",
    "    os.path.join(MODEL_CONFIG.INPUT_LOCATION, MODEL_CONFIG.NAME), temp_path)"
   ]
  },
  {
   "cell_type": "code",
   "execution_count": null,
   "metadata": {},
   "outputs": [],
   "source": [
    "experiment = Experiment(workspace = ws, name = EVAL_CONFIG.EXPERIMENT_NAME)"
   ]
  },
  {
   "cell_type": "code",
   "execution_count": null,
   "metadata": {},
   "outputs": [],
   "source": [
    "#Find/create a compute target."
   ]
  },
  {
   "cell_type": "code",
   "execution_count": null,
   "metadata": {},
   "outputs": [],
   "source": [
    "from azureml.core.compute import ComputeTarget, AmlCompute\n",
    "from azureml.core.compute_target import ComputeTargetException\n",
    "\n",
    "# Compute cluster exists. Just connect to it.\n",
    "try:\n",
    "    compute_target = ComputeTarget(workspace = ws, name = EVAL_CONFIG.CLUSTER_NAME)\n",
    "    print(\"Found existing compute target.\")\n",
    "\n",
    "# Compute cluster does not exist. Create one.    \n",
    "except ComputeTargetException:\n",
    "    print(\"Creating a new compute target...\")\n",
    "    compute_config = AmlCompute.provisioning_configuration(\n",
    "        vm_size = 'Standard_NC6', \n",
    "        max_nodes = 4\n",
    "    )\n",
    "    compute_target = ComputeTarget.create(workspace, cluster_name, compute_config)\n",
    "    compute_target.wait_for_completion(show_output = True, min_node_count = None, timeout_in_minutes = 20)\n",
    "    \n",
    "compute_target"
   ]
  },
  {
   "cell_type": "code",
   "execution_count": null,
   "metadata": {},
   "outputs": [],
   "source": [
    "dataset = ws.datasets[DATA_CONFIG.NAME]\n",
    "dataset"
   ]
  },
  {
   "cell_type": "code",
   "execution_count": null,
   "metadata": {},
   "outputs": [],
   "source": [
    "from azureml.core.runconfig import MpiConfiguration\n",
    "from azureml.train.dnn import TensorFlow\n",
    "TensorFlow.get_supported_versions()"
   ]
  },
  {
   "cell_type": "code",
   "execution_count": null,
   "metadata": {},
   "outputs": [],
   "source": [
    "#parameters used in the evaluation\n",
    "script_params = {f\"--MODEL_{k}\": v for k, v in MODEL_CONFIG.items()}\n",
    "script_params.update({f\"--EVAL_{k}\": v for k, v in EVAL_CONFIG.items()})\n",
    "script_params.update({f\"--DATA_{k}\": v for k, v in DATA_CONFIG.items()})\n",
    "script_params.update({f\"--RESULT_{k}\": v for k, v in RESULT_CONFIG.items()})\n",
    "script_params"
   ]
  },
  {
   "cell_type": "code",
   "execution_count": 22,
   "metadata": {},
   "outputs": [],
   "source": [
    "start = time.time()"
   ]
  },
  {
   "cell_type": "code",
   "execution_count": null,
   "metadata": {},
   "outputs": [],
   "source": [
    "tags= {}\n",
    "# Specify pip packages here.\n",
    "pip_packages = [\n",
    "    \"azureml-dataprep[fuse,pandas]\",\n",
    "    \"glob2\",\n",
    "    \"opencv-python==4.1.2.30\",\n",
    "    \"matplotlib\",\n",
    "]\n",
    "\n",
    "# Create the estimator.\n",
    "estimator = TensorFlow(\n",
    "    source_directory=temp_path,\n",
    "    compute_target=compute_target,\n",
    "    entry_script=\"evaluate.py\",\n",
    "    use_gpu=True,\n",
    "    framework_version=\"2.2\",\n",
    "    inputs=[dataset.as_named_input(\"dataset\").as_mount()],\n",
    "    pip_packages=pip_packages,\n",
    "    script_params=script_params\n",
    ")\n",
    "\n",
    "# Set compute target.\n",
    "estimator.run_config.target = compute_target\n",
    "\n",
    "# Run the experiment.\n",
    "run = experiment.submit(estimator, tags=tags)\n",
    "\n",
    "# Show run.\n",
    "run"
   ]
  },
  {
   "cell_type": "code",
   "execution_count": null,
   "metadata": {},
   "outputs": [],
   "source": [
    "#Check the logs of the current run until is complete\n",
    "run.wait_for_completion(show_output=True)"
   ]
  },
  {
   "cell_type": "code",
   "execution_count": null,
   "metadata": {},
   "outputs": [],
   "source": [
    "#Print Completed when run is completed\n",
    "print(run.get_status())"
   ]
  },
  {
   "cell_type": "code",
   "execution_count": 23,
   "metadata": {},
   "outputs": [
    {
     "output_type": "stream",
     "name": "stdout",
     "text": [
      "Total time for evaluation experiment: 5.018014669418335\n"
     ]
    }
   ],
   "source": [
    "end = time.time()\n",
    "print(\"Total time for evaluation experiment: {} sec\".format(end-start))"
   ]
  },
  {
   "cell_type": "code",
   "execution_count": null,
   "metadata": {},
   "outputs": [],
   "source": [
    "#Download the evaluation results of the model \n",
    "GET_CSV_FROM_EXPERIMENT_PATH = '.'\n",
    "run.download_file(RESULT_CONFIG.SAVE_PATH, GET_CSV_FROM_EXPERIMENT_PATH)\n",
    "print(\"Downloaded the result.csv\")"
   ]
  },
  {
   "cell_type": "code",
   "execution_count": null,
   "metadata": {},
   "outputs": [],
   "source": [
    "#Display the evaluation results\n",
    "from IPython.display import display, HTML\n",
    "import pandas as pd\n",
    "\n",
    "result = pd.read_csv('result.csv')\n",
    "display(HTML(result.to_html()))"
   ]
  },
  {
   "cell_type": "code",
   "execution_count": null,
   "metadata": {},
   "outputs": [],
   "source": [
    "#Delete temp folder\n",
    "shutil.rmtree(temp_path)"
   ]
  },
  {
   "cell_type": "code",
   "execution_count": null,
   "metadata": {},
   "outputs": [],
   "source": []
  }
 ]
}