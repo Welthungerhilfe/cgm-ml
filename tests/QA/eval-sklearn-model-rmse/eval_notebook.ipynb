{
 "metadata": {
  "language_info": {
   "codemirror_mode": {
    "name": "ipython",
    "version": 3
   },
   "file_extension": ".py",
   "mimetype": "text/x-python",
   "name": "python",
   "nbconvert_exporter": "python",
   "pygments_lexer": "ipython3",
   "version": "3.6.9-final"
  },
  "orig_nbformat": 2,
  "kernelspec": {
   "name": "python36964bitazuremlpy366d6fc225ff3443caa96be346196c6812",
   "display_name": "Python 3.6.9 64-bit ('azureml_py36')"
  }
 },
 "nbformat": 4,
 "nbformat_minor": 2,
 "cells": [
  {
   "cell_type": "code",
   "execution_count": null,
   "metadata": {},
   "outputs": [],
   "source": [
    "from auth import get_auth"
   ]
  },
  {
   "cell_type": "code",
   "execution_count": null,
   "metadata": {
    "tags": []
   },
   "outputs": [],
   "source": [
    "from azureml.core import Workspace\n",
    "ws = Workspace.from_config(auth = get_auth())"
   ]
  },
  {
   "cell_type": "code",
   "execution_count": null,
   "metadata": {
    "tags": []
   },
   "outputs": [],
   "source": [
    "!ls"
   ]
  },
  {
   "cell_type": "code",
   "execution_count": null,
   "metadata": {
    "tags": []
   },
   "outputs": [],
   "source": [
    "from azureml.core import Experiment\n",
    "from azureml.core import Run\n",
    "\n",
    "from azureml.core.compute import ComputeTarget, AmlCompute\n",
    "from azureml.core.compute_target import ComputeTargetException\n",
    "\n",
    "#from azureml.core import Experiment\n",
    "experiment_name = \"My-first-Test-Experiment\"\n",
    "experiment = Experiment(workspace=ws, name=experiment_name)\n",
    "print(experiment)\n",
    "\n",
    "\n",
    "cluster_name = \"cpu-cluster\"\n",
    "\n",
    "try:\n",
    "    compute_target = ComputeTarget(workspace=ws, name=cluster_name)\n",
    "    print('Found existing compute target')\n",
    "except ComputeTargetException:\n",
    "    print('Creating a new compute target...')\n",
    "    compute_config = AmlCompute.provisioning_configuration(\n",
    "        vm_size='Standard_D2_v2',\n",
    "       max_nodes=1)\n",
    "    compute_target = ComputeTarget.create(ws, cluster_name, compute_config)\n",
    "    compute_target.wait_for_completion(show_output=True, min_node_count=None, timeout_in_minutes=20)\n",
    "    \n",
    "compute_target"
   ]
  },
  {
   "cell_type": "code",
   "execution_count": null,
   "metadata": {},
   "outputs": [],
   "source": [
    "from azureml.core import Dataset\n",
    "dataset = Dataset.get_by_name(ws, name='measure_table')"
   ]
  },
  {
   "cell_type": "code",
   "execution_count": null,
   "metadata": {
    "tags": []
   },
   "outputs": [],
   "source": [
    "import os\n",
    "import shutil\n",
    "\n",
    "temp_path = \"tmp_eval\"\n",
    "code_dir = \"src\"\n",
    "\n",
    "print(\"Creating temp folder...\")\n",
    "if os.path.exists(temp_path):\n",
    "    shutil.rmtree(temp_path)\n",
    "os.mkdir(temp_path)\n",
    "\n",
    "print(\"Copying files...\")\n",
    "shutil.copy(os.path.join(code_dir, \"model_alpha_1.0.pkl\"), temp_path)\n",
    "shutil.copy(os.path.join(code_dir, \"evaluation.py\"), temp_path)\n",
    "print(\"Done.\")"
   ]
  },
  {
   "cell_type": "code",
   "execution_count": null,
   "metadata": {
    "tags": []
   },
   "outputs": [],
   "source": [
    "from azureml.train.estimator import Estimator\n",
    "\n",
    "pip_packages = [\n",
    "    \"azureml-dataprep[fuse,pandas]\",\n",
    "    \"glob2\",\n",
    "    \"sklearn\",\n",
    "    \"joblib\"\n",
    "]\n",
    "\n",
    "# Create the estimator.\n",
    "estimator = Estimator(\n",
    "    source_directory=temp_path,\n",
    "    compute_target=compute_target,\n",
    "    entry_script=\"evaluation.py\",\n",
    "    inputs=[dataset.as_named_input(\"dataset\")],\n",
    "    pip_packages=pip_packages\n",
    ")\n",
    "\n",
    "# Set compute target.\n",
    "estimator.run_config.target = compute_target\n",
    "\n",
    "# Run the experiment.\n",
    "run = experiment.submit(estimator)\n",
    "\n",
    "# Show outpus.\n",
    "#from azureml.widgets import RunDetails\n",
    "#RunDetails(run).show()"
   ]
  },
  {
   "cell_type": "code",
   "execution_count": null,
   "metadata": {},
   "outputs": [],
   "source": [
    "run"
   ]
  },
  {
   "cell_type": "code",
   "execution_count": null,
   "metadata": {},
   "outputs": [],
   "source": [
    "run.wait_for_completion(show_output=True)"
   ]
  },
  {
   "cell_type": "code",
   "execution_count": null,
   "metadata": {},
   "outputs": [],
   "source": [
    "print(run.get_status())"
   ]
  },
  {
   "cell_type": "code",
   "execution_count": null,
   "metadata": {},
   "outputs": [],
   "source": [
    "#Delete temp folder\n",
    "shutil.rmtree(temp_path)"
   ]
  },
  {
   "cell_type": "code",
   "execution_count": null,
   "metadata": {},
   "outputs": [],
   "source": [
    "#run.get_details_with_logs()"
   ]
  }
 ]
}