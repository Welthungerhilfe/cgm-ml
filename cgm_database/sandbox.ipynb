{
 "cells": [
  {
   "cell_type": "code",
   "execution_count": 17,
   "metadata": {},
   "outputs": [],
   "source": [
    "import warnings\n",
    "warnings.filterwarnings(\"ignore\")\n",
    "import dbutils\n",
    "import time\n",
    "import pandas as pd\n",
    "from IPython.display import display\n",
    "last_check = 0"
   ]
  },
  {
   "cell_type": "code",
   "execution_count": 8,
   "metadata": {},
   "outputs": [
    {
     "name": "stdout",
     "output_type": "stream",
     "text": [
      "[('20190708-0919_2379-595height',)]\n"
     ]
    }
   ],
   "source": [
    "main_connector = dbutils.connect_to_main_database()\n",
    "sql_statement = \"SELECT DISTINCT(type) FROM artifact_quality WHERE type='20190708-0919_2379-595height';\"\n",
    "result = main_connector.execute(sql_statement, fetch_all=True)\n",
    "print(result)"
   ]
  },
  {
   "cell_type": "code",
   "execution_count": 52,
   "metadata": {},
   "outputs": [
    {
     "name": "stdout",
     "output_type": "stream",
     "text": [
      "132565 132565 PCDs in artifact_quality\n",
      "No change\n"
     ]
    }
   ],
   "source": [
    "main_connector = dbutils.connect_to_main_database()\n",
    "sql_statement = \"SELECT COUNT(*) FROM artifact_quality WHERE type='20190708-0919_2379-595height';\"\n",
    "result = main_connector.execute(sql_statement, fetch_one=True)[0]\n",
    "print(last_check, result, \"PCDs in artifact_quality\")\n",
    "\n",
    "if last_check != result:\n",
    "    print(\"Change\")\n",
    "else:\n",
    "    print(\"No change\")\n",
    "last_check = result"
   ]
  },
  {
   "cell_type": "code",
   "execution_count": 7,
   "metadata": {},
   "outputs": [
    {
     "name": "stdout",
     "output_type": "stream",
     "text": [
      "[(223249,)] entries in artifact_quality\n"
     ]
    }
   ],
   "source": [
    "main_connector = dbutils.connect_to_main_database()\n",
    "sql_statement = \"SELECT COUNT(*) FROM artifact WHERE type='pcd';\"\n",
    "result = main_connector.execute(sql_statement, fetch_all=True)\n",
    "print(result, \"PCDs in artifact\")"
   ]
  },
  {
   "cell_type": "markdown",
   "metadata": {},
   "source": [
    "# Scan level MAEs."
   ]
  },
  {
   "cell_type": "code",
   "execution_count": 5,
   "metadata": {},
   "outputs": [
    {
     "name": "stdout",
     "output_type": "stream",
     "text": [
      "Found 6859 qr-codes.\n"
     ]
    }
   ],
   "source": [
    "main_connector = dbutils.connect_to_main_database()\n",
    "\n",
    "sql_statement = \"\"\n",
    "sql_statement += \"SELECT COUNT(DISTINCT p.qr_code) FROM person p;\"\n",
    "\n",
    "result = main_connector.execute(sql_statement, fetch_one=True)[0]\n",
    "print(\"Found {} qr-codes.\".format(result))"
   ]
  },
  {
   "cell_type": "code",
   "execution_count": 9,
   "metadata": {},
   "outputs": [
    {
     "name": "stdout",
     "output_type": "stream",
     "text": [
      "0.22005844116210938\n",
      "Found 7028 scans\n"
     ]
    }
   ],
   "source": [
    "# Select all QR-code-create-date pairs. Those are scans.\n",
    "sql_statement = \"\"\n",
    "sql_statement += \"SELECT DISTINCT p.qr_code, m.timestamp, m.id as measure_id\"\n",
    "sql_statement += \" FROM measure m\"\n",
    "sql_statement += \" INNER JOIN person p on m.person_id=p.id\"\n",
    "sql_statement += \" WHERE m.type='manual'\"\n",
    "sql_statement += \";\"\n",
    "\n",
    "start = time.time()\n",
    "scans = main_connector.execute(sql_statement, fetch_all=True)\n",
    "end = time.time()\n",
    "print(end - start)\n",
    "\n",
    "print(\"Found {} manual scans\".format(len(scans)))\n",
    "#print(scans[200:300])"
   ]
  },
  {
   "cell_type": "code",
   "execution_count": 50,
   "metadata": {},
   "outputs": [
    {
     "name": "stdout",
     "output_type": "stream",
     "text": [
      "MH_WHH_0077 1538717985089\n",
      "9.917351961135864\n",
      "9.407123565673828\n"
     ]
    }
   ],
   "source": [
    "model = \"20190708-0919_2379-595height\"\n",
    "\n",
    "for scan in scans[200:201]:\n",
    "    qr_code = pair[0]\n",
    "    create_date = pair[1]\n",
    "    print(qr_code, create_date)\n",
    "    \n",
    "    sql_statement = \"\"\n",
    "    sql_statement += \"SELECT SUM(aq.value) \"\n",
    "    sql_statement += \" FROM artifact_quality aq\"\n",
    "    sql_statement += \" INNER JOIN artifact a ON a.id = aq.artifact_id\"\n",
    "    sql_statement += \" WHERE aq.key='mae'\"\n",
    "    sql_statement += \" AND aq.type='{}'\".format(model)\n",
    "    sql_statement += \" AND a.qr_code='{}'\".format(qr_code)\n",
    "    sql_statement += \" AND a.create_date='{}'\".format(create_date)\n",
    "    sql_statement += \";\"\n",
    "\n",
    "    start = time.time()\n",
    "    result = main_connector.execute(sql_statement, fetch_all=True)\n",
    "    end = time.time()\n",
    "    print(end - start)"
   ]
  },
  {
   "cell_type": "code",
   "execution_count": 51,
   "metadata": {},
   "outputs": [
    {
     "data": {
      "text/plain": [
       "18.602777777777778"
      ]
     },
     "execution_count": 51,
     "metadata": {},
     "output_type": "execute_result"
    }
   ],
   "source": [
    "6697 * 10 / (60 * 60)"
   ]
  },
  {
   "cell_type": "code",
   "execution_count": 25,
   "metadata": {},
   "outputs": [
    {
     "name": "stdout",
     "output_type": "stream",
     "text": [
      "('MH_WHH_0187',)\n",
      "(1537851618537,)\n",
      "11.59768009185791\n"
     ]
    }
   ],
   "source": [
    "print(qr_codes[0])\n",
    "for qr_code in qr_codes[0:10]:\n",
    "    qr_code = qr_code[0]\n",
    "    \n",
    "    # Get all create dates for that qr-code.\n",
    "    sql_statement = \"\"\n",
    "    sql_statement += \"SELECT DISTINCT(a.create_date) FROM artifact a\"\n",
    "    sql_statement += \" WHERE a.qr_code='{}'\".format(qr_code)\n",
    "    sql_statement += \";\"\n",
    "    \n",
    "    start = time.time()\n",
    "    create_dates = main_connector.execute(sql_statement, fetch_all=True)\n",
    "    for create_date in create_dates:\n",
    "        create_date = create_dates[0]\n",
    "        print(r)\n",
    "    end = time.time()\n",
    "    print(end - start)\n",
    "    break\n",
    "    "
   ]
  },
  {
   "cell_type": "code",
   "execution_count": 22,
   "metadata": {},
   "outputs": [
    {
     "name": "stdout",
     "output_type": "stream",
     "text": [
      "SELECT a.qr_code, a.create_date, AVG(aq.value) FROM artifact_quality aq INNER JOIN artifact a ON a.id = aq.artifact_id WHERE aq.key='mae' AND aq.type='20190708-0919_2379-595height' GROUP BY a.qr_code, a.create_date;\n",
      "5.318471670150757\n",
      "4063 results\n",
      "('MH_WHH_0001', 1536913319075, 8.64329643249512)\n",
      "('MH_WHH_0002', 1536910804577, 0.409949730182516)\n",
      "('MH_WHH_0003', 1536913710517, 15.8390997524919)\n",
      "('MH_WHH_0007', 1537269381827, 9.00559854507446)\n",
      "('MH_WHH_0007', 1537269534213, 9.87686772500315)\n",
      "('MH_WHH_0010', 1537166990387, 10.1984226829127)\n",
      "('MH_WHH_0010', 1537167038624, 9.68606387867647)\n",
      "('MH_WHH_0011', 1537174095389, 1.1296624077691)\n",
      "('MH_WHH_0012', 1536921402623, 8.35233191287879)\n",
      "('MH_WHH_0013', 1537346511739, 5.59329244252798)\n"
     ]
    },
    {
     "data": {
      "text/html": [
       "<div>\n",
       "<style scoped>\n",
       "    .dataframe tbody tr th:only-of-type {\n",
       "        vertical-align: middle;\n",
       "    }\n",
       "\n",
       "    .dataframe tbody tr th {\n",
       "        vertical-align: top;\n",
       "    }\n",
       "\n",
       "    .dataframe thead th {\n",
       "        text-align: right;\n",
       "    }\n",
       "</style>\n",
       "<table border=\"1\" class=\"dataframe\">\n",
       "  <thead>\n",
       "    <tr style=\"text-align: right;\">\n",
       "      <th></th>\n",
       "      <th>QR-Code</th>\n",
       "      <th>Timestamp</th>\n",
       "      <th>MAE</th>\n",
       "    </tr>\n",
       "  </thead>\n",
       "  <tbody>\n",
       "    <tr>\n",
       "      <th>0</th>\n",
       "      <td>MH_WHH_0001</td>\n",
       "      <td>1536913319075</td>\n",
       "      <td>8.643296</td>\n",
       "    </tr>\n",
       "    <tr>\n",
       "      <th>1</th>\n",
       "      <td>MH_WHH_0002</td>\n",
       "      <td>1536910804577</td>\n",
       "      <td>0.409950</td>\n",
       "    </tr>\n",
       "    <tr>\n",
       "      <th>2</th>\n",
       "      <td>MH_WHH_0003</td>\n",
       "      <td>1536913710517</td>\n",
       "      <td>15.839100</td>\n",
       "    </tr>\n",
       "    <tr>\n",
       "      <th>3</th>\n",
       "      <td>MH_WHH_0007</td>\n",
       "      <td>1537269381827</td>\n",
       "      <td>9.005599</td>\n",
       "    </tr>\n",
       "    <tr>\n",
       "      <th>4</th>\n",
       "      <td>MH_WHH_0007</td>\n",
       "      <td>1537269534213</td>\n",
       "      <td>9.876868</td>\n",
       "    </tr>\n",
       "    <tr>\n",
       "      <th>5</th>\n",
       "      <td>MH_WHH_0010</td>\n",
       "      <td>1537166990387</td>\n",
       "      <td>10.198423</td>\n",
       "    </tr>\n",
       "    <tr>\n",
       "      <th>6</th>\n",
       "      <td>MH_WHH_0010</td>\n",
       "      <td>1537167038624</td>\n",
       "      <td>9.686064</td>\n",
       "    </tr>\n",
       "    <tr>\n",
       "      <th>7</th>\n",
       "      <td>MH_WHH_0011</td>\n",
       "      <td>1537174095389</td>\n",
       "      <td>1.129662</td>\n",
       "    </tr>\n",
       "    <tr>\n",
       "      <th>8</th>\n",
       "      <td>MH_WHH_0012</td>\n",
       "      <td>1536921402623</td>\n",
       "      <td>8.352332</td>\n",
       "    </tr>\n",
       "    <tr>\n",
       "      <th>9</th>\n",
       "      <td>MH_WHH_0013</td>\n",
       "      <td>1537346511739</td>\n",
       "      <td>5.593292</td>\n",
       "    </tr>\n",
       "  </tbody>\n",
       "</table>\n",
       "</div>"
      ],
      "text/plain": [
       "       QR-Code      Timestamp        MAE\n",
       "0  MH_WHH_0001  1536913319075   8.643296\n",
       "1  MH_WHH_0002  1536910804577   0.409950\n",
       "2  MH_WHH_0003  1536913710517  15.839100\n",
       "3  MH_WHH_0007  1537269381827   9.005599\n",
       "4  MH_WHH_0007  1537269534213   9.876868\n",
       "5  MH_WHH_0010  1537166990387  10.198423\n",
       "6  MH_WHH_0010  1537167038624   9.686064\n",
       "7  MH_WHH_0011  1537174095389   1.129662\n",
       "8  MH_WHH_0012  1536921402623   8.352332\n",
       "9  MH_WHH_0013  1537346511739   5.593292"
      ]
     },
     "metadata": {},
     "output_type": "display_data"
    }
   ],
   "source": [
    "#SELECT a.qr_code, AVG(aq.value) \n",
    "#FROM artifact_quality as aq\n",
    "#INNER JOIN artifact as a\n",
    "#  ON a.artifact_id = aq.artifact_id\n",
    "#WHERE aq.key='mae'\n",
    "#AND aq.type='20190708-0919_2379-595height'\n",
    "#GROUP BY a.qr_code, a.create_date;\n",
    "\n",
    "#main_connector = dbutils.connect_to_main_database()\n",
    "\n",
    "model_name = \"20190708-0919_2379-595height\"\n",
    "\n",
    "sql_statement = \"\"\n",
    "sql_statement += \"SELECT a.qr_code, a.create_date, AVG(aq.value) FROM artifact_quality aq\"\n",
    "sql_statement += \" INNER JOIN artifact a ON a.id = aq.artifact_id\"\n",
    "sql_statement += \" WHERE aq.key='mae'\"\n",
    "sql_statement += \" AND aq.type='{}'\".format(model_name)\n",
    "sql_statement += \" GROUP BY a.qr_code, a.create_date\"\n",
    "sql_statement += \";\"\n",
    "\n",
    "print(sql_statement)\n",
    "\n",
    "start = time.time()\n",
    "result = main_connector.execute(sql_statement, fetch_all=True)\n",
    "end = time.time()\n",
    "print(end - start)\n",
    "\n",
    "\n",
    "print(len(result), \"results\")\n",
    "\n",
    "#last_check = len(result)\n",
    "rows = []\n",
    "for r in result[0:10]:\n",
    "    qr_code = r[0]\n",
    "    create_date = r[1]\n",
    "    mae = r[2]\n",
    "    row = (qr_code, create_date, mae)\n",
    "    print(row)\n",
    "    rows.append(row)\n",
    "    \n",
    "columns = [\"QR-Code\", \"Timestamp\", \"MAE\"]\n",
    "\n",
    "df = pd.DataFrame(rows, columns=columns)\n",
    "display(df)"
   ]
  },
  {
   "cell_type": "code",
   "execution_count": null,
   "metadata": {},
   "outputs": [],
   "source": [
    "\n",
    "sql_statement = \"SELECT * FROM artifacts_with_targets WHERE type='pcd';\"\n",
    "result = main_connector.execute(sql_statement, fetch_all=True)\n",
    "print(len(result), result[0:2])"
   ]
  },
  {
   "cell_type": "code",
   "execution_count": null,
   "metadata": {},
   "outputs": [],
   "source": [
    "sql_statement = \"SELECT COUNT(*) FROM artifact_quality WHERE key='number_of_points';\"\n",
    "result = main_connector.execute(sql_statement, fetch_all=True)\n",
    "print(len(result), result[0:2])"
   ]
  },
  {
   "cell_type": "code",
   "execution_count": null,
   "metadata": {},
   "outputs": [],
   "source": [
    "sql_statement = \"SELECT COUNT(*) FROM artifact_quality;\"\n",
    "result = main_connector.execute(sql_statement, fetch_all=True)\n",
    "print(result)"
   ]
  },
  {
   "cell_type": "code",
   "execution_count": null,
   "metadata": {},
   "outputs": [],
   "source": [
    "sql_statement = \"SELECT COUNT(*) FROM artifact WHERE path LIKE '%scantimestamp%';\"\n",
    "result = main_connector.execute(sql_statement, fetch_all=True)[0][0]\n",
    "print(result)\n",
    "\n",
    "sql_statement = \"SELECT COUNT(*) FROM artifact WHERE path LIKE '% %';\"\n",
    "print(sql_statement)\n",
    "result = main_connector.execute(sql_statement, fetch_all=True)[0][0]\n",
    "print(result)\n",
    "\n",
    "sql_statement = \"SELECT COUNT(*) FROM artifact WHERE path NOT LIKE '%scantimestamp%';\"\n",
    "result = main_connector.execute(sql_statement, fetch_all=True)[0][0]\n",
    "print(result)\n",
    "\n"
   ]
  },
  {
   "cell_type": "code",
   "execution_count": null,
   "metadata": {},
   "outputs": [],
   "source": [
    "sql_statement = \"SELECT id, tango_timestamp FROM artifact WHERE tango_timestamp = ROUND(tango_timestamp) AND type='pcd';\"\n",
    "result = main_connector.execute(sql_statement, fetch_all=True)\n",
    "print(len(result), result[0:2])\n",
    "\n",
    "sql_statement = \"SELECT id, tango_timestamp FROM artifact WHERE tango_timestamp != ROUND(tango_timestamp) AND type='pcd';\"\n",
    "result = main_connector.execute(sql_statement, fetch_all=True)\n",
    "print(len(result), result[0:2])\n",
    "\n",
    "#for r in result[0:10]:\n",
    "#    print(r[0], r[1])"
   ]
  },
  {
   "cell_type": "code",
   "execution_count": null,
   "metadata": {},
   "outputs": [],
   "source": [
    "sql_statement = \"SELECT id, tango_timestamp FROM artifact;\"\n",
    "result = main_connector.execute(sql_statement, fetch_all=True)\n",
    "result = result[:100]\n",
    "print(result[0:2])\n",
    "for r in result:\n",
    "    print(r[0], r[1])"
   ]
  },
  {
   "cell_type": "code",
   "execution_count": null,
   "metadata": {},
   "outputs": [],
   "source": [
    "sql_statement = \"SELECT COUNT(*) FROM artifact_quality WHERE key='confidence_avg';\"\n",
    "result = main_connector.execute(sql_statement, fetch_all=True)[0][0]\n",
    "print(result, \"artifact quality KPIs\")\n",
    "\n",
    "sql_statement = \"SELECT MIN(value) FROM artifact_quality WHERE key='number_of_points';\"\n",
    "result = main_connector.execute(sql_statement, fetch_all=True)[0][0]\n",
    "print(result, \"artifact quality KPIs\")"
   ]
  },
  {
   "cell_type": "code",
   "execution_count": null,
   "metadata": {},
   "outputs": [],
   "source": [
    "main_connector = dbutils.connect_to_main_database()\n",
    "\n",
    "sql_statement = \"SELECT COUNT(*) FROM artifact_quality;\"\n",
    "result = main_connector.execute(sql_statement, fetch_all=True)[0][0]\n",
    "print(result, \"entries in artifact_quality\")\n",
    "\n",
    "sql_statement = \"SELECT COUNT(*) FROM artifact_quality WHERE value=0.0;\"\n",
    "result = main_connector.execute(sql_statement, fetch_all=True)[0][0]\n",
    "print(result, \"entries in artifact_quality where value is 0.0\")\n",
    "\n",
    "sql_statement = \"SELECT COUNT(*) FROM artifact_quality WHERE key='confidence_avg';\"\n",
    "result = main_connector.execute(sql_statement, fetch_all=True)[0][0]\n",
    "print(result, \"entries in artifact_quality with key confidence_avg\")\n",
    "\n",
    "sql_statement = \"SELECT COUNT(*) FROM artifact_quality WHERE key='number_of_points';\"\n",
    "result = main_connector.execute(sql_statement, fetch_all=True)[0][0]\n",
    "print(result, \"entries in artifact_quality with key number_of_points\")\n",
    "\n",
    "sql_statement = \"SELECT COUNT(DISTINCT(artifact_id)) FROM artifact_quality;\"\n",
    "result = main_connector.execute(sql_statement, fetch_all=True)[0][0]\n",
    "print(result, \"distinct artifact_ids in artifact_quality\")\n",
    "\n",
    "sql_statement = \"SELECT COUNT(*) FROM artifact WHERE type='pcd';\"\n",
    "result = main_connector.execute(sql_statement, fetch_all=True)[0][0]\n",
    "print(result, \"PCDs in artifacts\")\n",
    "\n",
    "sql_statement = \"SELECT COUNT(*) FROM artifacts_with_targets WHERE type='pcd';\"\n",
    "result = main_connector.execute(sql_statement, fetch_all=True)[0][0]\n",
    "print(result, \"PCDs in artifacts_with_targets\")"
   ]
  },
  {
   "cell_type": "code",
   "execution_count": null,
   "metadata": {},
   "outputs": [],
   "source": [
    "#sql_statement = \"DELETE FROM artifact_quality WHERE value=0.0;\"\n",
    "#result = main_connector.execute(sql_statement, fetch_all=True)[0][0]"
   ]
  },
  {
   "cell_type": "code",
   "execution_count": null,
   "metadata": {},
   "outputs": [],
   "source": [
    "sql_statement = \"SELECT COUNT(*) FROM artifacts_with_targets WHERE type='pcd';\"\n",
    "result = main_connector.execute(sql_statement, fetch_all=True)[0][0]\n",
    "print(result, \"PCDs in artifacts_with_targets\")"
   ]
  },
  {
   "cell_type": "code",
   "execution_count": null,
   "metadata": {},
   "outputs": [],
   "source": []
  }
 ],
 "metadata": {
  "kernelspec": {
   "display_name": "Python 3.5",
   "language": "python",
   "name": "python3"
  },
  "language_info": {
   "codemirror_mode": {
    "name": "ipython",
    "version": 3
   },
   "file_extension": ".py",
   "mimetype": "text/x-python",
   "name": "python",
   "nbconvert_exporter": "python",
   "pygments_lexer": "ipython3",
   "version": "3.5.5"
  }
 },
 "nbformat": 4,
 "nbformat_minor": 2
}
