{
  "cells": [
    {
      "cell_type": "code",
      "source": [
        "import os\n",
        "import sys, inspect\n",
        "import pandas as pd\n",
        "import time\n",
        "import glob\n",
        "import shutil\n",
        "import tempfile\n",
        "from azureml.core import Workspace, Experiment, Run\n",
        "\n",
        "#from auth import get_auth\n",
        "from src.config import EVAL_CONFIG, DATA_CONFIG, RESULT_CONFIG"
      ],
      "outputs": [],
      "execution_count": 33,
      "metadata": {
        "gather": {
          "logged": 1605281756890
        }
      }
    },
    {
      "cell_type": "code",
      "source": [
        "code_dir = \"src\"\n",
        "scrfiles = glob.glob(os.path.join(code_dir, \"*.py\"))\n",
        "scrfiles"
      ],
      "outputs": [
        {
          "output_type": "execute_result",
          "execution_count": 34,
          "data": {
            "text/plain": "['src/config.py',\n 'src/constants.py',\n 'src/evaluatepose.py',\n 'src/posepoints.py',\n 'src/utils.py']"
          },
          "metadata": {}
        }
      ],
      "execution_count": 34,
      "metadata": {
        "gather": {
          "logged": 1605282011218
        }
      }
    },
    {
      "cell_type": "code",
      "source": [
        "modelpath = os.path.join(DATA_CONFIG.POSEROOT_PATH, \n",
        "                DATA_CONFIG.POSETYPE_PATH,\n",
        "                DATA_CONFIG.MODELTYPE_PATH)\n",
        "\n",
        "print('modelpath ', modelpath)\n"
      ],
      "outputs": [
        {
          "output_type": "stream",
          "name": "stdout",
          "text": [
            "modelpath  pose/coco/pose_iter_440000.caffemodel\n"
          ]
        }
      ],
      "execution_count": 35,
      "metadata": {
        "gather": {
          "logged": 1605282014391
        },
        "nteract": {
          "transient": {
            "deleting": false
          }
        }
      }
    },
    {
      "cell_type": "code",
      "source": [
        "protopath = os.path.join(DATA_CONFIG.POSEROOT_PATH,\n",
        "                DATA_CONFIG.POSETYPE_PATH,\n",
        "                DATA_CONFIG.PROTOTXT_PATH)\n",
        "print('protopath ', protopath)\n"
      ],
      "outputs": [
        {
          "output_type": "stream",
          "name": "stdout",
          "text": [
            "protopath  pose/coco/deploy_coco.prototxt\n"
          ]
        }
      ],
      "execution_count": 36,
      "metadata": {
        "gather": {
          "logged": 1605280926658
        },
        "nteract": {
          "transient": {
            "deleting": false
          }
        }
      }
    },
    {
      "cell_type": "code",
      "source": [
        "#from os.path import basename\n",
        "cwd = os.getcwd()\n",
        "# parent directory \n",
        "parent = os.path.dirname(cwd) \n",
        "\n",
        "#print(\"Parent of parent directory\", parent2)\n",
        "#os.listdir(parent2)\n",
        "posepath = DATA_CONFIG.POSEROOT_PATH"
      ],
      "outputs": [],
      "execution_count": 37,
      "metadata": {
        "gather": {
          "logged": 1605282034137
        },
        "nteract": {
          "transient": {
            "deleting": false
          }
        }
      }
    },
    {
      "cell_type": "code",
      "source": [
        "def list_files(startdir, dirname):\n",
        "    filepaths = []\n",
        "    for root, dirs, files in os.walk(startdir, topdown=True):\n",
        "        if dirname in dirs:\n",
        "            #res.append(os.path.join(here, 'repository.config'))\n",
        "            for filename in os.listdir(os.path.join(startdir, dirname, DATA_CONFIG.POSETYPE_PATH)):\n",
        "                filepaths.append(os.path.join(startdir, dirname, DATA_CONFIG.POSETYPE_PATH, filename))\n",
        "\n",
        "    \n",
        "    return filepaths\n",
        "\n"
      ],
      "outputs": [],
      "execution_count": 38,
      "metadata": {
        "gather": {
          "logged": 1605282041680
        },
        "nteract": {
          "transient": {
            "deleting": false
          }
        }
      }
    },
    {
      "cell_type": "code",
      "source": [
        "modelfiles = list_files(parent, posepath)\n",
        "modelfiles\n"
      ],
      "outputs": [
        {
          "output_type": "execute_result",
          "execution_count": 39,
          "data": {
            "text/plain": "['/mnt/resource/batch/tasks/shared/LS_root/mounts/clusters/pankaja-compins/code/Users/pankaja_us/Pose-Estimation/pose/coco/deploy_coco.prototxt',\n '/mnt/resource/batch/tasks/shared/LS_root/mounts/clusters/pankaja-compins/code/Users/pankaja_us/Pose-Estimation/pose/coco/pose_iter_440000.caffemodel']"
          },
          "metadata": {}
        }
      ],
      "execution_count": 39,
      "metadata": {
        "gather": {
          "logged": 1605282045539
        },
        "nteract": {
          "transient": {
            "deleting": false
          }
        }
      }
    },
    {
      "cell_type": "code",
      "source": [
        "paths = scrfiles + modelfiles\n",
        "paths\n"
      ],
      "outputs": [
        {
          "output_type": "execute_result",
          "execution_count": 40,
          "data": {
            "text/plain": "['src/config.py',\n 'src/constants.py',\n 'src/evaluatepose.py',\n 'src/posepoints.py',\n 'src/utils.py',\n '/mnt/resource/batch/tasks/shared/LS_root/mounts/clusters/pankaja-compins/code/Users/pankaja_us/Pose-Estimation/pose/coco/deploy_coco.prototxt',\n '/mnt/resource/batch/tasks/shared/LS_root/mounts/clusters/pankaja-compins/code/Users/pankaja_us/Pose-Estimation/pose/coco/pose_iter_440000.caffemodel']"
          },
          "metadata": {}
        }
      ],
      "execution_count": 40,
      "metadata": {
        "gather": {
          "logged": 1605282069475
        },
        "nteract": {
          "transient": {
            "deleting": false
          }
        }
      }
    },
    {
      "cell_type": "code",
      "source": [
        "#create a temp folder and copy code, model and dataset"
      ],
      "outputs": [],
      "execution_count": 41,
      "metadata": {}
    },
    {
      "cell_type": "code",
      "source": [
        "print(\"Creating temp folder...\")\n",
        "temp_path = \"tmp_eval\"\n",
        "if os.path.exists(temp_path):\n",
        "    shutil.rmtree(temp_path)\n",
        "os.mkdir(temp_path)\n",
        "\n",
        "for p in paths:\n",
        "    shutil.copy(p, temp_path)\n",
        "print(\"Done.\")"
      ],
      "outputs": [
        {
          "output_type": "stream",
          "name": "stdout",
          "text": [
            "Creating temp folder...\n",
            "Done.\n"
          ]
        }
      ],
      "execution_count": 42,
      "metadata": {}
    },
    {
      "cell_type": "code",
      "source": [
        "#When run manually use below\n",
        "workspace = Workspace.from_config()\n",
        "#When run through pipeline use below\n",
        "#workspace = Workspace.from_config(auth = get_auth())"
      ],
      "outputs": [],
      "execution_count": 43,
      "metadata": {}
    },
    {
      "cell_type": "code",
      "source": [
        "#experimentname = 'anonrgbtrain_poseestimation_ps'\n",
        "experimentname = EVAL_CONFIG.NAME\n",
        "print('experimentname ', experimentname)\n",
        "experiment = Experiment(workspace = workspace, name = experimentname)\n"
      ],
      "outputs": [
        {
          "output_type": "stream",
          "name": "stdout",
          "text": [
            "experimentname  rgbtrain-poseest-95k-run_1\n"
          ]
        }
      ],
      "execution_count": 44,
      "metadata": {}
    },
    {
      "cell_type": "code",
      "source": [
        "#Find/create a compute target."
      ],
      "outputs": [],
      "execution_count": 45,
      "metadata": {}
    },
    {
      "cell_type": "code",
      "source": [
        "from azureml.core.compute import ComputeTarget, AmlCompute\n",
        "from azureml.core.compute_target import ComputeTargetException\n",
        "\n",
        "# Compute cluster exists. Just connect to it.\n",
        "cluster_name = \"gpu-cluster\"\n",
        "\n",
        "try:\n",
        "    compute_target = ComputeTarget(workspace = workspace, name = EVAL_CONFIG.CLUSTER_NAME)\n",
        "    print(\"Found existing compute target.\")\n",
        "\n",
        "# Compute cluster does not exist. Create one.    \n",
        "except ComputeTargetException:\n",
        "    print(\"Creating a new compute target...\")\n",
        "    compute_config = AmlCompute.provisioning_configuration(\n",
        "        vm_size = 'Standard_NC6', \n",
        "        max_nodes = 4\n",
        "    )\n",
        "    compute_target = ComputeTarget.create(workspace, cluster_name, compute_config)\n",
        "    compute_target.wait_for_completion(show_output = True, min_node_count = None, timeout_in_minutes = 20)\n",
        "    \n",
        "compute_target"
      ],
      "outputs": [
        {
          "output_type": "stream",
          "name": "stdout",
          "text": [
            "Found existing compute target.\n"
          ]
        },
        {
          "output_type": "execute_result",
          "execution_count": 46,
          "data": {
            "text/plain": "AmlCompute(workspace=Workspace.create(name='cgm-ml-prod-we-azml', subscription_id='9b5bbfae-d5d1-4aae-a2ca-75159c0c887d', resource_group='cgm-ml-prod-we-rg'), name=gpu-cluster, id=/subscriptions/9b5bbfae-d5d1-4aae-a2ca-75159c0c887d/resourceGroups/cgm-ml-prod-we-rg/providers/Microsoft.MachineLearningServices/workspaces/cgm-ml-prod-we-azml/computes/gpu-cluster, type=AmlCompute, provisioning_state=Succeeded, location=westeurope, tags=None)"
          },
          "metadata": {}
        }
      ],
      "execution_count": 46,
      "metadata": {}
    },
    {
      "cell_type": "code",
      "source": [
        "dataset = workspace.datasets[DATA_CONFIG.NAME]\n",
        "dataset"
      ],
      "outputs": [
        {
          "output_type": "execute_result",
          "execution_count": 47,
          "data": {
            "text/plain": "{\n  \"source\": [\n    \"('omdena_datasets', 'rgb_training/**')\"\n  ],\n  \"definition\": [\n    \"GetDatastoreFiles\"\n  ],\n  \"registration\": {\n    \"id\": \"286a707f-3920-4abb-8294-6e73edf3801d\",\n    \"name\": \"anon_rgb_training\",\n    \"version\": 1,\n    \"description\": \"An RGB dataset for training the models.\",\n    \"workspace\": \"Workspace.create(name='cgm-ml-prod-we-azml', subscription_id='9b5bbfae-d5d1-4aae-a2ca-75159c0c887d', resource_group='cgm-ml-prod-we-rg')\"\n  }\n}"
          },
          "metadata": {}
        }
      ],
      "execution_count": 47,
      "metadata": {}
    },
    {
      "cell_type": "code",
      "source": [
        "from azureml.core.runconfig import MpiConfiguration\n",
        "from azureml.train.dnn import TensorFlow\n",
        "TensorFlow.get_supported_versions()"
      ],
      "outputs": [
        {
          "output_type": "execute_result",
          "execution_count": 48,
          "data": {
            "text/plain": "['1.10', '1.12', '1.13', '2.0', '2.1', '2.2']"
          },
          "metadata": {}
        }
      ],
      "execution_count": 48,
      "metadata": {}
    },
    {
      "cell_type": "code",
      "source": [
        "#parameters used in the evaluation\n",
        "#script_params = {f\"--MODEL_{k}\": v for k, v in MODEL_CONFIG.items()}\n",
        "script_params = {f\"--EVAL_{k}\": v for k, v in EVAL_CONFIG.items()}\n",
        "script_params.update({f\"--DATA_{k}\": v for k, v in DATA_CONFIG.items()})\n",
        "script_params.update({f\"--RESULT_{k}\": v for k, v in RESULT_CONFIG.items()})\n",
        "script_params"
      ],
      "outputs": [
        {
          "output_type": "execute_result",
          "execution_count": 49,
          "data": {
            "text/plain": "{'--EVAL_NAME': 'rgbtrain-poseest-95k-run_1',\n '--EVAL_EXPERIMENT_NAME': 'anonrgbtrain_poseestimation_ps',\n '--EVAL_CLUSTER_NAME': 'gpu-cluster',\n '--EVAL_DEBUG_RUN': False,\n '--EVAL_DEBUG_NUMBER_OF_SCAN': 50,\n '--EVAL_SPLIT_SEED': 0,\n '--DATA_NAME': 'anon_rgb_training',\n '--DATA_IMAGE_TARGET_HEIGHT': 240,\n '--DATA_IMAGE_TARGET_WIDTH': 180,\n '--DATA_BATCH_SIZE': 256,\n '--DATA_NORMALIZATION_VALUE': 7.5,\n '--DATA_TARGET_INDEXES': [0],\n '--DATA_NUM_SCANFILES': 0,\n '--DATA_CODE_TO_SCANTYPE': {'100': '_front',\n  '101': '_360',\n  '102': '_back',\n  '200': '_lyingfront',\n  '201': '_lyingrot',\n  '202': '_lyingback'},\n '--DATA_POSEROOT_PATH': 'pose',\n '--DATA_POSETYPE_PATH': 'coco',\n '--DATA_PROTOTXT_PATH': 'deploy_coco.prototxt',\n '--DATA_MODELTYPE_PATH': 'pose_iter_440000.caffemodel',\n '--DATA_DATASETTYPE_PATH': 'COCO',\n '--RESULT_COLUMNS': ['artifact'],\n '--RESULT_SAVE_PATH': 'outputs/'}"
          },
          "metadata": {}
        }
      ],
      "execution_count": 49,
      "metadata": {}
    },
    {
      "cell_type": "code",
      "source": [
        "start = time.time()"
      ],
      "outputs": [],
      "execution_count": 50,
      "metadata": {}
    },
    {
      "cell_type": "code",
      "source": [
        "tags= {}\n",
        "# Specify pip packages here.\n",
        "pip_packages = [\n",
        "    \"azureml-dataprep[fuse,pandas]\",\n",
        "    \"glob2\",\n",
        "    \"opencv-python==4.1.2.30\",\n",
        "    \"matplotlib\",\n",
        "]\n",
        "\n",
        "# Create the estimator.\n",
        "estimator = TensorFlow(\n",
        "    source_directory=temp_path,\n",
        "    compute_target=compute_target,\n",
        "    entry_script=\"evaluatepose.py\",\n",
        "    use_gpu=True,\n",
        "    framework_version=\"2.2\",\n",
        "    inputs=[dataset.as_named_input(\"dataset\").as_mount()],\n",
        "    pip_packages=pip_packages,\n",
        "    script_params=script_params\n",
        ")\n",
        "\n",
        "# Set compute target.\n",
        "estimator.run_config.target = compute_target\n",
        "\n",
        "# Run the experiment.\n",
        "run = experiment.submit(estimator, tags=tags)\n",
        "\n",
        "# Show run.\n",
        "run"
      ],
      "outputs": [
        {
          "output_type": "stream",
          "name": "stderr",
          "text": [
            "WARNING - If 'script' has been provided here and a script file name has been specified in 'run_config', 'script' provided in ScriptRunConfig initialization will take precedence.\n",
            "WARNING - If 'arguments' has been provided here and arguments have been specified in 'run_config', 'arguments' provided in ScriptRunConfig initialization will take precedence.\n",
            "Submitting /mnt/resource/batch/tasks/shared/LS_root/mounts/clusters/pankaja-compins/code/Users/pankaja_us/Pose-Estimation/QA/tmp_eval directory for run. The size of the directory >= 25 MB, so it can take a few minutes.\n"
          ]
        },
        {
          "output_type": "execute_result",
          "execution_count": 51,
          "data": {
            "text/html": "<table style=\"width:100%\"><tr><th>Experiment</th><th>Id</th><th>Type</th><th>Status</th><th>Details Page</th><th>Docs Page</th></tr><tr><td>rgbtrain-poseest-95k-run_1</td><td>rgbtrain-poseest-95k-run_1_1605890365_2b6053c0</td><td>azureml.scriptrun</td><td>Starting</td><td><a href=\"https://ml.azure.com/experiments/rgbtrain-poseest-95k-run_1/runs/rgbtrain-poseest-95k-run_1_1605890365_2b6053c0?wsid=/subscriptions/9b5bbfae-d5d1-4aae-a2ca-75159c0c887d/resourcegroups/cgm-ml-prod-we-rg/workspaces/cgm-ml-prod-we-azml\" target=\"_blank\" rel=\"noopener\">Link to Azure Machine Learning studio</a></td><td><a href=\"https://docs.microsoft.com/en-us/python/api/azureml-core/azureml.core.script_run.ScriptRun?view=azure-ml-py\" target=\"_blank\" rel=\"noopener\">Link to Documentation</a></td></tr></table>",
            "text/plain": "Run(Experiment: rgbtrain-poseest-95k-run_1,\nId: rgbtrain-poseest-95k-run_1_1605890365_2b6053c0,\nType: azureml.scriptrun,\nStatus: Starting)"
          },
          "metadata": {}
        }
      ],
      "execution_count": 51,
      "metadata": {}
    },
    {
      "cell_type": "code",
      "source": [
        "#Check the logs of the current run until is complete\n",
        "run.wait_for_completion(show_output=True)"
      ],
      "outputs": [],
      "execution_count": null,
      "metadata": {}
    },
    {
      "cell_type": "code",
      "source": [
        "#Print Completed when run is completed\n",
        "print(run.get_status())"
      ],
      "outputs": [],
      "execution_count": null,
      "metadata": {}
    },
    {
      "cell_type": "code",
      "source": [
        "end = time.time()\n",
        "print(\"Total time for evaluation experiment: {} sec\".format(end-start))"
      ],
      "outputs": [],
      "execution_count": null,
      "metadata": {}
    },
    {
      "cell_type": "code",
      "source": [
        "#Download the evaluation results of the model \n",
        "GET_CSV_FROM_EXPERIMENT_PATH = '.'\n",
        "run.download_file(RESULT_CONFIG.SAVE_PATH, GET_CSV_FROM_EXPERIMENT_PATH)\n",
        "print(\"Downloaded the result.csv\")"
      ],
      "outputs": [],
      "execution_count": null,
      "metadata": {}
    },
    {
      "cell_type": "code",
      "source": [
        "#Display the evaluation results\n",
        "from IPython.display import display, HTML\n",
        "import pandas as pd\n",
        "\n",
        "result = pd.read_csv('result.csv')\n",
        "display(HTML(result.to_html()))"
      ],
      "outputs": [],
      "execution_count": null,
      "metadata": {}
    },
    {
      "cell_type": "code",
      "source": [
        "#Delete temp folder\n",
        "shutil.rmtree(temp_path)"
      ],
      "outputs": [],
      "execution_count": null,
      "metadata": {}
    },
    {
      "cell_type": "code",
      "source": [],
      "outputs": [],
      "execution_count": null,
      "metadata": {}
    }
  ],
  "metadata": {
    "kernel_info": {
      "name": "python3"
    },
    "kernelspec": {
      "name": "python3",
      "language": "python",
      "display_name": "Python 3"
    },
    "language_info": {
      "name": "python",
      "version": "3.6.9",
      "mimetype": "text/x-python",
      "codemirror_mode": {
        "name": "ipython",
        "version": 3
      },
      "pygments_lexer": "ipython3",
      "nbconvert_exporter": "python",
      "file_extension": ".py"
    },
    "nteract": {
      "version": "nteract-front-end@1.0.0"
    }
  },
  "nbformat": 4,
  "nbformat_minor": 4
}