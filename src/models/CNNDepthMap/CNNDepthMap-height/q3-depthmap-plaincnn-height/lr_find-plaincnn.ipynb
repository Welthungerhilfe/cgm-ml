{
 "cells": [
  {
   "cell_type": "code",
   "execution_count": 8,
   "metadata": {},
   "outputs": [],
   "source": [
    "import sys\n",
    "from pathlib import Path\n",
    "import os\n",
    "import pickle\n",
    "import random\n",
    "import shutil\n",
    "\n",
    "import glob2 as glob\n",
    "import tensorflow as tf\n",
    "from azureml.core import Experiment, Workspace\n",
    "from azureml.core.run import Run\n",
    "from tensorflow.keras import callbacks\n",
    "\n",
    "sys.path.append(str(Path(os.getcwd()) / 'src'))\n",
    "\n",
    "from config import CONFIG\n",
    "from constants import REPO_DIR\n",
    "from model import create_cnn\n",
    "\n",
    "sys.path.append(str(REPO_DIR / 'src/common'))\n",
    "\n",
    "from model_utils.preprocessing import preprocess_depthmap, preprocess_targets\n",
    "from model_utils.lr_finder import LRFinder"
   ]
  },
  {
   "cell_type": "code",
   "execution_count": 38,
   "metadata": {},
   "outputs": [
    {
     "name": "stdout",
     "output_type": "stream",
     "text": [
      "Running in offline mode...\n",
      "Accessing workspace...\n",
      "Accessing dataset...\n"
     ]
    }
   ],
   "source": [
    "# Make experiment reproducible\n",
    "tf.random.set_seed(CONFIG.SPLIT_SEED)\n",
    "random.seed(CONFIG.SPLIT_SEED)\n",
    "\n",
    "# Get the current run.\n",
    "run = Run.get_context()\n",
    "\n",
    "# Offline run. Download the sample dataset and run locally. Still push results to Azure.\n",
    "if(run.id.startswith(\"OfflineRun\")):\n",
    "    print(\"Running in offline mode...\")\n",
    "\n",
    "    # Access workspace.\n",
    "    print(\"Accessing workspace...\")\n",
    "    workspace = Workspace.from_config()\n",
    "    experiment = Experiment(workspace, \"training-junkyard\")\n",
    "    run = experiment.start_logging(outputs=None, snapshot_directory=None)\n",
    "\n",
    "    # Get dataset.\n",
    "    print(\"Accessing dataset...\")\n",
    "    dataset_name = CONFIG.DATASET_NAME  # DATASET_NAME_LOCAL\n",
    "    dataset_path = str(REPO_DIR / \"data\" / dataset_name)\n",
    "    if not os.path.exists(dataset_path):\n",
    "        dataset = workspace.datasets[dataset_name]\n",
    "        dataset.download(target_path=dataset_path, overwrite=False)\n",
    "\n",
    "# Online run. Use dataset provided by training notebook.\n",
    "else:\n",
    "    print(\"Running in online mode...\")\n",
    "    experiment = run.experiment\n",
    "    workspace = experiment.workspace\n",
    "    dataset_path = run.input_datasets[\"dataset\"]\n",
    "    \n",
    "dataset_path = os.path.join(dataset_path, \"qrcode\")"
   ]
  },
  {
   "cell_type": "code",
   "execution_count": 39,
   "metadata": {},
   "outputs": [
    {
     "name": "stdout",
     "output_type": "stream",
     "text": [
      "Dataset path: /Users/markus/Development/cgm/cgm-ml/data/anon-rgbd-5kscans-mini/qrcode\n",
      "Getting QR-code paths...\n",
      "qrcode_paths:  20\n"
     ]
    }
   ],
   "source": [
    "# Get the QR-code paths.\n",
    "\n",
    "print(\"Dataset path:\", dataset_path)\n",
    "#print(glob.glob(os.path.join(dataset_path, \"*\"))) # Debug\n",
    "print(\"Getting QR-code paths...\")\n",
    "qrcode_paths = glob.glob(os.path.join(dataset_path, \"*\"))\n",
    "print(\"qrcode_paths: \", len(qrcode_paths))\n",
    "assert len(qrcode_paths) != 0"
   ]
  },
  {
   "cell_type": "code",
   "execution_count": 40,
   "metadata": {},
   "outputs": [
    {
     "data": {
      "text/plain": [
       "'/Users/markus/Development/cgm/cgm-ml/data/anon-rgbd-5kscans-mini/qrcode'"
      ]
     },
     "execution_count": 40,
     "metadata": {},
     "output_type": "execute_result"
    }
   ],
   "source": [
    "dataset_path"
   ]
  },
  {
   "cell_type": "code",
   "execution_count": null,
   "metadata": {},
   "outputs": [],
   "source": []
  },
  {
   "cell_type": "code",
   "execution_count": 41,
   "metadata": {},
   "outputs": [
    {
     "name": "stdout",
     "output_type": "stream",
     "text": [
      "Paths for training:\n",
      "\t/Users/markus/Development/cgm/cgm-ml/data/anon-rgbd-5kscans-mini/qrcode/1614660905-03xm1qik7d\n",
      "\t/Users/markus/Development/cgm/cgm-ml/data/anon-rgbd-5kscans-mini/qrcode/1614660905-051i3zee74\n",
      "\t/Users/markus/Development/cgm/cgm-ml/data/anon-rgbd-5kscans-mini/qrcode/1614660905-04revvtw2h\n",
      "\t/Users/markus/Development/cgm/cgm-ml/data/anon-rgbd-5kscans-mini/qrcode/1614660905-02bnl1pu9y\n",
      "\t/Users/markus/Development/cgm/cgm-ml/data/anon-rgbd-5kscans-mini/qrcode/1614660905-03bjhiqu4f\n",
      "\t/Users/markus/Development/cgm/cgm-ml/data/anon-rgbd-5kscans-mini/qrcode/1614660905-09crmikqiv\n",
      "\t/Users/markus/Development/cgm/cgm-ml/data/anon-rgbd-5kscans-mini/qrcode/1614660905-0795lwc3dp\n",
      "\t/Users/markus/Development/cgm/cgm-ml/data/anon-rgbd-5kscans-mini/qrcode/1614660905-06xqb10fgz\n",
      "\t/Users/markus/Development/cgm/cgm-ml/data/anon-rgbd-5kscans-mini/qrcode/1614660905-00stuh94p5\n",
      "\t/Users/markus/Development/cgm/cgm-ml/data/anon-rgbd-5kscans-mini/qrcode/1614660905-00gy12lz6g\n",
      "\t/Users/markus/Development/cgm/cgm-ml/data/anon-rgbd-5kscans-mini/qrcode/1614660905-05f28jnai6\n",
      "\t/Users/markus/Development/cgm/cgm-ml/data/anon-rgbd-5kscans-mini/qrcode/1614660905-02v6z06p0y\n",
      "\t/Users/markus/Development/cgm/cgm-ml/data/anon-rgbd-5kscans-mini/qrcode/1614660905-00ct6eorup\n",
      "\t/Users/markus/Development/cgm/cgm-ml/data/anon-rgbd-5kscans-mini/qrcode/1614660905-07lhrndka2\n",
      "\t/Users/markus/Development/cgm/cgm-ml/data/anon-rgbd-5kscans-mini/qrcode/1614660905-07rgi99sbo\n",
      "\t/Users/markus/Development/cgm/cgm-ml/data/anon-rgbd-5kscans-mini/qrcode/1614660905-07qmtn9xvg\n",
      "16\n",
      "Getting depthmap paths...\n",
      "Using 729 files for training.\n"
     ]
    }
   ],
   "source": [
    "\n",
    "\n",
    "# Shuffle and split into train and validate.\n",
    "random.shuffle(qrcode_paths)\n",
    "split_index = int(len(qrcode_paths) * 0.8)\n",
    "qrcode_paths_training = qrcode_paths[:split_index]\n",
    "\n",
    "del qrcode_paths\n",
    "\n",
    "# Show split.\n",
    "print(\"Paths for training:\")\n",
    "print(\"\\t\" + \"\\n\\t\".join(qrcode_paths_training))\n",
    "print(len(qrcode_paths_training))\n",
    "\n",
    "assert len(qrcode_paths_training) > 0\n",
    "\n",
    "\n",
    "def get_depthmap_files(paths):\n",
    "    pickle_paths = []\n",
    "    for path in paths:\n",
    "        pickle_paths.extend(glob.glob(os.path.join(path, \"**\", \"*.p\")))\n",
    "    return pickle_paths\n",
    "\n",
    "\n",
    "# Get the pointclouds.\n",
    "print(\"Getting depthmap paths...\")\n",
    "paths_training = get_depthmap_files(qrcode_paths_training)\n",
    "\n",
    "del qrcode_paths_training\n",
    "\n",
    "print(\"Using {} files for training.\".format(len(paths_training)))\n",
    "\n",
    "# Function for loading and processing depthmaps.\n",
    "def tf_load_pickle(path, max_value):\n",
    "    def py_load_pickle(path, max_value):\n",
    "        rgbd, targets = pickle.load(open(path.numpy(), \"rb\"))\n",
    "        rgb = rgbd[0]  # shape: (240, 180, 3)\n",
    "        depthmap = rgbd[1]  # shape: (240, 180)\n",
    "\n",
    "        rgb = preprocess_depthmap(rgb)\n",
    "        rgb = rgb / 255.\n",
    "\n",
    "        depthmap = preprocess_depthmap(depthmap)\n",
    "        depthmap = depthmap / max_value\n",
    "        depthmap = tf.expand_dims(depthmap, -1)    # shape: (240, 180, 1)\n",
    "\n",
    "        rgbd = tf.concat([rgb, depthmap], axis=2)\n",
    "        rgbd = tf.image.resize(rgbd, (CONFIG.IMAGE_TARGET_HEIGHT, CONFIG.IMAGE_TARGET_WIDTH))\n",
    "        targets = preprocess_targets(targets, CONFIG.TARGET_INDEXES)\n",
    "        return rgbd, targets\n",
    "\n",
    "    rgbd, targets = tf.py_function(py_load_pickle, [path, max_value], [tf.float32, tf.float32])\n",
    "    rgbd.set_shape((CONFIG.IMAGE_TARGET_HEIGHT, CONFIG.IMAGE_TARGET_WIDTH, 4))\n",
    "    targets.set_shape((len(CONFIG.TARGET_INDEXES,)))\n",
    "    return rgbd, targets"
   ]
  },
  {
   "cell_type": "code",
   "execution_count": 42,
   "metadata": {},
   "outputs": [],
   "source": [
    "# def py_load_pickle(path, max_value):\n",
    "#     rgbd, targets = pickle.load(open(path.numpy(), \"rb\"))\n",
    "#     rgb = rgbd[0]  # shape: (240, 180, 3)\n",
    "#     depthmap = rgbd[1]  # shape: (240, 180)\n",
    "\n",
    "#     rgb = preprocess_depthmap(rgb)\n",
    "#     rgb = rgb / 255.\n",
    "\n",
    "#     depthmap = preprocess_depthmap(depthmap)\n",
    "#     depthmap = depthmap / max_value\n",
    "#     depthmap = tf.expand_dims(depthmap, -1)    # shape: (240, 180, 1)\n",
    "\n",
    "#     rgbd = tf.concat([rgb, depthmap], axis=2)\n",
    "#     rgbd = tf.image.resize(rgbd, (CONFIG.IMAGE_TARGET_HEIGHT, CONFIG.IMAGE_TARGET_WIDTH))\n",
    "#     targets = preprocess_targets(targets, CONFIG.TARGET_INDEXES)\n",
    "#     return rgbd, targets"
   ]
  },
  {
   "cell_type": "code",
   "execution_count": 43,
   "metadata": {},
   "outputs": [],
   "source": [
    "# aaa = '/Users/markus/Development/cgm/cgm-ml/data/anon-rgbd-5kscans/qrcode/1614660905-0b8q60a51i/102/1614660905-0b8q60a51i_1614798079500_102_1074.p'\n",
    "# bbb = py_load_pickle(tf.constant(aaa), CONFIG.NORMALIZATION_VALUE)"
   ]
  },
  {
   "cell_type": "code",
   "execution_count": 44,
   "metadata": {},
   "outputs": [],
   "source": [
    "# bbb[0].shape"
   ]
  },
  {
   "cell_type": "code",
   "execution_count": null,
   "metadata": {},
   "outputs": [],
   "source": []
  },
  {
   "cell_type": "code",
   "execution_count": null,
   "metadata": {},
   "outputs": [],
   "source": []
  },
  {
   "cell_type": "code",
   "execution_count": null,
   "metadata": {},
   "outputs": [],
   "source": []
  },
  {
   "cell_type": "code",
   "execution_count": 57,
   "metadata": {},
   "outputs": [],
   "source": [
    "# Create dataset for training.\n",
    "paths = paths_training\n",
    "dataset = tf.data.Dataset.from_tensor_slices(paths)\n",
    "dataset_norm = dataset.map(lambda path: tf_load_pickle(path, CONFIG.NORMALIZATION_VALUE))\n",
    "dataset_norm = dataset_norm.cache()\n",
    "dataset_norm = dataset_norm.prefetch(tf.data.experimental.AUTOTUNE)\n",
    "dataset_norm = dataset_norm.shuffle(CONFIG.SHUFFLE_BUFFER_SIZE)\n",
    "dataset_training = dataset_norm\n",
    "del dataset_norm\n",
    "\n",
    "# Create dataset for validation.\n",
    "# Note: No shuffle necessary.\n",
    "# paths = paths_validate\n",
    "# dataset = tf.data.Dataset.from_tensor_slices(paths)\n",
    "# dataset_norm = dataset.map(lambda path: tf_load_pickle(path, CONFIG.NORMALIZATION_VALUE))\n",
    "# dataset_norm = dataset_norm.cache()\n",
    "# dataset_norm = dataset_norm.prefetch(tf.data.experimental.AUTOTUNE)\n",
    "# dataset_validation = dataset_norm\n",
    "# del dataset_norm\n",
    "\n",
    "# Create dataset for activation\n",
    "# paths = paths_activate\n",
    "# dataset = tf.data.Dataset.from_tensor_slices(paths)\n",
    "# dataset_norm = dataset.map(lambda path: tf_load_pickle(path, CONFIG.NORMALIZATION_VALUE))\n",
    "# dataset_norm = dataset_norm.cache()\n",
    "# dataset_norm = dataset_norm.prefetch(tf.data.experimental.AUTOTUNE)\n",
    "# dataset_activation = dataset_norm\n",
    "# del dataset_norm\n",
    "\n",
    "# Note: Now the datasets are prepared.\n",
    "\n",
    "# Create the model.\n",
    "input_shape = (CONFIG.IMAGE_TARGET_HEIGHT, CONFIG.IMAGE_TARGET_WIDTH, 4)\n",
    "model = create_cnn(input_shape, dropout=False)"
   ]
  },
  {
   "cell_type": "code",
   "execution_count": 58,
   "metadata": {},
   "outputs": [],
   "source": [
    "model.compile(optimizer='adam', loss=\"mse\", metrics=[\"mae\"])"
   ]
  },
  {
   "cell_type": "markdown",
   "metadata": {},
   "source": [
    "# LR Find"
   ]
  },
  {
   "cell_type": "code",
   "execution_count": 59,
   "metadata": {},
   "outputs": [
    {
     "name": "stdout",
     "output_type": "stream",
     "text": [
      "Epoch 1/5\n",
      "46/46 - 66s - loss: 6888.2812 - mae: 82.0417\n",
      "Epoch 2/5\n",
      "46/46 - 65s - loss: 4495.5947 - mae: 61.3255\n",
      "Epoch 3/5\n",
      "46/46 - 67s - loss: 18564585472.0000 - mae: 22788.2598\n"
     ]
    },
    {
     "data": {
      "image/png": "[encoded data removed]",
      "text/plain": [
       "<Figure size 432x288 with 1 Axes>"
      ]
     },
     "metadata": {
      "needs_background": "light"
     },
     "output_type": "display_data"
    }
   ],
   "source": [
    "lr_finder = LRFinder(end_lr=0.02290) # otherwise plot looks unusable \n",
    "_ = model.fit(dataset_training.batch(CONFIG.BATCH_SIZE), epochs=5, callbacks=[lr_finder], verbose=2)\n",
    "lr_finder.plot()"
   ]
  },
  {
   "cell_type": "code",
   "execution_count": 62,
   "metadata": {},
   "outputs": [],
   "source": [
    "# LRFinder??"
   ]
  },
  {
   "cell_type": "code",
   "execution_count": 53,
   "metadata": {},
   "outputs": [],
   "source": [
    "import matplotlib.pyplot as plt"
   ]
  },
  {
   "cell_type": "code",
   "execution_count": 74,
   "metadata": {},
   "outputs": [
    {
     "data": {
      "image/png": "[encoded data removed]",
      "text/plain": [
       "<Figure size 432x288 with 1 Axes>"
      ]
     },
     "metadata": {
      "needs_background": "light"
     },
     "output_type": "display_data"
    }
   ],
   "source": [
    "plt.plot(lr_finder.losses)\n",
    "axes = plt.gca()\n",
    "# axes.set_xlim([xmin,xmax])\n",
    "axes.set_ylim([4000,9000])\n",
    "plt.show()"
   ]
  },
  {
   "cell_type": "code",
   "execution_count": 76,
   "metadata": {},
   "outputs": [
    {
     "data": {
      "text/plain": [
       "0.00023806544027216172"
      ]
     },
     "execution_count": 76,
     "metadata": {},
     "output_type": "execute_result"
    }
   ],
   "source": [
    "lr_finder.lrs[63]"
   ]
  },
  {
   "cell_type": "code",
   "execution_count": 60,
   "metadata": {},
   "outputs": [
    {
     "data": {
      "text/plain": [
       "[(1e-07, 7652.171875),\n",
       " (1.1313535783640731e-07, 7485.214638157895),\n",
       " (1.2799609192771928e-07, 7418.1771217712185),\n",
       " (1.448088366190421e-07, 7330.06915618639),\n",
       " (1.638299954876917e-07, 7282.348892006605),\n",
       " (1.8534965163837e-07, 7229.075983944257),\n",
       " (2.0969599162960424e-07, 7202.242986095384),\n",
       " (2.3724031049875554e-07, 7180.332668495122),\n",
       " (2.6840267421497083e-07, 7166.095573341915),\n",
       " (3.036583259155938e-07, 7150.634540222209),\n",
       " (3.435449336246511e-07, 7132.5063358434845),\n",
       " (3.88670789985097e-07, 7114.06792614524),\n",
       " (4.3972408905523066e-07, 7101.07913791293),\n",
       " (4.974834216455176e-07, 7087.6624037368065),\n",
       " (5.628296492554594e-07, 7071.3026371969245),\n",
       " (6.367593376945601e-07, 7059.232836530593),\n",
       " (7.203999552574779e-07, 7047.4749359678735),\n",
       " (8.15027067233866e-07, 7036.211982271838),\n",
       " (9.2208378897861e-07, 7028.1341039481595),\n",
       " (1.0432027942124536e-06, 7019.95479632005),\n",
       " (1.1802312141916593e-06, 7016.96241042662),\n",
       " (1.3352588074727082e-06, 7012.854668488665),\n",
       " (1.5106498298763937e-06, 7010.529425375278),\n",
       " (1.7090790906857367e-06, 7009.713551954471),\n",
       " (1.933572744954524e-06, 7008.532928306138),\n",
       " (2.1875544440315443e-06, 7005.562467424873),\n",
       " (2.4748975481213186e-06, 7001.26014322411),\n",
       " (2.799984197151525e-06, 6998.99471884359),\n",
       " (3.167772140810235e-06, 6993.62847636018),\n",
       " (3.5838703469476773e-06, 6990.622886246701),\n",
       " (4.0546245414121485e-06, 6984.223427627005),\n",
       " (4.587213983849424e-06, 6976.099275608405),\n",
       " (5.189760955349762e-06, 6968.46328392715),\n",
       " (5.871454627689105e-06, 6962.699821340245),\n",
       " (6.642691203238366e-06, 6957.7977078545155),\n",
       " (7.515232462751272e-06, 6954.874144170803),\n",
       " (8.502385138971499e-06, 6953.575187604329),\n",
       " (9.619203851604924e-06, 6950.191469620845),\n",
       " (1.0882720698526706e-05, 6947.854945542633),\n",
       " (1.2312205004614956e-05, 6944.873329286258),\n",
       " (1.3929457189523182e-05, 6940.987675443111),\n",
       " (1.5759141236036212e-05, 6937.490198363868),\n",
       " (1.7829160829334393e-05, 6933.171696310471),\n",
       " (2.017108490349603e-05, 6929.977899782842),\n",
       " (2.2820629085055775e-05, 6925.966140235257),\n",
       " (2.58182003758971e-05, 6922.167814729763),\n",
       " (2.9209513382191845e-05, 6960.433718021877),\n",
       " (3.3046287487216e-05, 6994.189302070372),\n",
       " (3.738703560030973e-05, 7026.919173706434),\n",
       " (4.2297956510835406e-05, 7039.1345475642265),\n",
       " (4.785394445602159e-05, 7022.205214311985),\n",
       " (5.413973129915564e-05, 7010.949276582439),\n",
       " (6.125117873696915e-05, 7000.514999796322),\n",
       " (6.929674024308748e-05, 6975.2645929043865),\n",
       " (7.839911504298271e-05, 6938.783166100016),\n",
       " (8.869711934445514e-05, 6888.386053736815),\n",
       " (0.00010034780336093459, 6816.4500063222185),\n",
       " (0.00011352884641336756, 6714.979744259867),\n",
       " (0.0001284412666373087, 6582.274074718925),\n",
       " (0.00014531248661973323, 6476.7080871268845),\n",
       " (0.00016439980171821674, 6351.42269028988),\n",
       " (0.00018599430395624863, 6210.573206537104),\n",
       " (0.00021042532133623698, 6065.25417708389),\n",
       " (0.00023806544027216172, 5925.359964094377),\n",
       " (0.00026933618773672873, 5797.770220713716),\n",
       " (0.00030471445977888585, 5689.595262115081),\n",
       " (0.000344739794450118, 5591.658883368414),\n",
       " (0.0003900226000556361, 5506.454477399779),\n",
       " (0.00044125346421580367, 5427.030346018126),\n",
       " (0.0004992136857060925, 5355.346653750645),\n",
       " (0.0005647871896919055, 5288.630420386492),\n",
       " (0.0006389740080721259, 5218.2310627098),\n",
       " (0.0007229055305140339, 5142.084942303698),\n",
       " (0.0008178617587662311, 5063.176040006421),\n",
       " (0.0009252908273873101, 4979.592696678082),\n",
       " (0.0010468310885920872, 4895.751162945304),\n",
       " (0.001184336098021416, 4811.124097794612),\n",
       " (0.001339902882482273, 4722.8126487827685),\n",
       " (0.001515903920756656, 4639.253995595615),\n",
       " (0.0017150233252041715, 4559.2170182005175),\n",
       " (0.001940297775947591, 4487.571585395646),\n",
       " (0.00219516283191016, 4425.258380109247),\n",
       " (0.002483505324973369, 4369.85582274094),\n",
       " (0.0028097226362948516, 4314.764443216189),\n",
       " (0.003178789758782718, 4299.503119920667),\n",
       " (0.0035963351684658975, 4292.709880518785),\n",
       " (0.004068726661840456, 4293.912504464034),\n",
       " (0.0046031684682585105, 4301.2408885361365),\n",
       " (0.0052078111183769355, 4313.224796440312),\n",
       " (0.005891875744219953, 4330.884912097059),\n",
       " (0.00666579470649973, 4351.146540485509),\n",
       " (0.007541370693838768, 4365.592250446267),\n",
       " (0.008531956720244444, 4492.2829320453375),\n",
       " (0.009652659765895955, 4635.622496305587),\n",
       " (0.010920571166877292, 4776.773968992119),\n",
       " (0.012355027267426147, 4920.253845542408),\n",
       " (0.01397790430978827, 4948.769441371255),\n",
       " (0.01581395205890956, 4991.628228824956),\n",
       " (0.017891171249925238, 5057.1005413299135),\n",
       " (0.02024124061472735, 5115.622217395755),\n",
       " (0.0229, 5118.390970047054),\n",
       " (0.025907996944537277, 5136.095125036267),\n",
       " (0.029311105051447725, 5109.4041875059565),\n",
       " (0.03316122358576065, 5097.565417910657),\n",
       " (0.037517068966681416, 5104.71621483691),\n",
       " (0.042445070225186746, 5126.456863130843),\n",
       " (0.04802038208317941, 5151.350262600599),\n",
       " (0.05432803110421506, 3298371.4692936605),\n",
       " (0.06146421239522838, 6068563.228829086),\n",
       " (0.06953775663467106, 8389535.801371694),\n",
       " (0.07867178980004517, 10863999.446503706),\n",
       " (0.08900561090658732, 12928993.592868606),\n",
       " (0.10069681639364796, 26451758.3332205),\n",
       " (0.11392370355682338, 3863314210.3959246),\n",
       " (0.12888798967950005, 7154605038.224397),\n",
       " (0.1458178883320541, 9963529201.191969),\n",
       " (0.16497158975396226, 12350582797.386793),\n",
       " (0.1866411983965551, 14368797766.913116),\n",
       " (0.21115718767610153, 16064698065.59879),\n",
       " (0.2388934398746517, 17479121914.561493),\n",
       " (0.27027294804988977, 18647933760.04824),\n",
       " (0.3057742669112501, 19602639431.6568),\n",
       " (0.34593881104169405, 20370922372.32162),\n",
       " (0.39137911176703355, 20977109448.223057),\n",
       " (0.44278815859458603, 21442578091.773804),\n",
       " (0.5009499676832236, 21786111873.753204),\n",
       " (0.566751538519782, 22024212324.53317),\n",
       " (0.6411963811476992, 22171371789.443947),\n",
       " (0.7254198202455437, 22240313058.350323),\n",
       " (0.8207063094510187, 22242200116.24006),\n",
       " (0.9285090199833825, 22186823517.298977),\n",
       " (1.0504720023015188, 22082763534.662792),\n",
       " (1.188455258775096, 21937533308.387043),\n",
       " (1.3445631097408057, 21757706039.90132),\n",
       " (1.521176285541587, 21549025985.165432),\n",
       " (1.7209882339700437, 21316507324.313023),\n",
       " (1.947046196824476, 21064520891.375126),\n",
       " (2.2027976820175303, 20814527228.267563)]"
      ]
     },
     "execution_count": 60,
     "metadata": {},
     "output_type": "execute_result"
    }
   ],
   "source": [
    "list(zip(lr_finder.lrs, lr_finder.losses))"
   ]
  },
  {
   "cell_type": "code",
   "execution_count": null,
   "metadata": {},
   "outputs": [],
   "source": [
    "len(dataset_training)"
   ]
  },
  {
   "cell_type": "code",
   "execution_count": 22,
   "metadata": {},
   "outputs": [
    {
     "name": "stdout",
     "output_type": "stream",
     "text": [
      "Model: \"sequential_1\"\n",
      "_________________________________________________________________\n",
      "Layer (type)                 Output Shape              Param #   \n",
      "=================================================================\n",
      "conv2d_12 (Conv2D)           (None, 240, 180, 32)      1184      \n",
      "_________________________________________________________________\n",
      "conv2d_13 (Conv2D)           (None, 240, 180, 32)      9248      \n",
      "_________________________________________________________________\n",
      "max_pooling2d_6 (MaxPooling2 (None, 120, 90, 32)       0         \n",
      "_________________________________________________________________\n",
      "dropout_8 (Dropout)          (None, 120, 90, 32)       0         \n",
      "_________________________________________________________________\n",
      "conv2d_14 (Conv2D)           (None, 120, 90, 64)       18496     \n",
      "_________________________________________________________________\n",
      "conv2d_15 (Conv2D)           (None, 120, 90, 64)       36928     \n",
      "_________________________________________________________________\n",
      "max_pooling2d_7 (MaxPooling2 (None, 60, 45, 64)        0         \n",
      "_________________________________________________________________\n",
      "dropout_9 (Dropout)          (None, 60, 45, 64)        0         \n",
      "_________________________________________________________________\n",
      "conv2d_16 (Conv2D)           (None, 60, 45, 128)       73856     \n",
      "_________________________________________________________________\n",
      "conv2d_17 (Conv2D)           (None, 60, 45, 128)       147584    \n",
      "_________________________________________________________________\n",
      "max_pooling2d_8 (MaxPooling2 (None, 30, 22, 128)       0         \n",
      "_________________________________________________________________\n",
      "dropout_10 (Dropout)         (None, 30, 22, 128)       0         \n",
      "_________________________________________________________________\n",
      "conv2d_18 (Conv2D)           (None, 30, 22, 128)       147584    \n",
      "_________________________________________________________________\n",
      "conv2d_19 (Conv2D)           (None, 30, 22, 128)       147584    \n",
      "_________________________________________________________________\n",
      "max_pooling2d_9 (MaxPooling2 (None, 15, 11, 128)       0         \n",
      "_________________________________________________________________\n",
      "dropout_11 (Dropout)         (None, 15, 11, 128)       0         \n",
      "_________________________________________________________________\n",
      "conv2d_20 (Conv2D)           (None, 15, 11, 256)       295168    \n",
      "_________________________________________________________________\n",
      "conv2d_21 (Conv2D)           (None, 15, 11, 256)       590080    \n",
      "_________________________________________________________________\n",
      "max_pooling2d_10 (MaxPooling (None, 7, 5, 256)         0         \n",
      "_________________________________________________________________\n",
      "dropout_12 (Dropout)         (None, 7, 5, 256)         0         \n",
      "_________________________________________________________________\n",
      "conv2d_22 (Conv2D)           (None, 7, 5, 256)         590080    \n",
      "_________________________________________________________________\n",
      "conv2d_23 (Conv2D)           (None, 7, 5, 256)         590080    \n",
      "_________________________________________________________________\n",
      "max_pooling2d_11 (MaxPooling (None, 3, 2, 256)         0         \n",
      "_________________________________________________________________\n",
      "dropout_13 (Dropout)         (None, 3, 2, 256)         0         \n",
      "_________________________________________________________________\n",
      "flatten_1 (Flatten)          (None, 1536)              0         \n",
      "_________________________________________________________________\n",
      "dense_3 (Dense)              (None, 1024)              1573888   \n",
      "_________________________________________________________________\n",
      "dropout_14 (Dropout)         (None, 1024)              0         \n",
      "_________________________________________________________________\n",
      "dense_4 (Dense)              (None, 128)               131200    \n",
      "_________________________________________________________________\n",
      "dropout_15 (Dropout)         (None, 128)               0         \n",
      "_________________________________________________________________\n",
      "dense_5 (Dense)              (None, 1)                 129       \n",
      "=================================================================\n",
      "Total params: 4,353,089\n",
      "Trainable params: 4,353,089\n",
      "Non-trainable params: 0\n",
      "_________________________________________________________________\n"
     ]
    }
   ],
   "source": [
    "model.summary()"
   ]
  },
  {
   "cell_type": "code",
   "execution_count": null,
   "metadata": {},
   "outputs": [],
   "source": []
  }
 ],
 "metadata": {
  "file_extension": ".py",
  "kernel_info": {
   "name": "python3"
  },
  "kernelspec": {
   "display_name": "Python 3.7.5 64-bit ('env_p_3': virtualenv)",
   "language": "python",
   "name": "python37564bitenvp3virtualenvba1e5b23cb4b48a69a71f222fe56e324"
  },
  "language_info": {
   "codemirror_mode": {
    "name": "ipython",
    "version": 3
   },
   "file_extension": ".py",
   "mimetype": "text/x-python",
   "name": "python",
   "nbconvert_exporter": "python",
   "pygments_lexer": "ipython3",
   "version": "3.7.5"
  },
  "mimetype": "text/x-python",
  "name": "python",
  "npconvert_exporter": "python",
  "nteract": {
   "version": "nteract-front-end@1.0.0"
  },
  "pygments_lexer": "ipython3",
  "version": 3
 },
 "nbformat": 4,
 "nbformat_minor": 4
}
