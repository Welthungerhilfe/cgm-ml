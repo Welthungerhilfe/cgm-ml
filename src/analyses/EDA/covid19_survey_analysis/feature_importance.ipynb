{
 "metadata": {
  "language_info": {
   "codemirror_mode": {
    "name": "ipython",
    "version": 3
   },
   "file_extension": ".py",
   "mimetype": "text/x-python",
   "name": "python",
   "nbconvert_exporter": "python",
   "pygments_lexer": "ipython3",
   "version": 3
  },
  "orig_nbformat": 2
 },
 "nbformat": 4,
 "nbformat_minor": 2,
 "cells": [
  {
   "cell_type": "code",
   "execution_count": null,
   "metadata": {},
   "outputs": [],
   "source": [
    "# Using SHAP to get the feature contirbution to target variable"
   ]
  },
  {
   "cell_type": "code",
   "execution_count": null,
   "metadata": {},
   "outputs": [],
   "source": [
    "# Import libraries\n",
    "import shap\n",
    "import pandas as pd \n",
    "from sklearn.datasets import load_boston\n",
    "from sklearn.ensemble import RandomForestRegressor\n",
    "from sklearn.model_selection import train_test_split, cross_val_score"
   ]
  },
  {
   "cell_type": "code",
   "execution_count": null,
   "metadata": {},
   "outputs": [],
   "source": [
    "from constants import (village_info_col,\n",
    "                        questionare_col,\n",
    "                        other_ques_col,\n",
    "                        option_ques,\n",
    "                        categorical_ques,\n",
    "                        regression_feat,\n",
    "                        categorical_feat,\n",
    "                        index_col,\n",
    "                        target_col)"
   ]
  },
  {
   "cell_type": "code",
   "execution_count": null,
   "metadata": {},
   "outputs": [],
   "source": [
    "### Load data into dataframe"
   ]
  },
  {
   "cell_type": "code",
   "execution_count": null,
   "metadata": {},
   "outputs": [],
   "source": [
    "fans_survey_data = 'covid19-data/Panchayat Survey-FaNS-MGSA(10.05.21).xlsx'\n",
    "dmks_survey_Dat = 'covid19-data/Panchayat Survey_ DMKS (10.05.21).xlsx'\n",
    "dmks_sheet_name = fans_sheet_name = 'Raw Data'"
   ]
  },
  {
   "cell_type": "code",
   "execution_count": null,
   "metadata": {},
   "outputs": [],
   "source": [
    "fans_df = pd.read_excel(fans_survey_data, sheet_name = fans_sheet_name)\n",
    "\n",
    "#fans_df = pd.read_excel(dmks_survey_Dat, sheet_name = dmks_sheet_name)\n",
    "print(len(fans_df))\n",
    "#fans_df.columns\n",
    "print(len(fans_df.Identifier.unique()))\n",
    "\n",
    "list_of_col = fans_df.columns\n",
    "list_of_col"
   ]
  },
  {
   "cell_type": "code",
   "execution_count": null,
   "metadata": {},
   "outputs": [],
   "source": [
    "### Data Cleaning and Data Preparation"
   ]
  },
  {
   "cell_type": "code",
   "execution_count": null,
   "metadata": {},
   "outputs": [],
   "source": [
    "# Filter by Repeat No. since data is missing for repeat no other than 1.\n",
    "fans_df = fans_df[fans_df[\"Repeat no\"] ==1]\n",
    "\n",
    "#Drop col other than regression_feat, categorical_feat, index_col\n",
    "query_df = fans_df[[index_col] + regression_feat + categorical_feat ]\n",
    "\n",
    "# Convert cols in option_ques from nan into 0\n",
    "for col in categorical_feat:\n",
    "    query_df[col] = query_df[col].fillna(0)\n",
    "    \n",
    "\n",
    "for col in query_df.columns[1:]:\n",
    "    print(col)\n",
    "    print(query_df[col].unique())\n",
    "    print('--------------------------')"
   ]
  },
  {
   "cell_type": "code",
   "execution_count": null,
   "metadata": {},
   "outputs": [],
   "source": [
    "### Data Transformation"
   ]
  },
  {
   "cell_type": "code",
   "execution_count": null,
   "metadata": {},
   "outputs": [],
   "source": [
    "# Transformation to feed into regressor\n",
    "answer_map = {'Yes': 1, 'No': 0, 1. : 1, 0.:0}\n",
    "\n",
    "for col in categorical_feat:\n",
    "    query_df[col] = query_df[col].map(answer_map)"
   ]
  },
  {
   "cell_type": "code",
   "execution_count": null,
   "metadata": {},
   "outputs": [],
   "source": [
    "for col in query_df.columns[1:]:\n",
    "    print(col)\n",
    "    print(query_df[col].unique())\n",
    "    print('--------------------------')"
   ]
  },
  {
   "cell_type": "code",
   "execution_count": null,
   "metadata": {},
   "outputs": [],
   "source": [
    "assert (len(query_df[[index_col]]) == len(query_df[index_col].unique()))"
   ]
  },
  {
   "cell_type": "code",
   "execution_count": null,
   "metadata": {},
   "outputs": [],
   "source": [
    "query_df.set_index(index_col, inplace=True)"
   ]
  },
  {
   "cell_type": "code",
   "execution_count": null,
   "metadata": {},
   "outputs": [],
   "source": [
    "X, y = query_df.drop([target_col], axis=1), query_df[target_col]"
   ]
  },
  {
   "cell_type": "code",
   "execution_count": null,
   "metadata": {},
   "outputs": [],
   "source": [
    "X.head(3)"
   ]
  },
  {
   "cell_type": "code",
   "execution_count": null,
   "metadata": {},
   "outputs": [],
   "source": [
    "y.head(3)"
   ]
  },
  {
   "cell_type": "code",
   "execution_count": null,
   "metadata": {},
   "outputs": [],
   "source": [
    "# Split the data\n",
    "Xtrain, Xtest, ytrain, ytest = train_test_split(X, y)"
   ]
  },
  {
   "cell_type": "code",
   "execution_count": null,
   "metadata": {},
   "outputs": [],
   "source": [
    "# Random Forest Mpdel\n",
    "rf_reg = RandomForestRegressor(n_estimators=100)\n",
    "rf_reg.fit(Xtrain, ytrain)"
   ]
  },
  {
   "cell_type": "code",
   "execution_count": null,
   "metadata": {},
   "outputs": [],
   "source": [
    "rf_train = rf_reg.score(Xtrain, ytrain)\n",
    "rf_cv = cross_val_score(rf_reg, Xtrain, ytrain, cv=5).mean()\n",
    "rf_test = rf_reg.score(Xtest, ytest)\n",
    "print('Evaluation of the Random Forest performance\\n')\n",
    "print(f'Training score: {rf_train.round(4)}')\n",
    "print(f'Cross validation score: {rf_cv.round(4)}')\n",
    "print(f'Test score: {rf_test.round(4)}')"
   ]
  },
  {
   "cell_type": "code",
   "execution_count": null,
   "metadata": {},
   "outputs": [],
   "source": [
    "### SHAP values"
   ]
  },
  {
   "cell_type": "code",
   "execution_count": null,
   "metadata": {},
   "outputs": [],
   "source": [
    "# Initialize JavaScript visualization\n",
    "shap.initjs()"
   ]
  },
  {
   "cell_type": "code",
   "execution_count": null,
   "metadata": {},
   "outputs": [],
   "source": [
    "# Create SHAP explainer\n",
    "explainer = shap.TreeExplainer(rf_reg)\n",
    "shap_values = explainer.shap_values(X)"
   ]
  },
  {
   "cell_type": "code",
   "execution_count": null,
   "metadata": {},
   "outputs": [],
   "source": [
    "# shap force plot for the first prediction\n",
    "shap.force_plot(explainer.expected_value, shap_values[0,:], X.iloc[0,:])"
   ]
  },
  {
   "cell_type": "code",
   "execution_count": null,
   "metadata": {},
   "outputs": [],
   "source": [
    "# SHAP values for all predictions\n",
    "shap.force_plot(explainer.expected_value, shap_values, X)"
   ]
  },
  {
   "cell_type": "code",
   "execution_count": null,
   "metadata": {},
   "outputs": [],
   "source": [
    "# Effect of a single feature on the shap value,and automatically selected other feature to show dependence \n",
    "shap.dependence_plot(\"Children (0-6 years)\", shap_values, X)"
   ]
  },
  {
   "cell_type": "code",
   "execution_count": null,
   "metadata": {},
   "outputs": [],
   "source": [
    "# See how every feaure contributes to the model output\n",
    "shap.summary_plot(shap_values, X)"
   ]
  },
  {
   "cell_type": "code",
   "execution_count": null,
   "metadata": {},
   "outputs": [],
   "source": [
    "shap.summary_plot(shap_values, X, plot_type=\"bar\")"
   ]
  },
  {
   "cell_type": "code",
   "execution_count": null,
   "metadata": {},
   "outputs": [],
   "source": []
  }
 ]
}