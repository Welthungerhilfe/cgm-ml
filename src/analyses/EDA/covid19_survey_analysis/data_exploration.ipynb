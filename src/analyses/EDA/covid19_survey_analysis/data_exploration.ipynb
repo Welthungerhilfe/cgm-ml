{
 "metadata": {
  "language_info": {
   "codemirror_mode": {
    "name": "ipython",
    "version": 3
   },
   "file_extension": ".py",
   "mimetype": "text/x-python",
   "name": "python",
   "nbconvert_exporter": "python",
   "pygments_lexer": "ipython3",
   "version": 3
  },
  "orig_nbformat": 2
 },
 "nbformat": 4,
 "nbformat_minor": 2,
 "cells": [
  {
   "cell_type": "code",
   "execution_count": null,
   "metadata": {},
   "outputs": [],
   "source": [
    "import pandas as pd "
   ]
  },
  {
   "cell_type": "code",
   "execution_count": null,
   "metadata": {},
   "outputs": [],
   "source": [
    "from constants import (village_info_col,\n",
    "                        questionare_col,\n",
    "                        other_ques_col,\n",
    "                        option_ques,\n",
    "                        categorical_ques,\n",
    "                        regression_feat,\n",
    "                        categorical_feat,\n",
    "                        index_col,\n",
    "                        target_col)"
   ]
  },
  {
   "cell_type": "code",
   "execution_count": null,
   "metadata": {},
   "outputs": [],
   "source": [
    "### Load data into dataframe"
   ]
  },
  {
   "cell_type": "code",
   "execution_count": null,
   "metadata": {},
   "outputs": [],
   "source": [
    "fans_survey_data = 'covid19-data/Panchayat Survey-FaNS-MGSA(10.05.21).xlsx'\n",
    "dmks_survey_Dat = 'covid19-data/Panchayat Survey_ DMKS (10.05.21).xlsx'\n",
    "dmks_sheet_name = fans_sheet_name = 'Raw Data'"
   ]
  },
  {
   "cell_type": "code",
   "execution_count": null,
   "metadata": {},
   "outputs": [],
   "source": [
    "fans_df = pd.read_excel(fans_survey_data, sheet_name = fans_sheet_name)\n",
    "print(len(fans_df))\n",
    "print(len(fans_df.Identifier.unique()))"
   ]
  },
  {
   "cell_type": "code",
   "execution_count": null,
   "metadata": {},
   "outputs": [],
   "source": [
    "list_of_col = fans_df.columns\n",
    "list_of_col"
   ]
  },
  {
   "cell_type": "code",
   "execution_count": null,
   "metadata": {},
   "outputs": [],
   "source": [
    "fans_df.head(10)"
   ]
  },
  {
   "cell_type": "code",
   "execution_count": null,
   "metadata": {},
   "outputs": [],
   "source": [
    "for col in option_ques:\n",
    "    print(col)\n",
    "    print(fans_df[col].unique())"
   ]
  },
  {
   "cell_type": "code",
   "execution_count": null,
   "metadata": {},
   "outputs": [],
   "source": [
    "for col in categorical_ques:\n",
    "    print(col)\n",
    "    print(fans_df[col].unique())"
   ]
  },
  {
   "cell_type": "code",
   "execution_count": null,
   "metadata": {},
   "outputs": [],
   "source": [
    "for col in village_info_col:\n",
    "    print(col)\n",
    "    print(fans_df[col].unique())"
   ]
  },
  {
   "cell_type": "code",
   "execution_count": null,
   "metadata": {},
   "outputs": [],
   "source": [
    "for col in questionare_col:\n",
    "    print(col)\n",
    "    print(fans_df[col].unique())"
   ]
  },
  {
   "cell_type": "code",
   "execution_count": null,
   "metadata": {},
   "outputs": [],
   "source": [
    "for col in other_ques_col:\n",
    "    print(col)\n",
    "    print(fans_df[col].unique())"
   ]
  },
  {
   "cell_type": "code",
   "execution_count": null,
   "metadata": {},
   "outputs": [],
   "source": [
    "for col in regression_feat:\n",
    "    print(col)\n",
    "    print(fans_df[col].unique())"
   ]
  },
  {
   "cell_type": "code",
   "execution_count": null,
   "metadata": {},
   "outputs": [],
   "source": [
    "for col in categorical_feat:\n",
    "    print(col)\n",
    "    print(fans_df[col].unique())"
   ]
  }
 ]
}