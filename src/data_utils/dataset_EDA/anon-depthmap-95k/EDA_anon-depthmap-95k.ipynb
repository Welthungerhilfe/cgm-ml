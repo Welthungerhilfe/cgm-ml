{
 "cells": [
  {
   "cell_type": "code",
   "execution_count": 1,
   "metadata": {
    "gather": {
     "logged": 1611745506918
    }
   },
   "outputs": [],
   "source": [
    "%reload_ext autoreload\n",
    "%autoreload 2\n",
    "\n",
    "import pandas as pd\n",
    "from pathlib import Path\n",
    "import math\n",
    "import numpy as np\n",
    "import sys\n",
    "import matplotlib.pyplot as plt\n",
    "\n",
    "sys.path.append(str(Path(os.getcwd()).parent))\n",
    "from data_utilities import convert_age_from_days_to_years, extractqrcode, draw_age_distribution, calculate_code_age_distribution"
   ]
  },
  {
   "cell_type": "markdown",
   "metadata": {},
   "source": [
    "### Total no. of artifacts in dataset"
   ]
  },
  {
   "cell_type": "code",
   "execution_count": 2,
   "metadata": {
    "gather": {
     "logged": 1611745509597
    }
   },
   "outputs": [],
   "source": [
    "DATASET_PATH = Path('/mnt/omdena_dataset/95k_depthmap_trainingdata')"
   ]
  },
  {
   "cell_type": "code",
   "execution_count": 3,
   "metadata": {
    "gather": {
     "logged": 1611745512289
    }
   },
   "outputs": [
    {
     "name": "stdout",
     "output_type": "stream",
     "text": [
      "Total no. of artifacts: 96026\n"
     ]
    },
    {
     "data": {
      "text/html": [
       "<div>\n",
       "<style scoped>\n",
       "    .dataframe tbody tr th:only-of-type {\n",
       "        vertical-align: middle;\n",
       "    }\n",
       "\n",
       "    .dataframe tbody tr th {\n",
       "        vertical-align: top;\n",
       "    }\n",
       "\n",
       "    .dataframe thead th {\n",
       "        text-align: right;\n",
       "    }\n",
       "</style>\n",
       "<table border=\"1\" class=\"dataframe\">\n",
       "  <thead>\n",
       "    <tr style=\"text-align: right;\">\n",
       "      <th></th>\n",
       "      <th>artifact</th>\n",
       "      <th>storage_path</th>\n",
       "      <th>height</th>\n",
       "      <th>weight</th>\n",
       "      <th>key</th>\n",
       "      <th>age</th>\n",
       "    </tr>\n",
       "  </thead>\n",
       "  <tbody>\n",
       "    <tr>\n",
       "      <th>0</th>\n",
       "      <td>pc_1583438052-nxew87bcv0_1591122011044_100_000.p</td>\n",
       "      <td>qrcode/1583438052-nxew87bcv0/measure/159112201...</td>\n",
       "      <td>86.6</td>\n",
       "      <td>10.3</td>\n",
       "      <td>100</td>\n",
       "      <td>1260</td>\n",
       "    </tr>\n",
       "    <tr>\n",
       "      <th>1</th>\n",
       "      <td>pc_1583438052-nxew87bcv0_1591122011044_100_004.p</td>\n",
       "      <td>qrcode/1583438052-nxew87bcv0/measure/159112201...</td>\n",
       "      <td>86.6</td>\n",
       "      <td>10.3</td>\n",
       "      <td>100</td>\n",
       "      <td>1260</td>\n",
       "    </tr>\n",
       "    <tr>\n",
       "      <th>2</th>\n",
       "      <td>pc_1583438052-nxew87bcv0_1591122011044_100_005.p</td>\n",
       "      <td>qrcode/1583438052-nxew87bcv0/measure/159112201...</td>\n",
       "      <td>86.6</td>\n",
       "      <td>10.3</td>\n",
       "      <td>100</td>\n",
       "      <td>1260</td>\n",
       "    </tr>\n",
       "    <tr>\n",
       "      <th>3</th>\n",
       "      <td>pc_1583438052-nxew87bcv0_1591122011044_100_006.p</td>\n",
       "      <td>qrcode/1583438052-nxew87bcv0/measure/159112201...</td>\n",
       "      <td>86.6</td>\n",
       "      <td>10.3</td>\n",
       "      <td>100</td>\n",
       "      <td>1260</td>\n",
       "    </tr>\n",
       "    <tr>\n",
       "      <th>4</th>\n",
       "      <td>pc_1583438052-nxew87bcv0_1591122011044_100_007.p</td>\n",
       "      <td>qrcode/1583438052-nxew87bcv0/measure/159112201...</td>\n",
       "      <td>86.6</td>\n",
       "      <td>10.3</td>\n",
       "      <td>100</td>\n",
       "      <td>1260</td>\n",
       "    </tr>\n",
       "  </tbody>\n",
       "</table>\n",
       "</div>"
      ],
      "text/plain": [
       "                                           artifact  \\\n",
       "0  pc_1583438052-nxew87bcv0_1591122011044_100_000.p   \n",
       "1  pc_1583438052-nxew87bcv0_1591122011044_100_004.p   \n",
       "2  pc_1583438052-nxew87bcv0_1591122011044_100_005.p   \n",
       "3  pc_1583438052-nxew87bcv0_1591122011044_100_006.p   \n",
       "4  pc_1583438052-nxew87bcv0_1591122011044_100_007.p   \n",
       "\n",
       "                                        storage_path  height  weight  key  \\\n",
       "0  qrcode/1583438052-nxew87bcv0/measure/159112201...    86.6    10.3  100   \n",
       "1  qrcode/1583438052-nxew87bcv0/measure/159112201...    86.6    10.3  100   \n",
       "2  qrcode/1583438052-nxew87bcv0/measure/159112201...    86.6    10.3  100   \n",
       "3  qrcode/1583438052-nxew87bcv0/measure/159112201...    86.6    10.3  100   \n",
       "4  qrcode/1583438052-nxew87bcv0/measure/159112201...    86.6    10.3  100   \n",
       "\n",
       "    age  \n",
       "0  1260  \n",
       "1  1260  \n",
       "2  1260  \n",
       "3  1260  \n",
       "4  1260  "
      ]
     },
     "execution_count": 3,
     "metadata": {},
     "output_type": "execute_result"
    }
   ],
   "source": [
    "artifacts = pd.read_csv(DATASET_PATH / 'labels/training.csv')\n",
    "print(\"Total no. of artifacts:\", len(artifacts))\n",
    "artifacts.head()"
   ]
  },
  {
   "cell_type": "code",
   "execution_count": 4,
   "metadata": {
    "gather": {
     "logged": 1611745599386
    }
   },
   "outputs": [
    {
     "data": {
      "text/html": [
       "<div>\n",
       "<style scoped>\n",
       "    .dataframe tbody tr th:only-of-type {\n",
       "        vertical-align: middle;\n",
       "    }\n",
       "\n",
       "    .dataframe tbody tr th {\n",
       "        vertical-align: top;\n",
       "    }\n",
       "\n",
       "    .dataframe thead th {\n",
       "        text-align: right;\n",
       "    }\n",
       "</style>\n",
       "<table border=\"1\" class=\"dataframe\">\n",
       "  <thead>\n",
       "    <tr style=\"text-align: right;\">\n",
       "      <th></th>\n",
       "      <th>artifact</th>\n",
       "      <th>storage_path</th>\n",
       "      <th>height</th>\n",
       "      <th>weight</th>\n",
       "      <th>key</th>\n",
       "      <th>age</th>\n",
       "      <th>Years</th>\n",
       "    </tr>\n",
       "  </thead>\n",
       "  <tbody>\n",
       "    <tr>\n",
       "      <th>0</th>\n",
       "      <td>pc_1583438052-nxew87bcv0_1591122011044_100_000.p</td>\n",
       "      <td>qrcode/1583438052-nxew87bcv0/measure/159112201...</td>\n",
       "      <td>86.6</td>\n",
       "      <td>10.3</td>\n",
       "      <td>100</td>\n",
       "      <td>1260</td>\n",
       "      <td>3</td>\n",
       "    </tr>\n",
       "    <tr>\n",
       "      <th>1</th>\n",
       "      <td>pc_1583438052-nxew87bcv0_1591122011044_100_004.p</td>\n",
       "      <td>qrcode/1583438052-nxew87bcv0/measure/159112201...</td>\n",
       "      <td>86.6</td>\n",
       "      <td>10.3</td>\n",
       "      <td>100</td>\n",
       "      <td>1260</td>\n",
       "      <td>3</td>\n",
       "    </tr>\n",
       "    <tr>\n",
       "      <th>2</th>\n",
       "      <td>pc_1583438052-nxew87bcv0_1591122011044_100_005.p</td>\n",
       "      <td>qrcode/1583438052-nxew87bcv0/measure/159112201...</td>\n",
       "      <td>86.6</td>\n",
       "      <td>10.3</td>\n",
       "      <td>100</td>\n",
       "      <td>1260</td>\n",
       "      <td>3</td>\n",
       "    </tr>\n",
       "    <tr>\n",
       "      <th>3</th>\n",
       "      <td>pc_1583438052-nxew87bcv0_1591122011044_100_006.p</td>\n",
       "      <td>qrcode/1583438052-nxew87bcv0/measure/159112201...</td>\n",
       "      <td>86.6</td>\n",
       "      <td>10.3</td>\n",
       "      <td>100</td>\n",
       "      <td>1260</td>\n",
       "      <td>3</td>\n",
       "    </tr>\n",
       "    <tr>\n",
       "      <th>4</th>\n",
       "      <td>pc_1583438052-nxew87bcv0_1591122011044_100_007.p</td>\n",
       "      <td>qrcode/1583438052-nxew87bcv0/measure/159112201...</td>\n",
       "      <td>86.6</td>\n",
       "      <td>10.3</td>\n",
       "      <td>100</td>\n",
       "      <td>1260</td>\n",
       "      <td>3</td>\n",
       "    </tr>\n",
       "  </tbody>\n",
       "</table>\n",
       "</div>"
      ],
      "text/plain": [
       "                                           artifact  \\\n",
       "0  pc_1583438052-nxew87bcv0_1591122011044_100_000.p   \n",
       "1  pc_1583438052-nxew87bcv0_1591122011044_100_004.p   \n",
       "2  pc_1583438052-nxew87bcv0_1591122011044_100_005.p   \n",
       "3  pc_1583438052-nxew87bcv0_1591122011044_100_006.p   \n",
       "4  pc_1583438052-nxew87bcv0_1591122011044_100_007.p   \n",
       "\n",
       "                                        storage_path  height  weight  key  \\\n",
       "0  qrcode/1583438052-nxew87bcv0/measure/159112201...    86.6    10.3  100   \n",
       "1  qrcode/1583438052-nxew87bcv0/measure/159112201...    86.6    10.3  100   \n",
       "2  qrcode/1583438052-nxew87bcv0/measure/159112201...    86.6    10.3  100   \n",
       "3  qrcode/1583438052-nxew87bcv0/measure/159112201...    86.6    10.3  100   \n",
       "4  qrcode/1583438052-nxew87bcv0/measure/159112201...    86.6    10.3  100   \n",
       "\n",
       "    age  Years  \n",
       "0  1260      3  \n",
       "1  1260      3  \n",
       "2  1260      3  \n",
       "3  1260      3  \n",
       "4  1260      3  "
      ]
     },
     "execution_count": 4,
     "metadata": {},
     "output_type": "execute_result"
    }
   ],
   "source": [
    "#adding the Years column into dataframe\n",
    "artifacts['Years'] = artifacts.apply(convert_age_from_days_to_years, axis=1)\n",
    "artifacts.head()"
   ]
  },
  {
   "cell_type": "code",
   "execution_count": 29,
   "metadata": {},
   "outputs": [
    {
     "data": {
      "text/plain": [
       "101    39007\n",
       "100    24852\n",
       "102    23272\n",
       "202     6348\n",
       "201     1266\n",
       "200     1113\n",
       "Name: key, dtype: int64"
      ]
     },
     "execution_count": 29,
     "metadata": {},
     "output_type": "execute_result"
    }
   ],
   "source": [
    "artifacts_new = artifacts.loc[artifacts['Years'] != 50]\n",
    "artifacts_update = artifacts_new.loc[artifacts_new['Years'] != 6]\n",
    "artifacts_update['key'].value_counts()"
   ]
  },
  {
   "cell_type": "markdown",
   "metadata": {},
   "source": [
    "### Total no. of children in the dataset"
   ]
  },
  {
   "cell_type": "code",
   "execution_count": 17,
   "metadata": {
    "gather": {
     "logged": 1611745609762
    }
   },
   "outputs": [
    {
     "name": "stdout",
     "output_type": "stream",
     "text": [
      "Total no. of children: 4858\n"
     ]
    },
    {
     "data": {
      "text/html": [
       "<div>\n",
       "<style scoped>\n",
       "    .dataframe tbody tr th:only-of-type {\n",
       "        vertical-align: middle;\n",
       "    }\n",
       "\n",
       "    .dataframe tbody tr th {\n",
       "        vertical-align: top;\n",
       "    }\n",
       "\n",
       "    .dataframe thead th {\n",
       "        text-align: right;\n",
       "    }\n",
       "</style>\n",
       "<table border=\"1\" class=\"dataframe\">\n",
       "  <thead>\n",
       "    <tr style=\"text-align: right;\">\n",
       "      <th></th>\n",
       "      <th>artifact</th>\n",
       "      <th>storage_path</th>\n",
       "      <th>height</th>\n",
       "      <th>weight</th>\n",
       "      <th>key</th>\n",
       "      <th>age</th>\n",
       "      <th>Years</th>\n",
       "      <th>qrcode</th>\n",
       "    </tr>\n",
       "  </thead>\n",
       "  <tbody>\n",
       "    <tr>\n",
       "      <th>0</th>\n",
       "      <td>pc_1583438052-nxew87bcv0_1591122011044_100_000.p</td>\n",
       "      <td>qrcode/1583438052-nxew87bcv0/measure/159112201...</td>\n",
       "      <td>86.6</td>\n",
       "      <td>10.30</td>\n",
       "      <td>100</td>\n",
       "      <td>1260</td>\n",
       "      <td>3</td>\n",
       "      <td>1583438052-nxew87bcv0</td>\n",
       "    </tr>\n",
       "    <tr>\n",
       "      <th>11</th>\n",
       "      <td>pc_1583438084-zkafuhr4xx_1591122031563_100_000.p</td>\n",
       "      <td>qrcode/1583438084-zkafuhr4xx/measure/159112203...</td>\n",
       "      <td>104.4</td>\n",
       "      <td>14.80</td>\n",
       "      <td>100</td>\n",
       "      <td>1283</td>\n",
       "      <td>4</td>\n",
       "      <td>1583438084-zkafuhr4xx</td>\n",
       "    </tr>\n",
       "    <tr>\n",
       "      <th>24</th>\n",
       "      <td>pc_1583438117-71v1y4z0gd_1592711198959_100_000.p</td>\n",
       "      <td>qrcode/1583438117-71v1y4z0gd/measure/159271119...</td>\n",
       "      <td>104.1</td>\n",
       "      <td>14.75</td>\n",
       "      <td>100</td>\n",
       "      <td>1398</td>\n",
       "      <td>4</td>\n",
       "      <td>1583438117-71v1y4z0gd</td>\n",
       "    </tr>\n",
       "    <tr>\n",
       "      <th>33</th>\n",
       "      <td>pc_1583438117-spfyeecneo_1591122016705_100_000.p</td>\n",
       "      <td>qrcode/1583438117-spfyeecneo/measure/159112201...</td>\n",
       "      <td>98.3</td>\n",
       "      <td>12.55</td>\n",
       "      <td>100</td>\n",
       "      <td>1640</td>\n",
       "      <td>4</td>\n",
       "      <td>1583438117-spfyeecneo</td>\n",
       "    </tr>\n",
       "    <tr>\n",
       "      <th>48</th>\n",
       "      <td>pc_1583438127-xt6z0e0tsu_1591122024547_100_000.p</td>\n",
       "      <td>qrcode/1583438127-xt6z0e0tsu/measure/159112202...</td>\n",
       "      <td>89.7</td>\n",
       "      <td>11.50</td>\n",
       "      <td>100</td>\n",
       "      <td>140</td>\n",
       "      <td>0</td>\n",
       "      <td>1583438127-xt6z0e0tsu</td>\n",
       "    </tr>\n",
       "  </tbody>\n",
       "</table>\n",
       "</div>"
      ],
      "text/plain": [
       "                                            artifact  \\\n",
       "0   pc_1583438052-nxew87bcv0_1591122011044_100_000.p   \n",
       "11  pc_1583438084-zkafuhr4xx_1591122031563_100_000.p   \n",
       "24  pc_1583438117-71v1y4z0gd_1592711198959_100_000.p   \n",
       "33  pc_1583438117-spfyeecneo_1591122016705_100_000.p   \n",
       "48  pc_1583438127-xt6z0e0tsu_1591122024547_100_000.p   \n",
       "\n",
       "                                         storage_path  height  weight  key  \\\n",
       "0   qrcode/1583438052-nxew87bcv0/measure/159112201...    86.6   10.30  100   \n",
       "11  qrcode/1583438084-zkafuhr4xx/measure/159112203...   104.4   14.80  100   \n",
       "24  qrcode/1583438117-71v1y4z0gd/measure/159271119...   104.1   14.75  100   \n",
       "33  qrcode/1583438117-spfyeecneo/measure/159112201...    98.3   12.55  100   \n",
       "48  qrcode/1583438127-xt6z0e0tsu/measure/159112202...    89.7   11.50  100   \n",
       "\n",
       "     age  Years                 qrcode  \n",
       "0   1260      3  1583438052-nxew87bcv0  \n",
       "11  1283      4  1583438084-zkafuhr4xx  \n",
       "24  1398      4  1583438117-71v1y4z0gd  \n",
       "33  1640      4  1583438117-spfyeecneo  \n",
       "48   140      0  1583438127-xt6z0e0tsu  "
      ]
     },
     "execution_count": 17,
     "metadata": {},
     "output_type": "execute_result"
    }
   ],
   "source": [
    "artifacts['qrcode'] = artifacts.apply(extractqrcode, axis=1)\n",
    "scans = artifacts.drop_duplicates(subset='qrcode', keep='first')\n",
    "print(\"Total no. of children:\", len(scans))\n",
    "scans.head()"
   ]
  },
  {
   "cell_type": "code",
   "execution_count": 18,
   "metadata": {
    "gather": {
     "logged": 1611745626790
    }
   },
   "outputs": [
    {
     "name": "stdout",
     "output_type": "stream",
     "text": [
      "0     889\n",
      "1     785\n",
      "2     712\n",
      "3     895\n",
      "4     974\n",
      "5     587\n",
      "6       1\n",
      "50     15\n",
      "Name: Years, dtype: int64\n"
     ]
    },
    {
     "data": {
      "image/png": "[encoded data removed]",
      "text/plain": [
       "<Figure size 432x288 with 1 Axes>"
      ]
     },
     "metadata": {
      "needs_background": "light"
     },
     "output_type": "display_data"
    }
   ],
   "source": [
    "plt.figure()\n",
    "draw_age_distribution(scans)\n",
    "plt.show()"
   ]
  },
  {
   "cell_type": "code",
   "execution_count": 16,
   "metadata": {
    "gather": {
     "logged": 1611745658283
    }
   },
   "outputs": [
    {
     "name": "stdout",
     "output_type": "stream",
     "text": [
      "101    39059\n",
      "100    24872\n",
      "102    23301\n",
      "202     6378\n",
      "201     1292\n",
      "200     1124\n",
      "Name: key, dtype: int64\n"
     ]
    },
    {
     "data": {
      "image/png": "[encoded data removed]",
      "text/plain": [
       "<Figure size 432x288 with 1 Axes>"
      ]
     },
     "metadata": {},
     "output_type": "display_data"
    }
   ],
   "source": [
    "## keys for different scan type and their distribution in dataset\n",
    "\"- 100 - standing front scan\",\n",
    "\"- 101 - standing 360 scan\",\n",
    "\"- 102 - standing back scan\",\n",
    "\"- 200 - lying front scan\",\n",
    "\"- 201 - lying side scan\",\n",
    "\"- 202 - lying back scan\"\n",
    "print(artifacts['key'].value_counts())\n",
    "_ = artifacts['key'].value_counts().plot(kind='pie',autopct='%1.1f%%')\n",
    "plt.savefig('training_data_distribution.png')"
   ]
  },
  {
   "cell_type": "code",
   "execution_count": 8,
   "metadata": {},
   "outputs": [
    {
     "data": {
      "text/html": [
       "<div>\n",
       "<style scoped>\n",
       "    .dataframe tbody tr th:only-of-type {\n",
       "        vertical-align: middle;\n",
       "    }\n",
       "\n",
       "    .dataframe tbody tr th {\n",
       "        vertical-align: top;\n",
       "    }\n",
       "\n",
       "    .dataframe thead th {\n",
       "        text-align: right;\n",
       "    }\n",
       "</style>\n",
       "<table border=\"1\" class=\"dataframe\">\n",
       "  <thead>\n",
       "    <tr style=\"text-align: right;\">\n",
       "      <th></th>\n",
       "      <th>0</th>\n",
       "      <th>1</th>\n",
       "      <th>2</th>\n",
       "      <th>3</th>\n",
       "      <th>4</th>\n",
       "    </tr>\n",
       "    <tr>\n",
       "      <th>codes</th>\n",
       "      <th></th>\n",
       "      <th></th>\n",
       "      <th></th>\n",
       "      <th></th>\n",
       "      <th></th>\n",
       "    </tr>\n",
       "  </thead>\n",
       "  <tbody>\n",
       "    <tr>\n",
       "      <th>100</th>\n",
       "      <td>5023</td>\n",
       "      <td>512</td>\n",
       "      <td>3312</td>\n",
       "      <td>5536</td>\n",
       "      <td>6564</td>\n",
       "    </tr>\n",
       "    <tr>\n",
       "      <th>101</th>\n",
       "      <td>7550</td>\n",
       "      <td>779</td>\n",
       "      <td>3705</td>\n",
       "      <td>9142</td>\n",
       "      <td>11086</td>\n",
       "    </tr>\n",
       "    <tr>\n",
       "      <th>102</th>\n",
       "      <td>4825</td>\n",
       "      <td>477</td>\n",
       "      <td>2723</td>\n",
       "      <td>5134</td>\n",
       "      <td>6230</td>\n",
       "    </tr>\n",
       "    <tr>\n",
       "      <th>200</th>\n",
       "      <td>80</td>\n",
       "      <td>857</td>\n",
       "      <td>162</td>\n",
       "      <td>0</td>\n",
       "      <td>7</td>\n",
       "    </tr>\n",
       "    <tr>\n",
       "      <th>201</th>\n",
       "      <td>163</td>\n",
       "      <td>883</td>\n",
       "      <td>201</td>\n",
       "      <td>8</td>\n",
       "      <td>0</td>\n",
       "    </tr>\n",
       "    <tr>\n",
       "      <th>202</th>\n",
       "      <td>622</td>\n",
       "      <td>4662</td>\n",
       "      <td>984</td>\n",
       "      <td>59</td>\n",
       "      <td>14</td>\n",
       "    </tr>\n",
       "  </tbody>\n",
       "</table>\n",
       "</div>"
      ],
      "text/plain": [
       "          0     1     2     3      4\n",
       "codes                               \n",
       "100    5023   512  3312  5536   6564\n",
       "101    7550   779  3705  9142  11086\n",
       "102    4825   477  2723  5134   6230\n",
       "200      80   857   162     0      7\n",
       "201     163   883   201     8      0\n",
       "202     622  4662   984    59     14"
      ]
     },
     "execution_count": 8,
     "metadata": {},
     "output_type": "execute_result"
    }
   ],
   "source": [
    "calculate_code_age_distribution(artifacts)"
   ]
  },
  {
   "cell_type": "code",
   "execution_count": 9,
   "metadata": {},
   "outputs": [
    {
     "data": {
      "text/html": [
       "<div>\n",
       "<style scoped>\n",
       "    .dataframe tbody tr th:only-of-type {\n",
       "        vertical-align: middle;\n",
       "    }\n",
       "\n",
       "    .dataframe tbody tr th {\n",
       "        vertical-align: top;\n",
       "    }\n",
       "\n",
       "    .dataframe thead th {\n",
       "        text-align: right;\n",
       "    }\n",
       "</style>\n",
       "<table border=\"1\" class=\"dataframe\">\n",
       "  <thead>\n",
       "    <tr style=\"text-align: right;\">\n",
       "      <th></th>\n",
       "      <th>0</th>\n",
       "      <th>1</th>\n",
       "      <th>2</th>\n",
       "      <th>3</th>\n",
       "      <th>4</th>\n",
       "    </tr>\n",
       "    <tr>\n",
       "      <th>codes</th>\n",
       "      <th></th>\n",
       "      <th></th>\n",
       "      <th></th>\n",
       "      <th></th>\n",
       "      <th></th>\n",
       "    </tr>\n",
       "  </thead>\n",
       "  <tbody>\n",
       "    <tr>\n",
       "      <th>100</th>\n",
       "      <td>671</td>\n",
       "      <td>75</td>\n",
       "      <td>492</td>\n",
       "      <td>793</td>\n",
       "      <td>901</td>\n",
       "    </tr>\n",
       "    <tr>\n",
       "      <th>101</th>\n",
       "      <td>67</td>\n",
       "      <td>17</td>\n",
       "      <td>37</td>\n",
       "      <td>51</td>\n",
       "      <td>46</td>\n",
       "    </tr>\n",
       "    <tr>\n",
       "      <th>102</th>\n",
       "      <td>57</td>\n",
       "      <td>14</td>\n",
       "      <td>37</td>\n",
       "      <td>42</td>\n",
       "      <td>25</td>\n",
       "    </tr>\n",
       "    <tr>\n",
       "      <th>200</th>\n",
       "      <td>10</td>\n",
       "      <td>106</td>\n",
       "      <td>20</td>\n",
       "      <td>0</td>\n",
       "      <td>1</td>\n",
       "    </tr>\n",
       "    <tr>\n",
       "      <th>201</th>\n",
       "      <td>11</td>\n",
       "      <td>54</td>\n",
       "      <td>15</td>\n",
       "      <td>1</td>\n",
       "      <td>0</td>\n",
       "    </tr>\n",
       "    <tr>\n",
       "      <th>202</th>\n",
       "      <td>73</td>\n",
       "      <td>519</td>\n",
       "      <td>111</td>\n",
       "      <td>8</td>\n",
       "      <td>1</td>\n",
       "    </tr>\n",
       "  </tbody>\n",
       "</table>\n",
       "</div>"
      ],
      "text/plain": [
       "         0    1    2    3    4\n",
       "codes                         \n",
       "100    671   75  492  793  901\n",
       "101     67   17   37   51   46\n",
       "102     57   14   37   42   25\n",
       "200     10  106   20    0    1\n",
       "201     11   54   15    1    0\n",
       "202     73  519  111    8    1"
      ]
     },
     "execution_count": 9,
     "metadata": {},
     "output_type": "execute_result"
    }
   ],
   "source": [
    "calculate_code_age_distribution(scans)"
   ]
  },
  {
   "cell_type": "markdown",
   "metadata": {},
   "source": [
    "### Distribution of height, weight and age against each other"
   ]
  },
  {
   "cell_type": "code",
   "execution_count": 10,
   "metadata": {
    "gather": {
     "logged": 1611745672883
    }
   },
   "outputs": [
    {
     "data": {
      "image/png": "[encoded data removed]",
      "text/plain": [
       "<Figure size 432x288 with 1 Axes>"
      ]
     },
     "metadata": {
      "needs_background": "light"
     },
     "output_type": "display_data"
    }
   ],
   "source": [
    "#distribution of height against age\n",
    "height_vs_age = scans.plot.scatter(x='height', y='age', c='red')"
   ]
  },
  {
   "cell_type": "code",
   "execution_count": 11,
   "metadata": {
    "gather": {
     "logged": 1611745673644
    }
   },
   "outputs": [
    {
     "data": {
      "image/png": "[encoded data removed]",
      "text/plain": [
       "<Figure size 432x288 with 1 Axes>"
      ]
     },
     "metadata": {
      "needs_background": "light"
     },
     "output_type": "display_data"
    }
   ],
   "source": [
    "#distribution of weight against age\n",
    "weight_vs_age = scans.plot.scatter(x='weight', y='age', c='red')"
   ]
  },
  {
   "cell_type": "code",
   "execution_count": 14,
   "metadata": {
    "gather": {
     "logged": 1611745674844
    }
   },
   "outputs": [
    {
     "data": {
      "image/png": "[encoded data removed]",
      "text/plain": [
       "<Figure size 432x288 with 1 Axes>"
      ]
     },
     "metadata": {
      "needs_background": "light"
     },
     "output_type": "display_data"
    }
   ],
   "source": [
    "## distribution of height against weight\n",
    "weight_vs_height = scans.plot.scatter(x='height', y='weight', c='red')\n",
    "plt.xlim([0, 150])\n",
    "plt.savefig('HvW_training.png')"
   ]
  }
 ],
 "metadata": {
  "kernel_info": {
   "name": "python3"
  },
  "kernelspec": {
   "display_name": "Python 3.6 - AzureML",
   "language": "python",
   "name": "python3-azureml"
  },
  "language_info": {
   "codemirror_mode": {
    "name": "ipython",
    "version": 3
   },
   "file_extension": ".py",
   "mimetype": "text/x-python",
   "name": "python",
   "nbconvert_exporter": "python",
   "pygments_lexer": "ipython3",
   "version": "3.6.9"
  },
  "nteract": {
   "version": "nteract-front-end@1.0.0"
  }
 },
 "nbformat": 4,
 "nbformat_minor": 4
}
