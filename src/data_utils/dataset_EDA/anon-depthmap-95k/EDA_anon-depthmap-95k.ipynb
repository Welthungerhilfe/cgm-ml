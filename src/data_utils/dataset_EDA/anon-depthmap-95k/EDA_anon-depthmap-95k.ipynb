{
 "cells": [
  {
   "cell_type": "code",
   "execution_count": 168,
   "metadata": {
    "gather": {
     "logged": 1614191893050
    }
   },
   "outputs": [],
   "source": [
    "%reload_ext autoreload\n",
    "%autoreload 2\n",
    "\n",
    "import pandas as pd\n",
    "from pathlib import Path\n",
    "import math\n",
    "import numpy as np\n",
    "import sys\n",
    "import matplotlib.pyplot as plt\n",
    "\n",
    "sys.path.append(str(Path(os.getcwd()).parent))\n",
    "from data_utilities import convert_age_from_days_to_years, extractqrcode, draw_age_distribution, calculate_code_age_distribution"
   ]
  },
  {
   "cell_type": "markdown",
   "metadata": {},
   "source": [
    "### Total no. of artifacts in dataset"
   ]
  },
  {
   "cell_type": "code",
   "execution_count": 169,
   "metadata": {
    "gather": {
     "logged": 1614191894990
    }
   },
   "outputs": [],
   "source": [
    "DATASET_PATH = Path('/mnt/datasets/95k_depthmap_trainingdata')"
   ]
  },
  {
   "cell_type": "code",
   "execution_count": 170,
   "metadata": {
    "gather": {
     "logged": 1611745512289
    }
   },
   "outputs": [
    {
     "name": "stdout",
     "output_type": "stream",
     "text": [
      "Total no. of artifacts: 96026\n"
     ]
    },
    {
     "data": {
      "text/html": [
       "<div>\n",
       "<style scoped>\n",
       "    .dataframe tbody tr th:only-of-type {\n",
       "        vertical-align: middle;\n",
       "    }\n",
       "\n",
       "    .dataframe tbody tr th {\n",
       "        vertical-align: top;\n",
       "    }\n",
       "\n",
       "    .dataframe thead th {\n",
       "        text-align: right;\n",
       "    }\n",
       "</style>\n",
       "<table border=\"1\" class=\"dataframe\">\n",
       "  <thead>\n",
       "    <tr style=\"text-align: right;\">\n",
       "      <th></th>\n",
       "      <th>artifact</th>\n",
       "      <th>storage_path</th>\n",
       "      <th>height</th>\n",
       "      <th>weight</th>\n",
       "      <th>key</th>\n",
       "      <th>age</th>\n",
       "    </tr>\n",
       "  </thead>\n",
       "  <tbody>\n",
       "    <tr>\n",
       "      <th>0</th>\n",
       "      <td>pc_1583438052-nxew87bcv0_1591122011044_100_000.p</td>\n",
       "      <td>qrcode/1583438052-nxew87bcv0/measure/159112201...</td>\n",
       "      <td>86.6</td>\n",
       "      <td>10.3</td>\n",
       "      <td>100</td>\n",
       "      <td>1260</td>\n",
       "    </tr>\n",
       "    <tr>\n",
       "      <th>1</th>\n",
       "      <td>pc_1583438052-nxew87bcv0_1591122011044_100_004.p</td>\n",
       "      <td>qrcode/1583438052-nxew87bcv0/measure/159112201...</td>\n",
       "      <td>86.6</td>\n",
       "      <td>10.3</td>\n",
       "      <td>100</td>\n",
       "      <td>1260</td>\n",
       "    </tr>\n",
       "    <tr>\n",
       "      <th>2</th>\n",
       "      <td>pc_1583438052-nxew87bcv0_1591122011044_100_005.p</td>\n",
       "      <td>qrcode/1583438052-nxew87bcv0/measure/159112201...</td>\n",
       "      <td>86.6</td>\n",
       "      <td>10.3</td>\n",
       "      <td>100</td>\n",
       "      <td>1260</td>\n",
       "    </tr>\n",
       "    <tr>\n",
       "      <th>3</th>\n",
       "      <td>pc_1583438052-nxew87bcv0_1591122011044_100_006.p</td>\n",
       "      <td>qrcode/1583438052-nxew87bcv0/measure/159112201...</td>\n",
       "      <td>86.6</td>\n",
       "      <td>10.3</td>\n",
       "      <td>100</td>\n",
       "      <td>1260</td>\n",
       "    </tr>\n",
       "    <tr>\n",
       "      <th>4</th>\n",
       "      <td>pc_1583438052-nxew87bcv0_1591122011044_100_007.p</td>\n",
       "      <td>qrcode/1583438052-nxew87bcv0/measure/159112201...</td>\n",
       "      <td>86.6</td>\n",
       "      <td>10.3</td>\n",
       "      <td>100</td>\n",
       "      <td>1260</td>\n",
       "    </tr>\n",
       "  </tbody>\n",
       "</table>\n",
       "</div>"
      ],
      "text/plain": [
       "                                           artifact  \\\n",
       "0  pc_1583438052-nxew87bcv0_1591122011044_100_000.p   \n",
       "1  pc_1583438052-nxew87bcv0_1591122011044_100_004.p   \n",
       "2  pc_1583438052-nxew87bcv0_1591122011044_100_005.p   \n",
       "3  pc_1583438052-nxew87bcv0_1591122011044_100_006.p   \n",
       "4  pc_1583438052-nxew87bcv0_1591122011044_100_007.p   \n",
       "\n",
       "                                        storage_path  height  weight  key  \\\n",
       "0  qrcode/1583438052-nxew87bcv0/measure/159112201...    86.6    10.3  100   \n",
       "1  qrcode/1583438052-nxew87bcv0/measure/159112201...    86.6    10.3  100   \n",
       "2  qrcode/1583438052-nxew87bcv0/measure/159112201...    86.6    10.3  100   \n",
       "3  qrcode/1583438052-nxew87bcv0/measure/159112201...    86.6    10.3  100   \n",
       "4  qrcode/1583438052-nxew87bcv0/measure/159112201...    86.6    10.3  100   \n",
       "\n",
       "    age  \n",
       "0  1260  \n",
       "1  1260  \n",
       "2  1260  \n",
       "3  1260  \n",
       "4  1260  "
      ]
     },
     "execution_count": 170,
     "metadata": {},
     "output_type": "execute_result"
    }
   ],
   "source": [
    "artifacts = pd.read_csv(DATASET_PATH / 'labels/training.csv')\n",
    "print(\"Total no. of artifacts:\", len(artifacts))\n",
    "artifacts.head()"
   ]
  },
  {
   "cell_type": "code",
   "execution_count": 171,
   "metadata": {
    "gather": {
     "logged": 1611745599386
    },
    "jupyter": {
     "source_hidden": true
    }
   },
   "outputs": [
    {
     "data": {
      "text/html": [
       "<div>\n",
       "<style scoped>\n",
       "    .dataframe tbody tr th:only-of-type {\n",
       "        vertical-align: middle;\n",
       "    }\n",
       "\n",
       "    .dataframe tbody tr th {\n",
       "        vertical-align: top;\n",
       "    }\n",
       "\n",
       "    .dataframe thead th {\n",
       "        text-align: right;\n",
       "    }\n",
       "</style>\n",
       "<table border=\"1\" class=\"dataframe\">\n",
       "  <thead>\n",
       "    <tr style=\"text-align: right;\">\n",
       "      <th></th>\n",
       "      <th>artifact</th>\n",
       "      <th>storage_path</th>\n",
       "      <th>height</th>\n",
       "      <th>weight</th>\n",
       "      <th>key</th>\n",
       "      <th>age</th>\n",
       "      <th>Years</th>\n",
       "    </tr>\n",
       "  </thead>\n",
       "  <tbody>\n",
       "    <tr>\n",
       "      <th>0</th>\n",
       "      <td>pc_1583438052-nxew87bcv0_1591122011044_100_000.p</td>\n",
       "      <td>qrcode/1583438052-nxew87bcv0/measure/159112201...</td>\n",
       "      <td>86.6</td>\n",
       "      <td>10.3</td>\n",
       "      <td>100</td>\n",
       "      <td>1260</td>\n",
       "      <td>3</td>\n",
       "    </tr>\n",
       "    <tr>\n",
       "      <th>1</th>\n",
       "      <td>pc_1583438052-nxew87bcv0_1591122011044_100_004.p</td>\n",
       "      <td>qrcode/1583438052-nxew87bcv0/measure/159112201...</td>\n",
       "      <td>86.6</td>\n",
       "      <td>10.3</td>\n",
       "      <td>100</td>\n",
       "      <td>1260</td>\n",
       "      <td>3</td>\n",
       "    </tr>\n",
       "    <tr>\n",
       "      <th>2</th>\n",
       "      <td>pc_1583438052-nxew87bcv0_1591122011044_100_005.p</td>\n",
       "      <td>qrcode/1583438052-nxew87bcv0/measure/159112201...</td>\n",
       "      <td>86.6</td>\n",
       "      <td>10.3</td>\n",
       "      <td>100</td>\n",
       "      <td>1260</td>\n",
       "      <td>3</td>\n",
       "    </tr>\n",
       "    <tr>\n",
       "      <th>3</th>\n",
       "      <td>pc_1583438052-nxew87bcv0_1591122011044_100_006.p</td>\n",
       "      <td>qrcode/1583438052-nxew87bcv0/measure/159112201...</td>\n",
       "      <td>86.6</td>\n",
       "      <td>10.3</td>\n",
       "      <td>100</td>\n",
       "      <td>1260</td>\n",
       "      <td>3</td>\n",
       "    </tr>\n",
       "    <tr>\n",
       "      <th>4</th>\n",
       "      <td>pc_1583438052-nxew87bcv0_1591122011044_100_007.p</td>\n",
       "      <td>qrcode/1583438052-nxew87bcv0/measure/159112201...</td>\n",
       "      <td>86.6</td>\n",
       "      <td>10.3</td>\n",
       "      <td>100</td>\n",
       "      <td>1260</td>\n",
       "      <td>3</td>\n",
       "    </tr>\n",
       "  </tbody>\n",
       "</table>\n",
       "</div>"
      ],
      "text/plain": [
       "                                           artifact  \\\n",
       "0  pc_1583438052-nxew87bcv0_1591122011044_100_000.p   \n",
       "1  pc_1583438052-nxew87bcv0_1591122011044_100_004.p   \n",
       "2  pc_1583438052-nxew87bcv0_1591122011044_100_005.p   \n",
       "3  pc_1583438052-nxew87bcv0_1591122011044_100_006.p   \n",
       "4  pc_1583438052-nxew87bcv0_1591122011044_100_007.p   \n",
       "\n",
       "                                        storage_path  height  weight  key  \\\n",
       "0  qrcode/1583438052-nxew87bcv0/measure/159112201...    86.6    10.3  100   \n",
       "1  qrcode/1583438052-nxew87bcv0/measure/159112201...    86.6    10.3  100   \n",
       "2  qrcode/1583438052-nxew87bcv0/measure/159112201...    86.6    10.3  100   \n",
       "3  qrcode/1583438052-nxew87bcv0/measure/159112201...    86.6    10.3  100   \n",
       "4  qrcode/1583438052-nxew87bcv0/measure/159112201...    86.6    10.3  100   \n",
       "\n",
       "    age  Years  \n",
       "0  1260      3  \n",
       "1  1260      3  \n",
       "2  1260      3  \n",
       "3  1260      3  \n",
       "4  1260      3  "
      ]
     },
     "execution_count": 171,
     "metadata": {},
     "output_type": "execute_result"
    }
   ],
   "source": [
    "#adding the Years column into dataframe\n",
    "artifacts['Years'] = artifacts.apply(convert_age_from_days_to_years, axis=1)\n",
    "artifacts.head()"
   ]
  },
  {
   "cell_type": "markdown",
   "metadata": {},
   "source": [
    "### Total no. of children in the dataset"
   ]
  },
  {
   "cell_type": "code",
   "execution_count": 172,
   "metadata": {
    "gather": {
     "logged": 1611745609762
    }
   },
   "outputs": [
    {
     "name": "stdout",
     "output_type": "stream",
     "text": [
      "Total no. of children: 4858\n"
     ]
    },
    {
     "data": {
      "text/html": [
       "<div>\n",
       "<style scoped>\n",
       "    .dataframe tbody tr th:only-of-type {\n",
       "        vertical-align: middle;\n",
       "    }\n",
       "\n",
       "    .dataframe tbody tr th {\n",
       "        vertical-align: top;\n",
       "    }\n",
       "\n",
       "    .dataframe thead th {\n",
       "        text-align: right;\n",
       "    }\n",
       "</style>\n",
       "<table border=\"1\" class=\"dataframe\">\n",
       "  <thead>\n",
       "    <tr style=\"text-align: right;\">\n",
       "      <th></th>\n",
       "      <th>artifact</th>\n",
       "      <th>storage_path</th>\n",
       "      <th>height</th>\n",
       "      <th>weight</th>\n",
       "      <th>key</th>\n",
       "      <th>age</th>\n",
       "      <th>Years</th>\n",
       "      <th>qrcode</th>\n",
       "    </tr>\n",
       "  </thead>\n",
       "  <tbody>\n",
       "    <tr>\n",
       "      <th>0</th>\n",
       "      <td>pc_1583438052-nxew87bcv0_1591122011044_100_000.p</td>\n",
       "      <td>qrcode/1583438052-nxew87bcv0/measure/159112201...</td>\n",
       "      <td>86.6</td>\n",
       "      <td>10.30</td>\n",
       "      <td>100</td>\n",
       "      <td>1260</td>\n",
       "      <td>3</td>\n",
       "      <td>1583438052-nxew87bcv0</td>\n",
       "    </tr>\n",
       "    <tr>\n",
       "      <th>11</th>\n",
       "      <td>pc_1583438084-zkafuhr4xx_1591122031563_100_000.p</td>\n",
       "      <td>qrcode/1583438084-zkafuhr4xx/measure/159112203...</td>\n",
       "      <td>104.4</td>\n",
       "      <td>14.80</td>\n",
       "      <td>100</td>\n",
       "      <td>1283</td>\n",
       "      <td>4</td>\n",
       "      <td>1583438084-zkafuhr4xx</td>\n",
       "    </tr>\n",
       "    <tr>\n",
       "      <th>24</th>\n",
       "      <td>pc_1583438117-71v1y4z0gd_1592711198959_100_000.p</td>\n",
       "      <td>qrcode/1583438117-71v1y4z0gd/measure/159271119...</td>\n",
       "      <td>104.1</td>\n",
       "      <td>14.75</td>\n",
       "      <td>100</td>\n",
       "      <td>1398</td>\n",
       "      <td>4</td>\n",
       "      <td>1583438117-71v1y4z0gd</td>\n",
       "    </tr>\n",
       "    <tr>\n",
       "      <th>33</th>\n",
       "      <td>pc_1583438117-spfyeecneo_1591122016705_100_000.p</td>\n",
       "      <td>qrcode/1583438117-spfyeecneo/measure/159112201...</td>\n",
       "      <td>98.3</td>\n",
       "      <td>12.55</td>\n",
       "      <td>100</td>\n",
       "      <td>1640</td>\n",
       "      <td>4</td>\n",
       "      <td>1583438117-spfyeecneo</td>\n",
       "    </tr>\n",
       "    <tr>\n",
       "      <th>48</th>\n",
       "      <td>pc_1583438127-xt6z0e0tsu_1591122024547_100_000.p</td>\n",
       "      <td>qrcode/1583438127-xt6z0e0tsu/measure/159112202...</td>\n",
       "      <td>89.7</td>\n",
       "      <td>11.50</td>\n",
       "      <td>100</td>\n",
       "      <td>140</td>\n",
       "      <td>0</td>\n",
       "      <td>1583438127-xt6z0e0tsu</td>\n",
       "    </tr>\n",
       "  </tbody>\n",
       "</table>\n",
       "</div>"
      ],
      "text/plain": [
       "                                            artifact  \\\n",
       "0   pc_1583438052-nxew87bcv0_1591122011044_100_000.p   \n",
       "11  pc_1583438084-zkafuhr4xx_1591122031563_100_000.p   \n",
       "24  pc_1583438117-71v1y4z0gd_1592711198959_100_000.p   \n",
       "33  pc_1583438117-spfyeecneo_1591122016705_100_000.p   \n",
       "48  pc_1583438127-xt6z0e0tsu_1591122024547_100_000.p   \n",
       "\n",
       "                                         storage_path  height  weight  key  \\\n",
       "0   qrcode/1583438052-nxew87bcv0/measure/159112201...    86.6   10.30  100   \n",
       "11  qrcode/1583438084-zkafuhr4xx/measure/159112203...   104.4   14.80  100   \n",
       "24  qrcode/1583438117-71v1y4z0gd/measure/159271119...   104.1   14.75  100   \n",
       "33  qrcode/1583438117-spfyeecneo/measure/159112201...    98.3   12.55  100   \n",
       "48  qrcode/1583438127-xt6z0e0tsu/measure/159112202...    89.7   11.50  100   \n",
       "\n",
       "     age  Years                 qrcode  \n",
       "0   1260      3  1583438052-nxew87bcv0  \n",
       "11  1283      4  1583438084-zkafuhr4xx  \n",
       "24  1398      4  1583438117-71v1y4z0gd  \n",
       "33  1640      4  1583438117-spfyeecneo  \n",
       "48   140      0  1583438127-xt6z0e0tsu  "
      ]
     },
     "execution_count": 172,
     "metadata": {},
     "output_type": "execute_result"
    }
   ],
   "source": [
    "artifacts['qrcode'] = artifacts.apply(extractqrcode, axis=1)\n",
    "scans = artifacts.drop_duplicates(subset='qrcode', keep='first')\n",
    "print(\"Total no. of children:\", len(scans))\n",
    "scans.head()"
   ]
  },
  {
   "cell_type": "code",
   "execution_count": 206,
   "metadata": {},
   "outputs": [
    {
     "data": {
      "text/html": [
       "<div>\n",
       "<style scoped>\n",
       "    .dataframe tbody tr th:only-of-type {\n",
       "        vertical-align: middle;\n",
       "    }\n",
       "\n",
       "    .dataframe tbody tr th {\n",
       "        vertical-align: top;\n",
       "    }\n",
       "\n",
       "    .dataframe thead th {\n",
       "        text-align: right;\n",
       "    }\n",
       "</style>\n",
       "<table border=\"1\" class=\"dataframe\">\n",
       "  <thead>\n",
       "    <tr style=\"text-align: right;\">\n",
       "      <th></th>\n",
       "      <th>height</th>\n",
       "      <th>weight</th>\n",
       "      <th>key</th>\n",
       "      <th>age</th>\n",
       "      <th>Years</th>\n",
       "    </tr>\n",
       "  </thead>\n",
       "  <tbody>\n",
       "    <tr>\n",
       "      <th>count</th>\n",
       "      <td>4858.000000</td>\n",
       "      <td>4858.000000</td>\n",
       "      <td>4858.000000</td>\n",
       "      <td>4858.000000</td>\n",
       "      <td>4858.000000</td>\n",
       "    </tr>\n",
       "    <tr>\n",
       "      <th>mean</th>\n",
       "      <td>86.552491</td>\n",
       "      <td>10.951952</td>\n",
       "      <td>119.711198</td>\n",
       "      <td>934.587073</td>\n",
       "      <td>2.569164</td>\n",
       "    </tr>\n",
       "    <tr>\n",
       "      <th>std</th>\n",
       "      <td>11.742379</td>\n",
       "      <td>2.586094</td>\n",
       "      <td>40.019281</td>\n",
       "      <td>1133.370280</td>\n",
       "      <td>3.124526</td>\n",
       "    </tr>\n",
       "    <tr>\n",
       "      <th>min</th>\n",
       "      <td>7.900000</td>\n",
       "      <td>3.200000</td>\n",
       "      <td>100.000000</td>\n",
       "      <td>0.000000</td>\n",
       "      <td>0.000000</td>\n",
       "    </tr>\n",
       "    <tr>\n",
       "      <th>25%</th>\n",
       "      <td>77.925000</td>\n",
       "      <td>9.000000</td>\n",
       "      <td>100.000000</td>\n",
       "      <td>342.000000</td>\n",
       "      <td>1.000000</td>\n",
       "    </tr>\n",
       "    <tr>\n",
       "      <th>50%</th>\n",
       "      <td>88.050000</td>\n",
       "      <td>11.100000</td>\n",
       "      <td>100.000000</td>\n",
       "      <td>933.000000</td>\n",
       "      <td>3.000000</td>\n",
       "    </tr>\n",
       "    <tr>\n",
       "      <th>75%</th>\n",
       "      <td>95.600000</td>\n",
       "      <td>12.850000</td>\n",
       "      <td>101.000000</td>\n",
       "      <td>1420.750000</td>\n",
       "      <td>4.000000</td>\n",
       "    </tr>\n",
       "    <tr>\n",
       "      <th>max</th>\n",
       "      <td>114.700000</td>\n",
       "      <td>19.000000</td>\n",
       "      <td>202.000000</td>\n",
       "      <td>18179.000000</td>\n",
       "      <td>50.000000</td>\n",
       "    </tr>\n",
       "  </tbody>\n",
       "</table>\n",
       "</div>"
      ],
      "text/plain": [
       "            height       weight          key           age        Years\n",
       "count  4858.000000  4858.000000  4858.000000   4858.000000  4858.000000\n",
       "mean     86.552491    10.951952   119.711198    934.587073     2.569164\n",
       "std      11.742379     2.586094    40.019281   1133.370280     3.124526\n",
       "min       7.900000     3.200000   100.000000      0.000000     0.000000\n",
       "25%      77.925000     9.000000   100.000000    342.000000     1.000000\n",
       "50%      88.050000    11.100000   100.000000    933.000000     3.000000\n",
       "75%      95.600000    12.850000   101.000000   1420.750000     4.000000\n",
       "max     114.700000    19.000000   202.000000  18179.000000    50.000000"
      ]
     },
     "execution_count": 206,
     "metadata": {},
     "output_type": "execute_result"
    }
   ],
   "source": [
    "scans.describe()"
   ]
  },
  {
   "cell_type": "code",
   "execution_count": 173,
   "metadata": {
    "gather": {
     "logged": 1611745626790
    }
   },
   "outputs": [
    {
     "name": "stderr",
     "output_type": "stream",
     "text": [
      "2021-03-22 09:16:11,010 - INFO - 0     889\n",
      "1     785\n",
      "2     712\n",
      "3     895\n",
      "4     974\n",
      "5     587\n",
      "6       1\n",
      "50     15\n",
      "Name: Years, dtype: int64 - /mnt/resource/batch/tasks/shared/LS_root/mounts/clusters/jzcomp/code/Users/jziegler/cgm-ml/src/data_utils/dataset_EDA/data_utilities.py: line 24\n"
     ]
    },
    {
     "data": {
      "image/png": "[encoded data removed]",
      "text/plain": [
       "<Figure size 432x288 with 1 Axes>"
      ]
     },
     "metadata": {
      "needs_background": "light"
     },
     "output_type": "display_data"
    }
   ],
   "source": [
    "plt.figure()\n",
    "draw_age_distribution(scans)\n",
    "plt.show()"
   ]
  },
  {
   "cell_type": "code",
   "execution_count": 226,
   "metadata": {
    "gather": {
     "logged": 1611745658283
    }
   },
   "outputs": [
    {
     "name": "stdout",
     "output_type": "stream",
     "text": [
      "101    39059\n",
      "100    24872\n",
      "102    23301\n",
      "202     6378\n",
      "201     1292\n",
      "200     1124\n",
      "Name: key, dtype: int64\n"
     ]
    },
    {
     "data": {
      "image/png": "[encoded data removed]",
      "text/plain": [
       "<Figure size 432x288 with 1 Axes>"
      ]
     },
     "metadata": {},
     "output_type": "display_data"
    }
   ],
   "source": [
    "## keys for different scan type and their distribution in dataset\n",
    "\"- 100 - standing front scan\",\n",
    "\"- 101 - standing 360 scan\",\n",
    "\"- 102 - standing back scan\",\n",
    "\"- 200 - lying front scan\",\n",
    "\"- 201 - lying side scan\",\n",
    "\"- 202 - lying back scan\"\n",
    "print(artifacts['key'].value_counts())\n",
    "_ = artifacts['key'].value_counts().plot(kind='pie')"
   ]
  },
  {
   "cell_type": "code",
   "execution_count": 175,
   "metadata": {},
   "outputs": [
    {
     "data": {
      "text/html": [
       "<div>\n",
       "<style scoped>\n",
       "    .dataframe tbody tr th:only-of-type {\n",
       "        vertical-align: middle;\n",
       "    }\n",
       "\n",
       "    .dataframe tbody tr th {\n",
       "        vertical-align: top;\n",
       "    }\n",
       "\n",
       "    .dataframe thead th {\n",
       "        text-align: right;\n",
       "    }\n",
       "</style>\n",
       "<table border=\"1\" class=\"dataframe\">\n",
       "  <thead>\n",
       "    <tr style=\"text-align: right;\">\n",
       "      <th></th>\n",
       "      <th>0</th>\n",
       "      <th>1</th>\n",
       "      <th>2</th>\n",
       "      <th>3</th>\n",
       "      <th>4</th>\n",
       "    </tr>\n",
       "    <tr>\n",
       "      <th>codes</th>\n",
       "      <th></th>\n",
       "      <th></th>\n",
       "      <th></th>\n",
       "      <th></th>\n",
       "      <th></th>\n",
       "    </tr>\n",
       "  </thead>\n",
       "  <tbody>\n",
       "    <tr>\n",
       "      <th>100</th>\n",
       "      <td>5023</td>\n",
       "      <td>512</td>\n",
       "      <td>3312</td>\n",
       "      <td>5536</td>\n",
       "      <td>6564</td>\n",
       "    </tr>\n",
       "    <tr>\n",
       "      <th>101</th>\n",
       "      <td>7550</td>\n",
       "      <td>779</td>\n",
       "      <td>3705</td>\n",
       "      <td>9142</td>\n",
       "      <td>11086</td>\n",
       "    </tr>\n",
       "    <tr>\n",
       "      <th>102</th>\n",
       "      <td>4825</td>\n",
       "      <td>477</td>\n",
       "      <td>2723</td>\n",
       "      <td>5134</td>\n",
       "      <td>6230</td>\n",
       "    </tr>\n",
       "    <tr>\n",
       "      <th>200</th>\n",
       "      <td>80</td>\n",
       "      <td>857</td>\n",
       "      <td>162</td>\n",
       "      <td>0</td>\n",
       "      <td>7</td>\n",
       "    </tr>\n",
       "    <tr>\n",
       "      <th>201</th>\n",
       "      <td>163</td>\n",
       "      <td>883</td>\n",
       "      <td>201</td>\n",
       "      <td>8</td>\n",
       "      <td>0</td>\n",
       "    </tr>\n",
       "    <tr>\n",
       "      <th>202</th>\n",
       "      <td>622</td>\n",
       "      <td>4662</td>\n",
       "      <td>984</td>\n",
       "      <td>59</td>\n",
       "      <td>14</td>\n",
       "    </tr>\n",
       "  </tbody>\n",
       "</table>\n",
       "</div>"
      ],
      "text/plain": [
       "          0     1     2     3      4\n",
       "codes                               \n",
       "100    5023   512  3312  5536   6564\n",
       "101    7550   779  3705  9142  11086\n",
       "102    4825   477  2723  5134   6230\n",
       "200      80   857   162     0      7\n",
       "201     163   883   201     8      0\n",
       "202     622  4662   984    59     14"
      ]
     },
     "execution_count": 175,
     "metadata": {},
     "output_type": "execute_result"
    }
   ],
   "source": [
    "calculate_code_age_distribution(artifacts)"
   ]
  },
  {
   "cell_type": "code",
   "execution_count": 176,
   "metadata": {},
   "outputs": [
    {
     "data": {
      "text/html": [
       "<div>\n",
       "<style scoped>\n",
       "    .dataframe tbody tr th:only-of-type {\n",
       "        vertical-align: middle;\n",
       "    }\n",
       "\n",
       "    .dataframe tbody tr th {\n",
       "        vertical-align: top;\n",
       "    }\n",
       "\n",
       "    .dataframe thead th {\n",
       "        text-align: right;\n",
       "    }\n",
       "</style>\n",
       "<table border=\"1\" class=\"dataframe\">\n",
       "  <thead>\n",
       "    <tr style=\"text-align: right;\">\n",
       "      <th></th>\n",
       "      <th>0</th>\n",
       "      <th>1</th>\n",
       "      <th>2</th>\n",
       "      <th>3</th>\n",
       "      <th>4</th>\n",
       "    </tr>\n",
       "    <tr>\n",
       "      <th>codes</th>\n",
       "      <th></th>\n",
       "      <th></th>\n",
       "      <th></th>\n",
       "      <th></th>\n",
       "      <th></th>\n",
       "    </tr>\n",
       "  </thead>\n",
       "  <tbody>\n",
       "    <tr>\n",
       "      <th>100</th>\n",
       "      <td>671</td>\n",
       "      <td>75</td>\n",
       "      <td>492</td>\n",
       "      <td>793</td>\n",
       "      <td>901</td>\n",
       "    </tr>\n",
       "    <tr>\n",
       "      <th>101</th>\n",
       "      <td>67</td>\n",
       "      <td>17</td>\n",
       "      <td>37</td>\n",
       "      <td>51</td>\n",
       "      <td>46</td>\n",
       "    </tr>\n",
       "    <tr>\n",
       "      <th>102</th>\n",
       "      <td>57</td>\n",
       "      <td>14</td>\n",
       "      <td>37</td>\n",
       "      <td>42</td>\n",
       "      <td>25</td>\n",
       "    </tr>\n",
       "    <tr>\n",
       "      <th>200</th>\n",
       "      <td>10</td>\n",
       "      <td>106</td>\n",
       "      <td>20</td>\n",
       "      <td>0</td>\n",
       "      <td>1</td>\n",
       "    </tr>\n",
       "    <tr>\n",
       "      <th>201</th>\n",
       "      <td>11</td>\n",
       "      <td>54</td>\n",
       "      <td>15</td>\n",
       "      <td>1</td>\n",
       "      <td>0</td>\n",
       "    </tr>\n",
       "    <tr>\n",
       "      <th>202</th>\n",
       "      <td>73</td>\n",
       "      <td>519</td>\n",
       "      <td>111</td>\n",
       "      <td>8</td>\n",
       "      <td>1</td>\n",
       "    </tr>\n",
       "  </tbody>\n",
       "</table>\n",
       "</div>"
      ],
      "text/plain": [
       "         0    1    2    3    4\n",
       "codes                         \n",
       "100    671   75  492  793  901\n",
       "101     67   17   37   51   46\n",
       "102     57   14   37   42   25\n",
       "200     10  106   20    0    1\n",
       "201     11   54   15    1    0\n",
       "202     73  519  111    8    1"
      ]
     },
     "execution_count": 176,
     "metadata": {},
     "output_type": "execute_result"
    }
   ],
   "source": [
    "calculate_code_age_distribution(scans)"
   ]
  },
  {
   "cell_type": "markdown",
   "metadata": {},
   "source": [
    "### Distribution of height, weight and age against each other"
   ]
  },
  {
   "cell_type": "code",
   "execution_count": 177,
   "metadata": {
    "gather": {
     "logged": 1611745672883
    }
   },
   "outputs": [
    {
     "data": {
      "image/png": "[encoded data removed]",
      "text/plain": [
       "<Figure size 432x288 with 1 Axes>"
      ]
     },
     "metadata": {
      "needs_background": "light"
     },
     "output_type": "display_data"
    }
   ],
   "source": [
    "#distribution of height against age\n",
    "height_vs_age = scans.plot.scatter(x='height', y='age', c='red')"
   ]
  },
  {
   "cell_type": "code",
   "execution_count": 178,
   "metadata": {
    "gather": {
     "logged": 1611745673644
    }
   },
   "outputs": [
    {
     "data": {
      "image/png": "[encoded data removed]",
      "text/plain": [
       "<Figure size 432x288 with 1 Axes>"
      ]
     },
     "metadata": {
      "needs_background": "light"
     },
     "output_type": "display_data"
    }
   ],
   "source": [
    "#distribution of weight against age\n",
    "weight_vs_age = scans.plot.scatter(x='weight', y='age', c='red')"
   ]
  },
  {
   "cell_type": "code",
   "execution_count": 179,
   "metadata": {
    "gather": {
     "logged": 1611745674844
    }
   },
   "outputs": [
    {
     "data": {
      "image/png": "[encoded data removed]",
      "text/plain": [
       "<Figure size 432x288 with 1 Axes>"
      ]
     },
     "metadata": {
      "needs_background": "light"
     },
     "output_type": "display_data"
    }
   ],
   "source": [
    "## distribution of height against weight\n",
    "weight_vs_height = scans.plot.scatter(x='height', y='weight', c='red')"
   ]
  },
  {
   "cell_type": "markdown",
   "metadata": {},
   "source": [
    "## Analyze outliers: 1) age, 2) weight, 3) height, 4) pixel values"
   ]
  },
  {
   "cell_type": "code",
   "execution_count": 180,
   "metadata": {},
   "outputs": [],
   "source": [
    "import pickle\n",
    "from tqdm import tqdm\n",
    "\n",
    "def get_qrcode(artifact: str) -> str:\n",
    "    return artifact.split('/')[1]\n",
    "\n",
    "def get_path(row: pd.Series) -> str:\n",
    "    return f\"{str(DATASET_PATH)}/scans/{row.qrcode}/{row.key}/{row.artifact}\""
   ]
  },
  {
   "cell_type": "markdown",
   "metadata": {},
   "source": [
    "### 1) Check age"
   ]
  },
  {
   "cell_type": "code",
   "execution_count": 262,
   "metadata": {},
   "outputs": [
    {
     "name": "stdout",
     "output_type": "stream",
     "text": [
      "No. of unusual age artifacts:  18418\n",
      "No. of unique outlier qrcodes for age:  1024\n"
     ]
    },
    {
     "data": {
      "text/html": [
       "<div>\n",
       "<style scoped>\n",
       "    .dataframe tbody tr th:only-of-type {\n",
       "        vertical-align: middle;\n",
       "    }\n",
       "\n",
       "    .dataframe tbody tr th {\n",
       "        vertical-align: top;\n",
       "    }\n",
       "\n",
       "    .dataframe thead th {\n",
       "        text-align: right;\n",
       "    }\n",
       "</style>\n",
       "<table border=\"1\" class=\"dataframe\">\n",
       "  <thead>\n",
       "    <tr style=\"text-align: right;\">\n",
       "      <th></th>\n",
       "      <th>artifact</th>\n",
       "      <th>storage_path</th>\n",
       "      <th>height</th>\n",
       "      <th>weight</th>\n",
       "      <th>key</th>\n",
       "      <th>age</th>\n",
       "      <th>Years</th>\n",
       "      <th>qrcode</th>\n",
       "      <th>path</th>\n",
       "    </tr>\n",
       "  </thead>\n",
       "  <tbody>\n",
       "    <tr>\n",
       "      <th>48</th>\n",
       "      <td>pc_1583438127-xt6z0e0tsu_1591122024547_100_000.p</td>\n",
       "      <td>qrcode/1583438127-xt6z0e0tsu/measure/159112202...</td>\n",
       "      <td>89.7</td>\n",
       "      <td>11.50</td>\n",
       "      <td>100</td>\n",
       "      <td>140</td>\n",
       "      <td>0</td>\n",
       "      <td>1583438127-xt6z0e0tsu</td>\n",
       "      <td>/mnt/datasets/95k_depthmap_trainingdata/scans/...</td>\n",
       "    </tr>\n",
       "    <tr>\n",
       "      <th>637</th>\n",
       "      <td>pc_1583462523-zolqj1h1so_1591122114251_100_000.p</td>\n",
       "      <td>qrcode/1583462523-zolqj1h1so/measure/159112211...</td>\n",
       "      <td>93.9</td>\n",
       "      <td>12.85</td>\n",
       "      <td>100</td>\n",
       "      <td>145</td>\n",
       "      <td>0</td>\n",
       "      <td>1583462523-zolqj1h1so</td>\n",
       "      <td>/mnt/datasets/95k_depthmap_trainingdata/scans/...</td>\n",
       "    </tr>\n",
       "    <tr>\n",
       "      <th>669</th>\n",
       "      <td>pc_1583462542-nvwrue6sak_1591122146773_100_000.p</td>\n",
       "      <td>qrcode/1583462542-nvwrue6sak/measure/159112214...</td>\n",
       "      <td>97.7</td>\n",
       "      <td>12.45</td>\n",
       "      <td>100</td>\n",
       "      <td>107</td>\n",
       "      <td>0</td>\n",
       "      <td>1583462542-nvwrue6sak</td>\n",
       "      <td>/mnt/datasets/95k_depthmap_trainingdata/scans/...</td>\n",
       "    </tr>\n",
       "    <tr>\n",
       "      <th>1020</th>\n",
       "      <td>pc_1583465210-i5o9ye0f7y_1591428063476_100_000.p</td>\n",
       "      <td>qrcode/1583465210-i5o9ye0f7y/measure/159142806...</td>\n",
       "      <td>86.1</td>\n",
       "      <td>10.80</td>\n",
       "      <td>100</td>\n",
       "      <td>0</td>\n",
       "      <td>0</td>\n",
       "      <td>1583465210-i5o9ye0f7y</td>\n",
       "      <td>/mnt/datasets/95k_depthmap_trainingdata/scans/...</td>\n",
       "    </tr>\n",
       "    <tr>\n",
       "      <th>1025</th>\n",
       "      <td>pc_1583465223-o48oq5cow7_1591428073575_100_000.p</td>\n",
       "      <td>qrcode/1583465223-o48oq5cow7/measure/159142807...</td>\n",
       "      <td>90.6</td>\n",
       "      <td>10.90</td>\n",
       "      <td>100</td>\n",
       "      <td>0</td>\n",
       "      <td>0</td>\n",
       "      <td>1583465223-o48oq5cow7</td>\n",
       "      <td>/mnt/datasets/95k_depthmap_trainingdata/scans/...</td>\n",
       "    </tr>\n",
       "  </tbody>\n",
       "</table>\n",
       "</div>"
      ],
      "text/plain": [
       "                                              artifact  \\\n",
       "48    pc_1583438127-xt6z0e0tsu_1591122024547_100_000.p   \n",
       "637   pc_1583462523-zolqj1h1so_1591122114251_100_000.p   \n",
       "669   pc_1583462542-nvwrue6sak_1591122146773_100_000.p   \n",
       "1020  pc_1583465210-i5o9ye0f7y_1591428063476_100_000.p   \n",
       "1025  pc_1583465223-o48oq5cow7_1591428073575_100_000.p   \n",
       "\n",
       "                                           storage_path  height  weight  key  \\\n",
       "48    qrcode/1583438127-xt6z0e0tsu/measure/159112202...    89.7   11.50  100   \n",
       "637   qrcode/1583462523-zolqj1h1so/measure/159112211...    93.9   12.85  100   \n",
       "669   qrcode/1583462542-nvwrue6sak/measure/159112214...    97.7   12.45  100   \n",
       "1020  qrcode/1583465210-i5o9ye0f7y/measure/159142806...    86.1   10.80  100   \n",
       "1025  qrcode/1583465223-o48oq5cow7/measure/159142807...    90.6   10.90  100   \n",
       "\n",
       "      age  Years                 qrcode  \\\n",
       "48    140      0  1583438127-xt6z0e0tsu   \n",
       "637   145      0  1583462523-zolqj1h1so   \n",
       "669   107      0  1583462542-nvwrue6sak   \n",
       "1020    0      0  1583465210-i5o9ye0f7y   \n",
       "1025    0      0  1583465223-o48oq5cow7   \n",
       "\n",
       "                                                   path  \n",
       "48    /mnt/datasets/95k_depthmap_trainingdata/scans/...  \n",
       "637   /mnt/datasets/95k_depthmap_trainingdata/scans/...  \n",
       "669   /mnt/datasets/95k_depthmap_trainingdata/scans/...  \n",
       "1020  /mnt/datasets/95k_depthmap_trainingdata/scans/...  \n",
       "1025  /mnt/datasets/95k_depthmap_trainingdata/scans/...  "
      ]
     },
     "execution_count": 262,
     "metadata": {},
     "output_type": "execute_result"
    }
   ],
   "source": [
    "# Children should be between 6 months and 6 years, otherwise we assume something went wrong\n",
    "\n",
    "unusual_age_artifacts = artifacts[(artifacts.Years < 1) | (artifacts.Years > 6)]\n",
    "print(\"No. of unusual age artifacts: \", len(unusual_age_artifacts))\n",
    "\n",
    "unusual_age_drop_dupl = unusual_age_artifacts.drop_duplicates(subset='qrcode', keep='first')\n",
    "print(\"No. of unique outlier qrcodes for age: \", len(unusual_age_drop_dupl))\n",
    "\n",
    "unusual_age_drop_dupl.head()"
   ]
  },
  {
   "cell_type": "markdown",
   "metadata": {},
   "source": [
    "##### Check age < 6 months"
   ]
  },
  {
   "cell_type": "code",
   "execution_count": 276,
   "metadata": {},
   "outputs": [
    {
     "name": "stdout",
     "output_type": "stream",
     "text": [
      "No. of unusual age artifacts, younger than 365/2 days:  18263\n",
      "No. of unique outlier qrcodes, younger than 365/2 days:  1009\n"
     ]
    },
    {
     "data": {
      "text/html": [
       "<div>\n",
       "<style scoped>\n",
       "    .dataframe tbody tr th:only-of-type {\n",
       "        vertical-align: middle;\n",
       "    }\n",
       "\n",
       "    .dataframe tbody tr th {\n",
       "        vertical-align: top;\n",
       "    }\n",
       "\n",
       "    .dataframe thead th {\n",
       "        text-align: right;\n",
       "    }\n",
       "</style>\n",
       "<table border=\"1\" class=\"dataframe\">\n",
       "  <thead>\n",
       "    <tr style=\"text-align: right;\">\n",
       "      <th></th>\n",
       "      <th>artifact</th>\n",
       "      <th>storage_path</th>\n",
       "      <th>height</th>\n",
       "      <th>weight</th>\n",
       "      <th>key</th>\n",
       "      <th>age</th>\n",
       "      <th>Years</th>\n",
       "      <th>qrcode</th>\n",
       "      <th>path</th>\n",
       "    </tr>\n",
       "  </thead>\n",
       "  <tbody>\n",
       "    <tr>\n",
       "      <th>48</th>\n",
       "      <td>pc_1583438127-xt6z0e0tsu_1591122024547_100_000.p</td>\n",
       "      <td>qrcode/1583438127-xt6z0e0tsu/measure/159112202...</td>\n",
       "      <td>89.7</td>\n",
       "      <td>11.50</td>\n",
       "      <td>100</td>\n",
       "      <td>140</td>\n",
       "      <td>0</td>\n",
       "      <td>1583438127-xt6z0e0tsu</td>\n",
       "      <td>/mnt/datasets/95k_depthmap_trainingdata/scans/...</td>\n",
       "    </tr>\n",
       "    <tr>\n",
       "      <th>637</th>\n",
       "      <td>pc_1583462523-zolqj1h1so_1591122114251_100_000.p</td>\n",
       "      <td>qrcode/1583462523-zolqj1h1so/measure/159112211...</td>\n",
       "      <td>93.9</td>\n",
       "      <td>12.85</td>\n",
       "      <td>100</td>\n",
       "      <td>145</td>\n",
       "      <td>0</td>\n",
       "      <td>1583462523-zolqj1h1so</td>\n",
       "      <td>/mnt/datasets/95k_depthmap_trainingdata/scans/...</td>\n",
       "    </tr>\n",
       "    <tr>\n",
       "      <th>669</th>\n",
       "      <td>pc_1583462542-nvwrue6sak_1591122146773_100_000.p</td>\n",
       "      <td>qrcode/1583462542-nvwrue6sak/measure/159112214...</td>\n",
       "      <td>97.7</td>\n",
       "      <td>12.45</td>\n",
       "      <td>100</td>\n",
       "      <td>107</td>\n",
       "      <td>0</td>\n",
       "      <td>1583462542-nvwrue6sak</td>\n",
       "      <td>/mnt/datasets/95k_depthmap_trainingdata/scans/...</td>\n",
       "    </tr>\n",
       "    <tr>\n",
       "      <th>1020</th>\n",
       "      <td>pc_1583465210-i5o9ye0f7y_1591428063476_100_000.p</td>\n",
       "      <td>qrcode/1583465210-i5o9ye0f7y/measure/159142806...</td>\n",
       "      <td>86.1</td>\n",
       "      <td>10.80</td>\n",
       "      <td>100</td>\n",
       "      <td>0</td>\n",
       "      <td>0</td>\n",
       "      <td>1583465210-i5o9ye0f7y</td>\n",
       "      <td>/mnt/datasets/95k_depthmap_trainingdata/scans/...</td>\n",
       "    </tr>\n",
       "    <tr>\n",
       "      <th>1025</th>\n",
       "      <td>pc_1583465223-o48oq5cow7_1591428073575_100_000.p</td>\n",
       "      <td>qrcode/1583465223-o48oq5cow7/measure/159142807...</td>\n",
       "      <td>90.6</td>\n",
       "      <td>10.90</td>\n",
       "      <td>100</td>\n",
       "      <td>0</td>\n",
       "      <td>0</td>\n",
       "      <td>1583465223-o48oq5cow7</td>\n",
       "      <td>/mnt/datasets/95k_depthmap_trainingdata/scans/...</td>\n",
       "    </tr>\n",
       "  </tbody>\n",
       "</table>\n",
       "</div>"
      ],
      "text/plain": [
       "                                              artifact  \\\n",
       "48    pc_1583438127-xt6z0e0tsu_1591122024547_100_000.p   \n",
       "637   pc_1583462523-zolqj1h1so_1591122114251_100_000.p   \n",
       "669   pc_1583462542-nvwrue6sak_1591122146773_100_000.p   \n",
       "1020  pc_1583465210-i5o9ye0f7y_1591428063476_100_000.p   \n",
       "1025  pc_1583465223-o48oq5cow7_1591428073575_100_000.p   \n",
       "\n",
       "                                           storage_path  height  weight  key  \\\n",
       "48    qrcode/1583438127-xt6z0e0tsu/measure/159112202...    89.7   11.50  100   \n",
       "637   qrcode/1583462523-zolqj1h1so/measure/159112211...    93.9   12.85  100   \n",
       "669   qrcode/1583462542-nvwrue6sak/measure/159112214...    97.7   12.45  100   \n",
       "1020  qrcode/1583465210-i5o9ye0f7y/measure/159142806...    86.1   10.80  100   \n",
       "1025  qrcode/1583465223-o48oq5cow7/measure/159142807...    90.6   10.90  100   \n",
       "\n",
       "      age  Years                 qrcode  \\\n",
       "48    140      0  1583438127-xt6z0e0tsu   \n",
       "637   145      0  1583462523-zolqj1h1so   \n",
       "669   107      0  1583462542-nvwrue6sak   \n",
       "1020    0      0  1583465210-i5o9ye0f7y   \n",
       "1025    0      0  1583465223-o48oq5cow7   \n",
       "\n",
       "                                                   path  \n",
       "48    /mnt/datasets/95k_depthmap_trainingdata/scans/...  \n",
       "637   /mnt/datasets/95k_depthmap_trainingdata/scans/...  \n",
       "669   /mnt/datasets/95k_depthmap_trainingdata/scans/...  \n",
       "1020  /mnt/datasets/95k_depthmap_trainingdata/scans/...  \n",
       "1025  /mnt/datasets/95k_depthmap_trainingdata/scans/...  "
      ]
     },
     "execution_count": 276,
     "metadata": {},
     "output_type": "execute_result"
    }
   ],
   "source": [
    "unusual_age_artifacts_lowerbound = artifacts[artifacts.age < 365/2]\n",
    "print(\"No. of unusual age artifacts, younger than 365/2 days: \", len(unusual_age_artifacts_lowerbound))\n",
    "\n",
    "drop_dupl_age_lowerbound = unusual_age_artifacts_lowerbound.drop_duplicates(subset='qrcode', keep='first')\n",
    "print(\"No. of unique outlier qrcodes, younger than 365/2 days: \", len(drop_dupl_age_lowerbound))\n",
    "\n",
    "drop_dupl_age_lowerbound.head()"
   ]
  },
  {
   "cell_type": "markdown",
   "metadata": {},
   "source": [
    "##### Save outlier qr-codes for children < 6 months "
   ]
  },
  {
   "cell_type": "code",
   "execution_count": 278,
   "metadata": {},
   "outputs": [
    {
     "name": "stdout",
     "output_type": "stream",
     "text": [
      "1009\n",
      "['1583438127-xt6z0e0tsu', '1583462523-zolqj1h1so', '1583462542-nvwrue6sak', '1583465210-i5o9ye0f7y', '1583465223-o48oq5cow7', '1583465279-x22pprs96h', '1583465285-korju92su7', '1583465354-bpwt1kjvie', '1583465441-o63jswqdi6', '1583509239-rm7c0wryz7']\n"
     ]
    }
   ],
   "source": [
    "unusual_qrcodes_age_young = [get_qrcode(artifact) for artifact in drop_dupl_age_lowerbound.storage_path]\n",
    "print(len(drop_dupl_age_lowerbound))\n",
    "set(unusual_qrcodes_age_young)\n",
    "print(unusual_qrcodes_age_young[:10])"
   ]
  },
  {
   "cell_type": "markdown",
   "metadata": {},
   "source": [
    "#### Check age > 6 years"
   ]
  },
  {
   "cell_type": "code",
   "execution_count": 279,
   "metadata": {
    "scrolled": true
   },
   "outputs": [
    {
     "name": "stdout",
     "output_type": "stream",
     "text": [
      "No. of unusual age artifacts, older than 6 years:  155\n",
      "No. of unique outlier qrcodes, older than 6 years:  15\n"
     ]
    },
    {
     "data": {
      "text/html": [
       "<div>\n",
       "<style scoped>\n",
       "    .dataframe tbody tr th:only-of-type {\n",
       "        vertical-align: middle;\n",
       "    }\n",
       "\n",
       "    .dataframe tbody tr th {\n",
       "        vertical-align: top;\n",
       "    }\n",
       "\n",
       "    .dataframe thead th {\n",
       "        text-align: right;\n",
       "    }\n",
       "</style>\n",
       "<table border=\"1\" class=\"dataframe\">\n",
       "  <thead>\n",
       "    <tr style=\"text-align: right;\">\n",
       "      <th></th>\n",
       "      <th>artifact</th>\n",
       "      <th>storage_path</th>\n",
       "      <th>height</th>\n",
       "      <th>weight</th>\n",
       "      <th>key</th>\n",
       "      <th>age</th>\n",
       "      <th>Years</th>\n",
       "      <th>qrcode</th>\n",
       "      <th>path</th>\n",
       "    </tr>\n",
       "  </thead>\n",
       "  <tbody>\n",
       "    <tr>\n",
       "      <th>1847</th>\n",
       "      <td>pc_1583710796-p68osilppn_1591501060917_100_000.p</td>\n",
       "      <td>qrcode/1583710796-p68osilppn/measure/159150106...</td>\n",
       "      <td>78.6</td>\n",
       "      <td>8.05</td>\n",
       "      <td>100</td>\n",
       "      <td>18144</td>\n",
       "      <td>50</td>\n",
       "      <td>1583710796-p68osilppn</td>\n",
       "      <td>/mnt/datasets/95k_depthmap_trainingdata/scans/...</td>\n",
       "    </tr>\n",
       "    <tr>\n",
       "      <th>2352</th>\n",
       "      <td>pc_1583831904-13qoxucgul_1591468763710_100_001.p</td>\n",
       "      <td>qrcode/1583831904-13qoxucgul/measure/159146876...</td>\n",
       "      <td>87.8</td>\n",
       "      <td>11.25</td>\n",
       "      <td>100</td>\n",
       "      <td>18146</td>\n",
       "      <td>50</td>\n",
       "      <td>1583831904-13qoxucgul</td>\n",
       "      <td>/mnt/datasets/95k_depthmap_trainingdata/scans/...</td>\n",
       "    </tr>\n",
       "    <tr>\n",
       "      <th>3942</th>\n",
       "      <td>pc_1584751648-u50v4ryc54_1591501247986_100_000.p</td>\n",
       "      <td>qrcode/1584751648-u50v4ryc54/measure/159150124...</td>\n",
       "      <td>82.1</td>\n",
       "      <td>9.90</td>\n",
       "      <td>100</td>\n",
       "      <td>18158</td>\n",
       "      <td>50</td>\n",
       "      <td>1584751648-u50v4ryc54</td>\n",
       "      <td>/mnt/datasets/95k_depthmap_trainingdata/scans/...</td>\n",
       "    </tr>\n",
       "    <tr>\n",
       "      <th>8023</th>\n",
       "      <td>pc_1585001805-bv723pvcy0_1591680090254_100_004.p</td>\n",
       "      <td>qrcode/1585001805-bv723pvcy0/measure/159168009...</td>\n",
       "      <td>93.3</td>\n",
       "      <td>11.60</td>\n",
       "      <td>100</td>\n",
       "      <td>18176</td>\n",
       "      <td>50</td>\n",
       "      <td>1585001805-bv723pvcy0</td>\n",
       "      <td>/mnt/datasets/95k_depthmap_trainingdata/scans/...</td>\n",
       "    </tr>\n",
       "    <tr>\n",
       "      <th>22137</th>\n",
       "      <td>pc_1585361240-nievyiqbdv_1592804308041_100_000.p</td>\n",
       "      <td>qrcode/1585361240-nievyiqbdv/measure/159280430...</td>\n",
       "      <td>80.2</td>\n",
       "      <td>11.10</td>\n",
       "      <td>100</td>\n",
       "      <td>18166</td>\n",
       "      <td>50</td>\n",
       "      <td>1585361240-nievyiqbdv</td>\n",
       "      <td>/mnt/datasets/95k_depthmap_trainingdata/scans/...</td>\n",
       "    </tr>\n",
       "  </tbody>\n",
       "</table>\n",
       "</div>"
      ],
      "text/plain": [
       "                                               artifact  \\\n",
       "1847   pc_1583710796-p68osilppn_1591501060917_100_000.p   \n",
       "2352   pc_1583831904-13qoxucgul_1591468763710_100_001.p   \n",
       "3942   pc_1584751648-u50v4ryc54_1591501247986_100_000.p   \n",
       "8023   pc_1585001805-bv723pvcy0_1591680090254_100_004.p   \n",
       "22137  pc_1585361240-nievyiqbdv_1592804308041_100_000.p   \n",
       "\n",
       "                                            storage_path  height  weight  key  \\\n",
       "1847   qrcode/1583710796-p68osilppn/measure/159150106...    78.6    8.05  100   \n",
       "2352   qrcode/1583831904-13qoxucgul/measure/159146876...    87.8   11.25  100   \n",
       "3942   qrcode/1584751648-u50v4ryc54/measure/159150124...    82.1    9.90  100   \n",
       "8023   qrcode/1585001805-bv723pvcy0/measure/159168009...    93.3   11.60  100   \n",
       "22137  qrcode/1585361240-nievyiqbdv/measure/159280430...    80.2   11.10  100   \n",
       "\n",
       "         age  Years                 qrcode  \\\n",
       "1847   18144     50  1583710796-p68osilppn   \n",
       "2352   18146     50  1583831904-13qoxucgul   \n",
       "3942   18158     50  1584751648-u50v4ryc54   \n",
       "8023   18176     50  1585001805-bv723pvcy0   \n",
       "22137  18166     50  1585361240-nievyiqbdv   \n",
       "\n",
       "                                                    path  \n",
       "1847   /mnt/datasets/95k_depthmap_trainingdata/scans/...  \n",
       "2352   /mnt/datasets/95k_depthmap_trainingdata/scans/...  \n",
       "3942   /mnt/datasets/95k_depthmap_trainingdata/scans/...  \n",
       "8023   /mnt/datasets/95k_depthmap_trainingdata/scans/...  \n",
       "22137  /mnt/datasets/95k_depthmap_trainingdata/scans/...  "
      ]
     },
     "execution_count": 279,
     "metadata": {},
     "output_type": "execute_result"
    }
   ],
   "source": [
    "unusual_age_artifacts_upperbound = artifacts[artifacts.Years > 6]\n",
    "print(\"No. of unusual age artifacts, older than 6 years: \", len(unusual_age_artifacts_upperbound))\n",
    "\n",
    "drop_dupl_age_upperbound = unusual_age_artifacts_upperbound.drop_duplicates(subset='qrcode', keep='first')\n",
    "print(\"No. of unique outlier qrcodes, older than 6 years: \", len(drop_dupl_age_upperbound))\n",
    "\n",
    "drop_dupl_age_upperbound.head()"
   ]
  },
  {
   "cell_type": "markdown",
   "metadata": {},
   "source": [
    "##### Save outlier qr-codes for children > 6 years"
   ]
  },
  {
   "cell_type": "code",
   "execution_count": 266,
   "metadata": {},
   "outputs": [
    {
     "name": "stdout",
     "output_type": "stream",
     "text": [
      "15\n",
      "['1583710796-p68osilppn', '1583831904-13qoxucgul', '1584751648-u50v4ryc54', '1585001805-bv723pvcy0', '1585361240-nievyiqbdv', '1584998005-c5ddnj0vuc', '1584751846-e0ro1v86r2', '1584996738-hyxlj4cees', '1585011032-l23rao0l8r', '1585355880-o0kqvrzncj', '1585005264-o4vjkmj3o5', '1584995539-iry2pwtgjy', '1585274328-7g4vj56tk8', '1584995460-ewet5gjfer', '1585001723-az25md2fir']\n"
     ]
    }
   ],
   "source": [
    "unusual_qrcodes_age_old = [get_qrcode(artifact) for artifact in drop_dupl_age_upperbound.storage_path]\n",
    "print(len(unusual_qrcodes_age_old))\n",
    "set(unusual_qrcodes_age_old)\n",
    "print(unusual_qrcodes_age_old)"
   ]
  },
  {
   "cell_type": "markdown",
   "metadata": {},
   "source": [
    "### 2) Check weight"
   ]
  },
  {
   "cell_type": "code",
   "execution_count": 280,
   "metadata": {},
   "outputs": [
    {
     "name": "stdout",
     "output_type": "stream",
     "text": [
      "Number of unusual weight artifacts:  107\n",
      "No. of unique outlier qrcodes for weight:  12\n"
     ]
    },
    {
     "data": {
      "text/html": [
       "<div>\n",
       "<style scoped>\n",
       "    .dataframe tbody tr th:only-of-type {\n",
       "        vertical-align: middle;\n",
       "    }\n",
       "\n",
       "    .dataframe tbody tr th {\n",
       "        vertical-align: top;\n",
       "    }\n",
       "\n",
       "    .dataframe thead th {\n",
       "        text-align: right;\n",
       "    }\n",
       "</style>\n",
       "<table border=\"1\" class=\"dataframe\">\n",
       "  <thead>\n",
       "    <tr style=\"text-align: right;\">\n",
       "      <th></th>\n",
       "      <th>artifact</th>\n",
       "      <th>storage_path</th>\n",
       "      <th>height</th>\n",
       "      <th>weight</th>\n",
       "      <th>key</th>\n",
       "      <th>age</th>\n",
       "      <th>Years</th>\n",
       "      <th>qrcode</th>\n",
       "      <th>path</th>\n",
       "    </tr>\n",
       "  </thead>\n",
       "  <tbody>\n",
       "    <tr>\n",
       "      <th>86407</th>\n",
       "      <td>pc_1585366271-ok8vyfgcdw_1593022561906_102_014.p</td>\n",
       "      <td>qrcode/1585366271-ok8vyfgcdw/measure/159302256...</td>\n",
       "      <td>94.5</td>\n",
       "      <td>3.4</td>\n",
       "      <td>102</td>\n",
       "      <td>0</td>\n",
       "      <td>0</td>\n",
       "      <td>1585366271-ok8vyfgcdw</td>\n",
       "      <td>/mnt/datasets/95k_depthmap_trainingdata/scans/...</td>\n",
       "    </tr>\n",
       "    <tr>\n",
       "      <th>87752</th>\n",
       "      <td>pc_1585268854-t9dc711wl2_1597148937690_200_000.p</td>\n",
       "      <td>qrcode/1585268854-t9dc711wl2/measure/159714893...</td>\n",
       "      <td>58.0</td>\n",
       "      <td>4.6</td>\n",
       "      <td>200</td>\n",
       "      <td>289</td>\n",
       "      <td>1</td>\n",
       "      <td>1585268854-t9dc711wl2</td>\n",
       "      <td>/mnt/datasets/95k_depthmap_trainingdata/scans/...</td>\n",
       "    </tr>\n",
       "    <tr>\n",
       "      <th>88366</th>\n",
       "      <td>pc_1583464618-et67nim5pv_1596999352189_201_000.p</td>\n",
       "      <td>qrcode/1583464618-et67nim5pv/measure/159699935...</td>\n",
       "      <td>58.5</td>\n",
       "      <td>4.1</td>\n",
       "      <td>201</td>\n",
       "      <td>333</td>\n",
       "      <td>1</td>\n",
       "      <td>1583464618-et67nim5pv</td>\n",
       "      <td>/mnt/datasets/95k_depthmap_trainingdata/scans/...</td>\n",
       "    </tr>\n",
       "    <tr>\n",
       "      <th>90499</th>\n",
       "      <td>pc_1584997150-17hbdbbvst_1595409245154_202_000.p</td>\n",
       "      <td>qrcode/1584997150-17hbdbbvst/measure/159540924...</td>\n",
       "      <td>61.5</td>\n",
       "      <td>4.7</td>\n",
       "      <td>202</td>\n",
       "      <td>175</td>\n",
       "      <td>0</td>\n",
       "      <td>1584997150-17hbdbbvst</td>\n",
       "      <td>/mnt/datasets/95k_depthmap_trainingdata/scans/...</td>\n",
       "    </tr>\n",
       "    <tr>\n",
       "      <th>90635</th>\n",
       "      <td>pc_1584998076-071u80jhgb_1597092612758_202_000.p</td>\n",
       "      <td>qrcode/1584998076-071u80jhgb/measure/159709261...</td>\n",
       "      <td>54.4</td>\n",
       "      <td>3.2</td>\n",
       "      <td>202</td>\n",
       "      <td>347</td>\n",
       "      <td>1</td>\n",
       "      <td>1584998076-071u80jhgb</td>\n",
       "      <td>/mnt/datasets/95k_depthmap_trainingdata/scans/...</td>\n",
       "    </tr>\n",
       "  </tbody>\n",
       "</table>\n",
       "</div>"
      ],
      "text/plain": [
       "                                               artifact  \\\n",
       "86407  pc_1585366271-ok8vyfgcdw_1593022561906_102_014.p   \n",
       "87752  pc_1585268854-t9dc711wl2_1597148937690_200_000.p   \n",
       "88366  pc_1583464618-et67nim5pv_1596999352189_201_000.p   \n",
       "90499  pc_1584997150-17hbdbbvst_1595409245154_202_000.p   \n",
       "90635  pc_1584998076-071u80jhgb_1597092612758_202_000.p   \n",
       "\n",
       "                                            storage_path  height  weight  key  \\\n",
       "86407  qrcode/1585366271-ok8vyfgcdw/measure/159302256...    94.5     3.4  102   \n",
       "87752  qrcode/1585268854-t9dc711wl2/measure/159714893...    58.0     4.6  200   \n",
       "88366  qrcode/1583464618-et67nim5pv/measure/159699935...    58.5     4.1  201   \n",
       "90499  qrcode/1584997150-17hbdbbvst/measure/159540924...    61.5     4.7  202   \n",
       "90635  qrcode/1584998076-071u80jhgb/measure/159709261...    54.4     3.2  202   \n",
       "\n",
       "       age  Years                 qrcode  \\\n",
       "86407    0      0  1585366271-ok8vyfgcdw   \n",
       "87752  289      1  1585268854-t9dc711wl2   \n",
       "88366  333      1  1583464618-et67nim5pv   \n",
       "90499  175      0  1584997150-17hbdbbvst   \n",
       "90635  347      1  1584998076-071u80jhgb   \n",
       "\n",
       "                                                    path  \n",
       "86407  /mnt/datasets/95k_depthmap_trainingdata/scans/...  \n",
       "87752  /mnt/datasets/95k_depthmap_trainingdata/scans/...  \n",
       "88366  /mnt/datasets/95k_depthmap_trainingdata/scans/...  \n",
       "90499  /mnt/datasets/95k_depthmap_trainingdata/scans/...  \n",
       "90635  /mnt/datasets/95k_depthmap_trainingdata/scans/...  "
      ]
     },
     "execution_count": 280,
     "metadata": {},
     "output_type": "execute_result"
    }
   ],
   "source": [
    "# Children should weigh between 5 kg and 30 kg, otherwise we assume something went wrong (from WHO tables)\n",
    "\n",
    "unusual_weight_artifacts = artifacts[(artifacts.weight < 5.0) | (artifacts.weight > 30.0)]\n",
    "print(\"No. of unusual weight artifacts: \", len(unusual_weight_artifacts))\n",
    "\n",
    "drop_dupl_weight = unusual_weight_artifacts.drop_duplicates(subset='qrcode', keep='first')\n",
    "print(\"No. of unique outlier qrcodes for weight: \", len(drop_dupl_weight))\n",
    "\n",
    "drop_dupl_weight.head()"
   ]
  },
  {
   "cell_type": "markdown",
   "metadata": {},
   "source": [
    "##### Save outlier qr-codes for weight < 5 kg and > 30 kg"
   ]
  },
  {
   "cell_type": "code",
   "execution_count": 267,
   "metadata": {},
   "outputs": [
    {
     "name": "stdout",
     "output_type": "stream",
     "text": [
      "12\n",
      "['1585366271-ok8vyfgcdw', '1585268854-t9dc711wl2', '1583464618-et67nim5pv', '1584997150-17hbdbbvst', '1584998076-071u80jhgb', '1585003269-r6u05tzkj7', '1585008564-6b2vy7vcbe', '1585271708-jc2k2d03jd', '1585273422-lr31sn53h1', '1585273699-0o50bij8vh', '1585353338-boa4phzps5', '1585366660-6cqmyjhmxu']\n"
     ]
    }
   ],
   "source": [
    "unusual_qrcodes_weight = [get_qrcode(artifact) for artifact in drop_dupl_weight.storage_path]\n",
    "print(len(unusual_qrcodes_weight))\n",
    "set(unusual_qrcodes_weight)\n",
    "print(unusual_qrcodes_weight)"
   ]
  },
  {
   "cell_type": "markdown",
   "metadata": {},
   "source": [
    "### 3) Check height"
   ]
  },
  {
   "cell_type": "code",
   "execution_count": 268,
   "metadata": {},
   "outputs": [
    {
     "data": {
      "text/html": [
       "<div>\n",
       "<style scoped>\n",
       "    .dataframe tbody tr th:only-of-type {\n",
       "        vertical-align: middle;\n",
       "    }\n",
       "\n",
       "    .dataframe tbody tr th {\n",
       "        vertical-align: top;\n",
       "    }\n",
       "\n",
       "    .dataframe thead th {\n",
       "        text-align: right;\n",
       "    }\n",
       "</style>\n",
       "<table border=\"1\" class=\"dataframe\">\n",
       "  <thead>\n",
       "    <tr style=\"text-align: right;\">\n",
       "      <th></th>\n",
       "      <th>artifact</th>\n",
       "      <th>storage_path</th>\n",
       "      <th>height</th>\n",
       "      <th>weight</th>\n",
       "      <th>key</th>\n",
       "      <th>age</th>\n",
       "      <th>Years</th>\n",
       "      <th>qrcode</th>\n",
       "      <th>path</th>\n",
       "    </tr>\n",
       "  </thead>\n",
       "  <tbody>\n",
       "    <tr>\n",
       "      <th>2643</th>\n",
       "      <td>pc_1583855791-ldfc59ywg5_1591621942032_100_000.p</td>\n",
       "      <td>qrcode/1583855791-ldfc59ywg5/measure/159162194...</td>\n",
       "      <td>12.3</td>\n",
       "      <td>12.6</td>\n",
       "      <td>100</td>\n",
       "      <td>1357</td>\n",
       "      <td>4</td>\n",
       "      <td>1583855791-ldfc59ywg5</td>\n",
       "      <td>/mnt/datasets/95k_depthmap_trainingdata/scans/...</td>\n",
       "    </tr>\n",
       "    <tr>\n",
       "      <th>2644</th>\n",
       "      <td>pc_1583855791-ldfc59ywg5_1591621942032_100_001.p</td>\n",
       "      <td>qrcode/1583855791-ldfc59ywg5/measure/159162194...</td>\n",
       "      <td>12.3</td>\n",
       "      <td>12.6</td>\n",
       "      <td>100</td>\n",
       "      <td>1357</td>\n",
       "      <td>4</td>\n",
       "      <td>1583855791-ldfc59ywg5</td>\n",
       "      <td>/mnt/datasets/95k_depthmap_trainingdata/scans/...</td>\n",
       "    </tr>\n",
       "    <tr>\n",
       "      <th>2645</th>\n",
       "      <td>pc_1583855791-ldfc59ywg5_1591621942032_100_002.p</td>\n",
       "      <td>qrcode/1583855791-ldfc59ywg5/measure/159162194...</td>\n",
       "      <td>12.3</td>\n",
       "      <td>12.6</td>\n",
       "      <td>100</td>\n",
       "      <td>1357</td>\n",
       "      <td>4</td>\n",
       "      <td>1583855791-ldfc59ywg5</td>\n",
       "      <td>/mnt/datasets/95k_depthmap_trainingdata/scans/...</td>\n",
       "    </tr>\n",
       "    <tr>\n",
       "      <th>2646</th>\n",
       "      <td>pc_1583855791-ldfc59ywg5_1591621942032_100_003.p</td>\n",
       "      <td>qrcode/1583855791-ldfc59ywg5/measure/159162194...</td>\n",
       "      <td>12.3</td>\n",
       "      <td>12.6</td>\n",
       "      <td>100</td>\n",
       "      <td>1357</td>\n",
       "      <td>4</td>\n",
       "      <td>1583855791-ldfc59ywg5</td>\n",
       "      <td>/mnt/datasets/95k_depthmap_trainingdata/scans/...</td>\n",
       "    </tr>\n",
       "    <tr>\n",
       "      <th>2647</th>\n",
       "      <td>pc_1583855791-ldfc59ywg5_1591621942032_100_004.p</td>\n",
       "      <td>qrcode/1583855791-ldfc59ywg5/measure/159162194...</td>\n",
       "      <td>12.3</td>\n",
       "      <td>12.6</td>\n",
       "      <td>100</td>\n",
       "      <td>1357</td>\n",
       "      <td>4</td>\n",
       "      <td>1583855791-ldfc59ywg5</td>\n",
       "      <td>/mnt/datasets/95k_depthmap_trainingdata/scans/...</td>\n",
       "    </tr>\n",
       "  </tbody>\n",
       "</table>\n",
       "</div>"
      ],
      "text/plain": [
       "                                              artifact  \\\n",
       "2643  pc_1583855791-ldfc59ywg5_1591621942032_100_000.p   \n",
       "2644  pc_1583855791-ldfc59ywg5_1591621942032_100_001.p   \n",
       "2645  pc_1583855791-ldfc59ywg5_1591621942032_100_002.p   \n",
       "2646  pc_1583855791-ldfc59ywg5_1591621942032_100_003.p   \n",
       "2647  pc_1583855791-ldfc59ywg5_1591621942032_100_004.p   \n",
       "\n",
       "                                           storage_path  height  weight  key  \\\n",
       "2643  qrcode/1583855791-ldfc59ywg5/measure/159162194...    12.3    12.6  100   \n",
       "2644  qrcode/1583855791-ldfc59ywg5/measure/159162194...    12.3    12.6  100   \n",
       "2645  qrcode/1583855791-ldfc59ywg5/measure/159162194...    12.3    12.6  100   \n",
       "2646  qrcode/1583855791-ldfc59ywg5/measure/159162194...    12.3    12.6  100   \n",
       "2647  qrcode/1583855791-ldfc59ywg5/measure/159162194...    12.3    12.6  100   \n",
       "\n",
       "       age  Years                 qrcode  \\\n",
       "2643  1357      4  1583855791-ldfc59ywg5   \n",
       "2644  1357      4  1583855791-ldfc59ywg5   \n",
       "2645  1357      4  1583855791-ldfc59ywg5   \n",
       "2646  1357      4  1583855791-ldfc59ywg5   \n",
       "2647  1357      4  1583855791-ldfc59ywg5   \n",
       "\n",
       "                                                   path  \n",
       "2643  /mnt/datasets/95k_depthmap_trainingdata/scans/...  \n",
       "2644  /mnt/datasets/95k_depthmap_trainingdata/scans/...  \n",
       "2645  /mnt/datasets/95k_depthmap_trainingdata/scans/...  \n",
       "2646  /mnt/datasets/95k_depthmap_trainingdata/scans/...  \n",
       "2647  /mnt/datasets/95k_depthmap_trainingdata/scans/...  "
      ]
     },
     "execution_count": 268,
     "metadata": {},
     "output_type": "execute_result"
    }
   ],
   "source": [
    "# Children should be between 40cm and 150cm tall, otherwise we assume something went wrong\n",
    "unusual_height_artifacts = artifacts[(artifacts.height < 40.) | (artifacts.height > 150.)]\n",
    "unusual_height_artifacts.head()"
   ]
  },
  {
   "cell_type": "code",
   "execution_count": 269,
   "metadata": {},
   "outputs": [
    {
     "name": "stdout",
     "output_type": "stream",
     "text": [
      "No. of unusual height artifacts:  158\n",
      "No. of unique outlier qrcodes for height:  6\n"
     ]
    },
    {
     "data": {
      "text/html": [
       "<div>\n",
       "<style scoped>\n",
       "    .dataframe tbody tr th:only-of-type {\n",
       "        vertical-align: middle;\n",
       "    }\n",
       "\n",
       "    .dataframe tbody tr th {\n",
       "        vertical-align: top;\n",
       "    }\n",
       "\n",
       "    .dataframe thead th {\n",
       "        text-align: right;\n",
       "    }\n",
       "</style>\n",
       "<table border=\"1\" class=\"dataframe\">\n",
       "  <thead>\n",
       "    <tr style=\"text-align: right;\">\n",
       "      <th></th>\n",
       "      <th>artifact</th>\n",
       "      <th>storage_path</th>\n",
       "      <th>height</th>\n",
       "      <th>weight</th>\n",
       "      <th>key</th>\n",
       "      <th>age</th>\n",
       "      <th>Years</th>\n",
       "      <th>qrcode</th>\n",
       "      <th>path</th>\n",
       "    </tr>\n",
       "  </thead>\n",
       "  <tbody>\n",
       "    <tr>\n",
       "      <th>2643</th>\n",
       "      <td>pc_1583855791-ldfc59ywg5_1591621942032_100_000.p</td>\n",
       "      <td>qrcode/1583855791-ldfc59ywg5/measure/159162194...</td>\n",
       "      <td>12.3</td>\n",
       "      <td>12.60</td>\n",
       "      <td>100</td>\n",
       "      <td>1357</td>\n",
       "      <td>4</td>\n",
       "      <td>1583855791-ldfc59ywg5</td>\n",
       "      <td>/mnt/datasets/95k_depthmap_trainingdata/scans/...</td>\n",
       "    </tr>\n",
       "    <tr>\n",
       "      <th>2956</th>\n",
       "      <td>pc_1583997882-3jqstr1119_1591123012106_100_000.p</td>\n",
       "      <td>qrcode/1583997882-3jqstr1119/measure/159112301...</td>\n",
       "      <td>11.3</td>\n",
       "      <td>6.35</td>\n",
       "      <td>100</td>\n",
       "      <td>272</td>\n",
       "      <td>1</td>\n",
       "      <td>1583997882-3jqstr1119</td>\n",
       "      <td>/mnt/datasets/95k_depthmap_trainingdata/scans/...</td>\n",
       "    </tr>\n",
       "    <tr>\n",
       "      <th>6644</th>\n",
       "      <td>pc_1584998372-d85ogmqucw_1591618365119_100_000.p</td>\n",
       "      <td>qrcode/1584998372-d85ogmqucw/measure/159161836...</td>\n",
       "      <td>18.5</td>\n",
       "      <td>10.30</td>\n",
       "      <td>100</td>\n",
       "      <td>1233</td>\n",
       "      <td>3</td>\n",
       "      <td>1584998372-d85ogmqucw</td>\n",
       "      <td>/mnt/datasets/95k_depthmap_trainingdata/scans/...</td>\n",
       "    </tr>\n",
       "    <tr>\n",
       "      <th>17176</th>\n",
       "      <td>pc_1585274424-3oqa4i262a_1592534557864_100_000.p</td>\n",
       "      <td>qrcode/1585274424-3oqa4i262a/measure/159253455...</td>\n",
       "      <td>12.3</td>\n",
       "      <td>9.50</td>\n",
       "      <td>100</td>\n",
       "      <td>1270</td>\n",
       "      <td>3</td>\n",
       "      <td>1585274424-3oqa4i262a</td>\n",
       "      <td>/mnt/datasets/95k_depthmap_trainingdata/scans/...</td>\n",
       "    </tr>\n",
       "    <tr>\n",
       "      <th>23808</th>\n",
       "      <td>pc_1585366118-qao4zsk0m3_1593021766372_100_000.p</td>\n",
       "      <td>qrcode/1585366118-qao4zsk0m3/measure/159302176...</td>\n",
       "      <td>12.7</td>\n",
       "      <td>8.15</td>\n",
       "      <td>100</td>\n",
       "      <td>696</td>\n",
       "      <td>2</td>\n",
       "      <td>1585366118-qao4zsk0m3</td>\n",
       "      <td>/mnt/datasets/95k_depthmap_trainingdata/scans/...</td>\n",
       "    </tr>\n",
       "  </tbody>\n",
       "</table>\n",
       "</div>"
      ],
      "text/plain": [
       "                                               artifact  \\\n",
       "2643   pc_1583855791-ldfc59ywg5_1591621942032_100_000.p   \n",
       "2956   pc_1583997882-3jqstr1119_1591123012106_100_000.p   \n",
       "6644   pc_1584998372-d85ogmqucw_1591618365119_100_000.p   \n",
       "17176  pc_1585274424-3oqa4i262a_1592534557864_100_000.p   \n",
       "23808  pc_1585366118-qao4zsk0m3_1593021766372_100_000.p   \n",
       "\n",
       "                                            storage_path  height  weight  key  \\\n",
       "2643   qrcode/1583855791-ldfc59ywg5/measure/159162194...    12.3   12.60  100   \n",
       "2956   qrcode/1583997882-3jqstr1119/measure/159112301...    11.3    6.35  100   \n",
       "6644   qrcode/1584998372-d85ogmqucw/measure/159161836...    18.5   10.30  100   \n",
       "17176  qrcode/1585274424-3oqa4i262a/measure/159253455...    12.3    9.50  100   \n",
       "23808  qrcode/1585366118-qao4zsk0m3/measure/159302176...    12.7    8.15  100   \n",
       "\n",
       "        age  Years                 qrcode  \\\n",
       "2643   1357      4  1583855791-ldfc59ywg5   \n",
       "2956    272      1  1583997882-3jqstr1119   \n",
       "6644   1233      3  1584998372-d85ogmqucw   \n",
       "17176  1270      3  1585274424-3oqa4i262a   \n",
       "23808   696      2  1585366118-qao4zsk0m3   \n",
       "\n",
       "                                                    path  \n",
       "2643   /mnt/datasets/95k_depthmap_trainingdata/scans/...  \n",
       "2956   /mnt/datasets/95k_depthmap_trainingdata/scans/...  \n",
       "6644   /mnt/datasets/95k_depthmap_trainingdata/scans/...  \n",
       "17176  /mnt/datasets/95k_depthmap_trainingdata/scans/...  \n",
       "23808  /mnt/datasets/95k_depthmap_trainingdata/scans/...  "
      ]
     },
     "execution_count": 269,
     "metadata": {},
     "output_type": "execute_result"
    }
   ],
   "source": [
    "print(\"No. of unusual height artifacts: \", len(unusual_height_artifacts))\n",
    "\n",
    "drop_dupl_height = unusual_height_artifacts.drop_duplicates(subset='qrcode', keep='first')\n",
    "print(\"No. of unique outlier qrcodes for height: \", len(drop_dupl_height))\n",
    "\n",
    "drop_dupl_height.head()"
   ]
  },
  {
   "cell_type": "markdown",
   "metadata": {},
   "source": [
    "##### Save outlier qr-codes for height < 40 cm and > 150 cm"
   ]
  },
  {
   "cell_type": "code",
   "execution_count": 272,
   "metadata": {},
   "outputs": [
    {
     "name": "stdout",
     "output_type": "stream",
     "text": [
      "6\n",
      "['1583855791-ldfc59ywg5', '1583997882-3jqstr1119', '1584998372-d85ogmqucw', '1585274424-3oqa4i262a', '1585366118-qao4zsk0m3', '1585360775-fa64muouel']\n"
     ]
    }
   ],
   "source": [
    "unusual_qrcodes_height = [get_qrcode(artifact) for artifact in drop_dupl_height.storage_path]\n",
    "print(len(unusual_qrcodes_height))\n",
    "set(unusual_qrcodes_height)\n",
    "print(unusual_qrcodes_height)"
   ]
  },
  {
   "cell_type": "markdown",
   "metadata": {},
   "source": [
    "### 4) Check pixel values"
   ]
  },
  {
   "cell_type": "code",
   "execution_count": 275,
   "metadata": {},
   "outputs": [],
   "source": [
    "# check for depthmap pixel values < 0 and > 10, values found by MH through investigation\n",
    "artifacts['qrcode'] = artifacts.storage_path.apply(get_qrcode)\n",
    "artifacts['path'] = artifacts.apply(get_path, axis=1)"
   ]
  },
  {
   "cell_type": "code",
   "execution_count": 233,
   "metadata": {
    "scrolled": true
   },
   "outputs": [
    {
     "data": {
      "text/html": [
       "<div>\n",
       "<style scoped>\n",
       "    .dataframe tbody tr th:only-of-type {\n",
       "        vertical-align: middle;\n",
       "    }\n",
       "\n",
       "    .dataframe tbody tr th {\n",
       "        vertical-align: top;\n",
       "    }\n",
       "\n",
       "    .dataframe thead th {\n",
       "        text-align: right;\n",
       "    }\n",
       "</style>\n",
       "<table border=\"1\" class=\"dataframe\">\n",
       "  <thead>\n",
       "    <tr style=\"text-align: right;\">\n",
       "      <th></th>\n",
       "      <th>artifact</th>\n",
       "      <th>storage_path</th>\n",
       "      <th>height</th>\n",
       "      <th>weight</th>\n",
       "      <th>key</th>\n",
       "      <th>age</th>\n",
       "      <th>Years</th>\n",
       "      <th>qrcode</th>\n",
       "      <th>path</th>\n",
       "    </tr>\n",
       "  </thead>\n",
       "  <tbody>\n",
       "    <tr>\n",
       "      <th>0</th>\n",
       "      <td>pc_1583438052-nxew87bcv0_1591122011044_100_000.p</td>\n",
       "      <td>qrcode/1583438052-nxew87bcv0/measure/159112201...</td>\n",
       "      <td>86.6</td>\n",
       "      <td>10.3</td>\n",
       "      <td>100</td>\n",
       "      <td>1260</td>\n",
       "      <td>3</td>\n",
       "      <td>1583438052-nxew87bcv0</td>\n",
       "      <td>/mnt/datasets/95k_depthmap_trainingdata/scans/...</td>\n",
       "    </tr>\n",
       "    <tr>\n",
       "      <th>1</th>\n",
       "      <td>pc_1583438052-nxew87bcv0_1591122011044_100_004.p</td>\n",
       "      <td>qrcode/1583438052-nxew87bcv0/measure/159112201...</td>\n",
       "      <td>86.6</td>\n",
       "      <td>10.3</td>\n",
       "      <td>100</td>\n",
       "      <td>1260</td>\n",
       "      <td>3</td>\n",
       "      <td>1583438052-nxew87bcv0</td>\n",
       "      <td>/mnt/datasets/95k_depthmap_trainingdata/scans/...</td>\n",
       "    </tr>\n",
       "    <tr>\n",
       "      <th>2</th>\n",
       "      <td>pc_1583438052-nxew87bcv0_1591122011044_100_005.p</td>\n",
       "      <td>qrcode/1583438052-nxew87bcv0/measure/159112201...</td>\n",
       "      <td>86.6</td>\n",
       "      <td>10.3</td>\n",
       "      <td>100</td>\n",
       "      <td>1260</td>\n",
       "      <td>3</td>\n",
       "      <td>1583438052-nxew87bcv0</td>\n",
       "      <td>/mnt/datasets/95k_depthmap_trainingdata/scans/...</td>\n",
       "    </tr>\n",
       "    <tr>\n",
       "      <th>3</th>\n",
       "      <td>pc_1583438052-nxew87bcv0_1591122011044_100_006.p</td>\n",
       "      <td>qrcode/1583438052-nxew87bcv0/measure/159112201...</td>\n",
       "      <td>86.6</td>\n",
       "      <td>10.3</td>\n",
       "      <td>100</td>\n",
       "      <td>1260</td>\n",
       "      <td>3</td>\n",
       "      <td>1583438052-nxew87bcv0</td>\n",
       "      <td>/mnt/datasets/95k_depthmap_trainingdata/scans/...</td>\n",
       "    </tr>\n",
       "    <tr>\n",
       "      <th>4</th>\n",
       "      <td>pc_1583438052-nxew87bcv0_1591122011044_100_007.p</td>\n",
       "      <td>qrcode/1583438052-nxew87bcv0/measure/159112201...</td>\n",
       "      <td>86.6</td>\n",
       "      <td>10.3</td>\n",
       "      <td>100</td>\n",
       "      <td>1260</td>\n",
       "      <td>3</td>\n",
       "      <td>1583438052-nxew87bcv0</td>\n",
       "      <td>/mnt/datasets/95k_depthmap_trainingdata/scans/...</td>\n",
       "    </tr>\n",
       "  </tbody>\n",
       "</table>\n",
       "</div>"
      ],
      "text/plain": [
       "                                           artifact  \\\n",
       "0  pc_1583438052-nxew87bcv0_1591122011044_100_000.p   \n",
       "1  pc_1583438052-nxew87bcv0_1591122011044_100_004.p   \n",
       "2  pc_1583438052-nxew87bcv0_1591122011044_100_005.p   \n",
       "3  pc_1583438052-nxew87bcv0_1591122011044_100_006.p   \n",
       "4  pc_1583438052-nxew87bcv0_1591122011044_100_007.p   \n",
       "\n",
       "                                        storage_path  height  weight  key  \\\n",
       "0  qrcode/1583438052-nxew87bcv0/measure/159112201...    86.6    10.3  100   \n",
       "1  qrcode/1583438052-nxew87bcv0/measure/159112201...    86.6    10.3  100   \n",
       "2  qrcode/1583438052-nxew87bcv0/measure/159112201...    86.6    10.3  100   \n",
       "3  qrcode/1583438052-nxew87bcv0/measure/159112201...    86.6    10.3  100   \n",
       "4  qrcode/1583438052-nxew87bcv0/measure/159112201...    86.6    10.3  100   \n",
       "\n",
       "    age  Years                 qrcode  \\\n",
       "0  1260      3  1583438052-nxew87bcv0   \n",
       "1  1260      3  1583438052-nxew87bcv0   \n",
       "2  1260      3  1583438052-nxew87bcv0   \n",
       "3  1260      3  1583438052-nxew87bcv0   \n",
       "4  1260      3  1583438052-nxew87bcv0   \n",
       "\n",
       "                                                path  \n",
       "0  /mnt/datasets/95k_depthmap_trainingdata/scans/...  \n",
       "1  /mnt/datasets/95k_depthmap_trainingdata/scans/...  \n",
       "2  /mnt/datasets/95k_depthmap_trainingdata/scans/...  \n",
       "3  /mnt/datasets/95k_depthmap_trainingdata/scans/...  \n",
       "4  /mnt/datasets/95k_depthmap_trainingdata/scans/...  "
      ]
     },
     "execution_count": 233,
     "metadata": {},
     "output_type": "execute_result"
    }
   ],
   "source": [
    "artifacts.head()"
   ]
  },
  {
   "cell_type": "code",
   "execution_count": 232,
   "metadata": {},
   "outputs": [
    {
     "name": "stdout",
     "output_type": "stream",
     "text": [
      "/mnt/datasets/95k_depthmap_trainingdata/scans/1583438052-nxew87bcv0/100/pc_1583438052-nxew87bcv0_1591122011044_100_000.p\r\n"
     ]
    }
   ],
   "source": [
    "! ls {artifacts.path.iloc[0]}"
   ]
  },
  {
   "cell_type": "code",
   "execution_count": 234,
   "metadata": {},
   "outputs": [
    {
     "name": "stderr",
     "output_type": "stream",
     "text": [
      " 47%|████▋     | 45181/96026 [16:11<21:24, 39.57it/s]  "
     ]
    },
    {
     "name": "stdout",
     "output_type": "stream",
     "text": [
      "/mnt/datasets/95k_depthmap_trainingdata/scans/1585010027-xb21f31tvj/101/pc_1585010027-xb21f31tvj_1592674994326_101_015.p has a (unexpectedly big) maximal pixel value of 714286.0\n"
     ]
    },
    {
     "name": "stderr",
     "output_type": "stream",
     "text": [
      "100%|██████████| 96026/96026 [33:14<00:00, 48.13it/s]  \n"
     ]
    }
   ],
   "source": [
    "unusual_pixel_artifacts = []\n",
    "for path in tqdm(artifacts['path']):\n",
    "    depthmap, targets = pickle.load(open(path, \"rb\"))\n",
    "    max_value = depthmap.max()\n",
    "    if max_value >= 10:\n",
    "        unusual_pixel_artifacts.append(path)\n",
    "        print(f\"{path} has a (unexpectedly big) maximal pixel value of {max_value}\")\n",
    "    min_value = depthmap.min()\n",
    "    if min_value < 0:\n",
    "        unusual_pixel_artifacts.append(path)\n",
    "        print(f\"{path} has a (unexpectedly small) minimal pixel value of {max_value}\")"
   ]
  },
  {
   "cell_type": "code",
   "execution_count": 235,
   "metadata": {},
   "outputs": [
    {
     "data": {
      "text/plain": [
       "['/mnt/datasets/95k_depthmap_trainingdata/scans/1585010027-xb21f31tvj/101/pc_1585010027-xb21f31tvj_1592674994326_101_015.p']"
      ]
     },
     "execution_count": 235,
     "metadata": {},
     "output_type": "execute_result"
    }
   ],
   "source": [
    "unusual_pixel_artifacts"
   ]
  },
  {
   "cell_type": "markdown",
   "metadata": {},
   "source": [
    "##### Save outlier qr-codes for depthmap pixel values < 0 and > 10"
   ]
  },
  {
   "cell_type": "code",
   "execution_count": 274,
   "metadata": {},
   "outputs": [
    {
     "name": "stdout",
     "output_type": "stream",
     "text": [
      "1\n",
      "1585010027-xb21f31tvj\n"
     ]
    }
   ],
   "source": [
    "unusual_qrcodes_pixel = str(unusual_pixel_artifacts).split('/')[5]\n",
    "print(len(unusual_pixel_artifacts))\n",
    "print(unusual_qrcodes_pixel)"
   ]
  }
 ],
 "metadata": {
  "kernel_info": {
   "name": "cgm_qa_pipeline"
  },
  "kernelspec": {
   "display_name": "CGM_QA_PIPELINE",
   "language": "python",
   "name": "cgm_qa_pipeline"
  },
  "language_info": {
   "codemirror_mode": {
    "name": "ipython",
    "version": 3
   },
   "file_extension": ".py",
   "mimetype": "text/x-python",
   "name": "python",
   "nbconvert_exporter": "python",
   "pygments_lexer": "ipython3",
   "version": "3.6.9"
  },
  "nteract": {
   "version": "nteract-front-end@1.0.0"
  }
 },
 "nbformat": 4,
 "nbformat_minor": 4
}
