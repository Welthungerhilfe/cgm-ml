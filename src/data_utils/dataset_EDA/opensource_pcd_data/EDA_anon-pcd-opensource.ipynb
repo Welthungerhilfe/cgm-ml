{
 "cells": [
  {
   "cell_type": "code",
   "execution_count": 38,
   "metadata": {},
   "outputs": [],
   "source": [
    "import pandas as pd\n",
    "import math\n",
    "import numpy as np\n",
    "from shapely.geometry import Point\n",
    "import geopandas as gpd\n",
    "from geopandas import GeoDataFrame"
   ]
  },
  {
   "cell_type": "markdown",
   "metadata": {},
   "source": [
    "### read the csv and total no. of children"
   ]
  },
  {
   "cell_type": "code",
   "execution_count": 2,
   "metadata": {},
   "outputs": [
    {
     "name": "stdout",
     "output_type": "stream",
     "text": [
      "Total no. of children: 1680\n"
     ]
    },
    {
     "data": {
      "text/html": [
       "<div>\n",
       "<style scoped>\n",
       "    .dataframe tbody tr th:only-of-type {\n",
       "        vertical-align: middle;\n",
       "    }\n",
       "\n",
       "    .dataframe tbody tr th {\n",
       "        vertical-align: top;\n",
       "    }\n",
       "\n",
       "    .dataframe thead th {\n",
       "        text-align: right;\n",
       "    }\n",
       "</style>\n",
       "<table border=\"1\" class=\"dataframe\">\n",
       "  <thead>\n",
       "    <tr style=\"text-align: right;\">\n",
       "      <th></th>\n",
       "      <th>qrcode</th>\n",
       "      <th>person_id</th>\n",
       "      <th>age</th>\n",
       "      <th>Years</th>\n",
       "      <th>key</th>\n",
       "      <th>height</th>\n",
       "      <th>weight</th>\n",
       "      <th>muac</th>\n",
       "      <th>month_age</th>\n",
       "      <th>gender</th>\n",
       "      <th>Z_score_WFH</th>\n",
       "      <th>Class_WFH</th>\n",
       "      <th>Z_score_WFA</th>\n",
       "      <th>Class_WFA</th>\n",
       "      <th>Z_score_HFA</th>\n",
       "      <th>Class_HFA</th>\n",
       "      <th>longitude</th>\n",
       "      <th>latitude</th>\n",
       "      <th>State</th>\n",
       "    </tr>\n",
       "  </thead>\n",
       "  <tbody>\n",
       "    <tr>\n",
       "      <th>0</th>\n",
       "      <td>1584997475-0195z663pl</td>\n",
       "      <td>DQKAiT6cSJkQW2ya_person_1569888000000_Dj66PtJa...</td>\n",
       "      <td>1420</td>\n",
       "      <td>4</td>\n",
       "      <td>100.0</td>\n",
       "      <td>85.7</td>\n",
       "      <td>9.45</td>\n",
       "      <td>12.5</td>\n",
       "      <td>47</td>\n",
       "      <td>M</td>\n",
       "      <td>-2.83</td>\n",
       "      <td>MAM</td>\n",
       "      <td>-4.16</td>\n",
       "      <td>Severly Under-weight</td>\n",
       "      <td>-4.10</td>\n",
       "      <td>Severly Stunted</td>\n",
       "      <td>79.0</td>\n",
       "      <td>24.0</td>\n",
       "      <td>Madhya Pradesh</td>\n",
       "    </tr>\n",
       "    <tr>\n",
       "      <th>1</th>\n",
       "      <td>1584999865-01t0n240ra</td>\n",
       "      <td>lD0OAaaZ0pcD0zRk_person_1570060800000_1AoTKLlT...</td>\n",
       "      <td>1529</td>\n",
       "      <td>4</td>\n",
       "      <td>100.0</td>\n",
       "      <td>86.5</td>\n",
       "      <td>12.45</td>\n",
       "      <td>13.1</td>\n",
       "      <td>50</td>\n",
       "      <td>F</td>\n",
       "      <td>0.62</td>\n",
       "      <td>Healthy</td>\n",
       "      <td>-2.07</td>\n",
       "      <td>Moderately Under-weight</td>\n",
       "      <td>-3.97</td>\n",
       "      <td>Severly Stunted</td>\n",
       "      <td>NaN</td>\n",
       "      <td>NaN</td>\n",
       "      <td>NaN</td>\n",
       "    </tr>\n",
       "    <tr>\n",
       "      <th>2</th>\n",
       "      <td>1583942091-02migjdla1</td>\n",
       "      <td>ZPFkcYGhq15raY3J_person_1573603200000_lfu3HzFC...</td>\n",
       "      <td>945</td>\n",
       "      <td>3</td>\n",
       "      <td>100.0</td>\n",
       "      <td>71.6</td>\n",
       "      <td>8.10</td>\n",
       "      <td>13.5</td>\n",
       "      <td>31</td>\n",
       "      <td>F</td>\n",
       "      <td>-0.68</td>\n",
       "      <td>Healthy</td>\n",
       "      <td>-3.83</td>\n",
       "      <td>Severly Under-weight</td>\n",
       "      <td>-5.55</td>\n",
       "      <td>Severly Stunted</td>\n",
       "      <td>79.0</td>\n",
       "      <td>24.0</td>\n",
       "      <td>Madhya Pradesh</td>\n",
       "    </tr>\n",
       "    <tr>\n",
       "      <th>3</th>\n",
       "      <td>1585011777-031jov4jpw</td>\n",
       "      <td>D7tiN7CtUEM9WoRx_person_1571270400000_Q1hKfLbv...</td>\n",
       "      <td>924</td>\n",
       "      <td>3</td>\n",
       "      <td>100.0</td>\n",
       "      <td>78.5</td>\n",
       "      <td>11.75</td>\n",
       "      <td>15.3</td>\n",
       "      <td>30</td>\n",
       "      <td>M</td>\n",
       "      <td>1.55</td>\n",
       "      <td>Healthy</td>\n",
       "      <td>-1.05</td>\n",
       "      <td>Healthy</td>\n",
       "      <td>-3.94</td>\n",
       "      <td>Severly Stunted</td>\n",
       "      <td>77.0</td>\n",
       "      <td>25.0</td>\n",
       "      <td>Madhya Pradesh</td>\n",
       "    </tr>\n",
       "    <tr>\n",
       "      <th>4</th>\n",
       "      <td>1585003039-032hniw434</td>\n",
       "      <td>8SMAKMkY79LovcBU_person_1570838400000_nMpSBNek...</td>\n",
       "      <td>1320</td>\n",
       "      <td>4</td>\n",
       "      <td>102.0</td>\n",
       "      <td>108.1</td>\n",
       "      <td>15.50</td>\n",
       "      <td>14.8</td>\n",
       "      <td>44</td>\n",
       "      <td>F</td>\n",
       "      <td>-1.55</td>\n",
       "      <td>Healthy</td>\n",
       "      <td>0.08</td>\n",
       "      <td>Healthy</td>\n",
       "      <td>1.88</td>\n",
       "      <td>Healthy</td>\n",
       "      <td>NaN</td>\n",
       "      <td>NaN</td>\n",
       "      <td>NaN</td>\n",
       "    </tr>\n",
       "  </tbody>\n",
       "</table>\n",
       "</div>"
      ],
      "text/plain": [
       "                  qrcode                                          person_id  \\\n",
       "0  1584997475-0195z663pl  DQKAiT6cSJkQW2ya_person_1569888000000_Dj66PtJa...   \n",
       "1  1584999865-01t0n240ra  lD0OAaaZ0pcD0zRk_person_1570060800000_1AoTKLlT...   \n",
       "2  1583942091-02migjdla1  ZPFkcYGhq15raY3J_person_1573603200000_lfu3HzFC...   \n",
       "3  1585011777-031jov4jpw  D7tiN7CtUEM9WoRx_person_1571270400000_Q1hKfLbv...   \n",
       "4  1585003039-032hniw434  8SMAKMkY79LovcBU_person_1570838400000_nMpSBNek...   \n",
       "\n",
       "    age  Years    key  height  weight  muac  month_age gender  Z_score_WFH  \\\n",
       "0  1420      4  100.0    85.7    9.45  12.5         47      M        -2.83   \n",
       "1  1529      4  100.0    86.5   12.45  13.1         50      F         0.62   \n",
       "2   945      3  100.0    71.6    8.10  13.5         31      F        -0.68   \n",
       "3   924      3  100.0    78.5   11.75  15.3         30      M         1.55   \n",
       "4  1320      4  102.0   108.1   15.50  14.8         44      F        -1.55   \n",
       "\n",
       "  Class_WFH  Z_score_WFA                Class_WFA  Z_score_HFA  \\\n",
       "0       MAM        -4.16     Severly Under-weight        -4.10   \n",
       "1   Healthy        -2.07  Moderately Under-weight        -3.97   \n",
       "2   Healthy        -3.83     Severly Under-weight        -5.55   \n",
       "3   Healthy        -1.05                  Healthy        -3.94   \n",
       "4   Healthy         0.08                  Healthy         1.88   \n",
       "\n",
       "         Class_HFA  longitude  latitude           State  \n",
       "0  Severly Stunted       79.0      24.0  Madhya Pradesh  \n",
       "1  Severly Stunted        NaN       NaN             NaN  \n",
       "2  Severly Stunted       79.0      24.0  Madhya Pradesh  \n",
       "3  Severly Stunted       77.0      25.0  Madhya Pradesh  \n",
       "4          Healthy        NaN       NaN             NaN  "
      ]
     },
     "execution_count": 2,
     "metadata": {},
     "output_type": "execute_result"
    }
   ],
   "source": [
    "scans = pd.read_csv('../../../../cgm-ml-service/dataset/msft/newmsft.csv')\n",
    "print(\"Total no. of children:\", len(scans))\n",
    "scans.head()"
   ]
  },
  {
   "cell_type": "code",
   "execution_count": 3,
   "metadata": {},
   "outputs": [
    {
     "data": {
      "text/html": [
       "<div>\n",
       "<style scoped>\n",
       "    .dataframe tbody tr th:only-of-type {\n",
       "        vertical-align: middle;\n",
       "    }\n",
       "\n",
       "    .dataframe tbody tr th {\n",
       "        vertical-align: top;\n",
       "    }\n",
       "\n",
       "    .dataframe thead th {\n",
       "        text-align: right;\n",
       "    }\n",
       "</style>\n",
       "<table border=\"1\" class=\"dataframe\">\n",
       "  <thead>\n",
       "    <tr style=\"text-align: right;\">\n",
       "      <th></th>\n",
       "      <th>age</th>\n",
       "      <th>Years</th>\n",
       "      <th>key</th>\n",
       "      <th>height</th>\n",
       "      <th>weight</th>\n",
       "      <th>muac</th>\n",
       "      <th>month_age</th>\n",
       "      <th>Z_score_WFH</th>\n",
       "      <th>Z_score_WFA</th>\n",
       "      <th>Z_score_HFA</th>\n",
       "      <th>longitude</th>\n",
       "      <th>latitude</th>\n",
       "    </tr>\n",
       "  </thead>\n",
       "  <tbody>\n",
       "    <tr>\n",
       "      <th>count</th>\n",
       "      <td>1680.000000</td>\n",
       "      <td>1680.000000</td>\n",
       "      <td>1680.000000</td>\n",
       "      <td>1680.000000</td>\n",
       "      <td>1680.000000</td>\n",
       "      <td>1680.000000</td>\n",
       "      <td>1680.000000</td>\n",
       "      <td>1680.000000</td>\n",
       "      <td>1665.000000</td>\n",
       "      <td>1665.000000</td>\n",
       "      <td>1093.000000</td>\n",
       "      <td>1093.000000</td>\n",
       "    </tr>\n",
       "    <tr>\n",
       "      <th>mean</th>\n",
       "      <td>1398.369643</td>\n",
       "      <td>3.861905</td>\n",
       "      <td>100.172619</td>\n",
       "      <td>93.250536</td>\n",
       "      <td>12.274344</td>\n",
       "      <td>14.222143</td>\n",
       "      <td>46.128571</td>\n",
       "      <td>-1.268554</td>\n",
       "      <td>-2.050372</td>\n",
       "      <td>-2.030577</td>\n",
       "      <td>77.701738</td>\n",
       "      <td>24.489478</td>\n",
       "    </tr>\n",
       "    <tr>\n",
       "      <th>std</th>\n",
       "      <td>263.351921</td>\n",
       "      <td>0.752190</td>\n",
       "      <td>0.488059</td>\n",
       "      <td>7.067730</td>\n",
       "      <td>1.844005</td>\n",
       "      <td>0.996084</td>\n",
       "      <td>8.788570</td>\n",
       "      <td>0.970983</td>\n",
       "      <td>0.944995</td>\n",
       "      <td>1.218890</td>\n",
       "      <td>1.343403</td>\n",
       "      <td>0.500118</td>\n",
       "    </tr>\n",
       "    <tr>\n",
       "      <th>min</th>\n",
       "      <td>914.000000</td>\n",
       "      <td>3.000000</td>\n",
       "      <td>100.000000</td>\n",
       "      <td>58.300000</td>\n",
       "      <td>7.650000</td>\n",
       "      <td>11.500000</td>\n",
       "      <td>30.000000</td>\n",
       "      <td>-5.470000</td>\n",
       "      <td>-5.050000</td>\n",
       "      <td>-10.290000</td>\n",
       "      <td>76.000000</td>\n",
       "      <td>24.000000</td>\n",
       "    </tr>\n",
       "    <tr>\n",
       "      <th>25%</th>\n",
       "      <td>1166.000000</td>\n",
       "      <td>3.000000</td>\n",
       "      <td>100.000000</td>\n",
       "      <td>88.100000</td>\n",
       "      <td>11.000000</td>\n",
       "      <td>13.500000</td>\n",
       "      <td>38.000000</td>\n",
       "      <td>-1.890000</td>\n",
       "      <td>-2.700000</td>\n",
       "      <td>-2.780000</td>\n",
       "      <td>76.000000</td>\n",
       "      <td>24.000000</td>\n",
       "    </tr>\n",
       "    <tr>\n",
       "      <th>50%</th>\n",
       "      <td>1406.000000</td>\n",
       "      <td>4.000000</td>\n",
       "      <td>100.000000</td>\n",
       "      <td>93.000000</td>\n",
       "      <td>12.150000</td>\n",
       "      <td>14.200000</td>\n",
       "      <td>46.000000</td>\n",
       "      <td>-1.260000</td>\n",
       "      <td>-2.050000</td>\n",
       "      <td>-2.000000</td>\n",
       "      <td>77.000000</td>\n",
       "      <td>24.000000</td>\n",
       "    </tr>\n",
       "    <tr>\n",
       "      <th>75%</th>\n",
       "      <td>1621.250000</td>\n",
       "      <td>4.000000</td>\n",
       "      <td>100.000000</td>\n",
       "      <td>98.500000</td>\n",
       "      <td>13.500000</td>\n",
       "      <td>14.900000</td>\n",
       "      <td>54.000000</td>\n",
       "      <td>-0.670000</td>\n",
       "      <td>-1.420000</td>\n",
       "      <td>-1.300000</td>\n",
       "      <td>79.000000</td>\n",
       "      <td>25.000000</td>\n",
       "    </tr>\n",
       "    <tr>\n",
       "      <th>max</th>\n",
       "      <td>2094.000000</td>\n",
       "      <td>6.000000</td>\n",
       "      <td>102.000000</td>\n",
       "      <td>114.700000</td>\n",
       "      <td>19.000000</td>\n",
       "      <td>18.200000</td>\n",
       "      <td>69.000000</td>\n",
       "      <td>8.100000</td>\n",
       "      <td>1.350000</td>\n",
       "      <td>3.190000</td>\n",
       "      <td>80.000000</td>\n",
       "      <td>25.000000</td>\n",
       "    </tr>\n",
       "  </tbody>\n",
       "</table>\n",
       "</div>"
      ],
      "text/plain": [
       "               age        Years          key       height       weight  \\\n",
       "count  1680.000000  1680.000000  1680.000000  1680.000000  1680.000000   \n",
       "mean   1398.369643     3.861905   100.172619    93.250536    12.274344   \n",
       "std     263.351921     0.752190     0.488059     7.067730     1.844005   \n",
       "min     914.000000     3.000000   100.000000    58.300000     7.650000   \n",
       "25%    1166.000000     3.000000   100.000000    88.100000    11.000000   \n",
       "50%    1406.000000     4.000000   100.000000    93.000000    12.150000   \n",
       "75%    1621.250000     4.000000   100.000000    98.500000    13.500000   \n",
       "max    2094.000000     6.000000   102.000000   114.700000    19.000000   \n",
       "\n",
       "              muac    month_age  Z_score_WFH  Z_score_WFA  Z_score_HFA  \\\n",
       "count  1680.000000  1680.000000  1680.000000  1665.000000  1665.000000   \n",
       "mean     14.222143    46.128571    -1.268554    -2.050372    -2.030577   \n",
       "std       0.996084     8.788570     0.970983     0.944995     1.218890   \n",
       "min      11.500000    30.000000    -5.470000    -5.050000   -10.290000   \n",
       "25%      13.500000    38.000000    -1.890000    -2.700000    -2.780000   \n",
       "50%      14.200000    46.000000    -1.260000    -2.050000    -2.000000   \n",
       "75%      14.900000    54.000000    -0.670000    -1.420000    -1.300000   \n",
       "max      18.200000    69.000000     8.100000     1.350000     3.190000   \n",
       "\n",
       "         longitude     latitude  \n",
       "count  1093.000000  1093.000000  \n",
       "mean     77.701738    24.489478  \n",
       "std       1.343403     0.500118  \n",
       "min      76.000000    24.000000  \n",
       "25%      76.000000    24.000000  \n",
       "50%      77.000000    24.000000  \n",
       "75%      79.000000    25.000000  \n",
       "max      80.000000    25.000000  "
      ]
     },
     "execution_count": 3,
     "metadata": {},
     "output_type": "execute_result"
    }
   ],
   "source": [
    "scans.describe()"
   ]
  },
  {
   "cell_type": "markdown",
   "metadata": {},
   "source": [
    "### getting the total of gender"
   ]
  },
  {
   "cell_type": "code",
   "execution_count": 6,
   "metadata": {},
   "outputs": [
    {
     "name": "stdout",
     "output_type": "stream",
     "text": [
      "F    845\n",
      "M    835\n",
      "Name: gender, dtype: int64\n"
     ]
    },
    {
     "data": {
      "image/png": "[encoded data removed]",
      "text/plain": [
       "<Figure size 432x288 with 1 Axes>"
      ]
     },
     "metadata": {
      "needs_background": "light"
     },
     "output_type": "display_data"
    }
   ],
   "source": [
    "ax = scans['gender'].value_counts().plot(kind='bar')\n",
    "ax.set_xlabel('gender')\n",
    "ax.set_ylabel('no. of children')\n",
    "print(scans['gender'].value_counts())"
   ]
  },
  {
   "cell_type": "code",
   "execution_count": 7,
   "metadata": {},
   "outputs": [],
   "source": [
    "## function to convert the days into age\n",
    "def age(row):\n",
    "    in_years= row['age']/365\n",
    "    return round(in_years)"
   ]
  },
  {
   "cell_type": "code",
   "execution_count": 8,
   "metadata": {},
   "outputs": [
    {
     "data": {
      "text/html": [
       "<div>\n",
       "<style scoped>\n",
       "    .dataframe tbody tr th:only-of-type {\n",
       "        vertical-align: middle;\n",
       "    }\n",
       "\n",
       "    .dataframe tbody tr th {\n",
       "        vertical-align: top;\n",
       "    }\n",
       "\n",
       "    .dataframe thead th {\n",
       "        text-align: right;\n",
       "    }\n",
       "</style>\n",
       "<table border=\"1\" class=\"dataframe\">\n",
       "  <thead>\n",
       "    <tr style=\"text-align: right;\">\n",
       "      <th></th>\n",
       "      <th>qrcode</th>\n",
       "      <th>person_id</th>\n",
       "      <th>age</th>\n",
       "      <th>Years</th>\n",
       "      <th>key</th>\n",
       "      <th>height</th>\n",
       "      <th>weight</th>\n",
       "      <th>muac</th>\n",
       "      <th>month_age</th>\n",
       "      <th>gender</th>\n",
       "      <th>Z_score_WFH</th>\n",
       "      <th>Class_WFH</th>\n",
       "      <th>Z_score_WFA</th>\n",
       "      <th>Class_WFA</th>\n",
       "      <th>Z_score_HFA</th>\n",
       "      <th>Class_HFA</th>\n",
       "      <th>longitude</th>\n",
       "      <th>latitude</th>\n",
       "      <th>State</th>\n",
       "    </tr>\n",
       "  </thead>\n",
       "  <tbody>\n",
       "    <tr>\n",
       "      <th>0</th>\n",
       "      <td>1584997475-0195z663pl</td>\n",
       "      <td>DQKAiT6cSJkQW2ya_person_1569888000000_Dj66PtJa...</td>\n",
       "      <td>1420</td>\n",
       "      <td>4</td>\n",
       "      <td>100.0</td>\n",
       "      <td>85.7</td>\n",
       "      <td>9.45</td>\n",
       "      <td>12.5</td>\n",
       "      <td>47</td>\n",
       "      <td>M</td>\n",
       "      <td>-2.83</td>\n",
       "      <td>MAM</td>\n",
       "      <td>-4.16</td>\n",
       "      <td>Severly Under-weight</td>\n",
       "      <td>-4.10</td>\n",
       "      <td>Severly Stunted</td>\n",
       "      <td>79.0</td>\n",
       "      <td>24.0</td>\n",
       "      <td>Madhya Pradesh</td>\n",
       "    </tr>\n",
       "    <tr>\n",
       "      <th>1</th>\n",
       "      <td>1584999865-01t0n240ra</td>\n",
       "      <td>lD0OAaaZ0pcD0zRk_person_1570060800000_1AoTKLlT...</td>\n",
       "      <td>1529</td>\n",
       "      <td>4</td>\n",
       "      <td>100.0</td>\n",
       "      <td>86.5</td>\n",
       "      <td>12.45</td>\n",
       "      <td>13.1</td>\n",
       "      <td>50</td>\n",
       "      <td>F</td>\n",
       "      <td>0.62</td>\n",
       "      <td>Healthy</td>\n",
       "      <td>-2.07</td>\n",
       "      <td>Moderately Under-weight</td>\n",
       "      <td>-3.97</td>\n",
       "      <td>Severly Stunted</td>\n",
       "      <td>NaN</td>\n",
       "      <td>NaN</td>\n",
       "      <td>NaN</td>\n",
       "    </tr>\n",
       "    <tr>\n",
       "      <th>2</th>\n",
       "      <td>1583942091-02migjdla1</td>\n",
       "      <td>ZPFkcYGhq15raY3J_person_1573603200000_lfu3HzFC...</td>\n",
       "      <td>945</td>\n",
       "      <td>3</td>\n",
       "      <td>100.0</td>\n",
       "      <td>71.6</td>\n",
       "      <td>8.10</td>\n",
       "      <td>13.5</td>\n",
       "      <td>31</td>\n",
       "      <td>F</td>\n",
       "      <td>-0.68</td>\n",
       "      <td>Healthy</td>\n",
       "      <td>-3.83</td>\n",
       "      <td>Severly Under-weight</td>\n",
       "      <td>-5.55</td>\n",
       "      <td>Severly Stunted</td>\n",
       "      <td>79.0</td>\n",
       "      <td>24.0</td>\n",
       "      <td>Madhya Pradesh</td>\n",
       "    </tr>\n",
       "    <tr>\n",
       "      <th>3</th>\n",
       "      <td>1585011777-031jov4jpw</td>\n",
       "      <td>D7tiN7CtUEM9WoRx_person_1571270400000_Q1hKfLbv...</td>\n",
       "      <td>924</td>\n",
       "      <td>3</td>\n",
       "      <td>100.0</td>\n",
       "      <td>78.5</td>\n",
       "      <td>11.75</td>\n",
       "      <td>15.3</td>\n",
       "      <td>30</td>\n",
       "      <td>M</td>\n",
       "      <td>1.55</td>\n",
       "      <td>Healthy</td>\n",
       "      <td>-1.05</td>\n",
       "      <td>Healthy</td>\n",
       "      <td>-3.94</td>\n",
       "      <td>Severly Stunted</td>\n",
       "      <td>77.0</td>\n",
       "      <td>25.0</td>\n",
       "      <td>Madhya Pradesh</td>\n",
       "    </tr>\n",
       "    <tr>\n",
       "      <th>4</th>\n",
       "      <td>1585003039-032hniw434</td>\n",
       "      <td>8SMAKMkY79LovcBU_person_1570838400000_nMpSBNek...</td>\n",
       "      <td>1320</td>\n",
       "      <td>4</td>\n",
       "      <td>102.0</td>\n",
       "      <td>108.1</td>\n",
       "      <td>15.50</td>\n",
       "      <td>14.8</td>\n",
       "      <td>44</td>\n",
       "      <td>F</td>\n",
       "      <td>-1.55</td>\n",
       "      <td>Healthy</td>\n",
       "      <td>0.08</td>\n",
       "      <td>Healthy</td>\n",
       "      <td>1.88</td>\n",
       "      <td>Healthy</td>\n",
       "      <td>NaN</td>\n",
       "      <td>NaN</td>\n",
       "      <td>NaN</td>\n",
       "    </tr>\n",
       "  </tbody>\n",
       "</table>\n",
       "</div>"
      ],
      "text/plain": [
       "                  qrcode                                          person_id  \\\n",
       "0  1584997475-0195z663pl  DQKAiT6cSJkQW2ya_person_1569888000000_Dj66PtJa...   \n",
       "1  1584999865-01t0n240ra  lD0OAaaZ0pcD0zRk_person_1570060800000_1AoTKLlT...   \n",
       "2  1583942091-02migjdla1  ZPFkcYGhq15raY3J_person_1573603200000_lfu3HzFC...   \n",
       "3  1585011777-031jov4jpw  D7tiN7CtUEM9WoRx_person_1571270400000_Q1hKfLbv...   \n",
       "4  1585003039-032hniw434  8SMAKMkY79LovcBU_person_1570838400000_nMpSBNek...   \n",
       "\n",
       "    age  Years    key  height  weight  muac  month_age gender  Z_score_WFH  \\\n",
       "0  1420      4  100.0    85.7    9.45  12.5         47      M        -2.83   \n",
       "1  1529      4  100.0    86.5   12.45  13.1         50      F         0.62   \n",
       "2   945      3  100.0    71.6    8.10  13.5         31      F        -0.68   \n",
       "3   924      3  100.0    78.5   11.75  15.3         30      M         1.55   \n",
       "4  1320      4  102.0   108.1   15.50  14.8         44      F        -1.55   \n",
       "\n",
       "  Class_WFH  Z_score_WFA                Class_WFA  Z_score_HFA  \\\n",
       "0       MAM        -4.16     Severly Under-weight        -4.10   \n",
       "1   Healthy        -2.07  Moderately Under-weight        -3.97   \n",
       "2   Healthy        -3.83     Severly Under-weight        -5.55   \n",
       "3   Healthy        -1.05                  Healthy        -3.94   \n",
       "4   Healthy         0.08                  Healthy         1.88   \n",
       "\n",
       "         Class_HFA  longitude  latitude           State  \n",
       "0  Severly Stunted       79.0      24.0  Madhya Pradesh  \n",
       "1  Severly Stunted        NaN       NaN             NaN  \n",
       "2  Severly Stunted       79.0      24.0  Madhya Pradesh  \n",
       "3  Severly Stunted       77.0      25.0  Madhya Pradesh  \n",
       "4          Healthy        NaN       NaN             NaN  "
      ]
     },
     "execution_count": 8,
     "metadata": {},
     "output_type": "execute_result"
    }
   ],
   "source": [
    "#adding the Years column into dataframe\n",
    "scans['Years'] = scans.apply(age,axis=1)\n",
    "scans.head()"
   ]
  },
  {
   "cell_type": "code",
   "execution_count": 12,
   "metadata": {},
   "outputs": [
    {
     "name": "stdout",
     "output_type": "stream",
     "text": [
      "Total no. of age greater than 60 months:  15\n"
     ]
    }
   ],
   "source": [
    "print(\"Total no. of age greater than 60 months: \" ,len(scans[scans['month_age'] >60]))"
   ]
  },
  {
   "cell_type": "markdown",
   "metadata": {},
   "source": [
    "### plotting the bar graph no. of children against age"
   ]
  },
  {
   "cell_type": "code",
   "execution_count": 9,
   "metadata": {},
   "outputs": [
    {
     "name": "stdout",
     "output_type": "stream",
     "text": [
      "4    704\n",
      "3    605\n",
      "5    369\n",
      "6      2\n",
      "Name: Years, dtype: int64\n"
     ]
    },
    {
     "data": {
      "image/png": "[encoded data removed]",
      "text/plain": [
       "<Figure size 432x288 with 1 Axes>"
      ]
     },
     "metadata": {
      "needs_background": "light"
     },
     "output_type": "display_data"
    }
   ],
   "source": [
    "age_ax = scans['Years'].value_counts().plot(kind='bar')\n",
    "age_ax.set_xlabel('age')\n",
    "age_ax.set_ylabel('no. of children')\n",
    "print(scans['Years'].value_counts())"
   ]
  },
  {
   "cell_type": "markdown",
   "metadata": {},
   "source": [
    "### getting the distribition based on gender"
   ]
  },
  {
   "cell_type": "code",
   "execution_count": 14,
   "metadata": {},
   "outputs": [
    {
     "name": "stdout",
     "output_type": "stream",
     "text": [
      "No. of male distribution: \n",
      "4    364\n",
      "3    282\n",
      "5    189\n",
      "Name: Years, dtype: int64\n"
     ]
    }
   ],
   "source": [
    "male = scans[scans['gender']=='M']\n",
    "print('No. of male distribution: ')\n",
    "print(male['Years'].value_counts())"
   ]
  },
  {
   "cell_type": "code",
   "execution_count": 16,
   "metadata": {},
   "outputs": [
    {
     "name": "stdout",
     "output_type": "stream",
     "text": [
      "No. of female distribution: \n",
      "4    340\n",
      "3    323\n",
      "5    180\n",
      "6      2\n",
      "Name: Years, dtype: int64\n"
     ]
    }
   ],
   "source": [
    "female = scans[scans['gender']=='F']\n",
    "print('No. of female distribution: ')\n",
    "print(female['Years'].value_counts())"
   ]
  },
  {
   "cell_type": "markdown",
   "metadata": {},
   "source": [
    "### Reading the csv files and get the data at artifacts level"
   ]
  },
  {
   "cell_type": "code",
   "execution_count": 17,
   "metadata": {},
   "outputs": [
    {
     "data": {
      "text/html": [
       "<div>\n",
       "<style scoped>\n",
       "    .dataframe tbody tr th:only-of-type {\n",
       "        vertical-align: middle;\n",
       "    }\n",
       "\n",
       "    .dataframe tbody tr th {\n",
       "        vertical-align: top;\n",
       "    }\n",
       "\n",
       "    .dataframe thead th {\n",
       "        text-align: right;\n",
       "    }\n",
       "</style>\n",
       "<table border=\"1\" class=\"dataframe\">\n",
       "  <thead>\n",
       "    <tr style=\"text-align: right;\">\n",
       "      <th></th>\n",
       "      <th>artifacts</th>\n",
       "      <th>storage_path</th>\n",
       "      <th>qrcode</th>\n",
       "      <th>key</th>\n",
       "      <th>height</th>\n",
       "      <th>weight</th>\n",
       "      <th>muac</th>\n",
       "      <th>zscore_height</th>\n",
       "      <th>zscore_weight</th>\n",
       "      <th>zscore_muac</th>\n",
       "    </tr>\n",
       "  </thead>\n",
       "  <tbody>\n",
       "    <tr>\n",
       "      <th>0</th>\n",
       "      <td>pc_1584997475-0195z663pl_1591588126306_100_000...</td>\n",
       "      <td>qrcode/1584997475-0195z663pl/measure/159158812...</td>\n",
       "      <td>1584997475-0195z663pl</td>\n",
       "      <td>100.0</td>\n",
       "      <td>85.7</td>\n",
       "      <td>9.45</td>\n",
       "      <td>12.5</td>\n",
       "      <td>0.099042</td>\n",
       "      <td>0.244035</td>\n",
       "      <td>0.502008</td>\n",
       "    </tr>\n",
       "    <tr>\n",
       "      <th>1</th>\n",
       "      <td>pc_1584997475-0195z663pl_1591588126306_100_001...</td>\n",
       "      <td>qrcode/1584997475-0195z663pl/measure/159158812...</td>\n",
       "      <td>1584997475-0195z663pl</td>\n",
       "      <td>100.0</td>\n",
       "      <td>85.7</td>\n",
       "      <td>9.45</td>\n",
       "      <td>12.5</td>\n",
       "      <td>0.099042</td>\n",
       "      <td>0.244035</td>\n",
       "      <td>0.502008</td>\n",
       "    </tr>\n",
       "    <tr>\n",
       "      <th>2</th>\n",
       "      <td>pc_1584997475-0195z663pl_1591588126306_100_002...</td>\n",
       "      <td>qrcode/1584997475-0195z663pl/measure/159158812...</td>\n",
       "      <td>1584997475-0195z663pl</td>\n",
       "      <td>100.0</td>\n",
       "      <td>85.7</td>\n",
       "      <td>9.45</td>\n",
       "      <td>12.5</td>\n",
       "      <td>0.099042</td>\n",
       "      <td>0.244035</td>\n",
       "      <td>0.502008</td>\n",
       "    </tr>\n",
       "    <tr>\n",
       "      <th>3</th>\n",
       "      <td>pc_1584997475-0195z663pl_1591588126306_100_003...</td>\n",
       "      <td>qrcode/1584997475-0195z663pl/measure/159158812...</td>\n",
       "      <td>1584997475-0195z663pl</td>\n",
       "      <td>100.0</td>\n",
       "      <td>85.7</td>\n",
       "      <td>9.45</td>\n",
       "      <td>12.5</td>\n",
       "      <td>0.099042</td>\n",
       "      <td>0.244035</td>\n",
       "      <td>0.502008</td>\n",
       "    </tr>\n",
       "    <tr>\n",
       "      <th>4</th>\n",
       "      <td>pc_1584997475-0195z663pl_1591588126306_100_004...</td>\n",
       "      <td>qrcode/1584997475-0195z663pl/measure/159158812...</td>\n",
       "      <td>1584997475-0195z663pl</td>\n",
       "      <td>100.0</td>\n",
       "      <td>85.7</td>\n",
       "      <td>9.45</td>\n",
       "      <td>12.5</td>\n",
       "      <td>0.099042</td>\n",
       "      <td>0.244035</td>\n",
       "      <td>0.502008</td>\n",
       "    </tr>\n",
       "  </tbody>\n",
       "</table>\n",
       "</div>"
      ],
      "text/plain": [
       "                                           artifacts  \\\n",
       "0  pc_1584997475-0195z663pl_1591588126306_100_000...   \n",
       "1  pc_1584997475-0195z663pl_1591588126306_100_001...   \n",
       "2  pc_1584997475-0195z663pl_1591588126306_100_002...   \n",
       "3  pc_1584997475-0195z663pl_1591588126306_100_003...   \n",
       "4  pc_1584997475-0195z663pl_1591588126306_100_004...   \n",
       "\n",
       "                                        storage_path                 qrcode  \\\n",
       "0  qrcode/1584997475-0195z663pl/measure/159158812...  1584997475-0195z663pl   \n",
       "1  qrcode/1584997475-0195z663pl/measure/159158812...  1584997475-0195z663pl   \n",
       "2  qrcode/1584997475-0195z663pl/measure/159158812...  1584997475-0195z663pl   \n",
       "3  qrcode/1584997475-0195z663pl/measure/159158812...  1584997475-0195z663pl   \n",
       "4  qrcode/1584997475-0195z663pl/measure/159158812...  1584997475-0195z663pl   \n",
       "\n",
       "     key  height  weight  muac  zscore_height  zscore_weight  zscore_muac  \n",
       "0  100.0    85.7    9.45  12.5       0.099042       0.244035     0.502008  \n",
       "1  100.0    85.7    9.45  12.5       0.099042       0.244035     0.502008  \n",
       "2  100.0    85.7    9.45  12.5       0.099042       0.244035     0.502008  \n",
       "3  100.0    85.7    9.45  12.5       0.099042       0.244035     0.502008  \n",
       "4  100.0    85.7    9.45  12.5       0.099042       0.244035     0.502008  "
      ]
     },
     "execution_count": 17,
     "metadata": {},
     "output_type": "execute_result"
    }
   ],
   "source": [
    "artifacts = pd.read_csv('artifacts.csv')\n",
    "artifacts.head()"
   ]
  },
  {
   "cell_type": "code",
   "execution_count": 18,
   "metadata": {},
   "outputs": [],
   "source": [
    "## dropping the null values from the artifacts \n",
    "artifacts  = artifacts.dropna()"
   ]
  },
  {
   "cell_type": "code",
   "execution_count": 19,
   "metadata": {},
   "outputs": [
    {
     "data": {
      "text/html": [
       "<div>\n",
       "<style scoped>\n",
       "    .dataframe tbody tr th:only-of-type {\n",
       "        vertical-align: middle;\n",
       "    }\n",
       "\n",
       "    .dataframe tbody tr th {\n",
       "        vertical-align: top;\n",
       "    }\n",
       "\n",
       "    .dataframe thead th {\n",
       "        text-align: right;\n",
       "    }\n",
       "</style>\n",
       "<table border=\"1\" class=\"dataframe\">\n",
       "  <thead>\n",
       "    <tr style=\"text-align: right;\">\n",
       "      <th></th>\n",
       "      <th>key</th>\n",
       "      <th>height</th>\n",
       "      <th>weight</th>\n",
       "      <th>muac</th>\n",
       "      <th>zscore_height</th>\n",
       "      <th>zscore_weight</th>\n",
       "      <th>zscore_muac</th>\n",
       "    </tr>\n",
       "  </thead>\n",
       "  <tbody>\n",
       "    <tr>\n",
       "      <th>count</th>\n",
       "      <td>42298.000000</td>\n",
       "      <td>42298.000000</td>\n",
       "      <td>42298.000000</td>\n",
       "      <td>42298.000000</td>\n",
       "      <td>42298.000000</td>\n",
       "      <td>42298.000000</td>\n",
       "      <td>42298.000000</td>\n",
       "    </tr>\n",
       "    <tr>\n",
       "      <th>mean</th>\n",
       "      <td>100.996548</td>\n",
       "      <td>93.752121</td>\n",
       "      <td>12.381007</td>\n",
       "      <td>14.250253</td>\n",
       "      <td>1.238570</td>\n",
       "      <td>1.833350</td>\n",
       "      <td>2.259290</td>\n",
       "    </tr>\n",
       "    <tr>\n",
       "      <th>std</th>\n",
       "      <td>0.752257</td>\n",
       "      <td>7.029523</td>\n",
       "      <td>1.838878</td>\n",
       "      <td>1.020104</td>\n",
       "      <td>0.994711</td>\n",
       "      <td>0.997211</td>\n",
       "      <td>1.024201</td>\n",
       "    </tr>\n",
       "    <tr>\n",
       "      <th>min</th>\n",
       "      <td>100.000000</td>\n",
       "      <td>58.300000</td>\n",
       "      <td>7.650000</td>\n",
       "      <td>11.500000</td>\n",
       "      <td>-3.777749</td>\n",
       "      <td>-0.732104</td>\n",
       "      <td>-0.502008</td>\n",
       "    </tr>\n",
       "    <tr>\n",
       "      <th>25%</th>\n",
       "      <td>100.000000</td>\n",
       "      <td>88.700000</td>\n",
       "      <td>11.100000</td>\n",
       "      <td>13.600000</td>\n",
       "      <td>0.523508</td>\n",
       "      <td>1.138829</td>\n",
       "      <td>1.606426</td>\n",
       "    </tr>\n",
       "    <tr>\n",
       "      <th>50%</th>\n",
       "      <td>101.000000</td>\n",
       "      <td>93.600000</td>\n",
       "      <td>12.350000</td>\n",
       "      <td>14.200000</td>\n",
       "      <td>1.216803</td>\n",
       "      <td>1.816703</td>\n",
       "      <td>2.208835</td>\n",
       "    </tr>\n",
       "    <tr>\n",
       "      <th>75%</th>\n",
       "      <td>102.000000</td>\n",
       "      <td>98.700000</td>\n",
       "      <td>13.550000</td>\n",
       "      <td>14.900000</td>\n",
       "      <td>1.938396</td>\n",
       "      <td>2.467462</td>\n",
       "      <td>2.911647</td>\n",
       "    </tr>\n",
       "    <tr>\n",
       "      <th>max</th>\n",
       "      <td>102.000000</td>\n",
       "      <td>114.700000</td>\n",
       "      <td>19.000000</td>\n",
       "      <td>18.200000</td>\n",
       "      <td>4.202216</td>\n",
       "      <td>5.422993</td>\n",
       "      <td>6.224900</td>\n",
       "    </tr>\n",
       "  </tbody>\n",
       "</table>\n",
       "</div>"
      ],
      "text/plain": [
       "                key        height        weight          muac  zscore_height  \\\n",
       "count  42298.000000  42298.000000  42298.000000  42298.000000   42298.000000   \n",
       "mean     100.996548     93.752121     12.381007     14.250253       1.238570   \n",
       "std        0.752257      7.029523      1.838878      1.020104       0.994711   \n",
       "min      100.000000     58.300000      7.650000     11.500000      -3.777749   \n",
       "25%      100.000000     88.700000     11.100000     13.600000       0.523508   \n",
       "50%      101.000000     93.600000     12.350000     14.200000       1.216803   \n",
       "75%      102.000000     98.700000     13.550000     14.900000       1.938396   \n",
       "max      102.000000    114.700000     19.000000     18.200000       4.202216   \n",
       "\n",
       "       zscore_weight   zscore_muac  \n",
       "count   42298.000000  42298.000000  \n",
       "mean        1.833350      2.259290  \n",
       "std         0.997211      1.024201  \n",
       "min        -0.732104     -0.502008  \n",
       "25%         1.138829      1.606426  \n",
       "50%         1.816703      2.208835  \n",
       "75%         2.467462      2.911647  \n",
       "max         5.422993      6.224900  "
      ]
     },
     "execution_count": 19,
     "metadata": {},
     "output_type": "execute_result"
    }
   ],
   "source": [
    "artifacts.describe()"
   ]
  },
  {
   "cell_type": "code",
   "execution_count": 20,
   "metadata": {},
   "outputs": [
    {
     "name": "stdout",
     "output_type": "stream",
     "text": [
      "Total no. of pointclouds: 42298\n"
     ]
    }
   ],
   "source": [
    "print(\"Total no. of pointclouds:\",len(artifacts ))"
   ]
  },
  {
   "cell_type": "code",
   "execution_count": 21,
   "metadata": {},
   "outputs": [
    {
     "name": "stdout",
     "output_type": "stream",
     "text": [
      "101.0    18362\n",
      "100.0    12041\n",
      "102.0    11895\n",
      "Name: key, dtype: int64\n"
     ]
    },
    {
     "data": {
      "text/plain": [
       "<matplotlib.axes._subplots.AxesSubplot at 0x7fef073387b8>"
      ]
     },
     "execution_count": 21,
     "metadata": {},
     "output_type": "execute_result"
    },
    {
     "data": {
      "image/png": "[encoded data removed]",
      "text/plain": [
       "<Figure size 432x288 with 1 Axes>"
      ]
     },
     "metadata": {},
     "output_type": "display_data"
    }
   ],
   "source": [
    "## keys for different scan type and their distribution in dataset\n",
    "\"- 100 - standing front scan\",\n",
    "\"- 101 - standing 360 scan\",\n",
    "\"- 102 - standing back scan\",\n",
    "print(artifacts['key'].value_counts())\n",
    "artifacts['key'].value_counts().plot(kind='pie')"
   ]
  },
  {
   "cell_type": "markdown",
   "metadata": {},
   "source": [
    "### plotting the height and weight distribution"
   ]
  },
  {
   "cell_type": "code",
   "execution_count": 22,
   "metadata": {},
   "outputs": [],
   "source": [
    "## fucntion to extract just the qrcode from them path, not re4quired anymore added this field already to csv file\n",
    "def extractqrcode(row):\n",
    "    complete_path = row['storage_path']\n",
    "    path = complete_path.split('/')\n",
    "    qrcode = path[1]\n",
    "    return qrcode"
   ]
  },
  {
   "cell_type": "code",
   "execution_count": 23,
   "metadata": {},
   "outputs": [
    {
     "data": {
      "text/html": [
       "<div>\n",
       "<style scoped>\n",
       "    .dataframe tbody tr th:only-of-type {\n",
       "        vertical-align: middle;\n",
       "    }\n",
       "\n",
       "    .dataframe tbody tr th {\n",
       "        vertical-align: top;\n",
       "    }\n",
       "\n",
       "    .dataframe thead th {\n",
       "        text-align: right;\n",
       "    }\n",
       "</style>\n",
       "<table border=\"1\" class=\"dataframe\">\n",
       "  <thead>\n",
       "    <tr style=\"text-align: right;\">\n",
       "      <th></th>\n",
       "      <th>artifacts</th>\n",
       "      <th>storage_path</th>\n",
       "      <th>qrcode</th>\n",
       "      <th>key</th>\n",
       "      <th>height</th>\n",
       "      <th>weight</th>\n",
       "      <th>muac</th>\n",
       "      <th>zscore_height</th>\n",
       "      <th>zscore_weight</th>\n",
       "      <th>zscore_muac</th>\n",
       "    </tr>\n",
       "  </thead>\n",
       "  <tbody>\n",
       "    <tr>\n",
       "      <th>0</th>\n",
       "      <td>pc_1584997475-0195z663pl_1591588126306_100_000...</td>\n",
       "      <td>qrcode/1584997475-0195z663pl/measure/159158812...</td>\n",
       "      <td>1584997475-0195z663pl</td>\n",
       "      <td>100.0</td>\n",
       "      <td>85.7</td>\n",
       "      <td>9.45</td>\n",
       "      <td>12.5</td>\n",
       "      <td>0.099042</td>\n",
       "      <td>0.244035</td>\n",
       "      <td>0.502008</td>\n",
       "    </tr>\n",
       "    <tr>\n",
       "      <th>1</th>\n",
       "      <td>pc_1584997475-0195z663pl_1591588126306_100_001...</td>\n",
       "      <td>qrcode/1584997475-0195z663pl/measure/159158812...</td>\n",
       "      <td>1584997475-0195z663pl</td>\n",
       "      <td>100.0</td>\n",
       "      <td>85.7</td>\n",
       "      <td>9.45</td>\n",
       "      <td>12.5</td>\n",
       "      <td>0.099042</td>\n",
       "      <td>0.244035</td>\n",
       "      <td>0.502008</td>\n",
       "    </tr>\n",
       "    <tr>\n",
       "      <th>2</th>\n",
       "      <td>pc_1584997475-0195z663pl_1591588126306_100_002...</td>\n",
       "      <td>qrcode/1584997475-0195z663pl/measure/159158812...</td>\n",
       "      <td>1584997475-0195z663pl</td>\n",
       "      <td>100.0</td>\n",
       "      <td>85.7</td>\n",
       "      <td>9.45</td>\n",
       "      <td>12.5</td>\n",
       "      <td>0.099042</td>\n",
       "      <td>0.244035</td>\n",
       "      <td>0.502008</td>\n",
       "    </tr>\n",
       "    <tr>\n",
       "      <th>3</th>\n",
       "      <td>pc_1584997475-0195z663pl_1591588126306_100_003...</td>\n",
       "      <td>qrcode/1584997475-0195z663pl/measure/159158812...</td>\n",
       "      <td>1584997475-0195z663pl</td>\n",
       "      <td>100.0</td>\n",
       "      <td>85.7</td>\n",
       "      <td>9.45</td>\n",
       "      <td>12.5</td>\n",
       "      <td>0.099042</td>\n",
       "      <td>0.244035</td>\n",
       "      <td>0.502008</td>\n",
       "    </tr>\n",
       "    <tr>\n",
       "      <th>4</th>\n",
       "      <td>pc_1584997475-0195z663pl_1591588126306_100_004...</td>\n",
       "      <td>qrcode/1584997475-0195z663pl/measure/159158812...</td>\n",
       "      <td>1584997475-0195z663pl</td>\n",
       "      <td>100.0</td>\n",
       "      <td>85.7</td>\n",
       "      <td>9.45</td>\n",
       "      <td>12.5</td>\n",
       "      <td>0.099042</td>\n",
       "      <td>0.244035</td>\n",
       "      <td>0.502008</td>\n",
       "    </tr>\n",
       "  </tbody>\n",
       "</table>\n",
       "</div>"
      ],
      "text/plain": [
       "                                           artifacts  \\\n",
       "0  pc_1584997475-0195z663pl_1591588126306_100_000...   \n",
       "1  pc_1584997475-0195z663pl_1591588126306_100_001...   \n",
       "2  pc_1584997475-0195z663pl_1591588126306_100_002...   \n",
       "3  pc_1584997475-0195z663pl_1591588126306_100_003...   \n",
       "4  pc_1584997475-0195z663pl_1591588126306_100_004...   \n",
       "\n",
       "                                        storage_path                 qrcode  \\\n",
       "0  qrcode/1584997475-0195z663pl/measure/159158812...  1584997475-0195z663pl   \n",
       "1  qrcode/1584997475-0195z663pl/measure/159158812...  1584997475-0195z663pl   \n",
       "2  qrcode/1584997475-0195z663pl/measure/159158812...  1584997475-0195z663pl   \n",
       "3  qrcode/1584997475-0195z663pl/measure/159158812...  1584997475-0195z663pl   \n",
       "4  qrcode/1584997475-0195z663pl/measure/159158812...  1584997475-0195z663pl   \n",
       "\n",
       "     key  height  weight  muac  zscore_height  zscore_weight  zscore_muac  \n",
       "0  100.0    85.7    9.45  12.5       0.099042       0.244035     0.502008  \n",
       "1  100.0    85.7    9.45  12.5       0.099042       0.244035     0.502008  \n",
       "2  100.0    85.7    9.45  12.5       0.099042       0.244035     0.502008  \n",
       "3  100.0    85.7    9.45  12.5       0.099042       0.244035     0.502008  \n",
       "4  100.0    85.7    9.45  12.5       0.099042       0.244035     0.502008  "
      ]
     },
     "execution_count": 23,
     "metadata": {},
     "output_type": "execute_result"
    }
   ],
   "source": [
    "#applying ectractqrcode to artifacts frame , no need to run this cel as well\n",
    "artifacts['qrcode'] = artifacts.apply(extractqrcode,axis=1)\n",
    "artifacts.head()"
   ]
  },
  {
   "cell_type": "code",
   "execution_count": 26,
   "metadata": {},
   "outputs": [
    {
     "data": {
      "text/html": [
       "<div>\n",
       "<style scoped>\n",
       "    .dataframe tbody tr th:only-of-type {\n",
       "        vertical-align: middle;\n",
       "    }\n",
       "\n",
       "    .dataframe tbody tr th {\n",
       "        vertical-align: top;\n",
       "    }\n",
       "\n",
       "    .dataframe thead th {\n",
       "        text-align: right;\n",
       "    }\n",
       "</style>\n",
       "<table border=\"1\" class=\"dataframe\">\n",
       "  <thead>\n",
       "    <tr style=\"text-align: right;\">\n",
       "      <th></th>\n",
       "      <th>artifacts</th>\n",
       "      <th>storage_path</th>\n",
       "      <th>qrcode</th>\n",
       "      <th>key</th>\n",
       "      <th>height</th>\n",
       "      <th>weight</th>\n",
       "      <th>muac</th>\n",
       "      <th>zscore_height</th>\n",
       "      <th>zscore_weight</th>\n",
       "      <th>zscore_muac</th>\n",
       "    </tr>\n",
       "  </thead>\n",
       "  <tbody>\n",
       "    <tr>\n",
       "      <th>0</th>\n",
       "      <td>pc_1584997475-0195z663pl_1591588126306_100_000...</td>\n",
       "      <td>qrcode/1584997475-0195z663pl/measure/159158812...</td>\n",
       "      <td>1584997475-0195z663pl</td>\n",
       "      <td>100.0</td>\n",
       "      <td>85.7</td>\n",
       "      <td>9.45</td>\n",
       "      <td>12.5</td>\n",
       "      <td>0.099042</td>\n",
       "      <td>0.244035</td>\n",
       "      <td>0.502008</td>\n",
       "    </tr>\n",
       "    <tr>\n",
       "      <th>1</th>\n",
       "      <td>pc_1584999865-01t0n240ra_1591629837700_100_008...</td>\n",
       "      <td>qrcode/1584999865-01t0n240ra/measure/159162983...</td>\n",
       "      <td>1584999865-01t0n240ra</td>\n",
       "      <td>100.0</td>\n",
       "      <td>86.5</td>\n",
       "      <td>12.45</td>\n",
       "      <td>13.1</td>\n",
       "      <td>0.212233</td>\n",
       "      <td>1.870933</td>\n",
       "      <td>1.104418</td>\n",
       "    </tr>\n",
       "    <tr>\n",
       "      <th>2</th>\n",
       "      <td>pc_1583942091-02migjdla1_1591470015961_100_000...</td>\n",
       "      <td>qrcode/1583942091-02migjdla1/measure/159147001...</td>\n",
       "      <td>1583942091-02migjdla1</td>\n",
       "      <td>100.0</td>\n",
       "      <td>71.6</td>\n",
       "      <td>8.10</td>\n",
       "      <td>13.5</td>\n",
       "      <td>-1.895949</td>\n",
       "      <td>-0.488069</td>\n",
       "      <td>1.506024</td>\n",
       "    </tr>\n",
       "    <tr>\n",
       "      <th>3</th>\n",
       "      <td>pc_1585011777-031jov4jpw_1591815240163_100_000...</td>\n",
       "      <td>qrcode/1585011777-031jov4jpw/measure/159181524...</td>\n",
       "      <td>1585011777-031jov4jpw</td>\n",
       "      <td>100.0</td>\n",
       "      <td>78.5</td>\n",
       "      <td>11.75</td>\n",
       "      <td>15.3</td>\n",
       "      <td>-0.919677</td>\n",
       "      <td>1.491323</td>\n",
       "      <td>3.313253</td>\n",
       "    </tr>\n",
       "    <tr>\n",
       "      <th>4</th>\n",
       "      <td>pc_1585003039-032hniw434_1591707933084_102_000...</td>\n",
       "      <td>qrcode/1585003039-032hniw434/measure/159170793...</td>\n",
       "      <td>1585003039-032hniw434</td>\n",
       "      <td>102.0</td>\n",
       "      <td>108.1</td>\n",
       "      <td>15.50</td>\n",
       "      <td>14.8</td>\n",
       "      <td>3.268390</td>\n",
       "      <td>3.524946</td>\n",
       "      <td>2.811245</td>\n",
       "    </tr>\n",
       "  </tbody>\n",
       "</table>\n",
       "</div>"
      ],
      "text/plain": [
       "                                           artifacts  \\\n",
       "0  pc_1584997475-0195z663pl_1591588126306_100_000...   \n",
       "1  pc_1584999865-01t0n240ra_1591629837700_100_008...   \n",
       "2  pc_1583942091-02migjdla1_1591470015961_100_000...   \n",
       "3  pc_1585011777-031jov4jpw_1591815240163_100_000...   \n",
       "4  pc_1585003039-032hniw434_1591707933084_102_000...   \n",
       "\n",
       "                                        storage_path                 qrcode  \\\n",
       "0  qrcode/1584997475-0195z663pl/measure/159158812...  1584997475-0195z663pl   \n",
       "1  qrcode/1584999865-01t0n240ra/measure/159162983...  1584999865-01t0n240ra   \n",
       "2  qrcode/1583942091-02migjdla1/measure/159147001...  1583942091-02migjdla1   \n",
       "3  qrcode/1585011777-031jov4jpw/measure/159181524...  1585011777-031jov4jpw   \n",
       "4  qrcode/1585003039-032hniw434/measure/159170793...  1585003039-032hniw434   \n",
       "\n",
       "     key  height  weight  muac  zscore_height  zscore_weight  zscore_muac  \n",
       "0  100.0    85.7    9.45  12.5       0.099042       0.244035     0.502008  \n",
       "1  100.0    86.5   12.45  13.1       0.212233       1.870933     1.104418  \n",
       "2  100.0    71.6    8.10  13.5      -1.895949      -0.488069     1.506024  \n",
       "3  100.0    78.5   11.75  15.3      -0.919677       1.491323     3.313253  \n",
       "4  102.0   108.1   15.50  14.8       3.268390       3.524946     2.811245  "
      ]
     },
     "execution_count": 26,
     "metadata": {},
     "output_type": "execute_result"
    }
   ],
   "source": [
    "getheight = artifacts.drop_duplicates(subset=['qrcode']).reset_index(drop=True)\n",
    "getheight.head()"
   ]
  },
  {
   "cell_type": "code",
   "execution_count": 19,
   "metadata": {},
   "outputs": [
    {
     "name": "stdout",
     "output_type": "stream",
     "text": [
      "Total no.unique scans: 1680\n"
     ]
    }
   ],
   "source": [
    "print(\"Total no.unique scans:\", len(getheight))"
   ]
  },
  {
   "cell_type": "code",
   "execution_count": 27,
   "metadata": {},
   "outputs": [
    {
     "data": {
      "text/plain": [
       "Text(0, 0.5, 'height')"
      ]
     },
     "execution_count": 27,
     "metadata": {},
     "output_type": "execute_result"
    },
    {
     "data": {
      "image/png": "[encoded data removed]",
      "text/plain": [
       "<Figure size 432x288 with 1 Axes>"
      ]
     },
     "metadata": {
      "needs_background": "light"
     },
     "output_type": "display_data"
    }
   ],
   "source": [
    "heightax = getheight['weight'].plot()\n",
    "heightax.set_xlabel('scan')\n",
    "heightax.set_ylabel('height')"
   ]
  },
  {
   "cell_type": "code",
   "execution_count": 28,
   "metadata": {},
   "outputs": [
    {
     "data": {
      "text/plain": [
       "Text(0.5, 0, 'weight')"
      ]
     },
     "execution_count": 28,
     "metadata": {},
     "output_type": "execute_result"
    },
    {
     "data": {
      "image/png": "[encoded data removed]",
      "text/plain": [
       "<Figure size 432x288 with 1 Axes>"
      ]
     },
     "metadata": {
      "needs_background": "light"
     },
     "output_type": "display_data"
    }
   ],
   "source": [
    "weightax = getheight['weight'].plot()\n",
    "weightax.set_xlabel('scan')\n",
    "weightax.set_xlabel('weight')"
   ]
  },
  {
   "cell_type": "code",
   "execution_count": 29,
   "metadata": {},
   "outputs": [
    {
     "data": {
      "text/html": [
       "<div>\n",
       "<style scoped>\n",
       "    .dataframe tbody tr th:only-of-type {\n",
       "        vertical-align: middle;\n",
       "    }\n",
       "\n",
       "    .dataframe tbody tr th {\n",
       "        vertical-align: top;\n",
       "    }\n",
       "\n",
       "    .dataframe thead th {\n",
       "        text-align: right;\n",
       "    }\n",
       "</style>\n",
       "<table border=\"1\" class=\"dataframe\">\n",
       "  <thead>\n",
       "    <tr style=\"text-align: right;\">\n",
       "      <th></th>\n",
       "      <th>qrcode</th>\n",
       "      <th>person_id</th>\n",
       "      <th>age</th>\n",
       "      <th>Years</th>\n",
       "      <th>key</th>\n",
       "      <th>height_x</th>\n",
       "      <th>weight_x</th>\n",
       "      <th>muac_x</th>\n",
       "      <th>month_age</th>\n",
       "      <th>gender</th>\n",
       "      <th>...</th>\n",
       "      <th>Z_score_WFA</th>\n",
       "      <th>Class_WFA</th>\n",
       "      <th>Z_score_HFA</th>\n",
       "      <th>Class_HFA</th>\n",
       "      <th>longitude</th>\n",
       "      <th>latitude</th>\n",
       "      <th>State</th>\n",
       "      <th>height_y</th>\n",
       "      <th>weight_y</th>\n",
       "      <th>muac_y</th>\n",
       "    </tr>\n",
       "  </thead>\n",
       "  <tbody>\n",
       "    <tr>\n",
       "      <th>0</th>\n",
       "      <td>1584997475-0195z663pl</td>\n",
       "      <td>DQKAiT6cSJkQW2ya_person_1569888000000_Dj66PtJa...</td>\n",
       "      <td>1420</td>\n",
       "      <td>4</td>\n",
       "      <td>100.0</td>\n",
       "      <td>85.7</td>\n",
       "      <td>9.45</td>\n",
       "      <td>12.5</td>\n",
       "      <td>47</td>\n",
       "      <td>M</td>\n",
       "      <td>...</td>\n",
       "      <td>-4.16</td>\n",
       "      <td>Severly Under-weight</td>\n",
       "      <td>-4.10</td>\n",
       "      <td>Severly Stunted</td>\n",
       "      <td>79.0</td>\n",
       "      <td>24.0</td>\n",
       "      <td>Madhya Pradesh</td>\n",
       "      <td>85.7</td>\n",
       "      <td>9.45</td>\n",
       "      <td>12.5</td>\n",
       "    </tr>\n",
       "    <tr>\n",
       "      <th>1</th>\n",
       "      <td>1584999865-01t0n240ra</td>\n",
       "      <td>lD0OAaaZ0pcD0zRk_person_1570060800000_1AoTKLlT...</td>\n",
       "      <td>1529</td>\n",
       "      <td>4</td>\n",
       "      <td>100.0</td>\n",
       "      <td>86.5</td>\n",
       "      <td>12.45</td>\n",
       "      <td>13.1</td>\n",
       "      <td>50</td>\n",
       "      <td>F</td>\n",
       "      <td>...</td>\n",
       "      <td>-2.07</td>\n",
       "      <td>Moderately Under-weight</td>\n",
       "      <td>-3.97</td>\n",
       "      <td>Severly Stunted</td>\n",
       "      <td>NaN</td>\n",
       "      <td>NaN</td>\n",
       "      <td>NaN</td>\n",
       "      <td>86.5</td>\n",
       "      <td>12.45</td>\n",
       "      <td>13.1</td>\n",
       "    </tr>\n",
       "    <tr>\n",
       "      <th>2</th>\n",
       "      <td>1583942091-02migjdla1</td>\n",
       "      <td>ZPFkcYGhq15raY3J_person_1573603200000_lfu3HzFC...</td>\n",
       "      <td>945</td>\n",
       "      <td>3</td>\n",
       "      <td>100.0</td>\n",
       "      <td>71.6</td>\n",
       "      <td>8.10</td>\n",
       "      <td>13.5</td>\n",
       "      <td>31</td>\n",
       "      <td>F</td>\n",
       "      <td>...</td>\n",
       "      <td>-3.83</td>\n",
       "      <td>Severly Under-weight</td>\n",
       "      <td>-5.55</td>\n",
       "      <td>Severly Stunted</td>\n",
       "      <td>79.0</td>\n",
       "      <td>24.0</td>\n",
       "      <td>Madhya Pradesh</td>\n",
       "      <td>71.6</td>\n",
       "      <td>8.10</td>\n",
       "      <td>13.5</td>\n",
       "    </tr>\n",
       "    <tr>\n",
       "      <th>3</th>\n",
       "      <td>1585011777-031jov4jpw</td>\n",
       "      <td>D7tiN7CtUEM9WoRx_person_1571270400000_Q1hKfLbv...</td>\n",
       "      <td>924</td>\n",
       "      <td>3</td>\n",
       "      <td>100.0</td>\n",
       "      <td>78.5</td>\n",
       "      <td>11.75</td>\n",
       "      <td>15.3</td>\n",
       "      <td>30</td>\n",
       "      <td>M</td>\n",
       "      <td>...</td>\n",
       "      <td>-1.05</td>\n",
       "      <td>Healthy</td>\n",
       "      <td>-3.94</td>\n",
       "      <td>Severly Stunted</td>\n",
       "      <td>77.0</td>\n",
       "      <td>25.0</td>\n",
       "      <td>Madhya Pradesh</td>\n",
       "      <td>78.5</td>\n",
       "      <td>11.75</td>\n",
       "      <td>15.3</td>\n",
       "    </tr>\n",
       "    <tr>\n",
       "      <th>4</th>\n",
       "      <td>1585003039-032hniw434</td>\n",
       "      <td>8SMAKMkY79LovcBU_person_1570838400000_nMpSBNek...</td>\n",
       "      <td>1320</td>\n",
       "      <td>4</td>\n",
       "      <td>102.0</td>\n",
       "      <td>108.1</td>\n",
       "      <td>15.50</td>\n",
       "      <td>14.8</td>\n",
       "      <td>44</td>\n",
       "      <td>F</td>\n",
       "      <td>...</td>\n",
       "      <td>0.08</td>\n",
       "      <td>Healthy</td>\n",
       "      <td>1.88</td>\n",
       "      <td>Healthy</td>\n",
       "      <td>NaN</td>\n",
       "      <td>NaN</td>\n",
       "      <td>NaN</td>\n",
       "      <td>108.1</td>\n",
       "      <td>15.50</td>\n",
       "      <td>14.8</td>\n",
       "    </tr>\n",
       "  </tbody>\n",
       "</table>\n",
       "<p>5 rows × 22 columns</p>\n",
       "</div>"
      ],
      "text/plain": [
       "                  qrcode                                          person_id  \\\n",
       "0  1584997475-0195z663pl  DQKAiT6cSJkQW2ya_person_1569888000000_Dj66PtJa...   \n",
       "1  1584999865-01t0n240ra  lD0OAaaZ0pcD0zRk_person_1570060800000_1AoTKLlT...   \n",
       "2  1583942091-02migjdla1  ZPFkcYGhq15raY3J_person_1573603200000_lfu3HzFC...   \n",
       "3  1585011777-031jov4jpw  D7tiN7CtUEM9WoRx_person_1571270400000_Q1hKfLbv...   \n",
       "4  1585003039-032hniw434  8SMAKMkY79LovcBU_person_1570838400000_nMpSBNek...   \n",
       "\n",
       "    age  Years    key  height_x  weight_x  muac_x  month_age gender   ...    \\\n",
       "0  1420      4  100.0      85.7      9.45    12.5         47      M   ...     \n",
       "1  1529      4  100.0      86.5     12.45    13.1         50      F   ...     \n",
       "2   945      3  100.0      71.6      8.10    13.5         31      F   ...     \n",
       "3   924      3  100.0      78.5     11.75    15.3         30      M   ...     \n",
       "4  1320      4  102.0     108.1     15.50    14.8         44      F   ...     \n",
       "\n",
       "   Z_score_WFA                Class_WFA  Z_score_HFA        Class_HFA  \\\n",
       "0        -4.16     Severly Under-weight        -4.10  Severly Stunted   \n",
       "1        -2.07  Moderately Under-weight        -3.97  Severly Stunted   \n",
       "2        -3.83     Severly Under-weight        -5.55  Severly Stunted   \n",
       "3        -1.05                  Healthy        -3.94  Severly Stunted   \n",
       "4         0.08                  Healthy         1.88          Healthy   \n",
       "\n",
       "   longitude latitude           State  height_y weight_y  muac_y  \n",
       "0       79.0     24.0  Madhya Pradesh      85.7     9.45    12.5  \n",
       "1        NaN      NaN             NaN      86.5    12.45    13.1  \n",
       "2       79.0     24.0  Madhya Pradesh      71.6     8.10    13.5  \n",
       "3       77.0     25.0  Madhya Pradesh      78.5    11.75    15.3  \n",
       "4        NaN      NaN             NaN     108.1    15.50    14.8  \n",
       "\n",
       "[5 rows x 22 columns]"
      ]
     },
     "execution_count": 29,
     "metadata": {},
     "output_type": "execute_result"
    }
   ],
   "source": [
    "distribution_data = pd.merge(scans,getheight[['height','weight','muac','qrcode']],on='qrcode', how='left')\n",
    "distribution_data.head()"
   ]
  },
  {
   "cell_type": "code",
   "execution_count": 31,
   "metadata": {},
   "outputs": [
    {
     "data": {
      "image/png": "[encoded data removed]",
      "text/plain": [
       "<Figure size 432x288 with 1 Axes>"
      ]
     },
     "metadata": {
      "needs_background": "light"
     },
     "output_type": "display_data"
    }
   ],
   "source": [
    "#distribution of height against age\n",
    "heightvsage = distribution_data.plot.scatter(x='height_x',\n",
    "                      y='age',\n",
    "                      c='red')"
   ]
  },
  {
   "cell_type": "code",
   "execution_count": 34,
   "metadata": {},
   "outputs": [
    {
     "data": {
      "image/png": "[encoded data removed]",
      "text/plain": [
       "<Figure size 432x288 with 1 Axes>"
      ]
     },
     "metadata": {
      "needs_background": "light"
     },
     "output_type": "display_data"
    }
   ],
   "source": [
    "#distribution of weight against age\n",
    "weightvsage = distribution_data.plot.scatter(x='weight_x',\n",
    "                      y='age',\n",
    "                      c='red')"
   ]
  },
  {
   "cell_type": "code",
   "execution_count": 36,
   "metadata": {},
   "outputs": [
    {
     "data": {
      "image/png": "[encoded data removed]",
      "text/plain": [
       "<Figure size 432x288 with 1 Axes>"
      ]
     },
     "metadata": {
      "needs_background": "light"
     },
     "output_type": "display_data"
    }
   ],
   "source": [
    "## distribution of height against weight\n",
    "weightvsheight = distribution_data.plot.scatter(x='height_x',\n",
    "                      y='weight_x',\n",
    "                      c='red')"
   ]
  },
  {
   "cell_type": "code",
   "execution_count": 37,
   "metadata": {},
   "outputs": [
    {
     "data": {
      "image/png": "[encoded data removed]",
      "text/plain": [
       "<Figure size 432x288 with 1 Axes>"
      ]
     },
     "metadata": {
      "needs_background": "light"
     },
     "output_type": "display_data"
    }
   ],
   "source": [
    "## distribution of age against weight\n",
    "weightvsheight = distribution_data.plot.scatter(x='age',\n",
    "                      y='muac_x',\n",
    "                      c='red')"
   ]
  },
  {
   "cell_type": "markdown",
   "metadata": {},
   "source": [
    "## Plotting the location from where data was collected"
   ]
  },
  {
   "cell_type": "code",
   "execution_count": 43,
   "metadata": {},
   "outputs": [
    {
     "data": {
      "text/plain": [
       "<matplotlib.axes._subplots.AxesSubplot at 0x7feefb55cc50>"
      ]
     },
     "execution_count": 43,
     "metadata": {},
     "output_type": "execute_result"
    },
    {
     "data": {
      "image/png": "[encoded data removed]",
      "text/plain": [
       "<Figure size 432x288 with 1 Axes>"
      ]
     },
     "metadata": {
      "needs_background": "light"
     },
     "output_type": "display_data"
    }
   ],
   "source": [
    "geometry = [Point(xy) for xy in zip(scans['longitude'], scans['latitude'])]\n",
    "gdf = GeoDataFrame(scans, geometry=geometry) \n",
    "world =  gpd.read_file(gpd.datasets.get_path('naturalearth_lowres'))\n",
    "\n",
    "# We restrict to India.\n",
    "ax = world[world.name == 'India'].plot(\n",
    "    color='white', edgecolor='black')\n",
    "\n",
    "# We can now plot our ``GeoDataFrame``.\n",
    "gdf.plot(ax=ax, color='red')"
   ]
  },
  {
   "cell_type": "code",
   "execution_count": 44,
   "metadata": {},
   "outputs": [
    {
     "data": {
      "text/plain": [
       "Madhya Pradesh    810\n",
       "Rajasthan         283\n",
       "Name: State, dtype: int64"
      ]
     },
     "execution_count": 44,
     "metadata": {},
     "output_type": "execute_result"
    }
   ],
   "source": [
    "scans['State'].value_counts() ## Amount of scans for different location"
   ]
  },
  {
   "cell_type": "code",
   "execution_count": 45,
   "metadata": {},
   "outputs": [
    {
     "data": {
      "text/plain": [
       "587"
      ]
     },
     "execution_count": 45,
     "metadata": {},
     "output_type": "execute_result"
    }
   ],
   "source": [
    "scans['State'].isna().sum() ## Amount of scans where the location info for scans is not available"
   ]
  },
  {
   "cell_type": "code",
   "execution_count": 48,
   "metadata": {},
   "outputs": [
    {
     "name": "stdout",
     "output_type": "stream",
     "text": [
      "Healthy                    788\n",
      "Moderately Under-weight    623\n",
      "Severly Under-weight       254\n",
      "Name: Class_WFA, dtype: int64\n",
      "Scans with null values: 15\n"
     ]
    },
    {
     "data": {
      "image/png": "[encoded data removed]",
      "text/plain": [
       "<Figure size 432x288 with 1 Axes>"
      ]
     },
     "metadata": {
      "needs_background": "light"
     },
     "output_type": "display_data"
    }
   ],
   "source": [
    "Class_WFA_ax = scans['Class_WFA'].value_counts().plot(kind='bar')\n",
    "Class_WFA_ax.set_xlabel('Class_WFA')\n",
    "Class_WFA_ax.set_ylabel('count')\n",
    "print(scans['Class_WFA'].value_counts())\n",
    "print('Scans with null values:',scans['Class_WFA'].isna().sum())"
   ]
  },
  {
   "cell_type": "code",
   "execution_count": 49,
   "metadata": {},
   "outputs": [
    {
     "name": "stdout",
     "output_type": "stream",
     "text": [
      "Healthy               837\n",
      "Moderately Stunted    488\n",
      "Severly Stunted       340\n",
      "Name: Class_HFA, dtype: int64\n",
      "Scans with null values: 15\n"
     ]
    },
    {
     "data": {
      "image/png": "[encoded data removed]",
      "text/plain": [
       "<Figure size 432x288 with 1 Axes>"
      ]
     },
     "metadata": {
      "needs_background": "light"
     },
     "output_type": "display_data"
    }
   ],
   "source": [
    "Class_HFA_ax = scans['Class_HFA'].value_counts().plot(kind='bar')\n",
    "Class_HFA_ax.set_xlabel('Class_HFA')\n",
    "Class_HFA_ax.set_ylabel('count')\n",
    "print(scans['Class_HFA'].value_counts())\n",
    "print('Scans with null values:',scans['Class_HFA'].isna().sum())"
   ]
  },
  {
   "cell_type": "code",
   "execution_count": 51,
   "metadata": {},
   "outputs": [
    {
     "name": "stdout",
     "output_type": "stream",
     "text": [
      "Healthy    1324\n",
      "MAM         303\n",
      "SAM          53\n",
      "Name: Class_WFH, dtype: int64\n",
      "Scans with null values: 0\n"
     ]
    },
    {
     "data": {
      "image/png": "[encoded data removed]",
      "text/plain": [
       "<Figure size 432x288 with 1 Axes>"
      ]
     },
     "metadata": {
      "needs_background": "light"
     },
     "output_type": "display_data"
    }
   ],
   "source": [
    "Class_WFH_ax = scans['Class_WFH'].value_counts().plot(kind='bar') ## WFH SAM\n",
    "Class_WFH_ax.set_xlabel('Class_WFH')\n",
    "Class_WFH_ax.set_ylabel('count')\n",
    "print(scans['Class_WFH'].value_counts())\n",
    "print('Scans with null values:',scans['Class_WFH'].isna().sum())"
   ]
  },
  {
   "cell_type": "markdown",
   "metadata": {},
   "source": [
    "## Check on the amount of artifacts and scans from the dataset"
   ]
  },
  {
   "cell_type": "code",
   "execution_count": 27,
   "metadata": {},
   "outputs": [
    {
     "data": {
      "text/plain": [
       "azureml.data.file_dataset.FileDataset"
      ]
     },
     "execution_count": 27,
     "metadata": {},
     "output_type": "execute_result"
    }
   ],
   "source": [
    "from azureml.core import Workspace, Dataset\n",
    "ws = Workspace.from_config()\n",
    "dataset = Dataset.get_by_name(ws, name='anon-pcd-opensource')\n",
    "type(dataset)"
   ]
  },
  {
   "cell_type": "code",
   "execution_count": 28,
   "metadata": {},
   "outputs": [
    {
     "name": "stdout",
     "output_type": "stream",
     "text": [
      "/tmp/tmp6ss7mphd\n"
     ]
    }
   ],
   "source": [
    "mount_context = dataset.mount()\n",
    "mount_context.start()  # this will mount the file streams\n",
    "print(mount_context.mount_point)"
   ]
  },
  {
   "cell_type": "code",
   "execution_count": 30,
   "metadata": {},
   "outputs": [
    {
     "data": {
      "text/plain": [
       "42298"
      ]
     },
     "execution_count": 30,
     "metadata": {},
     "output_type": "execute_result"
    }
   ],
   "source": [
    "import glob2\n",
    "dataset = glob2.glob('/tmp/tmp6ss7mphd/qrcode/**/*.pcd')\n",
    "len(dataset)"
   ]
  },
  {
   "cell_type": "code",
   "execution_count": 31,
   "metadata": {},
   "outputs": [
    {
     "name": "stdout",
     "output_type": "stream",
     "text": [
      "Total no. of pointclouds in csv: 42298\n",
      "Total no. of pointclouds in dataset: 42298\n"
     ]
    }
   ],
   "source": [
    "print(\"Total no. of pointclouds in csv:\",len(artifacts))\n",
    "print(\"Total no. of pointclouds in dataset:\",len(dataset))"
   ]
  },
  {
   "cell_type": "code",
   "execution_count": 32,
   "metadata": {},
   "outputs": [],
   "source": [
    "## extracting the qrcodes\n",
    "qrcodes_data = []\n",
    "for path in dataset:\n",
    "    data =path.split('/')\n",
    "    qrcodes_data.append(data[4])\n",
    "qrc_dataframe = pd.DataFrame(qrcodes_data,columns=['qrcodes'])"
   ]
  },
  {
   "cell_type": "code",
   "execution_count": 33,
   "metadata": {},
   "outputs": [
    {
     "name": "stdout",
     "output_type": "stream",
     "text": [
      "Total no. of scans in dataset: 1680\n",
      "Total no. of scans in csv: 1680\n"
     ]
    }
   ],
   "source": [
    "print(\"Total no. of scans in dataset:\",len(qrc_dataframe['qrcodes'].unique()))\n",
    "print(\"Total no. of scans in csv:\", len(scans))      "
   ]
  }
 ],
 "metadata": {
  "kernel_info": {
   "name": "python3-azureml"
  },
  "kernelspec": {
   "display_name": "Python 3.6 - AzureML",
   "language": "python",
   "name": "python3-azureml"
  },
  "language_info": {
   "codemirror_mode": {
    "name": "ipython",
    "version": 3
   },
   "file_extension": ".py",
   "mimetype": "text/x-python",
   "name": "python",
   "nbconvert_exporter": "python",
   "pygments_lexer": "ipython3",
   "version": "3.6.9"
  },
  "nteract": {
   "version": "nteract-front-end@1.0.0"
  }
 },
 "nbformat": 4,
 "nbformat_minor": 2
}
