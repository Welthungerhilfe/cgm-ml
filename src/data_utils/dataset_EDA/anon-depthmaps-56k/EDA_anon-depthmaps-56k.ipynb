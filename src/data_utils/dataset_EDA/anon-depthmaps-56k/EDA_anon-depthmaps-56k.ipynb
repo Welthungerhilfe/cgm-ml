{
 "cells": [
  {
   "cell_type": "code",
   "execution_count": 2,
   "metadata": {},
   "outputs": [],
   "source": [
    "import math\n",
    "from pathlib import Path\n",
    "\n",
    "import glob2\n",
    "import numpy as np\n",
    "import pandas as pd\n",
    "from azureml.core import Dataset, Workspace\n",
    "\n",
    "sys.path.append(str(Path(os.getcwd()).parent))\n",
    "from data_utilities import convert_age_from_days_to_years, extractqrcode, draw_age_distribution, draw_sex_distribution"
   ]
  },
  {
   "cell_type": "markdown",
   "metadata": {},
   "source": [
    "### read the csv and total no. of children"
   ]
  },
  {
   "cell_type": "code",
   "execution_count": null,
   "metadata": {},
   "outputs": [],
   "source": [
    "DATASET_PATH = Path('/mnt/datasets/depthmap56k')"
   ]
  },
  {
   "cell_type": "code",
   "execution_count": 46,
   "metadata": {},
   "outputs": [
    {
     "name": "stdout",
     "output_type": "stream",
     "text": [
      "Total no. of children: 2106\n"
     ]
    },
    {
     "data": {
      "text/html": [
       "<div>\n",
       "<style scoped>\n",
       "    .dataframe tbody tr th:only-of-type {\n",
       "        vertical-align: middle;\n",
       "    }\n",
       "\n",
       "    .dataframe tbody tr th {\n",
       "        vertical-align: top;\n",
       "    }\n",
       "\n",
       "    .dataframe thead th {\n",
       "        text-align: right;\n",
       "    }\n",
       "</style>\n",
       "<table border=\"1\" class=\"dataframe\">\n",
       "  <thead>\n",
       "    <tr style=\"text-align: right;\">\n",
       "      <th></th>\n",
       "      <th>qrcode</th>\n",
       "      <th>person_id</th>\n",
       "      <th>age</th>\n",
       "      <th>sex</th>\n",
       "      <th>Years</th>\n",
       "    </tr>\n",
       "  </thead>\n",
       "  <tbody>\n",
       "    <tr>\n",
       "      <th>0</th>\n",
       "      <td>1584997475-0195z663pl</td>\n",
       "      <td>DQKAiT6cSJkQW2ya_person_1569888000000_Dj66PtJa...</td>\n",
       "      <td>1420</td>\n",
       "      <td>male</td>\n",
       "      <td>4</td>\n",
       "    </tr>\n",
       "    <tr>\n",
       "      <th>1</th>\n",
       "      <td>1584999865-01t0n240ra</td>\n",
       "      <td>lD0OAaaZ0pcD0zRk_person_1570060800000_1AoTKLlT...</td>\n",
       "      <td>1529</td>\n",
       "      <td>female</td>\n",
       "      <td>4</td>\n",
       "    </tr>\n",
       "    <tr>\n",
       "      <th>2</th>\n",
       "      <td>1583942091-02migjdla1</td>\n",
       "      <td>ZPFkcYGhq15raY3J_person_1573603200000_lfu3HzFC...</td>\n",
       "      <td>945</td>\n",
       "      <td>female</td>\n",
       "      <td>3</td>\n",
       "    </tr>\n",
       "    <tr>\n",
       "      <th>3</th>\n",
       "      <td>1585011777-031jov4jpw</td>\n",
       "      <td>D7tiN7CtUEM9WoRx_person_1571270400000_Q1hKfLbv...</td>\n",
       "      <td>924</td>\n",
       "      <td>male</td>\n",
       "      <td>3</td>\n",
       "    </tr>\n",
       "    <tr>\n",
       "      <th>4</th>\n",
       "      <td>1585003039-032hniw434</td>\n",
       "      <td>8SMAKMkY79LovcBU_person_1570838400000_nMpSBNek...</td>\n",
       "      <td>1320</td>\n",
       "      <td>female</td>\n",
       "      <td>4</td>\n",
       "    </tr>\n",
       "  </tbody>\n",
       "</table>\n",
       "</div>"
      ],
      "text/plain": [
       "                  qrcode                                          person_id  \\\n",
       "0  1584997475-0195z663pl  DQKAiT6cSJkQW2ya_person_1569888000000_Dj66PtJa...   \n",
       "1  1584999865-01t0n240ra  lD0OAaaZ0pcD0zRk_person_1570060800000_1AoTKLlT...   \n",
       "2  1583942091-02migjdla1  ZPFkcYGhq15raY3J_person_1573603200000_lfu3HzFC...   \n",
       "3  1585011777-031jov4jpw  D7tiN7CtUEM9WoRx_person_1571270400000_Q1hKfLbv...   \n",
       "4  1585003039-032hniw434  8SMAKMkY79LovcBU_person_1570838400000_nMpSBNek...   \n",
       "\n",
       "    age     sex  Years  \n",
       "0  1420    male      4  \n",
       "1  1529  female      4  \n",
       "2   945  female      3  \n",
       "3   924    male      3  \n",
       "4  1320  female      4  "
      ]
     },
     "execution_count": 46,
     "metadata": {},
     "output_type": "execute_result"
    }
   ],
   "source": [
    "scans = pd.read_csv(DATASET_PATH / 'labels/scans.csv')\n",
    "print(\"Total no. of children:\", len(scans))\n",
    "scans.head()"
   ]
  },
  {
   "cell_type": "markdown",
   "metadata": {},
   "source": [
    "### getting the total of gender"
   ]
  },
  {
   "cell_type": "code",
   "execution_count": 47,
   "metadata": {},
   "outputs": [
    {
     "name": "stdout",
     "output_type": "stream",
     "text": [
      "female    1058\n",
      "male      1048\n",
      "Name: sex, dtype: int64\n"
     ]
    },
    {
     "data": {
      "image/png": "[encoded data removed]",
      "text/plain": [
       "<Figure size 432x288 with 1 Axes>"
      ]
     },
     "metadata": {
      "needs_background": "light"
     },
     "output_type": "display_data"
    }
   ],
   "source": [
    "draw_sex_distribution(scans)"
   ]
  },
  {
   "cell_type": "code",
   "execution_count": 48,
   "metadata": {},
   "outputs": [
    {
     "data": {
      "text/html": [
       "<div>\n",
       "<style scoped>\n",
       "    .dataframe tbody tr th:only-of-type {\n",
       "        vertical-align: middle;\n",
       "    }\n",
       "\n",
       "    .dataframe tbody tr th {\n",
       "        vertical-align: top;\n",
       "    }\n",
       "\n",
       "    .dataframe thead th {\n",
       "        text-align: right;\n",
       "    }\n",
       "</style>\n",
       "<table border=\"1\" class=\"dataframe\">\n",
       "  <thead>\n",
       "    <tr style=\"text-align: right;\">\n",
       "      <th></th>\n",
       "      <th>qrcode</th>\n",
       "      <th>person_id</th>\n",
       "      <th>age</th>\n",
       "      <th>sex</th>\n",
       "      <th>Years</th>\n",
       "    </tr>\n",
       "  </thead>\n",
       "  <tbody>\n",
       "    <tr>\n",
       "      <th>0</th>\n",
       "      <td>1584997475-0195z663pl</td>\n",
       "      <td>DQKAiT6cSJkQW2ya_person_1569888000000_Dj66PtJa...</td>\n",
       "      <td>1420</td>\n",
       "      <td>male</td>\n",
       "      <td>4</td>\n",
       "    </tr>\n",
       "    <tr>\n",
       "      <th>1</th>\n",
       "      <td>1584999865-01t0n240ra</td>\n",
       "      <td>lD0OAaaZ0pcD0zRk_person_1570060800000_1AoTKLlT...</td>\n",
       "      <td>1529</td>\n",
       "      <td>female</td>\n",
       "      <td>4</td>\n",
       "    </tr>\n",
       "    <tr>\n",
       "      <th>2</th>\n",
       "      <td>1583942091-02migjdla1</td>\n",
       "      <td>ZPFkcYGhq15raY3J_person_1573603200000_lfu3HzFC...</td>\n",
       "      <td>945</td>\n",
       "      <td>female</td>\n",
       "      <td>3</td>\n",
       "    </tr>\n",
       "    <tr>\n",
       "      <th>3</th>\n",
       "      <td>1585011777-031jov4jpw</td>\n",
       "      <td>D7tiN7CtUEM9WoRx_person_1571270400000_Q1hKfLbv...</td>\n",
       "      <td>924</td>\n",
       "      <td>male</td>\n",
       "      <td>3</td>\n",
       "    </tr>\n",
       "    <tr>\n",
       "      <th>4</th>\n",
       "      <td>1585003039-032hniw434</td>\n",
       "      <td>8SMAKMkY79LovcBU_person_1570838400000_nMpSBNek...</td>\n",
       "      <td>1320</td>\n",
       "      <td>female</td>\n",
       "      <td>4</td>\n",
       "    </tr>\n",
       "  </tbody>\n",
       "</table>\n",
       "</div>"
      ],
      "text/plain": [
       "                  qrcode                                          person_id  \\\n",
       "0  1584997475-0195z663pl  DQKAiT6cSJkQW2ya_person_1569888000000_Dj66PtJa...   \n",
       "1  1584999865-01t0n240ra  lD0OAaaZ0pcD0zRk_person_1570060800000_1AoTKLlT...   \n",
       "2  1583942091-02migjdla1  ZPFkcYGhq15raY3J_person_1573603200000_lfu3HzFC...   \n",
       "3  1585011777-031jov4jpw  D7tiN7CtUEM9WoRx_person_1571270400000_Q1hKfLbv...   \n",
       "4  1585003039-032hniw434  8SMAKMkY79LovcBU_person_1570838400000_nMpSBNek...   \n",
       "\n",
       "    age     sex  Years  \n",
       "0  1420    male      4  \n",
       "1  1529  female      4  \n",
       "2   945  female      3  \n",
       "3   924    male      3  \n",
       "4  1320  female      4  "
      ]
     },
     "execution_count": 48,
     "metadata": {},
     "output_type": "execute_result"
    }
   ],
   "source": [
    "#adding the Years column into dataframe\n",
    "scans['Years'] = scans.apply(convert_age_from_days_to_years, axis=1)\n",
    "scans.head()"
   ]
  },
  {
   "cell_type": "markdown",
   "metadata": {},
   "source": [
    "### plotting the bar graph no. of children against age"
   ]
  },
  {
   "cell_type": "code",
   "execution_count": 49,
   "metadata": {},
   "outputs": [
    {
     "name": "stdout",
     "output_type": "stream",
     "text": [
      "4    705\n",
      "3    606\n",
      "5    370\n",
      "2    346\n",
      "1     63\n",
      "0     14\n",
      "6      2\n",
      "Name: Years, dtype: int64\n"
     ]
    },
    {
     "data": {
      "image/png": "[encoded data removed]",
      "text/plain": [
       "<Figure size 432x288 with 1 Axes>"
      ]
     },
     "metadata": {
      "needs_background": "light"
     },
     "output_type": "display_data"
    }
   ],
   "source": [
    "draw_age_distribution(scans)"
   ]
  },
  {
   "cell_type": "markdown",
   "metadata": {},
   "source": [
    "### getting the distribition based on gender"
   ]
  },
  {
   "cell_type": "code",
   "execution_count": 50,
   "metadata": {},
   "outputs": [
    {
     "name": "stdout",
     "output_type": "stream",
     "text": [
      "No. of male distribution: \n",
      "4    365\n",
      "3    282\n",
      "5    189\n",
      "2    176\n",
      "1     29\n",
      "0      7\n",
      "Name: Years, dtype: int64\n"
     ]
    }
   ],
   "source": [
    "male = scans[scans['sex']=='male']\n",
    "print('No. of male distribution: ')\n",
    "print(male['Years'].value_counts())"
   ]
  },
  {
   "cell_type": "code",
   "execution_count": 51,
   "metadata": {},
   "outputs": [
    {
     "name": "stdout",
     "output_type": "stream",
     "text": [
      "No. of female distribution: \n",
      "4    340\n",
      "3    324\n",
      "5    181\n",
      "2    170\n",
      "1     34\n",
      "0      7\n",
      "6      2\n",
      "Name: Years, dtype: int64\n"
     ]
    }
   ],
   "source": [
    "female = scans[scans['sex']=='female']\n",
    "print('No. of female distribution: ')\n",
    "print(female['Years'].value_counts())"
   ]
  },
  {
   "cell_type": "markdown",
   "metadata": {},
   "source": [
    "### Reading the csv files and get the data at artifacts level"
   ]
  },
  {
   "cell_type": "code",
   "execution_count": 53,
   "metadata": {},
   "outputs": [
    {
     "data": {
      "text/html": [
       "<div>\n",
       "<style scoped>\n",
       "    .dataframe tbody tr th:only-of-type {\n",
       "        vertical-align: middle;\n",
       "    }\n",
       "\n",
       "    .dataframe tbody tr th {\n",
       "        vertical-align: top;\n",
       "    }\n",
       "\n",
       "    .dataframe thead th {\n",
       "        text-align: right;\n",
       "    }\n",
       "</style>\n",
       "<table border=\"1\" class=\"dataframe\">\n",
       "  <thead>\n",
       "    <tr style=\"text-align: right;\">\n",
       "      <th></th>\n",
       "      <th>artifacts</th>\n",
       "      <th>id</th>\n",
       "      <th>storage_path</th>\n",
       "      <th>height</th>\n",
       "      <th>weight</th>\n",
       "      <th>key</th>\n",
       "      <th>tag</th>\n",
       "      <th>qrcode</th>\n",
       "    </tr>\n",
       "  </thead>\n",
       "  <tbody>\n",
       "    <tr>\n",
       "      <th>0</th>\n",
       "      <td>pc_1584997475-0195z663pl_1591588126306_100_000...</td>\n",
       "      <td>DQKAiT6cSJkQW2ya_artifact-scan-pcd_15698880000...</td>\n",
       "      <td>qrcode/1584997475-0195z663pl/measure/159158812...</td>\n",
       "      <td>85.7</td>\n",
       "      <td>9.45</td>\n",
       "      <td>100.0</td>\n",
       "      <td>good</td>\n",
       "      <td>1584997475-0195z663pl</td>\n",
       "    </tr>\n",
       "    <tr>\n",
       "      <th>1</th>\n",
       "      <td>pc_1584997475-0195z663pl_1591588126306_100_001...</td>\n",
       "      <td>DQKAiT6cSJkQW2ya_artifact-scan-pcd_15698880000...</td>\n",
       "      <td>qrcode/1584997475-0195z663pl/measure/159158812...</td>\n",
       "      <td>85.7</td>\n",
       "      <td>9.45</td>\n",
       "      <td>100.0</td>\n",
       "      <td>good</td>\n",
       "      <td>1584997475-0195z663pl</td>\n",
       "    </tr>\n",
       "    <tr>\n",
       "      <th>2</th>\n",
       "      <td>pc_1584997475-0195z663pl_1591588126306_100_002...</td>\n",
       "      <td>DQKAiT6cSJkQW2ya_artifact-scan-pcd_15698880000...</td>\n",
       "      <td>qrcode/1584997475-0195z663pl/measure/159158812...</td>\n",
       "      <td>85.7</td>\n",
       "      <td>9.45</td>\n",
       "      <td>100.0</td>\n",
       "      <td>good</td>\n",
       "      <td>1584997475-0195z663pl</td>\n",
       "    </tr>\n",
       "    <tr>\n",
       "      <th>3</th>\n",
       "      <td>pc_1584997475-0195z663pl_1591588126306_100_003...</td>\n",
       "      <td>DQKAiT6cSJkQW2ya_artifact-scan-pcd_15698880000...</td>\n",
       "      <td>qrcode/1584997475-0195z663pl/measure/159158812...</td>\n",
       "      <td>85.7</td>\n",
       "      <td>9.45</td>\n",
       "      <td>100.0</td>\n",
       "      <td>good</td>\n",
       "      <td>1584997475-0195z663pl</td>\n",
       "    </tr>\n",
       "    <tr>\n",
       "      <th>4</th>\n",
       "      <td>pc_1584997475-0195z663pl_1591588126306_100_004...</td>\n",
       "      <td>DQKAiT6cSJkQW2ya_artifact-scan-pcd_15698880000...</td>\n",
       "      <td>qrcode/1584997475-0195z663pl/measure/159158812...</td>\n",
       "      <td>85.7</td>\n",
       "      <td>9.45</td>\n",
       "      <td>100.0</td>\n",
       "      <td>good</td>\n",
       "      <td>1584997475-0195z663pl</td>\n",
       "    </tr>\n",
       "  </tbody>\n",
       "</table>\n",
       "</div>"
      ],
      "text/plain": [
       "                                           artifacts  \\\n",
       "0  pc_1584997475-0195z663pl_1591588126306_100_000...   \n",
       "1  pc_1584997475-0195z663pl_1591588126306_100_001...   \n",
       "2  pc_1584997475-0195z663pl_1591588126306_100_002...   \n",
       "3  pc_1584997475-0195z663pl_1591588126306_100_003...   \n",
       "4  pc_1584997475-0195z663pl_1591588126306_100_004...   \n",
       "\n",
       "                                                  id  \\\n",
       "0  DQKAiT6cSJkQW2ya_artifact-scan-pcd_15698880000...   \n",
       "1  DQKAiT6cSJkQW2ya_artifact-scan-pcd_15698880000...   \n",
       "2  DQKAiT6cSJkQW2ya_artifact-scan-pcd_15698880000...   \n",
       "3  DQKAiT6cSJkQW2ya_artifact-scan-pcd_15698880000...   \n",
       "4  DQKAiT6cSJkQW2ya_artifact-scan-pcd_15698880000...   \n",
       "\n",
       "                                        storage_path  height  weight    key  \\\n",
       "0  qrcode/1584997475-0195z663pl/measure/159158812...    85.7    9.45  100.0   \n",
       "1  qrcode/1584997475-0195z663pl/measure/159158812...    85.7    9.45  100.0   \n",
       "2  qrcode/1584997475-0195z663pl/measure/159158812...    85.7    9.45  100.0   \n",
       "3  qrcode/1584997475-0195z663pl/measure/159158812...    85.7    9.45  100.0   \n",
       "4  qrcode/1584997475-0195z663pl/measure/159158812...    85.7    9.45  100.0   \n",
       "\n",
       "    tag                 qrcode  \n",
       "0  good  1584997475-0195z663pl  \n",
       "1  good  1584997475-0195z663pl  \n",
       "2  good  1584997475-0195z663pl  \n",
       "3  good  1584997475-0195z663pl  \n",
       "4  good  1584997475-0195z663pl  "
      ]
     },
     "execution_count": 53,
     "metadata": {},
     "output_type": "execute_result"
    }
   ],
   "source": [
    "artifacts = pd.read_csv(DATASET_PATH / 'labels/artifacts.csv')\n",
    "artifacts.head()"
   ]
  },
  {
   "cell_type": "code",
   "execution_count": 54,
   "metadata": {},
   "outputs": [],
   "source": [
    "## dropping the null values from the artifacts \n",
    "artifacts  = artifacts.dropna()"
   ]
  },
  {
   "cell_type": "code",
   "execution_count": 55,
   "metadata": {},
   "outputs": [
    {
     "name": "stdout",
     "output_type": "stream",
     "text": [
      "Total no. of pointclouds: 50149\n"
     ]
    }
   ],
   "source": [
    "print(\"Total no. of pointclouds:\", len(artifacts ))"
   ]
  },
  {
   "cell_type": "code",
   "execution_count": 56,
   "metadata": {},
   "outputs": [
    {
     "name": "stdout",
     "output_type": "stream",
     "text": [
      "101.0    21033\n",
      "100.0    14843\n",
      "102.0    14246\n",
      "201.0       19\n",
      "202.0        8\n",
      "Name: key, dtype: int64\n"
     ]
    },
    {
     "data": {
      "text/plain": [
       "<matplotlib.axes._subplots.AxesSubplot at 0x7faa372a8be0>"
      ]
     },
     "execution_count": 56,
     "metadata": {},
     "output_type": "execute_result"
    },
    {
     "data": {
      "image/png": "[encoded data removed]",
      "text/plain": [
       "<Figure size 432x288 with 1 Axes>"
      ]
     },
     "metadata": {},
     "output_type": "display_data"
    }
   ],
   "source": [
    "## keys for different scan type and their distribution in dataset\n",
    "\"- 100 - standing front scan\",\n",
    "\"- 101 - standing 360 scan\",\n",
    "\"- 102 - standing back scan\",\n",
    "\"- 200 - lying front scan\",\n",
    "\"- 201 - lying side scan\",\n",
    "\"- 202 - lying back scan\"\n",
    "print(artifacts['key'].value_counts())\n",
    "_ = artifacts['key'].value_counts().plot(kind='pie')"
   ]
  },
  {
   "cell_type": "markdown",
   "metadata": {},
   "source": [
    "### plotting the height and weight distribution"
   ]
  },
  {
   "cell_type": "code",
   "execution_count": 58,
   "metadata": {},
   "outputs": [
    {
     "data": {
      "text/html": [
       "<div>\n",
       "<style scoped>\n",
       "    .dataframe tbody tr th:only-of-type {\n",
       "        vertical-align: middle;\n",
       "    }\n",
       "\n",
       "    .dataframe tbody tr th {\n",
       "        vertical-align: top;\n",
       "    }\n",
       "\n",
       "    .dataframe thead th {\n",
       "        text-align: right;\n",
       "    }\n",
       "</style>\n",
       "<table border=\"1\" class=\"dataframe\">\n",
       "  <thead>\n",
       "    <tr style=\"text-align: right;\">\n",
       "      <th></th>\n",
       "      <th>artifacts</th>\n",
       "      <th>id</th>\n",
       "      <th>storage_path</th>\n",
       "      <th>height</th>\n",
       "      <th>weight</th>\n",
       "      <th>key</th>\n",
       "      <th>tag</th>\n",
       "      <th>qrcode</th>\n",
       "    </tr>\n",
       "  </thead>\n",
       "  <tbody>\n",
       "    <tr>\n",
       "      <th>0</th>\n",
       "      <td>pc_1584997475-0195z663pl_1591588126306_100_000...</td>\n",
       "      <td>DQKAiT6cSJkQW2ya_artifact-scan-pcd_15698880000...</td>\n",
       "      <td>qrcode/1584997475-0195z663pl/measure/159158812...</td>\n",
       "      <td>85.7</td>\n",
       "      <td>9.45</td>\n",
       "      <td>100.0</td>\n",
       "      <td>good</td>\n",
       "      <td>1584997475-0195z663pl</td>\n",
       "    </tr>\n",
       "    <tr>\n",
       "      <th>1</th>\n",
       "      <td>pc_1584997475-0195z663pl_1591588126306_100_001...</td>\n",
       "      <td>DQKAiT6cSJkQW2ya_artifact-scan-pcd_15698880000...</td>\n",
       "      <td>qrcode/1584997475-0195z663pl/measure/159158812...</td>\n",
       "      <td>85.7</td>\n",
       "      <td>9.45</td>\n",
       "      <td>100.0</td>\n",
       "      <td>good</td>\n",
       "      <td>1584997475-0195z663pl</td>\n",
       "    </tr>\n",
       "    <tr>\n",
       "      <th>2</th>\n",
       "      <td>pc_1584997475-0195z663pl_1591588126306_100_002...</td>\n",
       "      <td>DQKAiT6cSJkQW2ya_artifact-scan-pcd_15698880000...</td>\n",
       "      <td>qrcode/1584997475-0195z663pl/measure/159158812...</td>\n",
       "      <td>85.7</td>\n",
       "      <td>9.45</td>\n",
       "      <td>100.0</td>\n",
       "      <td>good</td>\n",
       "      <td>1584997475-0195z663pl</td>\n",
       "    </tr>\n",
       "    <tr>\n",
       "      <th>3</th>\n",
       "      <td>pc_1584997475-0195z663pl_1591588126306_100_003...</td>\n",
       "      <td>DQKAiT6cSJkQW2ya_artifact-scan-pcd_15698880000...</td>\n",
       "      <td>qrcode/1584997475-0195z663pl/measure/159158812...</td>\n",
       "      <td>85.7</td>\n",
       "      <td>9.45</td>\n",
       "      <td>100.0</td>\n",
       "      <td>good</td>\n",
       "      <td>1584997475-0195z663pl</td>\n",
       "    </tr>\n",
       "    <tr>\n",
       "      <th>4</th>\n",
       "      <td>pc_1584997475-0195z663pl_1591588126306_100_004...</td>\n",
       "      <td>DQKAiT6cSJkQW2ya_artifact-scan-pcd_15698880000...</td>\n",
       "      <td>qrcode/1584997475-0195z663pl/measure/159158812...</td>\n",
       "      <td>85.7</td>\n",
       "      <td>9.45</td>\n",
       "      <td>100.0</td>\n",
       "      <td>good</td>\n",
       "      <td>1584997475-0195z663pl</td>\n",
       "    </tr>\n",
       "  </tbody>\n",
       "</table>\n",
       "</div>"
      ],
      "text/plain": [
       "                                           artifacts  \\\n",
       "0  pc_1584997475-0195z663pl_1591588126306_100_000...   \n",
       "1  pc_1584997475-0195z663pl_1591588126306_100_001...   \n",
       "2  pc_1584997475-0195z663pl_1591588126306_100_002...   \n",
       "3  pc_1584997475-0195z663pl_1591588126306_100_003...   \n",
       "4  pc_1584997475-0195z663pl_1591588126306_100_004...   \n",
       "\n",
       "                                                  id  \\\n",
       "0  DQKAiT6cSJkQW2ya_artifact-scan-pcd_15698880000...   \n",
       "1  DQKAiT6cSJkQW2ya_artifact-scan-pcd_15698880000...   \n",
       "2  DQKAiT6cSJkQW2ya_artifact-scan-pcd_15698880000...   \n",
       "3  DQKAiT6cSJkQW2ya_artifact-scan-pcd_15698880000...   \n",
       "4  DQKAiT6cSJkQW2ya_artifact-scan-pcd_15698880000...   \n",
       "\n",
       "                                        storage_path  height  weight    key  \\\n",
       "0  qrcode/1584997475-0195z663pl/measure/159158812...    85.7    9.45  100.0   \n",
       "1  qrcode/1584997475-0195z663pl/measure/159158812...    85.7    9.45  100.0   \n",
       "2  qrcode/1584997475-0195z663pl/measure/159158812...    85.7    9.45  100.0   \n",
       "3  qrcode/1584997475-0195z663pl/measure/159158812...    85.7    9.45  100.0   \n",
       "4  qrcode/1584997475-0195z663pl/measure/159158812...    85.7    9.45  100.0   \n",
       "\n",
       "    tag                 qrcode  \n",
       "0  good  1584997475-0195z663pl  \n",
       "1  good  1584997475-0195z663pl  \n",
       "2  good  1584997475-0195z663pl  \n",
       "3  good  1584997475-0195z663pl  \n",
       "4  good  1584997475-0195z663pl  "
      ]
     },
     "execution_count": 58,
     "metadata": {},
     "output_type": "execute_result"
    }
   ],
   "source": [
    "artifacts['qrcode'] = artifacts.apply(extractqrcode, axis=1)\n",
    "artifacts.head()"
   ]
  },
  {
   "cell_type": "code",
   "execution_count": 59,
   "metadata": {},
   "outputs": [
    {
     "data": {
      "text/html": [
       "<div>\n",
       "<style scoped>\n",
       "    .dataframe tbody tr th:only-of-type {\n",
       "        vertical-align: middle;\n",
       "    }\n",
       "\n",
       "    .dataframe tbody tr th {\n",
       "        vertical-align: top;\n",
       "    }\n",
       "\n",
       "    .dataframe thead th {\n",
       "        text-align: right;\n",
       "    }\n",
       "</style>\n",
       "<table border=\"1\" class=\"dataframe\">\n",
       "  <thead>\n",
       "    <tr style=\"text-align: right;\">\n",
       "      <th></th>\n",
       "      <th>artifacts</th>\n",
       "      <th>id</th>\n",
       "      <th>storage_path</th>\n",
       "      <th>height</th>\n",
       "      <th>weight</th>\n",
       "      <th>key</th>\n",
       "      <th>tag</th>\n",
       "      <th>qrcode</th>\n",
       "    </tr>\n",
       "  </thead>\n",
       "  <tbody>\n",
       "    <tr>\n",
       "      <th>0</th>\n",
       "      <td>pc_1584997475-0195z663pl_1591588126306_100_000...</td>\n",
       "      <td>DQKAiT6cSJkQW2ya_artifact-scan-pcd_15698880000...</td>\n",
       "      <td>qrcode/1584997475-0195z663pl/measure/159158812...</td>\n",
       "      <td>85.7</td>\n",
       "      <td>9.45</td>\n",
       "      <td>100.0</td>\n",
       "      <td>good</td>\n",
       "      <td>1584997475-0195z663pl</td>\n",
       "    </tr>\n",
       "    <tr>\n",
       "      <th>1</th>\n",
       "      <td>pc_1584999865-01t0n240ra_1591629837700_100_008...</td>\n",
       "      <td>lD0OAaaZ0pcD0zRk_artifact-scan-pcd_15700608000...</td>\n",
       "      <td>qrcode/1584999865-01t0n240ra/measure/159162983...</td>\n",
       "      <td>86.5</td>\n",
       "      <td>12.45</td>\n",
       "      <td>100.0</td>\n",
       "      <td>good</td>\n",
       "      <td>1584999865-01t0n240ra</td>\n",
       "    </tr>\n",
       "    <tr>\n",
       "      <th>2</th>\n",
       "      <td>pc_1583942091-02migjdla1_1591470015961_100_000...</td>\n",
       "      <td>ZPFkcYGhq15raY3J_artifact-scan-pcd_15736032000...</td>\n",
       "      <td>qrcode/1583942091-02migjdla1/measure/159147001...</td>\n",
       "      <td>71.6</td>\n",
       "      <td>8.10</td>\n",
       "      <td>100.0</td>\n",
       "      <td>good</td>\n",
       "      <td>1583942091-02migjdla1</td>\n",
       "    </tr>\n",
       "    <tr>\n",
       "      <th>3</th>\n",
       "      <td>pc_1585011777-031jov4jpw_1591815240163_100_000...</td>\n",
       "      <td>D7tiN7CtUEM9WoRx_artifact-scan-pcd_15712704000...</td>\n",
       "      <td>qrcode/1585011777-031jov4jpw/measure/159181524...</td>\n",
       "      <td>78.5</td>\n",
       "      <td>11.75</td>\n",
       "      <td>100.0</td>\n",
       "      <td>good</td>\n",
       "      <td>1585011777-031jov4jpw</td>\n",
       "    </tr>\n",
       "    <tr>\n",
       "      <th>4</th>\n",
       "      <td>pc_1585003039-032hniw434_1591707933084_102_000...</td>\n",
       "      <td>8SMAKMkY79LovcBU_artifact-scan-pcd_15708384000...</td>\n",
       "      <td>qrcode/1585003039-032hniw434/measure/159170793...</td>\n",
       "      <td>108.1</td>\n",
       "      <td>15.50</td>\n",
       "      <td>102.0</td>\n",
       "      <td>good</td>\n",
       "      <td>1585003039-032hniw434</td>\n",
       "    </tr>\n",
       "  </tbody>\n",
       "</table>\n",
       "</div>"
      ],
      "text/plain": [
       "                                           artifacts  \\\n",
       "0  pc_1584997475-0195z663pl_1591588126306_100_000...   \n",
       "1  pc_1584999865-01t0n240ra_1591629837700_100_008...   \n",
       "2  pc_1583942091-02migjdla1_1591470015961_100_000...   \n",
       "3  pc_1585011777-031jov4jpw_1591815240163_100_000...   \n",
       "4  pc_1585003039-032hniw434_1591707933084_102_000...   \n",
       "\n",
       "                                                  id  \\\n",
       "0  DQKAiT6cSJkQW2ya_artifact-scan-pcd_15698880000...   \n",
       "1  lD0OAaaZ0pcD0zRk_artifact-scan-pcd_15700608000...   \n",
       "2  ZPFkcYGhq15raY3J_artifact-scan-pcd_15736032000...   \n",
       "3  D7tiN7CtUEM9WoRx_artifact-scan-pcd_15712704000...   \n",
       "4  8SMAKMkY79LovcBU_artifact-scan-pcd_15708384000...   \n",
       "\n",
       "                                        storage_path  height  weight    key  \\\n",
       "0  qrcode/1584997475-0195z663pl/measure/159158812...    85.7    9.45  100.0   \n",
       "1  qrcode/1584999865-01t0n240ra/measure/159162983...    86.5   12.45  100.0   \n",
       "2  qrcode/1583942091-02migjdla1/measure/159147001...    71.6    8.10  100.0   \n",
       "3  qrcode/1585011777-031jov4jpw/measure/159181524...    78.5   11.75  100.0   \n",
       "4  qrcode/1585003039-032hniw434/measure/159170793...   108.1   15.50  102.0   \n",
       "\n",
       "    tag                 qrcode  \n",
       "0  good  1584997475-0195z663pl  \n",
       "1  good  1584999865-01t0n240ra  \n",
       "2  good  1583942091-02migjdla1  \n",
       "3  good  1585011777-031jov4jpw  \n",
       "4  good  1585003039-032hniw434  "
      ]
     },
     "execution_count": 59,
     "metadata": {},
     "output_type": "execute_result"
    }
   ],
   "source": [
    "getheight = artifacts.drop_duplicates(subset=['qrcode']).reset_index(drop=True)\n",
    "getheight.head()"
   ]
  },
  {
   "cell_type": "code",
   "execution_count": 60,
   "metadata": {},
   "outputs": [
    {
     "name": "stdout",
     "output_type": "stream",
     "text": [
      "Total no.unique scans: 2106\n"
     ]
    }
   ],
   "source": [
    "print(\"Total no.unique scans:\", len(getheight))"
   ]
  },
  {
   "cell_type": "code",
   "execution_count": 61,
   "metadata": {},
   "outputs": [
    {
     "data": {
      "text/plain": [
       "Text(0, 0.5, 'height')"
      ]
     },
     "execution_count": 61,
     "metadata": {},
     "output_type": "execute_result"
    },
    {
     "data": {
      "image/png": "[encoded data removed]",
      "text/plain": [
       "<Figure size 432x288 with 1 Axes>"
      ]
     },
     "metadata": {
      "needs_background": "light"
     },
     "output_type": "display_data"
    }
   ],
   "source": [
    "heightax = getheight['weight'].plot()\n",
    "heightax.set_xlabel('scan')\n",
    "heightax.set_ylabel('height')"
   ]
  },
  {
   "cell_type": "code",
   "execution_count": 62,
   "metadata": {},
   "outputs": [
    {
     "data": {
      "text/plain": [
       "Text(0.5, 0, 'weight')"
      ]
     },
     "execution_count": 62,
     "metadata": {},
     "output_type": "execute_result"
    },
    {
     "data": {
      "image/png": "[encoded data removed]",
      "text/plain": [
       "<Figure size 432x288 with 1 Axes>"
      ]
     },
     "metadata": {
      "needs_background": "light"
     },
     "output_type": "display_data"
    }
   ],
   "source": [
    "weightax = getheight['weight'].plot()\n",
    "weightax.set_xlabel('scan')\n",
    "weightax.set_xlabel('weight')"
   ]
  },
  {
   "cell_type": "code",
   "execution_count": 63,
   "metadata": {},
   "outputs": [
    {
     "data": {
      "text/html": [
       "<div>\n",
       "<style scoped>\n",
       "    .dataframe tbody tr th:only-of-type {\n",
       "        vertical-align: middle;\n",
       "    }\n",
       "\n",
       "    .dataframe tbody tr th {\n",
       "        vertical-align: top;\n",
       "    }\n",
       "\n",
       "    .dataframe thead th {\n",
       "        text-align: right;\n",
       "    }\n",
       "</style>\n",
       "<table border=\"1\" class=\"dataframe\">\n",
       "  <thead>\n",
       "    <tr style=\"text-align: right;\">\n",
       "      <th></th>\n",
       "      <th>qrcode</th>\n",
       "      <th>person_id</th>\n",
       "      <th>age</th>\n",
       "      <th>sex</th>\n",
       "      <th>Years</th>\n",
       "      <th>height</th>\n",
       "      <th>weight</th>\n",
       "    </tr>\n",
       "  </thead>\n",
       "  <tbody>\n",
       "    <tr>\n",
       "      <th>0</th>\n",
       "      <td>1584997475-0195z663pl</td>\n",
       "      <td>DQKAiT6cSJkQW2ya_person_1569888000000_Dj66PtJa...</td>\n",
       "      <td>1420</td>\n",
       "      <td>male</td>\n",
       "      <td>4</td>\n",
       "      <td>85.7</td>\n",
       "      <td>9.45</td>\n",
       "    </tr>\n",
       "    <tr>\n",
       "      <th>1</th>\n",
       "      <td>1584999865-01t0n240ra</td>\n",
       "      <td>lD0OAaaZ0pcD0zRk_person_1570060800000_1AoTKLlT...</td>\n",
       "      <td>1529</td>\n",
       "      <td>female</td>\n",
       "      <td>4</td>\n",
       "      <td>86.5</td>\n",
       "      <td>12.45</td>\n",
       "    </tr>\n",
       "    <tr>\n",
       "      <th>2</th>\n",
       "      <td>1583942091-02migjdla1</td>\n",
       "      <td>ZPFkcYGhq15raY3J_person_1573603200000_lfu3HzFC...</td>\n",
       "      <td>945</td>\n",
       "      <td>female</td>\n",
       "      <td>3</td>\n",
       "      <td>71.6</td>\n",
       "      <td>8.10</td>\n",
       "    </tr>\n",
       "    <tr>\n",
       "      <th>3</th>\n",
       "      <td>1585011777-031jov4jpw</td>\n",
       "      <td>D7tiN7CtUEM9WoRx_person_1571270400000_Q1hKfLbv...</td>\n",
       "      <td>924</td>\n",
       "      <td>male</td>\n",
       "      <td>3</td>\n",
       "      <td>78.5</td>\n",
       "      <td>11.75</td>\n",
       "    </tr>\n",
       "    <tr>\n",
       "      <th>4</th>\n",
       "      <td>1585003039-032hniw434</td>\n",
       "      <td>8SMAKMkY79LovcBU_person_1570838400000_nMpSBNek...</td>\n",
       "      <td>1320</td>\n",
       "      <td>female</td>\n",
       "      <td>4</td>\n",
       "      <td>108.1</td>\n",
       "      <td>15.50</td>\n",
       "    </tr>\n",
       "  </tbody>\n",
       "</table>\n",
       "</div>"
      ],
      "text/plain": [
       "                  qrcode                                          person_id  \\\n",
       "0  1584997475-0195z663pl  DQKAiT6cSJkQW2ya_person_1569888000000_Dj66PtJa...   \n",
       "1  1584999865-01t0n240ra  lD0OAaaZ0pcD0zRk_person_1570060800000_1AoTKLlT...   \n",
       "2  1583942091-02migjdla1  ZPFkcYGhq15raY3J_person_1573603200000_lfu3HzFC...   \n",
       "3  1585011777-031jov4jpw  D7tiN7CtUEM9WoRx_person_1571270400000_Q1hKfLbv...   \n",
       "4  1585003039-032hniw434  8SMAKMkY79LovcBU_person_1570838400000_nMpSBNek...   \n",
       "\n",
       "    age     sex  Years  height  weight  \n",
       "0  1420    male      4    85.7    9.45  \n",
       "1  1529  female      4    86.5   12.45  \n",
       "2   945  female      3    71.6    8.10  \n",
       "3   924    male      3    78.5   11.75  \n",
       "4  1320  female      4   108.1   15.50  "
      ]
     },
     "execution_count": 63,
     "metadata": {},
     "output_type": "execute_result"
    }
   ],
   "source": [
    "distribution_data = pd.merge(scans,getheight[['height','weight','qrcode']],on='qrcode', how='left')\n",
    "distribution_data.head()"
   ]
  },
  {
   "cell_type": "code",
   "execution_count": 64,
   "metadata": {},
   "outputs": [
    {
     "data": {
      "image/png": "[encoded data removed]",
      "text/plain": [
       "<Figure size 432x288 with 1 Axes>"
      ]
     },
     "metadata": {
      "needs_background": "light"
     },
     "output_type": "display_data"
    }
   ],
   "source": [
    "#distribution of height against age\n",
    "height_vs_age = distribution_data.plot.scatter(x='height', y='age', c='red')"
   ]
  },
  {
   "cell_type": "code",
   "execution_count": 65,
   "metadata": {},
   "outputs": [
    {
     "data": {
      "image/png": "[encoded data removed]",
      "text/plain": [
       "<Figure size 432x288 with 1 Axes>"
      ]
     },
     "metadata": {
      "needs_background": "light"
     },
     "output_type": "display_data"
    }
   ],
   "source": [
    "#distribution of weight against age\n",
    "weight_vs_age = distribution_data.plot.scatter(x='weight', y='age', c='red')"
   ]
  },
  {
   "cell_type": "code",
   "execution_count": 66,
   "metadata": {},
   "outputs": [
    {
     "data": {
      "image/png": "[encoded data removed]",
      "text/plain": [
       "<Figure size 432x288 with 1 Axes>"
      ]
     },
     "metadata": {
      "needs_background": "light"
     },
     "output_type": "display_data"
    }
   ],
   "source": [
    "## distribution of height against weight\n",
    "weight_vs_height = distribution_data.plot.scatter(x='height', y='weight', c='red')"
   ]
  },
  {
   "cell_type": "markdown",
   "metadata": {},
   "source": [
    "## Check on the amount of artifacts and scans from the dataset"
   ]
  },
  {
   "cell_type": "code",
   "execution_count": 67,
   "metadata": {},
   "outputs": [
    {
     "data": {
      "text/plain": [
       "azureml.data.file_dataset.FileDataset"
      ]
     },
     "execution_count": 67,
     "metadata": {},
     "output_type": "execute_result"
    }
   ],
   "source": [
    "ws = Workspace.from_config()\n",
    "dataset = Dataset.get_by_name(ws, name='anon-pcd-50k')\n",
    "type(dataset)"
   ]
  },
  {
   "cell_type": "code",
   "execution_count": 68,
   "metadata": {},
   "outputs": [
    {
     "name": "stdout",
     "output_type": "stream",
     "text": [
      "/tmp/tmpu7rmyypu\n"
     ]
    }
   ],
   "source": [
    "mount_context = dataset.mount()\n",
    "mount_context.start()  # this will mount the file streams\n",
    "print(mount_context.mount_point)"
   ]
  },
  {
   "cell_type": "code",
   "execution_count": 69,
   "metadata": {},
   "outputs": [
    {
     "data": {
      "text/plain": [
       "50149"
      ]
     },
     "execution_count": 69,
     "metadata": {},
     "output_type": "execute_result"
    }
   ],
   "source": [
    "# TODO fix mounting\n",
    "\n",
    "dataset = glob2.glob('/tmp/tmpu7rmyypu/qrcode/**/*.pcd')\n",
    "len(dataset)"
   ]
  },
  {
   "cell_type": "code",
   "execution_count": 70,
   "metadata": {},
   "outputs": [
    {
     "name": "stdout",
     "output_type": "stream",
     "text": [
      "Total no. of pointclouds in csv: 50149\n",
      "Total no. of pointclouds in dataset: 50149\n"
     ]
    }
   ],
   "source": [
    "print(\"Total no. of pointclouds in csv:\",len(artifacts))\n",
    "print(\"Total no. of pointclouds in dataset:\",len(dataset))"
   ]
  },
  {
   "cell_type": "code",
   "execution_count": 75,
   "metadata": {},
   "outputs": [],
   "source": [
    "## extracting the qrcodes\n",
    "qrcodes_data = []\n",
    "for path in dataset:\n",
    "    data =path.split('/')\n",
    "    qrcodes_data.append(data[4])\n",
    "qrc_dataframe = pd.DataFrame(qrcodes_data,columns=['qrcodes'])"
   ]
  },
  {
   "cell_type": "code",
   "execution_count": 83,
   "metadata": {},
   "outputs": [
    {
     "name": "stdout",
     "output_type": "stream",
     "text": [
      "Total no. of scans in dataset: 2106\n",
      "Total no. of scans in csv: 2106\n"
     ]
    }
   ],
   "source": [
    "print(\"Total no. of scans in dataset:\",len(qrc_dataframe['qrcodes'].unique()))\n",
    "print(\"Total no. of scans in csv:\", len(scans))      "
   ]
  }
 ],
 "metadata": {
  "kernel_info": {
   "name": "python3-azureml"
  },
  "kernelspec": {
   "display_name": "Python 3.6 - AzureML",
   "language": "python",
   "name": "python3-azureml"
  },
  "language_info": {
   "codemirror_mode": {
    "name": "ipython",
    "version": 3
   },
   "file_extension": ".py",
   "mimetype": "text/x-python",
   "name": "python",
   "nbconvert_exporter": "python",
   "pygments_lexer": "ipython3",
   "version": "3.6.9"
  },
  "nteract": {
   "version": "nteract-front-end@1.0.0"
  }
 },
 "nbformat": 4,
 "nbformat_minor": 4
}
