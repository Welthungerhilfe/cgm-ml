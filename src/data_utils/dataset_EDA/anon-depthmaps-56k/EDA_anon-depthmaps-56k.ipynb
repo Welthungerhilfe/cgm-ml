{
 "cells": [
  {
   "cell_type": "code",
   "execution_count": 62,
   "metadata": {
    "gather": {
     "logged": 1611751273184
    }
   },
   "outputs": [],
   "source": [
    "%reload_ext autoreload\n",
    "%autoreload 2\n",
    "\n",
    "import math\n",
    "import sys\n",
    "from pathlib import Path\n",
    "\n",
    "import glob2\n",
    "import numpy as np\n",
    "import pandas as pd\n",
    "from azureml.core import Dataset, Workspace\n",
    "import matplotlib.pyplot as plt\n",
    "\n",
    "sys.path.append(str(Path(os.getcwd()).parent))\n",
    "from data_utilities import convert_age_from_days_to_years, extractqrcode, draw_sex_distribution, draw_age_distribution"
   ]
  },
  {
   "cell_type": "markdown",
   "metadata": {},
   "source": [
    "### read the csv and total no. of children"
   ]
  },
  {
   "cell_type": "code",
   "execution_count": 63,
   "metadata": {
    "gather": {
     "logged": 1611751276327
    }
   },
   "outputs": [],
   "source": [
    "DATASET_PATH = Path('/mnt/datasets/depthmap56k')"
   ]
  },
  {
   "cell_type": "code",
   "execution_count": 64,
   "metadata": {
    "gather": {
     "logged": 1611751278234
    }
   },
   "outputs": [
    {
     "name": "stdout",
     "output_type": "stream",
     "text": [
      "Total no. of children: 2106\n"
     ]
    },
    {
     "data": {
      "text/html": [
       "<div>\n",
       "<style scoped>\n",
       "    .dataframe tbody tr th:only-of-type {\n",
       "        vertical-align: middle;\n",
       "    }\n",
       "\n",
       "    .dataframe tbody tr th {\n",
       "        vertical-align: top;\n",
       "    }\n",
       "\n",
       "    .dataframe thead th {\n",
       "        text-align: right;\n",
       "    }\n",
       "</style>\n",
       "<table border=\"1\" class=\"dataframe\">\n",
       "  <thead>\n",
       "    <tr style=\"text-align: right;\">\n",
       "      <th></th>\n",
       "      <th>qrcode</th>\n",
       "      <th>person_id</th>\n",
       "      <th>age</th>\n",
       "      <th>sex</th>\n",
       "      <th>Years</th>\n",
       "    </tr>\n",
       "  </thead>\n",
       "  <tbody>\n",
       "    <tr>\n",
       "      <th>0</th>\n",
       "      <td>1584997475-0195z663pl</td>\n",
       "      <td>DQKAiT6cSJkQW2ya_person_1569888000000_Dj66PtJa...</td>\n",
       "      <td>1420</td>\n",
       "      <td>male</td>\n",
       "      <td>4</td>\n",
       "    </tr>\n",
       "    <tr>\n",
       "      <th>1</th>\n",
       "      <td>1584999865-01t0n240ra</td>\n",
       "      <td>lD0OAaaZ0pcD0zRk_person_1570060800000_1AoTKLlT...</td>\n",
       "      <td>1529</td>\n",
       "      <td>female</td>\n",
       "      <td>4</td>\n",
       "    </tr>\n",
       "    <tr>\n",
       "      <th>2</th>\n",
       "      <td>1583942091-02migjdla1</td>\n",
       "      <td>ZPFkcYGhq15raY3J_person_1573603200000_lfu3HzFC...</td>\n",
       "      <td>945</td>\n",
       "      <td>female</td>\n",
       "      <td>3</td>\n",
       "    </tr>\n",
       "    <tr>\n",
       "      <th>3</th>\n",
       "      <td>1585011777-031jov4jpw</td>\n",
       "      <td>D7tiN7CtUEM9WoRx_person_1571270400000_Q1hKfLbv...</td>\n",
       "      <td>924</td>\n",
       "      <td>male</td>\n",
       "      <td>3</td>\n",
       "    </tr>\n",
       "    <tr>\n",
       "      <th>4</th>\n",
       "      <td>1585003039-032hniw434</td>\n",
       "      <td>8SMAKMkY79LovcBU_person_1570838400000_nMpSBNek...</td>\n",
       "      <td>1320</td>\n",
       "      <td>female</td>\n",
       "      <td>4</td>\n",
       "    </tr>\n",
       "  </tbody>\n",
       "</table>\n",
       "</div>"
      ],
      "text/plain": [
       "                  qrcode                                          person_id  \\\n",
       "0  1584997475-0195z663pl  DQKAiT6cSJkQW2ya_person_1569888000000_Dj66PtJa...   \n",
       "1  1584999865-01t0n240ra  lD0OAaaZ0pcD0zRk_person_1570060800000_1AoTKLlT...   \n",
       "2  1583942091-02migjdla1  ZPFkcYGhq15raY3J_person_1573603200000_lfu3HzFC...   \n",
       "3  1585011777-031jov4jpw  D7tiN7CtUEM9WoRx_person_1571270400000_Q1hKfLbv...   \n",
       "4  1585003039-032hniw434  8SMAKMkY79LovcBU_person_1570838400000_nMpSBNek...   \n",
       "\n",
       "    age     sex  Years  \n",
       "0  1420    male      4  \n",
       "1  1529  female      4  \n",
       "2   945  female      3  \n",
       "3   924    male      3  \n",
       "4  1320  female      4  "
      ]
     },
     "execution_count": 64,
     "metadata": {},
     "output_type": "execute_result"
    }
   ],
   "source": [
    "scans = pd.read_csv(DATASET_PATH / 'labels/scans.csv')\n",
    "print(\"Total no. of children:\", len(scans))\n",
    "scans.head()"
   ]
  },
  {
   "cell_type": "markdown",
   "metadata": {},
   "source": [
    "### getting the total of gender"
   ]
  },
  {
   "cell_type": "code",
   "execution_count": 65,
   "metadata": {
    "gather": {
     "logged": 1611751281383
    }
   },
   "outputs": [
    {
     "name": "stderr",
     "output_type": "stream",
     "text": [
      "2021-03-22 10:53:49,187 - INFO - female    1058\n",
      "male      1048\n",
      "Name: sex, dtype: int64 - /mnt/resource/batch/tasks/shared/LS_root/mounts/clusters/jzcomp/code/Users/jziegler/cgm-ml/src/data_utils/dataset_EDA/data_utilities.py: line 32\n"
     ]
    },
    {
     "data": {
      "image/png": "[encoded data removed]",
      "text/plain": [
       "<Figure size 432x288 with 1 Axes>"
      ]
     },
     "metadata": {
      "needs_background": "light"
     },
     "output_type": "display_data"
    }
   ],
   "source": [
    "plt.figure()\n",
    "draw_sex_distribution(scans)\n",
    "plt.show()"
   ]
  },
  {
   "cell_type": "code",
   "execution_count": 66,
   "metadata": {
    "gather": {
     "logged": 1611751282718
    }
   },
   "outputs": [
    {
     "data": {
      "text/html": [
       "<div>\n",
       "<style scoped>\n",
       "    .dataframe tbody tr th:only-of-type {\n",
       "        vertical-align: middle;\n",
       "    }\n",
       "\n",
       "    .dataframe tbody tr th {\n",
       "        vertical-align: top;\n",
       "    }\n",
       "\n",
       "    .dataframe thead th {\n",
       "        text-align: right;\n",
       "    }\n",
       "</style>\n",
       "<table border=\"1\" class=\"dataframe\">\n",
       "  <thead>\n",
       "    <tr style=\"text-align: right;\">\n",
       "      <th></th>\n",
       "      <th>qrcode</th>\n",
       "      <th>person_id</th>\n",
       "      <th>age</th>\n",
       "      <th>sex</th>\n",
       "      <th>Years</th>\n",
       "    </tr>\n",
       "  </thead>\n",
       "  <tbody>\n",
       "    <tr>\n",
       "      <th>0</th>\n",
       "      <td>1584997475-0195z663pl</td>\n",
       "      <td>DQKAiT6cSJkQW2ya_person_1569888000000_Dj66PtJa...</td>\n",
       "      <td>1420</td>\n",
       "      <td>male</td>\n",
       "      <td>4</td>\n",
       "    </tr>\n",
       "    <tr>\n",
       "      <th>1</th>\n",
       "      <td>1584999865-01t0n240ra</td>\n",
       "      <td>lD0OAaaZ0pcD0zRk_person_1570060800000_1AoTKLlT...</td>\n",
       "      <td>1529</td>\n",
       "      <td>female</td>\n",
       "      <td>4</td>\n",
       "    </tr>\n",
       "    <tr>\n",
       "      <th>2</th>\n",
       "      <td>1583942091-02migjdla1</td>\n",
       "      <td>ZPFkcYGhq15raY3J_person_1573603200000_lfu3HzFC...</td>\n",
       "      <td>945</td>\n",
       "      <td>female</td>\n",
       "      <td>3</td>\n",
       "    </tr>\n",
       "    <tr>\n",
       "      <th>3</th>\n",
       "      <td>1585011777-031jov4jpw</td>\n",
       "      <td>D7tiN7CtUEM9WoRx_person_1571270400000_Q1hKfLbv...</td>\n",
       "      <td>924</td>\n",
       "      <td>male</td>\n",
       "      <td>3</td>\n",
       "    </tr>\n",
       "    <tr>\n",
       "      <th>4</th>\n",
       "      <td>1585003039-032hniw434</td>\n",
       "      <td>8SMAKMkY79LovcBU_person_1570838400000_nMpSBNek...</td>\n",
       "      <td>1320</td>\n",
       "      <td>female</td>\n",
       "      <td>4</td>\n",
       "    </tr>\n",
       "  </tbody>\n",
       "</table>\n",
       "</div>"
      ],
      "text/plain": [
       "                  qrcode                                          person_id  \\\n",
       "0  1584997475-0195z663pl  DQKAiT6cSJkQW2ya_person_1569888000000_Dj66PtJa...   \n",
       "1  1584999865-01t0n240ra  lD0OAaaZ0pcD0zRk_person_1570060800000_1AoTKLlT...   \n",
       "2  1583942091-02migjdla1  ZPFkcYGhq15raY3J_person_1573603200000_lfu3HzFC...   \n",
       "3  1585011777-031jov4jpw  D7tiN7CtUEM9WoRx_person_1571270400000_Q1hKfLbv...   \n",
       "4  1585003039-032hniw434  8SMAKMkY79LovcBU_person_1570838400000_nMpSBNek...   \n",
       "\n",
       "    age     sex  Years  \n",
       "0  1420    male      4  \n",
       "1  1529  female      4  \n",
       "2   945  female      3  \n",
       "3   924    male      3  \n",
       "4  1320  female      4  "
      ]
     },
     "execution_count": 66,
     "metadata": {},
     "output_type": "execute_result"
    }
   ],
   "source": [
    "#adding the Years column into dataframe\n",
    "scans['Years'] = scans.apply(convert_age_from_days_to_years, axis=1)\n",
    "scans.head()"
   ]
  },
  {
   "cell_type": "markdown",
   "metadata": {},
   "source": [
    "### plotting the bar graph no. of children against age"
   ]
  },
  {
   "cell_type": "code",
   "execution_count": 67,
   "metadata": {
    "gather": {
     "logged": 1611751287119
    }
   },
   "outputs": [
    {
     "name": "stderr",
     "output_type": "stream",
     "text": [
      "2021-03-22 10:53:55,111 - INFO - 0     14\n",
      "1     63\n",
      "2    346\n",
      "3    606\n",
      "4    705\n",
      "5    370\n",
      "6      2\n",
      "Name: Years, dtype: int64 - /mnt/resource/batch/tasks/shared/LS_root/mounts/clusters/jzcomp/code/Users/jziegler/cgm-ml/src/data_utils/dataset_EDA/data_utilities.py: line 24\n"
     ]
    },
    {
     "data": {
      "image/png": "[encoded data removed]",
      "text/plain": [
       "<Figure size 432x288 with 1 Axes>"
      ]
     },
     "metadata": {
      "needs_background": "light"
     },
     "output_type": "display_data"
    }
   ],
   "source": [
    "plt.figure()\n",
    "draw_age_distribution(scans)\n",
    "plt.show()"
   ]
  },
  {
   "cell_type": "markdown",
   "metadata": {},
   "source": [
    "### getting the distribition based on gender"
   ]
  },
  {
   "cell_type": "code",
   "execution_count": 68,
   "metadata": {
    "gather": {
     "logged": 1611751310872
    }
   },
   "outputs": [
    {
     "name": "stdout",
     "output_type": "stream",
     "text": [
      "No. of male distribution: \n",
      "4    365\n",
      "3    282\n",
      "5    189\n",
      "2    176\n",
      "1     29\n",
      "0      7\n",
      "Name: Years, dtype: int64\n"
     ]
    }
   ],
   "source": [
    "male = scans[scans['sex']=='male']\n",
    "print('No. of male distribution: ')\n",
    "print(male['Years'].value_counts())"
   ]
  },
  {
   "cell_type": "code",
   "execution_count": 69,
   "metadata": {
    "gather": {
     "logged": 1611751312905
    }
   },
   "outputs": [
    {
     "name": "stdout",
     "output_type": "stream",
     "text": [
      "No. of female distribution: \n",
      "4    340\n",
      "3    324\n",
      "5    181\n",
      "2    170\n",
      "1     34\n",
      "0      7\n",
      "6      2\n",
      "Name: Years, dtype: int64\n"
     ]
    }
   ],
   "source": [
    "female = scans[scans['sex']=='female']\n",
    "print('No. of female distribution: ')\n",
    "print(female['Years'].value_counts())"
   ]
  },
  {
   "cell_type": "markdown",
   "metadata": {},
   "source": [
    "### Reading the csv files and get the data at artifacts level"
   ]
  },
  {
   "cell_type": "code",
   "execution_count": 70,
   "metadata": {
    "gather": {
     "logged": 1611751333866
    },
    "scrolled": false
   },
   "outputs": [
    {
     "data": {
      "text/html": [
       "<div>\n",
       "<style scoped>\n",
       "    .dataframe tbody tr th:only-of-type {\n",
       "        vertical-align: middle;\n",
       "    }\n",
       "\n",
       "    .dataframe tbody tr th {\n",
       "        vertical-align: top;\n",
       "    }\n",
       "\n",
       "    .dataframe thead th {\n",
       "        text-align: right;\n",
       "    }\n",
       "</style>\n",
       "<table border=\"1\" class=\"dataframe\">\n",
       "  <thead>\n",
       "    <tr style=\"text-align: right;\">\n",
       "      <th></th>\n",
       "      <th>artifacts</th>\n",
       "      <th>id</th>\n",
       "      <th>storage_path</th>\n",
       "      <th>height</th>\n",
       "      <th>weight</th>\n",
       "      <th>key</th>\n",
       "      <th>tag</th>\n",
       "      <th>qrcode</th>\n",
       "    </tr>\n",
       "  </thead>\n",
       "  <tbody>\n",
       "    <tr>\n",
       "      <th>0</th>\n",
       "      <td>pc_1584997475-0195z663pl_1591588126306_100_000...</td>\n",
       "      <td>DQKAiT6cSJkQW2ya_artifact-scan-pcd_15698880000...</td>\n",
       "      <td>qrcode/1584997475-0195z663pl/measure/159158812...</td>\n",
       "      <td>85.7</td>\n",
       "      <td>9.45</td>\n",
       "      <td>100.0</td>\n",
       "      <td>good</td>\n",
       "      <td>1584997475-0195z663pl</td>\n",
       "    </tr>\n",
       "    <tr>\n",
       "      <th>1</th>\n",
       "      <td>pc_1584997475-0195z663pl_1591588126306_100_001...</td>\n",
       "      <td>DQKAiT6cSJkQW2ya_artifact-scan-pcd_15698880000...</td>\n",
       "      <td>qrcode/1584997475-0195z663pl/measure/159158812...</td>\n",
       "      <td>85.7</td>\n",
       "      <td>9.45</td>\n",
       "      <td>100.0</td>\n",
       "      <td>good</td>\n",
       "      <td>1584997475-0195z663pl</td>\n",
       "    </tr>\n",
       "    <tr>\n",
       "      <th>2</th>\n",
       "      <td>pc_1584997475-0195z663pl_1591588126306_100_002...</td>\n",
       "      <td>DQKAiT6cSJkQW2ya_artifact-scan-pcd_15698880000...</td>\n",
       "      <td>qrcode/1584997475-0195z663pl/measure/159158812...</td>\n",
       "      <td>85.7</td>\n",
       "      <td>9.45</td>\n",
       "      <td>100.0</td>\n",
       "      <td>good</td>\n",
       "      <td>1584997475-0195z663pl</td>\n",
       "    </tr>\n",
       "    <tr>\n",
       "      <th>3</th>\n",
       "      <td>pc_1584997475-0195z663pl_1591588126306_100_003...</td>\n",
       "      <td>DQKAiT6cSJkQW2ya_artifact-scan-pcd_15698880000...</td>\n",
       "      <td>qrcode/1584997475-0195z663pl/measure/159158812...</td>\n",
       "      <td>85.7</td>\n",
       "      <td>9.45</td>\n",
       "      <td>100.0</td>\n",
       "      <td>good</td>\n",
       "      <td>1584997475-0195z663pl</td>\n",
       "    </tr>\n",
       "    <tr>\n",
       "      <th>4</th>\n",
       "      <td>pc_1584997475-0195z663pl_1591588126306_100_004...</td>\n",
       "      <td>DQKAiT6cSJkQW2ya_artifact-scan-pcd_15698880000...</td>\n",
       "      <td>qrcode/1584997475-0195z663pl/measure/159158812...</td>\n",
       "      <td>85.7</td>\n",
       "      <td>9.45</td>\n",
       "      <td>100.0</td>\n",
       "      <td>good</td>\n",
       "      <td>1584997475-0195z663pl</td>\n",
       "    </tr>\n",
       "  </tbody>\n",
       "</table>\n",
       "</div>"
      ],
      "text/plain": [
       "                                           artifacts  \\\n",
       "0  pc_1584997475-0195z663pl_1591588126306_100_000...   \n",
       "1  pc_1584997475-0195z663pl_1591588126306_100_001...   \n",
       "2  pc_1584997475-0195z663pl_1591588126306_100_002...   \n",
       "3  pc_1584997475-0195z663pl_1591588126306_100_003...   \n",
       "4  pc_1584997475-0195z663pl_1591588126306_100_004...   \n",
       "\n",
       "                                                  id  \\\n",
       "0  DQKAiT6cSJkQW2ya_artifact-scan-pcd_15698880000...   \n",
       "1  DQKAiT6cSJkQW2ya_artifact-scan-pcd_15698880000...   \n",
       "2  DQKAiT6cSJkQW2ya_artifact-scan-pcd_15698880000...   \n",
       "3  DQKAiT6cSJkQW2ya_artifact-scan-pcd_15698880000...   \n",
       "4  DQKAiT6cSJkQW2ya_artifact-scan-pcd_15698880000...   \n",
       "\n",
       "                                        storage_path  height  weight    key  \\\n",
       "0  qrcode/1584997475-0195z663pl/measure/159158812...    85.7    9.45  100.0   \n",
       "1  qrcode/1584997475-0195z663pl/measure/159158812...    85.7    9.45  100.0   \n",
       "2  qrcode/1584997475-0195z663pl/measure/159158812...    85.7    9.45  100.0   \n",
       "3  qrcode/1584997475-0195z663pl/measure/159158812...    85.7    9.45  100.0   \n",
       "4  qrcode/1584997475-0195z663pl/measure/159158812...    85.7    9.45  100.0   \n",
       "\n",
       "    tag                 qrcode  \n",
       "0  good  1584997475-0195z663pl  \n",
       "1  good  1584997475-0195z663pl  \n",
       "2  good  1584997475-0195z663pl  \n",
       "3  good  1584997475-0195z663pl  \n",
       "4  good  1584997475-0195z663pl  "
      ]
     },
     "execution_count": 70,
     "metadata": {},
     "output_type": "execute_result"
    }
   ],
   "source": [
    "artifacts = pd.read_csv(DATASET_PATH / 'labels/artifacts.csv')\n",
    "artifacts.head()"
   ]
  },
  {
   "cell_type": "code",
   "execution_count": 71,
   "metadata": {
    "gather": {
     "logged": 1611751335087
    }
   },
   "outputs": [],
   "source": [
    "## dropping the null values from the artifacts \n",
    "artifacts  = artifacts.dropna()"
   ]
  },
  {
   "cell_type": "code",
   "execution_count": 72,
   "metadata": {
    "gather": {
     "logged": 1611751335521
    }
   },
   "outputs": [
    {
     "name": "stdout",
     "output_type": "stream",
     "text": [
      "Total no. of pointclouds: 50149\n"
     ]
    }
   ],
   "source": [
    "print(\"Total no. of pointclouds:\", len(artifacts ))"
   ]
  },
  {
   "cell_type": "code",
   "execution_count": 73,
   "metadata": {
    "gather": {
     "logged": 1611751337301
    }
   },
   "outputs": [
    {
     "name": "stdout",
     "output_type": "stream",
     "text": [
      "101.0    21033\n",
      "100.0    14843\n",
      "102.0    14246\n",
      "201.0       19\n",
      "202.0        8\n",
      "Name: key, dtype: int64\n"
     ]
    },
    {
     "data": {
      "image/png": "[encoded data removed]",
      "text/plain": [
       "<Figure size 432x288 with 1 Axes>"
      ]
     },
     "metadata": {},
     "output_type": "display_data"
    }
   ],
   "source": [
    "## keys for different scan type and their distribution in dataset\n",
    "\"- 100 - standing front scan\",\n",
    "\"- 101 - standing 360 scan\",\n",
    "\"- 102 - standing back scan\",\n",
    "\"- 200 - lying front scan\",\n",
    "\"- 201 - lying side scan\",\n",
    "\"- 202 - lying back scan\"\n",
    "print(artifacts['key'].value_counts())\n",
    "_ = artifacts['key'].value_counts().plot(kind='pie')"
   ]
  },
  {
   "cell_type": "markdown",
   "metadata": {},
   "source": [
    "### plotting the height and weight distribution"
   ]
  },
  {
   "cell_type": "code",
   "execution_count": 74,
   "metadata": {
    "gather": {
     "logged": 1611751339878
    }
   },
   "outputs": [
    {
     "data": {
      "text/html": [
       "<div>\n",
       "<style scoped>\n",
       "    .dataframe tbody tr th:only-of-type {\n",
       "        vertical-align: middle;\n",
       "    }\n",
       "\n",
       "    .dataframe tbody tr th {\n",
       "        vertical-align: top;\n",
       "    }\n",
       "\n",
       "    .dataframe thead th {\n",
       "        text-align: right;\n",
       "    }\n",
       "</style>\n",
       "<table border=\"1\" class=\"dataframe\">\n",
       "  <thead>\n",
       "    <tr style=\"text-align: right;\">\n",
       "      <th></th>\n",
       "      <th>artifacts</th>\n",
       "      <th>id</th>\n",
       "      <th>storage_path</th>\n",
       "      <th>height</th>\n",
       "      <th>weight</th>\n",
       "      <th>key</th>\n",
       "      <th>tag</th>\n",
       "      <th>qrcode</th>\n",
       "    </tr>\n",
       "  </thead>\n",
       "  <tbody>\n",
       "    <tr>\n",
       "      <th>0</th>\n",
       "      <td>pc_1584997475-0195z663pl_1591588126306_100_000...</td>\n",
       "      <td>DQKAiT6cSJkQW2ya_artifact-scan-pcd_15698880000...</td>\n",
       "      <td>qrcode/1584997475-0195z663pl/measure/159158812...</td>\n",
       "      <td>85.7</td>\n",
       "      <td>9.45</td>\n",
       "      <td>100.0</td>\n",
       "      <td>good</td>\n",
       "      <td>1584997475-0195z663pl</td>\n",
       "    </tr>\n",
       "    <tr>\n",
       "      <th>1</th>\n",
       "      <td>pc_1584997475-0195z663pl_1591588126306_100_001...</td>\n",
       "      <td>DQKAiT6cSJkQW2ya_artifact-scan-pcd_15698880000...</td>\n",
       "      <td>qrcode/1584997475-0195z663pl/measure/159158812...</td>\n",
       "      <td>85.7</td>\n",
       "      <td>9.45</td>\n",
       "      <td>100.0</td>\n",
       "      <td>good</td>\n",
       "      <td>1584997475-0195z663pl</td>\n",
       "    </tr>\n",
       "    <tr>\n",
       "      <th>2</th>\n",
       "      <td>pc_1584997475-0195z663pl_1591588126306_100_002...</td>\n",
       "      <td>DQKAiT6cSJkQW2ya_artifact-scan-pcd_15698880000...</td>\n",
       "      <td>qrcode/1584997475-0195z663pl/measure/159158812...</td>\n",
       "      <td>85.7</td>\n",
       "      <td>9.45</td>\n",
       "      <td>100.0</td>\n",
       "      <td>good</td>\n",
       "      <td>1584997475-0195z663pl</td>\n",
       "    </tr>\n",
       "    <tr>\n",
       "      <th>3</th>\n",
       "      <td>pc_1584997475-0195z663pl_1591588126306_100_003...</td>\n",
       "      <td>DQKAiT6cSJkQW2ya_artifact-scan-pcd_15698880000...</td>\n",
       "      <td>qrcode/1584997475-0195z663pl/measure/159158812...</td>\n",
       "      <td>85.7</td>\n",
       "      <td>9.45</td>\n",
       "      <td>100.0</td>\n",
       "      <td>good</td>\n",
       "      <td>1584997475-0195z663pl</td>\n",
       "    </tr>\n",
       "    <tr>\n",
       "      <th>4</th>\n",
       "      <td>pc_1584997475-0195z663pl_1591588126306_100_004...</td>\n",
       "      <td>DQKAiT6cSJkQW2ya_artifact-scan-pcd_15698880000...</td>\n",
       "      <td>qrcode/1584997475-0195z663pl/measure/159158812...</td>\n",
       "      <td>85.7</td>\n",
       "      <td>9.45</td>\n",
       "      <td>100.0</td>\n",
       "      <td>good</td>\n",
       "      <td>1584997475-0195z663pl</td>\n",
       "    </tr>\n",
       "  </tbody>\n",
       "</table>\n",
       "</div>"
      ],
      "text/plain": [
       "                                           artifacts  \\\n",
       "0  pc_1584997475-0195z663pl_1591588126306_100_000...   \n",
       "1  pc_1584997475-0195z663pl_1591588126306_100_001...   \n",
       "2  pc_1584997475-0195z663pl_1591588126306_100_002...   \n",
       "3  pc_1584997475-0195z663pl_1591588126306_100_003...   \n",
       "4  pc_1584997475-0195z663pl_1591588126306_100_004...   \n",
       "\n",
       "                                                  id  \\\n",
       "0  DQKAiT6cSJkQW2ya_artifact-scan-pcd_15698880000...   \n",
       "1  DQKAiT6cSJkQW2ya_artifact-scan-pcd_15698880000...   \n",
       "2  DQKAiT6cSJkQW2ya_artifact-scan-pcd_15698880000...   \n",
       "3  DQKAiT6cSJkQW2ya_artifact-scan-pcd_15698880000...   \n",
       "4  DQKAiT6cSJkQW2ya_artifact-scan-pcd_15698880000...   \n",
       "\n",
       "                                        storage_path  height  weight    key  \\\n",
       "0  qrcode/1584997475-0195z663pl/measure/159158812...    85.7    9.45  100.0   \n",
       "1  qrcode/1584997475-0195z663pl/measure/159158812...    85.7    9.45  100.0   \n",
       "2  qrcode/1584997475-0195z663pl/measure/159158812...    85.7    9.45  100.0   \n",
       "3  qrcode/1584997475-0195z663pl/measure/159158812...    85.7    9.45  100.0   \n",
       "4  qrcode/1584997475-0195z663pl/measure/159158812...    85.7    9.45  100.0   \n",
       "\n",
       "    tag                 qrcode  \n",
       "0  good  1584997475-0195z663pl  \n",
       "1  good  1584997475-0195z663pl  \n",
       "2  good  1584997475-0195z663pl  \n",
       "3  good  1584997475-0195z663pl  \n",
       "4  good  1584997475-0195z663pl  "
      ]
     },
     "execution_count": 74,
     "metadata": {},
     "output_type": "execute_result"
    }
   ],
   "source": [
    "artifacts['qrcode'] = artifacts.apply(extractqrcode, axis=1)\n",
    "artifacts.head()"
   ]
  },
  {
   "cell_type": "code",
   "execution_count": 75,
   "metadata": {
    "gather": {
     "logged": 1611751341937
    }
   },
   "outputs": [
    {
     "data": {
      "text/html": [
       "<div>\n",
       "<style scoped>\n",
       "    .dataframe tbody tr th:only-of-type {\n",
       "        vertical-align: middle;\n",
       "    }\n",
       "\n",
       "    .dataframe tbody tr th {\n",
       "        vertical-align: top;\n",
       "    }\n",
       "\n",
       "    .dataframe thead th {\n",
       "        text-align: right;\n",
       "    }\n",
       "</style>\n",
       "<table border=\"1\" class=\"dataframe\">\n",
       "  <thead>\n",
       "    <tr style=\"text-align: right;\">\n",
       "      <th></th>\n",
       "      <th>artifacts</th>\n",
       "      <th>id</th>\n",
       "      <th>storage_path</th>\n",
       "      <th>height</th>\n",
       "      <th>weight</th>\n",
       "      <th>key</th>\n",
       "      <th>tag</th>\n",
       "      <th>qrcode</th>\n",
       "    </tr>\n",
       "  </thead>\n",
       "  <tbody>\n",
       "    <tr>\n",
       "      <th>0</th>\n",
       "      <td>pc_1584997475-0195z663pl_1591588126306_100_000...</td>\n",
       "      <td>DQKAiT6cSJkQW2ya_artifact-scan-pcd_15698880000...</td>\n",
       "      <td>qrcode/1584997475-0195z663pl/measure/159158812...</td>\n",
       "      <td>85.7</td>\n",
       "      <td>9.45</td>\n",
       "      <td>100.0</td>\n",
       "      <td>good</td>\n",
       "      <td>1584997475-0195z663pl</td>\n",
       "    </tr>\n",
       "    <tr>\n",
       "      <th>1</th>\n",
       "      <td>pc_1584999865-01t0n240ra_1591629837700_100_008...</td>\n",
       "      <td>lD0OAaaZ0pcD0zRk_artifact-scan-pcd_15700608000...</td>\n",
       "      <td>qrcode/1584999865-01t0n240ra/measure/159162983...</td>\n",
       "      <td>86.5</td>\n",
       "      <td>12.45</td>\n",
       "      <td>100.0</td>\n",
       "      <td>good</td>\n",
       "      <td>1584999865-01t0n240ra</td>\n",
       "    </tr>\n",
       "    <tr>\n",
       "      <th>2</th>\n",
       "      <td>pc_1583942091-02migjdla1_1591470015961_100_000...</td>\n",
       "      <td>ZPFkcYGhq15raY3J_artifact-scan-pcd_15736032000...</td>\n",
       "      <td>qrcode/1583942091-02migjdla1/measure/159147001...</td>\n",
       "      <td>71.6</td>\n",
       "      <td>8.10</td>\n",
       "      <td>100.0</td>\n",
       "      <td>good</td>\n",
       "      <td>1583942091-02migjdla1</td>\n",
       "    </tr>\n",
       "    <tr>\n",
       "      <th>3</th>\n",
       "      <td>pc_1585011777-031jov4jpw_1591815240163_100_000...</td>\n",
       "      <td>D7tiN7CtUEM9WoRx_artifact-scan-pcd_15712704000...</td>\n",
       "      <td>qrcode/1585011777-031jov4jpw/measure/159181524...</td>\n",
       "      <td>78.5</td>\n",
       "      <td>11.75</td>\n",
       "      <td>100.0</td>\n",
       "      <td>good</td>\n",
       "      <td>1585011777-031jov4jpw</td>\n",
       "    </tr>\n",
       "    <tr>\n",
       "      <th>4</th>\n",
       "      <td>pc_1585003039-032hniw434_1591707933084_102_000...</td>\n",
       "      <td>8SMAKMkY79LovcBU_artifact-scan-pcd_15708384000...</td>\n",
       "      <td>qrcode/1585003039-032hniw434/measure/159170793...</td>\n",
       "      <td>108.1</td>\n",
       "      <td>15.50</td>\n",
       "      <td>102.0</td>\n",
       "      <td>good</td>\n",
       "      <td>1585003039-032hniw434</td>\n",
       "    </tr>\n",
       "  </tbody>\n",
       "</table>\n",
       "</div>"
      ],
      "text/plain": [
       "                                           artifacts  \\\n",
       "0  pc_1584997475-0195z663pl_1591588126306_100_000...   \n",
       "1  pc_1584999865-01t0n240ra_1591629837700_100_008...   \n",
       "2  pc_1583942091-02migjdla1_1591470015961_100_000...   \n",
       "3  pc_1585011777-031jov4jpw_1591815240163_100_000...   \n",
       "4  pc_1585003039-032hniw434_1591707933084_102_000...   \n",
       "\n",
       "                                                  id  \\\n",
       "0  DQKAiT6cSJkQW2ya_artifact-scan-pcd_15698880000...   \n",
       "1  lD0OAaaZ0pcD0zRk_artifact-scan-pcd_15700608000...   \n",
       "2  ZPFkcYGhq15raY3J_artifact-scan-pcd_15736032000...   \n",
       "3  D7tiN7CtUEM9WoRx_artifact-scan-pcd_15712704000...   \n",
       "4  8SMAKMkY79LovcBU_artifact-scan-pcd_15708384000...   \n",
       "\n",
       "                                        storage_path  height  weight    key  \\\n",
       "0  qrcode/1584997475-0195z663pl/measure/159158812...    85.7    9.45  100.0   \n",
       "1  qrcode/1584999865-01t0n240ra/measure/159162983...    86.5   12.45  100.0   \n",
       "2  qrcode/1583942091-02migjdla1/measure/159147001...    71.6    8.10  100.0   \n",
       "3  qrcode/1585011777-031jov4jpw/measure/159181524...    78.5   11.75  100.0   \n",
       "4  qrcode/1585003039-032hniw434/measure/159170793...   108.1   15.50  102.0   \n",
       "\n",
       "    tag                 qrcode  \n",
       "0  good  1584997475-0195z663pl  \n",
       "1  good  1584999865-01t0n240ra  \n",
       "2  good  1583942091-02migjdla1  \n",
       "3  good  1585011777-031jov4jpw  \n",
       "4  good  1585003039-032hniw434  "
      ]
     },
     "execution_count": 75,
     "metadata": {},
     "output_type": "execute_result"
    }
   ],
   "source": [
    "getheight = artifacts.drop_duplicates(subset=['qrcode']).reset_index(drop=True)\n",
    "getheight.head()"
   ]
  },
  {
   "cell_type": "code",
   "execution_count": 76,
   "metadata": {
    "gather": {
     "logged": 1611751343141
    }
   },
   "outputs": [
    {
     "name": "stdout",
     "output_type": "stream",
     "text": [
      "Total no.unique scans: 2106\n"
     ]
    }
   ],
   "source": [
    "print(\"Total no.unique scans:\", len(getheight))"
   ]
  },
  {
   "cell_type": "code",
   "execution_count": 77,
   "metadata": {
    "gather": {
     "logged": 1611751344202
    }
   },
   "outputs": [
    {
     "data": {
      "text/plain": [
       "Text(0, 0.5, 'height')"
      ]
     },
     "execution_count": 77,
     "metadata": {},
     "output_type": "execute_result"
    },
    {
     "data": {
      "image/png": "[encoded data removed]",
      "text/plain": [
       "<Figure size 432x288 with 1 Axes>"
      ]
     },
     "metadata": {
      "needs_background": "light"
     },
     "output_type": "display_data"
    }
   ],
   "source": [
    "heightax = getheight['weight'].plot()\n",
    "heightax.set_xlabel('scan')\n",
    "heightax.set_ylabel('height')"
   ]
  },
  {
   "cell_type": "code",
   "execution_count": 78,
   "metadata": {
    "gather": {
     "logged": 1611751344875
    }
   },
   "outputs": [
    {
     "data": {
      "text/plain": [
       "Text(0.5, 0, 'weight')"
      ]
     },
     "execution_count": 78,
     "metadata": {},
     "output_type": "execute_result"
    },
    {
     "data": {
      "image/png": "[encoded data removed]",
      "text/plain": [
       "<Figure size 432x288 with 1 Axes>"
      ]
     },
     "metadata": {
      "needs_background": "light"
     },
     "output_type": "display_data"
    }
   ],
   "source": [
    "weightax = getheight['weight'].plot()\n",
    "weightax.set_xlabel('scan')\n",
    "weightax.set_xlabel('weight')"
   ]
  },
  {
   "cell_type": "code",
   "execution_count": 79,
   "metadata": {
    "gather": {
     "logged": 1611751345362
    }
   },
   "outputs": [
    {
     "data": {
      "text/html": [
       "<div>\n",
       "<style scoped>\n",
       "    .dataframe tbody tr th:only-of-type {\n",
       "        vertical-align: middle;\n",
       "    }\n",
       "\n",
       "    .dataframe tbody tr th {\n",
       "        vertical-align: top;\n",
       "    }\n",
       "\n",
       "    .dataframe thead th {\n",
       "        text-align: right;\n",
       "    }\n",
       "</style>\n",
       "<table border=\"1\" class=\"dataframe\">\n",
       "  <thead>\n",
       "    <tr style=\"text-align: right;\">\n",
       "      <th></th>\n",
       "      <th>qrcode</th>\n",
       "      <th>person_id</th>\n",
       "      <th>age</th>\n",
       "      <th>sex</th>\n",
       "      <th>Years</th>\n",
       "      <th>height</th>\n",
       "      <th>weight</th>\n",
       "    </tr>\n",
       "  </thead>\n",
       "  <tbody>\n",
       "    <tr>\n",
       "      <th>0</th>\n",
       "      <td>1584997475-0195z663pl</td>\n",
       "      <td>DQKAiT6cSJkQW2ya_person_1569888000000_Dj66PtJa...</td>\n",
       "      <td>1420</td>\n",
       "      <td>male</td>\n",
       "      <td>4</td>\n",
       "      <td>85.7</td>\n",
       "      <td>9.45</td>\n",
       "    </tr>\n",
       "    <tr>\n",
       "      <th>1</th>\n",
       "      <td>1584999865-01t0n240ra</td>\n",
       "      <td>lD0OAaaZ0pcD0zRk_person_1570060800000_1AoTKLlT...</td>\n",
       "      <td>1529</td>\n",
       "      <td>female</td>\n",
       "      <td>4</td>\n",
       "      <td>86.5</td>\n",
       "      <td>12.45</td>\n",
       "    </tr>\n",
       "    <tr>\n",
       "      <th>2</th>\n",
       "      <td>1583942091-02migjdla1</td>\n",
       "      <td>ZPFkcYGhq15raY3J_person_1573603200000_lfu3HzFC...</td>\n",
       "      <td>945</td>\n",
       "      <td>female</td>\n",
       "      <td>3</td>\n",
       "      <td>71.6</td>\n",
       "      <td>8.10</td>\n",
       "    </tr>\n",
       "    <tr>\n",
       "      <th>3</th>\n",
       "      <td>1585011777-031jov4jpw</td>\n",
       "      <td>D7tiN7CtUEM9WoRx_person_1571270400000_Q1hKfLbv...</td>\n",
       "      <td>924</td>\n",
       "      <td>male</td>\n",
       "      <td>3</td>\n",
       "      <td>78.5</td>\n",
       "      <td>11.75</td>\n",
       "    </tr>\n",
       "    <tr>\n",
       "      <th>4</th>\n",
       "      <td>1585003039-032hniw434</td>\n",
       "      <td>8SMAKMkY79LovcBU_person_1570838400000_nMpSBNek...</td>\n",
       "      <td>1320</td>\n",
       "      <td>female</td>\n",
       "      <td>4</td>\n",
       "      <td>108.1</td>\n",
       "      <td>15.50</td>\n",
       "    </tr>\n",
       "  </tbody>\n",
       "</table>\n",
       "</div>"
      ],
      "text/plain": [
       "                  qrcode                                          person_id  \\\n",
       "0  1584997475-0195z663pl  DQKAiT6cSJkQW2ya_person_1569888000000_Dj66PtJa...   \n",
       "1  1584999865-01t0n240ra  lD0OAaaZ0pcD0zRk_person_1570060800000_1AoTKLlT...   \n",
       "2  1583942091-02migjdla1  ZPFkcYGhq15raY3J_person_1573603200000_lfu3HzFC...   \n",
       "3  1585011777-031jov4jpw  D7tiN7CtUEM9WoRx_person_1571270400000_Q1hKfLbv...   \n",
       "4  1585003039-032hniw434  8SMAKMkY79LovcBU_person_1570838400000_nMpSBNek...   \n",
       "\n",
       "    age     sex  Years  height  weight  \n",
       "0  1420    male      4    85.7    9.45  \n",
       "1  1529  female      4    86.5   12.45  \n",
       "2   945  female      3    71.6    8.10  \n",
       "3   924    male      3    78.5   11.75  \n",
       "4  1320  female      4   108.1   15.50  "
      ]
     },
     "execution_count": 79,
     "metadata": {},
     "output_type": "execute_result"
    }
   ],
   "source": [
    "distribution_data = pd.merge(scans,getheight[['height','weight','qrcode']],on='qrcode', how='left')\n",
    "distribution_data.head()"
   ]
  },
  {
   "cell_type": "code",
   "execution_count": 80,
   "metadata": {
    "gather": {
     "logged": 1611751346665
    }
   },
   "outputs": [
    {
     "data": {
      "image/png": "[encoded data removed]",
      "text/plain": [
       "<Figure size 432x288 with 1 Axes>"
      ]
     },
     "metadata": {
      "needs_background": "light"
     },
     "output_type": "display_data"
    }
   ],
   "source": [
    "#distribution of height against age\n",
    "height_vs_age = distribution_data.plot.scatter(x='height', y='age', c='red')"
   ]
  },
  {
   "cell_type": "code",
   "execution_count": 81,
   "metadata": {
    "gather": {
     "logged": 1611751347432
    }
   },
   "outputs": [
    {
     "data": {
      "image/png": "[encoded data removed]",
      "text/plain": [
       "<Figure size 432x288 with 1 Axes>"
      ]
     },
     "metadata": {
      "needs_background": "light"
     },
     "output_type": "display_data"
    }
   ],
   "source": [
    "#distribution of weight against age\n",
    "weight_vs_age = distribution_data.plot.scatter(x='weight', y='age', c='red')"
   ]
  },
  {
   "cell_type": "code",
   "execution_count": 82,
   "metadata": {
    "gather": {
     "logged": 1611751349632
    },
    "scrolled": true
   },
   "outputs": [
    {
     "data": {
      "image/png": "[encoded data removed]",
      "text/plain": [
       "<Figure size 432x288 with 1 Axes>"
      ]
     },
     "metadata": {
      "needs_background": "light"
     },
     "output_type": "display_data"
    }
   ],
   "source": [
    "## distribution of height against weight\n",
    "weight_vs_height = distribution_data.plot.scatter(x='height', y='weight', c='red')"
   ]
  },
  {
   "cell_type": "markdown",
   "metadata": {},
   "source": [
    "#### Check age (all below 1 year)"
   ]
  },
  {
   "cell_type": "code",
   "execution_count": 99,
   "metadata": {},
   "outputs": [
    {
     "name": "stdout",
     "output_type": "stream",
     "text": [
      "Number of unusual age artifacts:  14\n",
      "Number of unusual age artifacts, duplicates dropped:  14\n"
     ]
    },
    {
     "data": {
      "text/html": [
       "<div>\n",
       "<style scoped>\n",
       "    .dataframe tbody tr th:only-of-type {\n",
       "        vertical-align: middle;\n",
       "    }\n",
       "\n",
       "    .dataframe tbody tr th {\n",
       "        vertical-align: top;\n",
       "    }\n",
       "\n",
       "    .dataframe thead th {\n",
       "        text-align: right;\n",
       "    }\n",
       "</style>\n",
       "<table border=\"1\" class=\"dataframe\">\n",
       "  <thead>\n",
       "    <tr style=\"text-align: right;\">\n",
       "      <th></th>\n",
       "      <th>qrcode</th>\n",
       "      <th>person_id</th>\n",
       "      <th>age</th>\n",
       "      <th>sex</th>\n",
       "      <th>Years</th>\n",
       "      <th>height</th>\n",
       "      <th>weight</th>\n",
       "    </tr>\n",
       "  </thead>\n",
       "  <tbody>\n",
       "    <tr>\n",
       "      <th>69</th>\n",
       "      <td>1583831904-13qoxucgul</td>\n",
       "      <td>qzk6GuKtR0nJJ7ji_person_1567814400000_Ka6cXUUt...</td>\n",
       "      <td>2</td>\n",
       "      <td>female</td>\n",
       "      <td>0</td>\n",
       "      <td>87.8</td>\n",
       "      <td>11.25</td>\n",
       "    </tr>\n",
       "    <tr>\n",
       "      <th>320</th>\n",
       "      <td>1584996554-5hc50kbv5k</td>\n",
       "      <td>7QbzulTXi4tZ3rlG_person_1569628800000_dtavojZQ...</td>\n",
       "      <td>25</td>\n",
       "      <td>male</td>\n",
       "      <td>0</td>\n",
       "      <td>80.5</td>\n",
       "      <td>11.50</td>\n",
       "    </tr>\n",
       "    <tr>\n",
       "      <th>449</th>\n",
       "      <td>1583850151-7lqggqjbfz</td>\n",
       "      <td>2OApaLtWO0slWkxB_person_1566518400000_OYvnUkyd...</td>\n",
       "      <td>9</td>\n",
       "      <td>male</td>\n",
       "      <td>0</td>\n",
       "      <td>88.0</td>\n",
       "      <td>11.40</td>\n",
       "    </tr>\n",
       "    <tr>\n",
       "      <th>533</th>\n",
       "      <td>1583998466-92e41regoe</td>\n",
       "      <td>qJXsIstDJ5nLd31w_person_1568419200000_hpb6mIaE...</td>\n",
       "      <td>3</td>\n",
       "      <td>male</td>\n",
       "      <td>0</td>\n",
       "      <td>104.0</td>\n",
       "      <td>12.80</td>\n",
       "    </tr>\n",
       "    <tr>\n",
       "      <th>872</th>\n",
       "      <td>1585011244-en5qxroh2d</td>\n",
       "      <td>ZXY745YzkU2LP7Dk_person_1571443200000_6KS0wXew...</td>\n",
       "      <td>179</td>\n",
       "      <td>female</td>\n",
       "      <td>0</td>\n",
       "      <td>59.2</td>\n",
       "      <td>5.05</td>\n",
       "    </tr>\n",
       "    <tr>\n",
       "      <th>959</th>\n",
       "      <td>1584999538-fwlijzba3n</td>\n",
       "      <td>oDnVWFNtmHMtXRtD_person_1573603200000_1GsOtF99...</td>\n",
       "      <td>90</td>\n",
       "      <td>female</td>\n",
       "      <td>0</td>\n",
       "      <td>69.0</td>\n",
       "      <td>6.10</td>\n",
       "    </tr>\n",
       "    <tr>\n",
       "      <th>1176</th>\n",
       "      <td>1584993440-jt1q7jvcxk</td>\n",
       "      <td>XcpVKoJtbudK3hZE_person_1569283200000_el1ZMYEL...</td>\n",
       "      <td>0</td>\n",
       "      <td>male</td>\n",
       "      <td>0</td>\n",
       "      <td>100.2</td>\n",
       "      <td>13.40</td>\n",
       "    </tr>\n",
       "    <tr>\n",
       "      <th>1184</th>\n",
       "      <td>1584996982-jw4772tp4t</td>\n",
       "      <td>a6hnWvCJk4kR266B_person_1569801600000_HUC51v6r...</td>\n",
       "      <td>0</td>\n",
       "      <td>female</td>\n",
       "      <td>0</td>\n",
       "      <td>68.5</td>\n",
       "      <td>13.70</td>\n",
       "    </tr>\n",
       "    <tr>\n",
       "      <th>1220</th>\n",
       "      <td>1583997887-kjl2onswvl</td>\n",
       "      <td>yHdKD1lu6TTcgeb2_person_1576108800000_zDY1eved...</td>\n",
       "      <td>160</td>\n",
       "      <td>female</td>\n",
       "      <td>0</td>\n",
       "      <td>63.5</td>\n",
       "      <td>6.30</td>\n",
       "    </tr>\n",
       "    <tr>\n",
       "      <th>1411</th>\n",
       "      <td>1583462542-nvwrue6sak</td>\n",
       "      <td>spEIOWXCheWSMV4Q_person_1566691200000_Tz6y7U6Q...</td>\n",
       "      <td>107</td>\n",
       "      <td>female</td>\n",
       "      <td>0</td>\n",
       "      <td>97.7</td>\n",
       "      <td>12.45</td>\n",
       "    </tr>\n",
       "    <tr>\n",
       "      <th>1871</th>\n",
       "      <td>1585004714-vvwdktbjr4</td>\n",
       "      <td>SyQ2Bl1cUqoeecUu_person_1570060800000_A5Vko6c3...</td>\n",
       "      <td>0</td>\n",
       "      <td>female</td>\n",
       "      <td>0</td>\n",
       "      <td>94.2</td>\n",
       "      <td>11.75</td>\n",
       "    </tr>\n",
       "    <tr>\n",
       "      <th>2007</th>\n",
       "      <td>1584921649-y7mb71gtq5</td>\n",
       "      <td>mxZx13inkDr7Wy1N_person_1569024000000_qqdIUeZW...</td>\n",
       "      <td>0</td>\n",
       "      <td>male</td>\n",
       "      <td>0</td>\n",
       "      <td>104.7</td>\n",
       "      <td>14.95</td>\n",
       "    </tr>\n",
       "    <tr>\n",
       "      <th>2015</th>\n",
       "      <td>1584995840-yc5e340qkf</td>\n",
       "      <td>WadGPmfc3YKYrbWZ_person_1573430400000_7Z8k92pr...</td>\n",
       "      <td>0</td>\n",
       "      <td>male</td>\n",
       "      <td>0</td>\n",
       "      <td>81.0</td>\n",
       "      <td>10.00</td>\n",
       "    </tr>\n",
       "    <tr>\n",
       "      <th>2085</th>\n",
       "      <td>1583462523-zolqj1h1so</td>\n",
       "      <td>PtKkER5sA0qMo3m8_person_1566691200000_vV9xrEmX...</td>\n",
       "      <td>145</td>\n",
       "      <td>male</td>\n",
       "      <td>0</td>\n",
       "      <td>93.9</td>\n",
       "      <td>12.85</td>\n",
       "    </tr>\n",
       "  </tbody>\n",
       "</table>\n",
       "</div>"
      ],
      "text/plain": [
       "                     qrcode  \\\n",
       "69    1583831904-13qoxucgul   \n",
       "320   1584996554-5hc50kbv5k   \n",
       "449   1583850151-7lqggqjbfz   \n",
       "533   1583998466-92e41regoe   \n",
       "872   1585011244-en5qxroh2d   \n",
       "959   1584999538-fwlijzba3n   \n",
       "1176  1584993440-jt1q7jvcxk   \n",
       "1184  1584996982-jw4772tp4t   \n",
       "1220  1583997887-kjl2onswvl   \n",
       "1411  1583462542-nvwrue6sak   \n",
       "1871  1585004714-vvwdktbjr4   \n",
       "2007  1584921649-y7mb71gtq5   \n",
       "2015  1584995840-yc5e340qkf   \n",
       "2085  1583462523-zolqj1h1so   \n",
       "\n",
       "                                              person_id  age     sex  Years  \\\n",
       "69    qzk6GuKtR0nJJ7ji_person_1567814400000_Ka6cXUUt...    2  female      0   \n",
       "320   7QbzulTXi4tZ3rlG_person_1569628800000_dtavojZQ...   25    male      0   \n",
       "449   2OApaLtWO0slWkxB_person_1566518400000_OYvnUkyd...    9    male      0   \n",
       "533   qJXsIstDJ5nLd31w_person_1568419200000_hpb6mIaE...    3    male      0   \n",
       "872   ZXY745YzkU2LP7Dk_person_1571443200000_6KS0wXew...  179  female      0   \n",
       "959   oDnVWFNtmHMtXRtD_person_1573603200000_1GsOtF99...   90  female      0   \n",
       "1176  XcpVKoJtbudK3hZE_person_1569283200000_el1ZMYEL...    0    male      0   \n",
       "1184  a6hnWvCJk4kR266B_person_1569801600000_HUC51v6r...    0  female      0   \n",
       "1220  yHdKD1lu6TTcgeb2_person_1576108800000_zDY1eved...  160  female      0   \n",
       "1411  spEIOWXCheWSMV4Q_person_1566691200000_Tz6y7U6Q...  107  female      0   \n",
       "1871  SyQ2Bl1cUqoeecUu_person_1570060800000_A5Vko6c3...    0  female      0   \n",
       "2007  mxZx13inkDr7Wy1N_person_1569024000000_qqdIUeZW...    0    male      0   \n",
       "2015  WadGPmfc3YKYrbWZ_person_1573430400000_7Z8k92pr...    0    male      0   \n",
       "2085  PtKkER5sA0qMo3m8_person_1566691200000_vV9xrEmX...  145    male      0   \n",
       "\n",
       "      height  weight  \n",
       "69      87.8   11.25  \n",
       "320     80.5   11.50  \n",
       "449     88.0   11.40  \n",
       "533    104.0   12.80  \n",
       "872     59.2    5.05  \n",
       "959     69.0    6.10  \n",
       "1176   100.2   13.40  \n",
       "1184    68.5   13.70  \n",
       "1220    63.5    6.30  \n",
       "1411    97.7   12.45  \n",
       "1871    94.2   11.75  \n",
       "2007   104.7   14.95  \n",
       "2015    81.0   10.00  \n",
       "2085    93.9   12.85  "
      ]
     },
     "execution_count": 99,
     "metadata": {},
     "output_type": "execute_result"
    }
   ],
   "source": [
    "# Children should be between 6 months and 6 years, otherwise we assume something went wrong\n",
    "# data_utilities conver_age_from_days_to_years calls round() -> nearest integer\n",
    "# What should we do with children age 0?\n",
    "\n",
    "# ! hier scans nehmen anstatt \"artifacts\" wegen column Years - ist das richtig?\n",
    "unusual_age_artifacts = distribution_data[(distribution_data.Years < 1) | (distribution_data.Years > 6)]\n",
    "print(\"Number of unusual age artifacts: \", len(unusual_age_artifacts))\n",
    "\n",
    "#drop duplicates\n",
    "unusual_age_drop_dupl = unusual_age_artifacts.drop_duplicates(subset='qrcode', keep='first')\n",
    "print(\"Number of unusual age artifacts, duplicates dropped: \", len(unusual_age_drop_dupl))\n",
    "\n",
    "unusual_age_drop_dupl.head(14)\n"
   ]
  },
  {
   "cell_type": "markdown",
   "metadata": {},
   "source": [
    "#### Check weight"
   ]
  },
  {
   "cell_type": "code",
   "execution_count": 84,
   "metadata": {},
   "outputs": [
    {
     "name": "stdout",
     "output_type": "stream",
     "text": [
      "Number of unusual_weight_artifacts:  0\n",
      "Number of unusual weight artifacts, duplicates dropped:  0\n"
     ]
    },
    {
     "data": {
      "text/html": [
       "<div>\n",
       "<style scoped>\n",
       "    .dataframe tbody tr th:only-of-type {\n",
       "        vertical-align: middle;\n",
       "    }\n",
       "\n",
       "    .dataframe tbody tr th {\n",
       "        vertical-align: top;\n",
       "    }\n",
       "\n",
       "    .dataframe thead th {\n",
       "        text-align: right;\n",
       "    }\n",
       "</style>\n",
       "<table border=\"1\" class=\"dataframe\">\n",
       "  <thead>\n",
       "    <tr style=\"text-align: right;\">\n",
       "      <th></th>\n",
       "      <th>artifacts</th>\n",
       "      <th>id</th>\n",
       "      <th>storage_path</th>\n",
       "      <th>height</th>\n",
       "      <th>weight</th>\n",
       "      <th>key</th>\n",
       "      <th>tag</th>\n",
       "      <th>qrcode</th>\n",
       "    </tr>\n",
       "  </thead>\n",
       "  <tbody>\n",
       "  </tbody>\n",
       "</table>\n",
       "</div>"
      ],
      "text/plain": [
       "Empty DataFrame\n",
       "Columns: [artifacts, id, storage_path, height, weight, key, tag, qrcode]\n",
       "Index: []"
      ]
     },
     "execution_count": 84,
     "metadata": {},
     "output_type": "execute_result"
    }
   ],
   "source": [
    "# weight vals for children betw. 6 months & 6 years\n",
    "# Found some WHO tables, Bhavna also suggested taking these inputs\n",
    "# 5 kg - 30 kg from tables\n",
    "# todo: Bhavna wants to know number of children below 5kg\n",
    "\n",
    "unusual_weight_artifacts = artifacts[(artifacts.weight < 5.0) | (artifacts.weight > 30.0)]\n",
    "print(\"Number of unusual_weight_artifacts: \", len(unusual_weight_artifacts))\n",
    "\n",
    "#drop duplicates\n",
    "drop_dupl_weight = unusual_weight_artifacts.drop_duplicates(subset='qrcode', keep='first')\n",
    "print(\"Number of unusual weight artifacts, duplicates dropped: \", len(drop_dupl_weight))\n",
    "\n",
    "drop_dupl_weight.head()"
   ]
  },
  {
   "cell_type": "markdown",
   "metadata": {},
   "source": [
    "#### Check height"
   ]
  },
  {
   "cell_type": "code",
   "execution_count": 85,
   "metadata": {},
   "outputs": [
    {
     "data": {
      "text/html": [
       "<div>\n",
       "<style scoped>\n",
       "    .dataframe tbody tr th:only-of-type {\n",
       "        vertical-align: middle;\n",
       "    }\n",
       "\n",
       "    .dataframe tbody tr th {\n",
       "        vertical-align: top;\n",
       "    }\n",
       "\n",
       "    .dataframe thead th {\n",
       "        text-align: right;\n",
       "    }\n",
       "</style>\n",
       "<table border=\"1\" class=\"dataframe\">\n",
       "  <thead>\n",
       "    <tr style=\"text-align: right;\">\n",
       "      <th></th>\n",
       "      <th>artifacts</th>\n",
       "      <th>id</th>\n",
       "      <th>storage_path</th>\n",
       "      <th>height</th>\n",
       "      <th>weight</th>\n",
       "      <th>key</th>\n",
       "      <th>tag</th>\n",
       "      <th>qrcode</th>\n",
       "    </tr>\n",
       "  </thead>\n",
       "  <tbody>\n",
       "    <tr>\n",
       "      <th>4987</th>\n",
       "      <td>pc_1583997882-3jqstr1119_1591123012106_100_000...</td>\n",
       "      <td>OUe6BSGkpUyWFQQ8_artifact-scan-pcd_15761088000...</td>\n",
       "      <td>qrcode/1583997882-3jqstr1119/measure/159112301...</td>\n",
       "      <td>11.3</td>\n",
       "      <td>6.35</td>\n",
       "      <td>100.0</td>\n",
       "      <td>good</td>\n",
       "      <td>1583997882-3jqstr1119</td>\n",
       "    </tr>\n",
       "    <tr>\n",
       "      <th>4988</th>\n",
       "      <td>pc_1583997882-3jqstr1119_1591123012106_100_001...</td>\n",
       "      <td>OUe6BSGkpUyWFQQ8_artifact-scan-pcd_15761088000...</td>\n",
       "      <td>qrcode/1583997882-3jqstr1119/measure/159112301...</td>\n",
       "      <td>11.3</td>\n",
       "      <td>6.35</td>\n",
       "      <td>100.0</td>\n",
       "      <td>good</td>\n",
       "      <td>1583997882-3jqstr1119</td>\n",
       "    </tr>\n",
       "    <tr>\n",
       "      <th>4989</th>\n",
       "      <td>pc_1583997882-3jqstr1119_1591123012106_100_002...</td>\n",
       "      <td>OUe6BSGkpUyWFQQ8_artifact-scan-pcd_15761088000...</td>\n",
       "      <td>qrcode/1583997882-3jqstr1119/measure/159112301...</td>\n",
       "      <td>11.3</td>\n",
       "      <td>6.35</td>\n",
       "      <td>100.0</td>\n",
       "      <td>good</td>\n",
       "      <td>1583997882-3jqstr1119</td>\n",
       "    </tr>\n",
       "    <tr>\n",
       "      <th>4990</th>\n",
       "      <td>pc_1583997882-3jqstr1119_1591123012106_100_003...</td>\n",
       "      <td>OUe6BSGkpUyWFQQ8_artifact-scan-pcd_15761088000...</td>\n",
       "      <td>qrcode/1583997882-3jqstr1119/measure/159112301...</td>\n",
       "      <td>11.3</td>\n",
       "      <td>6.35</td>\n",
       "      <td>100.0</td>\n",
       "      <td>good</td>\n",
       "      <td>1583997882-3jqstr1119</td>\n",
       "    </tr>\n",
       "    <tr>\n",
       "      <th>4991</th>\n",
       "      <td>pc_1583997882-3jqstr1119_1591123012106_100_004...</td>\n",
       "      <td>OUe6BSGkpUyWFQQ8_artifact-scan-pcd_15761088000...</td>\n",
       "      <td>qrcode/1583997882-3jqstr1119/measure/159112301...</td>\n",
       "      <td>11.3</td>\n",
       "      <td>6.35</td>\n",
       "      <td>100.0</td>\n",
       "      <td>good</td>\n",
       "      <td>1583997882-3jqstr1119</td>\n",
       "    </tr>\n",
       "  </tbody>\n",
       "</table>\n",
       "</div>"
      ],
      "text/plain": [
       "                                              artifacts  \\\n",
       "4987  pc_1583997882-3jqstr1119_1591123012106_100_000...   \n",
       "4988  pc_1583997882-3jqstr1119_1591123012106_100_001...   \n",
       "4989  pc_1583997882-3jqstr1119_1591123012106_100_002...   \n",
       "4990  pc_1583997882-3jqstr1119_1591123012106_100_003...   \n",
       "4991  pc_1583997882-3jqstr1119_1591123012106_100_004...   \n",
       "\n",
       "                                                     id  \\\n",
       "4987  OUe6BSGkpUyWFQQ8_artifact-scan-pcd_15761088000...   \n",
       "4988  OUe6BSGkpUyWFQQ8_artifact-scan-pcd_15761088000...   \n",
       "4989  OUe6BSGkpUyWFQQ8_artifact-scan-pcd_15761088000...   \n",
       "4990  OUe6BSGkpUyWFQQ8_artifact-scan-pcd_15761088000...   \n",
       "4991  OUe6BSGkpUyWFQQ8_artifact-scan-pcd_15761088000...   \n",
       "\n",
       "                                           storage_path  height  weight  \\\n",
       "4987  qrcode/1583997882-3jqstr1119/measure/159112301...    11.3    6.35   \n",
       "4988  qrcode/1583997882-3jqstr1119/measure/159112301...    11.3    6.35   \n",
       "4989  qrcode/1583997882-3jqstr1119/measure/159112301...    11.3    6.35   \n",
       "4990  qrcode/1583997882-3jqstr1119/measure/159112301...    11.3    6.35   \n",
       "4991  qrcode/1583997882-3jqstr1119/measure/159112301...    11.3    6.35   \n",
       "\n",
       "        key   tag                 qrcode  \n",
       "4987  100.0  good  1583997882-3jqstr1119  \n",
       "4988  100.0  good  1583997882-3jqstr1119  \n",
       "4989  100.0  good  1583997882-3jqstr1119  \n",
       "4990  100.0  good  1583997882-3jqstr1119  \n",
       "4991  100.0  good  1583997882-3jqstr1119  "
      ]
     },
     "execution_count": 85,
     "metadata": {},
     "output_type": "execute_result"
    }
   ],
   "source": [
    "# Children should be between 40cm and 150cm tall, otherwise we assume something went wrong\n",
    "unusual_height_artifacts = artifacts[(artifacts.height < 40.) | (artifacts.height > 150.)]\n",
    "unusual_height_artifacts.head()"
   ]
  },
  {
   "cell_type": "code",
   "execution_count": 86,
   "metadata": {},
   "outputs": [
    {
     "name": "stdout",
     "output_type": "stream",
     "text": [
      "Number of unusual height artifacts:  82\n",
      "Number of unusual height artifacts, duplicates dropped:  3\n"
     ]
    },
    {
     "data": {
      "text/html": [
       "<div>\n",
       "<style scoped>\n",
       "    .dataframe tbody tr th:only-of-type {\n",
       "        vertical-align: middle;\n",
       "    }\n",
       "\n",
       "    .dataframe tbody tr th {\n",
       "        vertical-align: top;\n",
       "    }\n",
       "\n",
       "    .dataframe thead th {\n",
       "        text-align: right;\n",
       "    }\n",
       "</style>\n",
       "<table border=\"1\" class=\"dataframe\">\n",
       "  <thead>\n",
       "    <tr style=\"text-align: right;\">\n",
       "      <th></th>\n",
       "      <th>artifacts</th>\n",
       "      <th>id</th>\n",
       "      <th>storage_path</th>\n",
       "      <th>height</th>\n",
       "      <th>weight</th>\n",
       "      <th>key</th>\n",
       "      <th>tag</th>\n",
       "      <th>qrcode</th>\n",
       "    </tr>\n",
       "  </thead>\n",
       "  <tbody>\n",
       "    <tr>\n",
       "      <th>4987</th>\n",
       "      <td>pc_1583997882-3jqstr1119_1591123012106_100_000...</td>\n",
       "      <td>OUe6BSGkpUyWFQQ8_artifact-scan-pcd_15761088000...</td>\n",
       "      <td>qrcode/1583997882-3jqstr1119/measure/159112301...</td>\n",
       "      <td>11.3</td>\n",
       "      <td>6.35</td>\n",
       "      <td>100.0</td>\n",
       "      <td>good</td>\n",
       "      <td>1583997882-3jqstr1119</td>\n",
       "    </tr>\n",
       "    <tr>\n",
       "      <th>18970</th>\n",
       "      <td>pc_1584998372-d85ogmqucw_1591618365119_100_000...</td>\n",
       "      <td>j3o5GQOSEoJG1dIA_artifact-scan-pcd_15700608000...</td>\n",
       "      <td>qrcode/1584998372-d85ogmqucw/measure/159161836...</td>\n",
       "      <td>18.5</td>\n",
       "      <td>10.30</td>\n",
       "      <td>100.0</td>\n",
       "      <td>good</td>\n",
       "      <td>1584998372-d85ogmqucw</td>\n",
       "    </tr>\n",
       "    <tr>\n",
       "      <th>30861</th>\n",
       "      <td>pc_1583855791-ldfc59ywg5_1591621942032_100_007...</td>\n",
       "      <td>HCXuFKoc6Rzib6Oc_artifact-scan-pcd_15681600000...</td>\n",
       "      <td>qrcode/1583855791-ldfc59ywg5/measure/159162194...</td>\n",
       "      <td>12.3</td>\n",
       "      <td>12.60</td>\n",
       "      <td>100.0</td>\n",
       "      <td>good</td>\n",
       "      <td>1583855791-ldfc59ywg5</td>\n",
       "    </tr>\n",
       "  </tbody>\n",
       "</table>\n",
       "</div>"
      ],
      "text/plain": [
       "                                               artifacts  \\\n",
       "4987   pc_1583997882-3jqstr1119_1591123012106_100_000...   \n",
       "18970  pc_1584998372-d85ogmqucw_1591618365119_100_000...   \n",
       "30861  pc_1583855791-ldfc59ywg5_1591621942032_100_007...   \n",
       "\n",
       "                                                      id  \\\n",
       "4987   OUe6BSGkpUyWFQQ8_artifact-scan-pcd_15761088000...   \n",
       "18970  j3o5GQOSEoJG1dIA_artifact-scan-pcd_15700608000...   \n",
       "30861  HCXuFKoc6Rzib6Oc_artifact-scan-pcd_15681600000...   \n",
       "\n",
       "                                            storage_path  height  weight  \\\n",
       "4987   qrcode/1583997882-3jqstr1119/measure/159112301...    11.3    6.35   \n",
       "18970  qrcode/1584998372-d85ogmqucw/measure/159161836...    18.5   10.30   \n",
       "30861  qrcode/1583855791-ldfc59ywg5/measure/159162194...    12.3   12.60   \n",
       "\n",
       "         key   tag                 qrcode  \n",
       "4987   100.0  good  1583997882-3jqstr1119  \n",
       "18970  100.0  good  1584998372-d85ogmqucw  \n",
       "30861  100.0  good  1583855791-ldfc59ywg5  "
      ]
     },
     "execution_count": 86,
     "metadata": {},
     "output_type": "execute_result"
    }
   ],
   "source": [
    "print(\"Number of unusual height artifacts: \", len(unusual_height_artifacts))\n",
    "\n",
    "#drop duplicates\n",
    "drop_dupl_height = unusual_height_artifacts.drop_duplicates(subset='qrcode', keep='first')\n",
    "print(\"Number of unusual height artifacts, duplicates dropped: \", len(drop_dupl_height))\n",
    "\n",
    "drop_dupl_height.head()"
   ]
  },
  {
   "cell_type": "markdown",
   "metadata": {},
   "source": [
    "### Save unusual qr codes"
   ]
  },
  {
   "cell_type": "markdown",
   "metadata": {},
   "source": [
    "##### HEIGHT"
   ]
  },
  {
   "cell_type": "code",
   "execution_count": 87,
   "metadata": {},
   "outputs": [],
   "source": [
    "def get_qrcode(artifact:str) -> str:\n",
    "    return artifact.split('_')[1]"
   ]
  },
  {
   "cell_type": "code",
   "execution_count": 89,
   "metadata": {},
   "outputs": [
    {
     "name": "stdout",
     "output_type": "stream",
     "text": [
      "['pc_1583997882-3jqstr1119_1591123012106_100_000.pcd'\n",
      " 'pc_1584998372-d85ogmqucw_1591618365119_100_000.pcd'\n",
      " 'pc_1583855791-ldfc59ywg5_1591621942032_100_007.pcd']\n"
     ]
    }
   ],
   "source": [
    "print(drop_dupl_height.artifacts.values)"
   ]
  },
  {
   "cell_type": "code",
   "execution_count": 91,
   "metadata": {},
   "outputs": [
    {
     "name": "stdout",
     "output_type": "stream",
     "text": [
      "3\n",
      "['1583997882-3jqstr1119', '1584998372-d85ogmqucw', '1583855791-ldfc59ywg5']\n",
      "3\n"
     ]
    }
   ],
   "source": [
    "print(len(drop_dupl_height))\n",
    "\n",
    "unusual_qrcodes_height = [get_qrcode(artifact) for artifact in drop_dupl_height.artifacts.values]\n",
    "print(unusual_qrcodes_height)\n",
    "print(len(unusual_qrcodes_height))"
   ]
  },
  {
   "cell_type": "code",
   "execution_count": 92,
   "metadata": {},
   "outputs": [
    {
     "data": {
      "text/plain": [
       "{'1583855791-ldfc59ywg5', '1583997882-3jqstr1119', '1584998372-d85ogmqucw'}"
      ]
     },
     "execution_count": 92,
     "metadata": {},
     "output_type": "execute_result"
    }
   ],
   "source": [
    "set(unusual_qrcodes_height)"
   ]
  },
  {
   "cell_type": "markdown",
   "metadata": {},
   "source": [
    "##### WEIGHT - no unusual qrcodes"
   ]
  },
  {
   "cell_type": "markdown",
   "metadata": {},
   "source": [
    "##### AGE > 6 years - no unusual qrcodes"
   ]
  },
  {
   "cell_type": "markdown",
   "metadata": {},
   "source": [
    "##### AGE < 6 months"
   ]
  },
  {
   "cell_type": "code",
   "execution_count": 116,
   "metadata": {},
   "outputs": [
    {
     "data": {
      "text/html": [
       "<div>\n",
       "<style scoped>\n",
       "    .dataframe tbody tr th:only-of-type {\n",
       "        vertical-align: middle;\n",
       "    }\n",
       "\n",
       "    .dataframe tbody tr th {\n",
       "        vertical-align: top;\n",
       "    }\n",
       "\n",
       "    .dataframe thead th {\n",
       "        text-align: right;\n",
       "    }\n",
       "</style>\n",
       "<table border=\"1\" class=\"dataframe\">\n",
       "  <thead>\n",
       "    <tr style=\"text-align: right;\">\n",
       "      <th></th>\n",
       "      <th>artifacts</th>\n",
       "      <th>id</th>\n",
       "      <th>storage_path</th>\n",
       "      <th>height</th>\n",
       "      <th>weight</th>\n",
       "      <th>key</th>\n",
       "      <th>tag</th>\n",
       "      <th>qrcode</th>\n",
       "    </tr>\n",
       "  </thead>\n",
       "  <tbody>\n",
       "    <tr>\n",
       "      <th>0</th>\n",
       "      <td>pc_1584997475-0195z663pl_1591588126306_100_000...</td>\n",
       "      <td>DQKAiT6cSJkQW2ya_artifact-scan-pcd_15698880000...</td>\n",
       "      <td>qrcode/1584997475-0195z663pl/measure/159158812...</td>\n",
       "      <td>85.7</td>\n",
       "      <td>9.45</td>\n",
       "      <td>100.0</td>\n",
       "      <td>good</td>\n",
       "      <td>1584997475-0195z663pl</td>\n",
       "    </tr>\n",
       "    <tr>\n",
       "      <th>1</th>\n",
       "      <td>pc_1584997475-0195z663pl_1591588126306_100_001...</td>\n",
       "      <td>DQKAiT6cSJkQW2ya_artifact-scan-pcd_15698880000...</td>\n",
       "      <td>qrcode/1584997475-0195z663pl/measure/159158812...</td>\n",
       "      <td>85.7</td>\n",
       "      <td>9.45</td>\n",
       "      <td>100.0</td>\n",
       "      <td>good</td>\n",
       "      <td>1584997475-0195z663pl</td>\n",
       "    </tr>\n",
       "    <tr>\n",
       "      <th>2</th>\n",
       "      <td>pc_1584997475-0195z663pl_1591588126306_100_002...</td>\n",
       "      <td>DQKAiT6cSJkQW2ya_artifact-scan-pcd_15698880000...</td>\n",
       "      <td>qrcode/1584997475-0195z663pl/measure/159158812...</td>\n",
       "      <td>85.7</td>\n",
       "      <td>9.45</td>\n",
       "      <td>100.0</td>\n",
       "      <td>good</td>\n",
       "      <td>1584997475-0195z663pl</td>\n",
       "    </tr>\n",
       "    <tr>\n",
       "      <th>3</th>\n",
       "      <td>pc_1584997475-0195z663pl_1591588126306_100_003...</td>\n",
       "      <td>DQKAiT6cSJkQW2ya_artifact-scan-pcd_15698880000...</td>\n",
       "      <td>qrcode/1584997475-0195z663pl/measure/159158812...</td>\n",
       "      <td>85.7</td>\n",
       "      <td>9.45</td>\n",
       "      <td>100.0</td>\n",
       "      <td>good</td>\n",
       "      <td>1584997475-0195z663pl</td>\n",
       "    </tr>\n",
       "    <tr>\n",
       "      <th>4</th>\n",
       "      <td>pc_1584997475-0195z663pl_1591588126306_100_004...</td>\n",
       "      <td>DQKAiT6cSJkQW2ya_artifact-scan-pcd_15698880000...</td>\n",
       "      <td>qrcode/1584997475-0195z663pl/measure/159158812...</td>\n",
       "      <td>85.7</td>\n",
       "      <td>9.45</td>\n",
       "      <td>100.0</td>\n",
       "      <td>good</td>\n",
       "      <td>1584997475-0195z663pl</td>\n",
       "    </tr>\n",
       "  </tbody>\n",
       "</table>\n",
       "</div>"
      ],
      "text/plain": [
       "                                           artifacts  \\\n",
       "0  pc_1584997475-0195z663pl_1591588126306_100_000...   \n",
       "1  pc_1584997475-0195z663pl_1591588126306_100_001...   \n",
       "2  pc_1584997475-0195z663pl_1591588126306_100_002...   \n",
       "3  pc_1584997475-0195z663pl_1591588126306_100_003...   \n",
       "4  pc_1584997475-0195z663pl_1591588126306_100_004...   \n",
       "\n",
       "                                                  id  \\\n",
       "0  DQKAiT6cSJkQW2ya_artifact-scan-pcd_15698880000...   \n",
       "1  DQKAiT6cSJkQW2ya_artifact-scan-pcd_15698880000...   \n",
       "2  DQKAiT6cSJkQW2ya_artifact-scan-pcd_15698880000...   \n",
       "3  DQKAiT6cSJkQW2ya_artifact-scan-pcd_15698880000...   \n",
       "4  DQKAiT6cSJkQW2ya_artifact-scan-pcd_15698880000...   \n",
       "\n",
       "                                        storage_path  height  weight    key  \\\n",
       "0  qrcode/1584997475-0195z663pl/measure/159158812...    85.7    9.45  100.0   \n",
       "1  qrcode/1584997475-0195z663pl/measure/159158812...    85.7    9.45  100.0   \n",
       "2  qrcode/1584997475-0195z663pl/measure/159158812...    85.7    9.45  100.0   \n",
       "3  qrcode/1584997475-0195z663pl/measure/159158812...    85.7    9.45  100.0   \n",
       "4  qrcode/1584997475-0195z663pl/measure/159158812...    85.7    9.45  100.0   \n",
       "\n",
       "    tag                 qrcode  \n",
       "0  good  1584997475-0195z663pl  \n",
       "1  good  1584997475-0195z663pl  \n",
       "2  good  1584997475-0195z663pl  \n",
       "3  good  1584997475-0195z663pl  \n",
       "4  good  1584997475-0195z663pl  "
      ]
     },
     "execution_count": 116,
     "metadata": {},
     "output_type": "execute_result"
    }
   ],
   "source": [
    "artifacts.head()"
   ]
  },
  {
   "cell_type": "code",
   "execution_count": 118,
   "metadata": {},
   "outputs": [
    {
     "name": "stdout",
     "output_type": "stream",
     "text": [
      "1584997475-0195z663pl\n"
     ]
    }
   ],
   "source": [
    "print(artifacts.qrcode[0])"
   ]
  },
  {
   "cell_type": "code",
   "execution_count": 104,
   "metadata": {},
   "outputs": [
    {
     "name": "stdout",
     "output_type": "stream",
     "text": [
      "['pc_1584997475-0195z663pl_1591588126306_100_000.pcd'\n",
      " 'pc_1584997475-0195z663pl_1591588126306_100_001.pcd'\n",
      " 'pc_1584997475-0195z663pl_1591588126306_100_002.pcd' ...\n",
      " 'pc_1584997800-zyyf95jn3v_1591617422969_102_004.pcd'\n",
      " 'pc_1584997800-zyyf95jn3v_1591617422969_102_005.pcd'\n",
      " 'pc_1584997800-zyyf95jn3v_1591617422969_102_006.pcd']\n"
     ]
    }
   ],
   "source": [
    "####GET QR CODE OUT HERE!\n",
    "print(artifacts.artifacts.values)"
   ]
  },
  {
   "cell_type": "code",
   "execution_count": 107,
   "metadata": {},
   "outputs": [
    {
     "data": {
      "text/html": [
       "<div>\n",
       "<style scoped>\n",
       "    .dataframe tbody tr th:only-of-type {\n",
       "        vertical-align: middle;\n",
       "    }\n",
       "\n",
       "    .dataframe tbody tr th {\n",
       "        vertical-align: top;\n",
       "    }\n",
       "\n",
       "    .dataframe thead th {\n",
       "        text-align: right;\n",
       "    }\n",
       "</style>\n",
       "<table border=\"1\" class=\"dataframe\">\n",
       "  <thead>\n",
       "    <tr style=\"text-align: right;\">\n",
       "      <th></th>\n",
       "      <th>qrcode</th>\n",
       "      <th>person_id</th>\n",
       "      <th>age</th>\n",
       "      <th>sex</th>\n",
       "      <th>Years</th>\n",
       "      <th>height</th>\n",
       "      <th>weight</th>\n",
       "    </tr>\n",
       "  </thead>\n",
       "  <tbody>\n",
       "    <tr>\n",
       "      <th>69</th>\n",
       "      <td>1583831904-13qoxucgul</td>\n",
       "      <td>qzk6GuKtR0nJJ7ji_person_1567814400000_Ka6cXUUt...</td>\n",
       "      <td>2</td>\n",
       "      <td>female</td>\n",
       "      <td>0</td>\n",
       "      <td>87.8</td>\n",
       "      <td>11.25</td>\n",
       "    </tr>\n",
       "    <tr>\n",
       "      <th>320</th>\n",
       "      <td>1584996554-5hc50kbv5k</td>\n",
       "      <td>7QbzulTXi4tZ3rlG_person_1569628800000_dtavojZQ...</td>\n",
       "      <td>25</td>\n",
       "      <td>male</td>\n",
       "      <td>0</td>\n",
       "      <td>80.5</td>\n",
       "      <td>11.50</td>\n",
       "    </tr>\n",
       "    <tr>\n",
       "      <th>449</th>\n",
       "      <td>1583850151-7lqggqjbfz</td>\n",
       "      <td>2OApaLtWO0slWkxB_person_1566518400000_OYvnUkyd...</td>\n",
       "      <td>9</td>\n",
       "      <td>male</td>\n",
       "      <td>0</td>\n",
       "      <td>88.0</td>\n",
       "      <td>11.40</td>\n",
       "    </tr>\n",
       "    <tr>\n",
       "      <th>533</th>\n",
       "      <td>1583998466-92e41regoe</td>\n",
       "      <td>qJXsIstDJ5nLd31w_person_1568419200000_hpb6mIaE...</td>\n",
       "      <td>3</td>\n",
       "      <td>male</td>\n",
       "      <td>0</td>\n",
       "      <td>104.0</td>\n",
       "      <td>12.80</td>\n",
       "    </tr>\n",
       "    <tr>\n",
       "      <th>872</th>\n",
       "      <td>1585011244-en5qxroh2d</td>\n",
       "      <td>ZXY745YzkU2LP7Dk_person_1571443200000_6KS0wXew...</td>\n",
       "      <td>179</td>\n",
       "      <td>female</td>\n",
       "      <td>0</td>\n",
       "      <td>59.2</td>\n",
       "      <td>5.05</td>\n",
       "    </tr>\n",
       "  </tbody>\n",
       "</table>\n",
       "</div>"
      ],
      "text/plain": [
       "                    qrcode                                          person_id  \\\n",
       "69   1583831904-13qoxucgul  qzk6GuKtR0nJJ7ji_person_1567814400000_Ka6cXUUt...   \n",
       "320  1584996554-5hc50kbv5k  7QbzulTXi4tZ3rlG_person_1569628800000_dtavojZQ...   \n",
       "449  1583850151-7lqggqjbfz  2OApaLtWO0slWkxB_person_1566518400000_OYvnUkyd...   \n",
       "533  1583998466-92e41regoe  qJXsIstDJ5nLd31w_person_1568419200000_hpb6mIaE...   \n",
       "872  1585011244-en5qxroh2d  ZXY745YzkU2LP7Dk_person_1571443200000_6KS0wXew...   \n",
       "\n",
       "     age     sex  Years  height  weight  \n",
       "69     2  female      0    87.8   11.25  \n",
       "320   25    male      0    80.5   11.50  \n",
       "449    9    male      0    88.0   11.40  \n",
       "533    3    male      0   104.0   12.80  \n",
       "872  179  female      0    59.2    5.05  "
      ]
     },
     "execution_count": 107,
     "metadata": {},
     "output_type": "execute_result"
    }
   ],
   "source": [
    "unusual_age_drop_dupl.head()"
   ]
  },
  {
   "cell_type": "code",
   "execution_count": 123,
   "metadata": {},
   "outputs": [
    {
     "name": "stdout",
     "output_type": "stream",
     "text": [
      "14\n",
      "69      1583831904-13qoxucgul\n",
      "320     1584996554-5hc50kbv5k\n",
      "449     1583850151-7lqggqjbfz\n",
      "533     1583998466-92e41regoe\n",
      "872     1585011244-en5qxroh2d\n",
      "959     1584999538-fwlijzba3n\n",
      "1176    1584993440-jt1q7jvcxk\n",
      "1184    1584996982-jw4772tp4t\n",
      "1220    1583997887-kjl2onswvl\n",
      "1411    1583462542-nvwrue6sak\n",
      "1871    1585004714-vvwdktbjr4\n",
      "2007    1584921649-y7mb71gtq5\n",
      "2015    1584995840-yc5e340qkf\n",
      "2085    1583462523-zolqj1h1so\n",
      "Name: qrcode, dtype: object\n",
      "14\n"
     ]
    },
    {
     "data": {
      "text/plain": [
       "{'1583462523-zolqj1h1so',\n",
       " '1583462542-nvwrue6sak',\n",
       " '1583831904-13qoxucgul',\n",
       " '1583850151-7lqggqjbfz',\n",
       " '1583997887-kjl2onswvl',\n",
       " '1583998466-92e41regoe',\n",
       " '1584921649-y7mb71gtq5',\n",
       " '1584993440-jt1q7jvcxk',\n",
       " '1584995840-yc5e340qkf',\n",
       " '1584996554-5hc50kbv5k',\n",
       " '1584996982-jw4772tp4t',\n",
       " '1584999538-fwlijzba3n',\n",
       " '1585004714-vvwdktbjr4',\n",
       " '1585011244-en5qxroh2d'}"
      ]
     },
     "execution_count": 123,
     "metadata": {},
     "output_type": "execute_result"
    }
   ],
   "source": [
    "print(len(unusual_age_drop_dupl))\n",
    "\n",
    "unusual_qrcodes_age = unusual_age_drop_dupl.qrcode\n",
    "#unusual_qrcodes_age = [unusual_age_drop_dupl.qrcode[artifact] for artifact in drop_dupl_height.artifact.values]\n",
    "print(unusual_qrcodes_age)\n",
    "print(len(unusual_qrcodes_age))\n",
    "set(unusual_qrcodes_age)"
   ]
  },
  {
   "cell_type": "markdown",
   "metadata": {},
   "source": [
    "## Check on the amount of artifacts and scans from the dataset"
   ]
  },
  {
   "cell_type": "code",
   "execution_count": 22,
   "metadata": {},
   "outputs": [
    {
     "ename": "KeyboardInterrupt",
     "evalue": "",
     "output_type": "error",
     "traceback": [
      "\u001b[0;31m---------------------------------------------------------------------------\u001b[0m",
      "\u001b[0;31mKeyboardInterrupt\u001b[0m                         Traceback (most recent call last)",
      "\u001b[0;32m<ipython-input-22-f32fa50a30ee>\u001b[0m in \u001b[0;36m<module>\u001b[0;34m\u001b[0m\n\u001b[1;32m      1\u001b[0m \u001b[0;31m# Takes approx 12 min\u001b[0m\u001b[0;34m\u001b[0m\u001b[0;34m\u001b[0m\u001b[0;34m\u001b[0m\u001b[0m\n\u001b[0;32m----> 2\u001b[0;31m \u001b[0mdataset\u001b[0m \u001b[0;34m=\u001b[0m \u001b[0mglob2\u001b[0m\u001b[0;34m.\u001b[0m\u001b[0mglob\u001b[0m\u001b[0;34m(\u001b[0m\u001b[0mstr\u001b[0m\u001b[0;34m(\u001b[0m\u001b[0mDATASET_PATH\u001b[0m \u001b[0;34m/\u001b[0m \u001b[0;34m'qrcode/**/*.pcd'\u001b[0m\u001b[0;34m)\u001b[0m\u001b[0;34m)\u001b[0m\u001b[0;34m\u001b[0m\u001b[0;34m\u001b[0m\u001b[0m\n\u001b[0m\u001b[1;32m      3\u001b[0m \u001b[0mlen\u001b[0m\u001b[0;34m(\u001b[0m\u001b[0mdataset\u001b[0m\u001b[0;34m)\u001b[0m\u001b[0;34m\u001b[0m\u001b[0;34m\u001b[0m\u001b[0m\n",
      "\u001b[0;32m/anaconda/envs/azureml_py36/lib/python3.6/site-packages/glob2/impl.py\u001b[0m in \u001b[0;36mglob\u001b[0;34m(self, pathname, with_matches, include_hidden, recursive, norm_paths, case_sensitive, sep)\u001b[0m\n\u001b[1;32m     59\u001b[0m         \"\"\"\n\u001b[1;32m     60\u001b[0m         return list(self.iglob(pathname, with_matches, include_hidden,\n\u001b[0;32m---> 61\u001b[0;31m                                norm_paths, case_sensitive, sep))\n\u001b[0m\u001b[1;32m     62\u001b[0m \u001b[0;34m\u001b[0m\u001b[0m\n\u001b[1;32m     63\u001b[0m     def iglob(self, pathname, with_matches=False, include_hidden=False, recursive=True,\n",
      "\u001b[0;32m/anaconda/envs/azureml_py36/lib/python3.6/site-packages/glob2/impl.py\u001b[0m in \u001b[0;36m_iglob\u001b[0;34m(self, pathname, rootcall, include_hidden, norm_paths, case_sensitive, sep)\u001b[0m\n\u001b[1;32m    124\u001b[0m \u001b[0;34m\u001b[0m\u001b[0m\n\u001b[1;32m    125\u001b[0m         \u001b[0;31m# Resolve ``basename`` expr for every directory found\u001b[0m\u001b[0;34m\u001b[0m\u001b[0;34m\u001b[0m\u001b[0;34m\u001b[0m\u001b[0m\n\u001b[0;32m--> 126\u001b[0;31m         \u001b[0;32mfor\u001b[0m \u001b[0mdirname\u001b[0m\u001b[0;34m,\u001b[0m \u001b[0mdir_groups\u001b[0m \u001b[0;32min\u001b[0m \u001b[0mdirs\u001b[0m\u001b[0;34m:\u001b[0m\u001b[0;34m\u001b[0m\u001b[0;34m\u001b[0m\u001b[0m\n\u001b[0m\u001b[1;32m    127\u001b[0m             for name, groups in self.resolve_pattern(dirname, basename,\n\u001b[1;32m    128\u001b[0m                                                      \u001b[0;32mnot\u001b[0m \u001b[0mrootcall\u001b[0m\u001b[0;34m,\u001b[0m \u001b[0minclude_hidden\u001b[0m\u001b[0;34m,\u001b[0m\u001b[0;34m\u001b[0m\u001b[0;34m\u001b[0m\u001b[0m\n",
      "\u001b[0;32m/anaconda/envs/azureml_py36/lib/python3.6/site-packages/glob2/impl.py\u001b[0m in \u001b[0;36m_iglob\u001b[0;34m(self, pathname, rootcall, include_hidden, norm_paths, case_sensitive, sep)\u001b[0m\n\u001b[1;32m    127\u001b[0m             for name, groups in self.resolve_pattern(dirname, basename,\n\u001b[1;32m    128\u001b[0m                                                      \u001b[0;32mnot\u001b[0m \u001b[0mrootcall\u001b[0m\u001b[0;34m,\u001b[0m \u001b[0minclude_hidden\u001b[0m\u001b[0;34m,\u001b[0m\u001b[0;34m\u001b[0m\u001b[0;34m\u001b[0m\u001b[0m\n\u001b[0;32m--> 129\u001b[0;31m                                                      norm_paths, case_sensitive, sep):\n\u001b[0m\u001b[1;32m    130\u001b[0m                 \u001b[0;32myield\u001b[0m \u001b[0m_join_paths\u001b[0m\u001b[0;34m(\u001b[0m\u001b[0;34m[\u001b[0m\u001b[0mdirname\u001b[0m\u001b[0;34m,\u001b[0m \u001b[0mname\u001b[0m\u001b[0;34m]\u001b[0m\u001b[0;34m,\u001b[0m \u001b[0msep\u001b[0m\u001b[0;34m=\u001b[0m\u001b[0msep\u001b[0m\u001b[0;34m)\u001b[0m\u001b[0;34m,\u001b[0m \u001b[0mdir_groups\u001b[0m \u001b[0;34m+\u001b[0m \u001b[0mgroups\u001b[0m\u001b[0;34m\u001b[0m\u001b[0;34m\u001b[0m\u001b[0m\n\u001b[1;32m    131\u001b[0m \u001b[0;34m\u001b[0m\u001b[0m\n",
      "\u001b[0;32m/anaconda/envs/azureml_py36/lib/python3.6/site-packages/glob2/impl.py\u001b[0m in \u001b[0;36mresolve_pattern\u001b[0;34m(self, dirname, pattern, globstar_with_root, include_hidden, norm_paths, case_sensitive, sep)\u001b[0m\n\u001b[1;32m    168\u001b[0m                 \u001b[0;31m# having to deal with os.path.normpath() later.\u001b[0m\u001b[0;34m\u001b[0m\u001b[0;34m\u001b[0m\u001b[0;34m\u001b[0m\u001b[0m\n\u001b[1;32m    169\u001b[0m                 \u001b[0mnames\u001b[0m \u001b[0;34m=\u001b[0m \u001b[0;34m[\u001b[0m\u001b[0;34m''\u001b[0m\u001b[0;34m]\u001b[0m \u001b[0;32mif\u001b[0m \u001b[0mglobstar_with_root\u001b[0m \u001b[0;32melse\u001b[0m \u001b[0;34m[\u001b[0m\u001b[0;34m]\u001b[0m\u001b[0;34m\u001b[0m\u001b[0;34m\u001b[0m\u001b[0m\n\u001b[0;32m--> 170\u001b[0;31m                 \u001b[0;32mfor\u001b[0m \u001b[0mtop\u001b[0m\u001b[0;34m,\u001b[0m \u001b[0mentries\u001b[0m \u001b[0;32min\u001b[0m \u001b[0mself\u001b[0m\u001b[0;34m.\u001b[0m\u001b[0mwalk\u001b[0m\u001b[0;34m(\u001b[0m\u001b[0mdirname\u001b[0m\u001b[0;34m,\u001b[0m \u001b[0msep\u001b[0m\u001b[0;34m=\u001b[0m\u001b[0msep\u001b[0m\u001b[0;34m)\u001b[0m\u001b[0;34m:\u001b[0m\u001b[0;34m\u001b[0m\u001b[0;34m\u001b[0m\u001b[0m\n\u001b[0m\u001b[1;32m    171\u001b[0m                     \u001b[0m_mkabs\u001b[0m \u001b[0;34m=\u001b[0m \u001b[0;32mlambda\u001b[0m \u001b[0ms\u001b[0m\u001b[0;34m:\u001b[0m \u001b[0m_join_paths\u001b[0m\u001b[0;34m(\u001b[0m\u001b[0;34m[\u001b[0m\u001b[0mtop\u001b[0m\u001b[0;34m[\u001b[0m\u001b[0mlen\u001b[0m\u001b[0;34m(\u001b[0m\u001b[0mdirname\u001b[0m\u001b[0;34m)\u001b[0m \u001b[0;34m+\u001b[0m \u001b[0;36m1\u001b[0m\u001b[0;34m:\u001b[0m\u001b[0;34m]\u001b[0m\u001b[0;34m,\u001b[0m \u001b[0ms\u001b[0m\u001b[0;34m]\u001b[0m\u001b[0;34m,\u001b[0m \u001b[0msep\u001b[0m\u001b[0;34m=\u001b[0m\u001b[0msep\u001b[0m\u001b[0;34m)\u001b[0m\u001b[0;34m\u001b[0m\u001b[0;34m\u001b[0m\u001b[0m\n\u001b[1;32m    172\u001b[0m                     \u001b[0mnames\u001b[0m\u001b[0;34m.\u001b[0m\u001b[0mextend\u001b[0m\u001b[0;34m(\u001b[0m\u001b[0mmap\u001b[0m\u001b[0;34m(\u001b[0m\u001b[0m_mkabs\u001b[0m\u001b[0;34m,\u001b[0m \u001b[0mentries\u001b[0m\u001b[0;34m)\u001b[0m\u001b[0;34m)\u001b[0m\u001b[0;34m\u001b[0m\u001b[0;34m\u001b[0m\u001b[0m\n",
      "\u001b[0;32m/anaconda/envs/azureml_py36/lib/python3.6/site-packages/glob2/impl.py\u001b[0m in \u001b[0;36mwalk\u001b[0;34m(self, top, followlinks, sep)\u001b[0m\n\u001b[1;32m     43\u001b[0m             \u001b[0mnew_path\u001b[0m \u001b[0;34m=\u001b[0m \u001b[0m_join_paths\u001b[0m\u001b[0;34m(\u001b[0m\u001b[0;34m[\u001b[0m\u001b[0mtop\u001b[0m\u001b[0;34m,\u001b[0m \u001b[0mname\u001b[0m\u001b[0;34m]\u001b[0m\u001b[0;34m,\u001b[0m \u001b[0msep\u001b[0m\u001b[0;34m=\u001b[0m\u001b[0msep\u001b[0m\u001b[0;34m)\u001b[0m\u001b[0;34m\u001b[0m\u001b[0;34m\u001b[0m\u001b[0m\n\u001b[1;32m     44\u001b[0m             \u001b[0;32mif\u001b[0m \u001b[0mfollowlinks\u001b[0m \u001b[0;32mor\u001b[0m \u001b[0;32mnot\u001b[0m \u001b[0mself\u001b[0m\u001b[0;34m.\u001b[0m\u001b[0mislink\u001b[0m\u001b[0;34m(\u001b[0m\u001b[0mnew_path\u001b[0m\u001b[0;34m)\u001b[0m\u001b[0;34m:\u001b[0m\u001b[0;34m\u001b[0m\u001b[0;34m\u001b[0m\u001b[0m\n\u001b[0;32m---> 45\u001b[0;31m                 \u001b[0;32mfor\u001b[0m \u001b[0mx\u001b[0m \u001b[0;32min\u001b[0m \u001b[0mself\u001b[0m\u001b[0;34m.\u001b[0m\u001b[0mwalk\u001b[0m\u001b[0;34m(\u001b[0m\u001b[0mnew_path\u001b[0m\u001b[0;34m,\u001b[0m \u001b[0mfollowlinks\u001b[0m\u001b[0;34m)\u001b[0m\u001b[0;34m:\u001b[0m\u001b[0;34m\u001b[0m\u001b[0;34m\u001b[0m\u001b[0m\n\u001b[0m\u001b[1;32m     46\u001b[0m                     \u001b[0;32myield\u001b[0m \u001b[0mx\u001b[0m\u001b[0;34m\u001b[0m\u001b[0;34m\u001b[0m\u001b[0m\n\u001b[1;32m     47\u001b[0m \u001b[0;34m\u001b[0m\u001b[0m\n",
      "\u001b[0;32m/anaconda/envs/azureml_py36/lib/python3.6/site-packages/glob2/impl.py\u001b[0m in \u001b[0;36mwalk\u001b[0;34m(self, top, followlinks, sep)\u001b[0m\n\u001b[1;32m     42\u001b[0m         \u001b[0;32mfor\u001b[0m \u001b[0mname\u001b[0m \u001b[0;32min\u001b[0m \u001b[0mitems\u001b[0m\u001b[0;34m:\u001b[0m\u001b[0;34m\u001b[0m\u001b[0;34m\u001b[0m\u001b[0m\n\u001b[1;32m     43\u001b[0m             \u001b[0mnew_path\u001b[0m \u001b[0;34m=\u001b[0m \u001b[0m_join_paths\u001b[0m\u001b[0;34m(\u001b[0m\u001b[0;34m[\u001b[0m\u001b[0mtop\u001b[0m\u001b[0;34m,\u001b[0m \u001b[0mname\u001b[0m\u001b[0;34m]\u001b[0m\u001b[0;34m,\u001b[0m \u001b[0msep\u001b[0m\u001b[0;34m=\u001b[0m\u001b[0msep\u001b[0m\u001b[0;34m)\u001b[0m\u001b[0;34m\u001b[0m\u001b[0;34m\u001b[0m\u001b[0m\n\u001b[0;32m---> 44\u001b[0;31m             \u001b[0;32mif\u001b[0m \u001b[0mfollowlinks\u001b[0m \u001b[0;32mor\u001b[0m \u001b[0;32mnot\u001b[0m \u001b[0mself\u001b[0m\u001b[0;34m.\u001b[0m\u001b[0mislink\u001b[0m\u001b[0;34m(\u001b[0m\u001b[0mnew_path\u001b[0m\u001b[0;34m)\u001b[0m\u001b[0;34m:\u001b[0m\u001b[0;34m\u001b[0m\u001b[0;34m\u001b[0m\u001b[0m\n\u001b[0m\u001b[1;32m     45\u001b[0m                 \u001b[0;32mfor\u001b[0m \u001b[0mx\u001b[0m \u001b[0;32min\u001b[0m \u001b[0mself\u001b[0m\u001b[0;34m.\u001b[0m\u001b[0mwalk\u001b[0m\u001b[0;34m(\u001b[0m\u001b[0mnew_path\u001b[0m\u001b[0;34m,\u001b[0m \u001b[0mfollowlinks\u001b[0m\u001b[0;34m)\u001b[0m\u001b[0;34m:\u001b[0m\u001b[0;34m\u001b[0m\u001b[0;34m\u001b[0m\u001b[0m\n\u001b[1;32m     46\u001b[0m                     \u001b[0;32myield\u001b[0m \u001b[0mx\u001b[0m\u001b[0;34m\u001b[0m\u001b[0;34m\u001b[0m\u001b[0m\n",
      "\u001b[0;32m/anaconda/envs/azureml_py36/lib/python3.6/posixpath.py\u001b[0m in \u001b[0;36mislink\u001b[0;34m(path)\u001b[0m\n\u001b[1;32m    169\u001b[0m     \u001b[0;34m\"\"\"Test whether a path is a symbolic link\"\"\"\u001b[0m\u001b[0;34m\u001b[0m\u001b[0;34m\u001b[0m\u001b[0m\n\u001b[1;32m    170\u001b[0m     \u001b[0;32mtry\u001b[0m\u001b[0;34m:\u001b[0m\u001b[0;34m\u001b[0m\u001b[0;34m\u001b[0m\u001b[0m\n\u001b[0;32m--> 171\u001b[0;31m         \u001b[0mst\u001b[0m \u001b[0;34m=\u001b[0m \u001b[0mos\u001b[0m\u001b[0;34m.\u001b[0m\u001b[0mlstat\u001b[0m\u001b[0;34m(\u001b[0m\u001b[0mpath\u001b[0m\u001b[0;34m)\u001b[0m\u001b[0;34m\u001b[0m\u001b[0;34m\u001b[0m\u001b[0m\n\u001b[0m\u001b[1;32m    172\u001b[0m     \u001b[0;32mexcept\u001b[0m \u001b[0;34m(\u001b[0m\u001b[0mOSError\u001b[0m\u001b[0;34m,\u001b[0m \u001b[0mAttributeError\u001b[0m\u001b[0;34m)\u001b[0m\u001b[0;34m:\u001b[0m\u001b[0;34m\u001b[0m\u001b[0;34m\u001b[0m\u001b[0m\n\u001b[1;32m    173\u001b[0m         \u001b[0;32mreturn\u001b[0m \u001b[0;32mFalse\u001b[0m\u001b[0;34m\u001b[0m\u001b[0;34m\u001b[0m\u001b[0m\n",
      "\u001b[0;31mKeyboardInterrupt\u001b[0m: "
     ]
    }
   ],
   "source": [
    "# Takes approx 12 min\n",
    "dataset = glob2.glob(str(DATASET_PATH / 'qrcode/**/*.pcd'))\n",
    "len(dataset)"
   ]
  },
  {
   "cell_type": "code",
   "execution_count": 108,
   "metadata": {},
   "outputs": [
    {
     "name": "stdout",
     "output_type": "stream",
     "text": [
      "Total no. of pointclouds in csv: 50149\n",
      "Total no. of pointclouds in dataset: 0\n"
     ]
    }
   ],
   "source": [
    "print(\"Total no. of pointclouds in csv:\", len(artifacts))\n",
    "print(\"Total no. of pointclouds in dataset:\", len(dataset))"
   ]
  },
  {
   "cell_type": "code",
   "execution_count": 109,
   "metadata": {},
   "outputs": [],
   "source": [
    "## extracting the qrcodes\n",
    "qrcodes_data = []\n",
    "for path in dataset:\n",
    "    data =path.split('/')\n",
    "    qrcodes_data.append(data[4])\n",
    "qrc_dataframe = pd.DataFrame(qrcodes_data,columns=['qrcodes'])"
   ]
  },
  {
   "cell_type": "code",
   "execution_count": 110,
   "metadata": {},
   "outputs": [
    {
     "name": "stdout",
     "output_type": "stream",
     "text": [
      "Total no. of scans in dataset: 0\n",
      "Total no. of scans in csv: 2106\n"
     ]
    }
   ],
   "source": [
    "print(\"Total no. of scans in dataset:\", len(qrc_dataframe['qrcodes'].unique()))\n",
    "print(\"Total no. of scans in csv:\", len(scans))      "
   ]
  }
 ],
 "metadata": {
  "kernel_info": {
   "name": "cgm_qa_pipeline"
  },
  "kernelspec": {
   "display_name": "CGM_QA_PIPELINE",
   "language": "python",
   "name": "cgm_qa_pipeline"
  },
  "language_info": {
   "codemirror_mode": {
    "name": "ipython",
    "version": 3
   },
   "file_extension": ".py",
   "mimetype": "text/x-python",
   "name": "python",
   "nbconvert_exporter": "python",
   "pygments_lexer": "ipython3",
   "version": "3.6.9"
  },
  "microsoft": {
   "host": {
    "AzureML": {
     "notebookHasBeenCompleted": true
    }
   }
  },
  "nteract": {
   "version": "nteract-front-end@1.0.0"
  }
 },
 "nbformat": 4,
 "nbformat_minor": 4
}
