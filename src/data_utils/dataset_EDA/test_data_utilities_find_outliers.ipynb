{
 "cells": [
  {
   "cell_type": "markdown",
   "metadata": {},
   "source": [
    "# Unit test for find_outliers"
   ]
  },
  {
   "cell_type": "code",
   "execution_count": 1,
   "metadata": {},
   "outputs": [],
   "source": [
    "import pandas as pd\n",
    "\n",
    "from test_data_utilities_find_outlier_qrcodes import prepare_test_df, test_find_outlier_qrcodes_age_min, test_find_outlier_qrcodes_age_max, test_find_outlier_qrcodes_weight_min, test_find_outlier_qrcodes_weight_max, test_find_outlier_qrcodes_height_min, test_find_outlier_qrcodes_height_max"
   ]
  },
  {
   "cell_type": "code",
   "execution_count": 2,
   "metadata": {},
   "outputs": [],
   "source": [
    "df = prepare_test_df()"
   ]
  },
  {
   "cell_type": "code",
   "execution_count": 3,
   "metadata": {},
   "outputs": [
    {
     "data": {
      "text/html": [
       "<div>\n",
       "<style scoped>\n",
       "    .dataframe tbody tr th:only-of-type {\n",
       "        vertical-align: middle;\n",
       "    }\n",
       "\n",
       "    .dataframe tbody tr th {\n",
       "        vertical-align: top;\n",
       "    }\n",
       "\n",
       "    .dataframe thead th {\n",
       "        text-align: right;\n",
       "    }\n",
       "</style>\n",
       "<table border=\"1\" class=\"dataframe\">\n",
       "  <thead>\n",
       "    <tr style=\"text-align: right;\">\n",
       "      <th></th>\n",
       "      <th>artifacts</th>\n",
       "      <th>age</th>\n",
       "      <th>weight</th>\n",
       "      <th>height</th>\n",
       "      <th>qrcode</th>\n",
       "    </tr>\n",
       "  </thead>\n",
       "  <tbody>\n",
       "    <tr>\n",
       "      <th>0</th>\n",
       "      <td>scans/1585013006-yqwb95138e/100/pc_1585013006-...</td>\n",
       "      <td>180</td>\n",
       "      <td>3.0</td>\n",
       "      <td>30.0</td>\n",
       "      <td>1585013006-yqwb95138e</td>\n",
       "    </tr>\n",
       "    <tr>\n",
       "      <th>1</th>\n",
       "      <td>scans/1555555555-yqqqqqqqqq/100/pc_1555555555-...</td>\n",
       "      <td>365</td>\n",
       "      <td>6.0</td>\n",
       "      <td>95.0</td>\n",
       "      <td>1555555555-yqqqqqqqqq</td>\n",
       "    </tr>\n",
       "    <tr>\n",
       "      <th>2</th>\n",
       "      <td>scans/1212121212-jajajajaja/100/pc_1212121212-...</td>\n",
       "      <td>3000</td>\n",
       "      <td>32.0</td>\n",
       "      <td>102.0</td>\n",
       "      <td>1212121212-jajajajaja</td>\n",
       "    </tr>\n",
       "    <tr>\n",
       "      <th>3</th>\n",
       "      <td>scans/1585013006-yqwb95138e/100/pc_1585013006-...</td>\n",
       "      <td>180</td>\n",
       "      <td>3.0</td>\n",
       "      <td>30.0</td>\n",
       "      <td>1585013006-yqwb95138e</td>\n",
       "    </tr>\n",
       "    <tr>\n",
       "      <th>4</th>\n",
       "      <td>scans/9922992299-lelelelele/100/pc_9922992299-...</td>\n",
       "      <td>20</td>\n",
       "      <td>2.7</td>\n",
       "      <td>195.0</td>\n",
       "      <td>9922992299-lelelelele</td>\n",
       "    </tr>\n",
       "  </tbody>\n",
       "</table>\n",
       "</div>"
      ],
      "text/plain": [
       "                                           artifacts   age  weight  height  \\\n",
       "0  scans/1585013006-yqwb95138e/100/pc_1585013006-...   180     3.0    30.0   \n",
       "1  scans/1555555555-yqqqqqqqqq/100/pc_1555555555-...   365     6.0    95.0   \n",
       "2  scans/1212121212-jajajajaja/100/pc_1212121212-...  3000    32.0   102.0   \n",
       "3  scans/1585013006-yqwb95138e/100/pc_1585013006-...   180     3.0    30.0   \n",
       "4  scans/9922992299-lelelelele/100/pc_9922992299-...    20     2.7   195.0   \n",
       "\n",
       "                  qrcode  \n",
       "0  1585013006-yqwb95138e  \n",
       "1  1555555555-yqqqqqqqqq  \n",
       "2  1212121212-jajajajaja  \n",
       "3  1585013006-yqwb95138e  \n",
       "4  9922992299-lelelelele  "
      ]
     },
     "execution_count": 3,
     "metadata": {},
     "output_type": "execute_result"
    }
   ],
   "source": [
    "df.head()"
   ]
  },
  {
   "cell_type": "markdown",
   "metadata": {},
   "source": [
    "### Test age min <182 - should be 2 qrcodes [1585013006-yqwb95138e (duplicate) and 9922992299-lelelelele]"
   ]
  },
  {
   "cell_type": "code",
   "execution_count": 4,
   "metadata": {
    "scrolled": false
   },
   "outputs": [
    {
     "name": "stderr",
     "output_type": "stream",
     "text": [
      "2021-04-13 09:48:11,388 - INFO - Running the following query: @df.age<365/2 - /mnt/resource/batch/tasks/shared/LS_root/mounts/clusters/jzcomp/code/Users/jziegler/cgm-ml/src/data_utils/dataset_EDA/data_utilities.py: line 59\n",
      "2021-04-13 09:48:11,397 - INFO - NumExpr defaulting to 4 threads. - /anaconda/envs/azureml_py36/lib/python3.6/site-packages/numexpr/utils.py: line 157\n",
      "2021-04-13 09:48:11,406 - INFO - No. of unusual artifacts: 3 - /mnt/resource/batch/tasks/shared/LS_root/mounts/clusters/jzcomp/code/Users/jziegler/cgm-ml/src/data_utils/dataset_EDA/data_utilities.py: line 61\n",
      "2021-04-13 09:48:11,408 - INFO - No. of unique outlier qr_codes: 2 - /mnt/resource/batch/tasks/shared/LS_root/mounts/clusters/jzcomp/code/Users/jziegler/cgm-ml/src/data_utils/dataset_EDA/data_utilities.py: line 63\n",
      "2021-04-13 09:48:11,409 - INFO - Extracting qr_codes... - /mnt/resource/batch/tasks/shared/LS_root/mounts/clusters/jzcomp/code/Users/jziegler/cgm-ml/src/data_utils/dataset_EDA/data_utilities.py: line 64\n",
      "2021-04-13 09:48:11,410 - INFO - No. of qrcodes: 2 - /mnt/resource/batch/tasks/shared/LS_root/mounts/clusters/jzcomp/code/Users/jziegler/cgm-ml/src/data_utils/dataset_EDA/data_utilities.py: line 66\n"
     ]
    },
    {
     "name": "stdout",
     "output_type": "stream",
     "text": [
      "No. of qrcodes: %d 2\n"
     ]
    },
    {
     "data": {
      "text/plain": [
       "['1585013006-yqwb95138e', '9922992299-lelelelele']"
      ]
     },
     "execution_count": 4,
     "metadata": {},
     "output_type": "execute_result"
    }
   ],
   "source": [
    "test_find_outlier_qrcodes_age_min(df)"
   ]
  },
  {
   "cell_type": "markdown",
   "metadata": {},
   "source": [
    "### Test age max <2190 - should be 1 qrcode [1212121212-jajajajaja]"
   ]
  },
  {
   "cell_type": "code",
   "execution_count": 5,
   "metadata": {},
   "outputs": [
    {
     "name": "stderr",
     "output_type": "stream",
     "text": [
      "2021-04-13 09:48:11,418 - INFO - Running the following query: @df.age>365*6 - /mnt/resource/batch/tasks/shared/LS_root/mounts/clusters/jzcomp/code/Users/jziegler/cgm-ml/src/data_utils/dataset_EDA/data_utilities.py: line 59\n",
      "2021-04-13 09:48:11,422 - INFO - No. of unusual artifacts: 1 - /mnt/resource/batch/tasks/shared/LS_root/mounts/clusters/jzcomp/code/Users/jziegler/cgm-ml/src/data_utils/dataset_EDA/data_utilities.py: line 61\n",
      "2021-04-13 09:48:11,426 - INFO - No. of unique outlier qr_codes: 1 - /mnt/resource/batch/tasks/shared/LS_root/mounts/clusters/jzcomp/code/Users/jziegler/cgm-ml/src/data_utils/dataset_EDA/data_utilities.py: line 63\n",
      "2021-04-13 09:48:11,426 - INFO - Extracting qr_codes... - /mnt/resource/batch/tasks/shared/LS_root/mounts/clusters/jzcomp/code/Users/jziegler/cgm-ml/src/data_utils/dataset_EDA/data_utilities.py: line 64\n",
      "2021-04-13 09:48:11,427 - INFO - No. of qrcodes: 1 - /mnt/resource/batch/tasks/shared/LS_root/mounts/clusters/jzcomp/code/Users/jziegler/cgm-ml/src/data_utils/dataset_EDA/data_utilities.py: line 66\n"
     ]
    },
    {
     "name": "stdout",
     "output_type": "stream",
     "text": [
      "No. of qrcodes: %d 1\n"
     ]
    },
    {
     "data": {
      "text/plain": [
       "['1212121212-jajajajaja']"
      ]
     },
     "execution_count": 5,
     "metadata": {},
     "output_type": "execute_result"
    }
   ],
   "source": [
    "test_find_outlier_qrcodes_age_max(df)"
   ]
  },
  {
   "cell_type": "markdown",
   "metadata": {},
   "source": [
    "### Test weight min <5.0 - should be 2 qrcodes [1585013006-yqwb95138e (duplicate) and 9922992299-lelelelele]"
   ]
  },
  {
   "cell_type": "code",
   "execution_count": 6,
   "metadata": {},
   "outputs": [
    {
     "name": "stderr",
     "output_type": "stream",
     "text": [
      "2021-04-13 09:48:11,451 - INFO - Running the following query: @df.weight<5.0 - /mnt/resource/batch/tasks/shared/LS_root/mounts/clusters/jzcomp/code/Users/jziegler/cgm-ml/src/data_utils/dataset_EDA/data_utilities.py: line 59\n",
      "2021-04-13 09:48:11,457 - INFO - No. of unusual artifacts: 3 - /mnt/resource/batch/tasks/shared/LS_root/mounts/clusters/jzcomp/code/Users/jziegler/cgm-ml/src/data_utils/dataset_EDA/data_utilities.py: line 61\n",
      "2021-04-13 09:48:11,460 - INFO - No. of unique outlier qr_codes: 2 - /mnt/resource/batch/tasks/shared/LS_root/mounts/clusters/jzcomp/code/Users/jziegler/cgm-ml/src/data_utils/dataset_EDA/data_utilities.py: line 63\n",
      "2021-04-13 09:48:11,461 - INFO - Extracting qr_codes... - /mnt/resource/batch/tasks/shared/LS_root/mounts/clusters/jzcomp/code/Users/jziegler/cgm-ml/src/data_utils/dataset_EDA/data_utilities.py: line 64\n",
      "2021-04-13 09:48:11,462 - INFO - No. of qrcodes: 2 - /mnt/resource/batch/tasks/shared/LS_root/mounts/clusters/jzcomp/code/Users/jziegler/cgm-ml/src/data_utils/dataset_EDA/data_utilities.py: line 66\n"
     ]
    },
    {
     "name": "stdout",
     "output_type": "stream",
     "text": [
      "No. of qrcodes: %d 2\n"
     ]
    },
    {
     "data": {
      "text/plain": [
       "['1585013006-yqwb95138e', '9922992299-lelelelele']"
      ]
     },
     "execution_count": 6,
     "metadata": {},
     "output_type": "execute_result"
    }
   ],
   "source": [
    "test_find_outlier_qrcodes_weight_min(df)"
   ]
  },
  {
   "cell_type": "markdown",
   "metadata": {},
   "source": [
    "### Test weight max >30.0 - should be 1 qrcode [1212121212-jajajajaja]"
   ]
  },
  {
   "cell_type": "code",
   "execution_count": 7,
   "metadata": {
    "scrolled": true
   },
   "outputs": [
    {
     "name": "stderr",
     "output_type": "stream",
     "text": [
      "2021-04-13 09:48:11,468 - INFO - Running the following query: @df.weight>30.0 - /mnt/resource/batch/tasks/shared/LS_root/mounts/clusters/jzcomp/code/Users/jziegler/cgm-ml/src/data_utils/dataset_EDA/data_utilities.py: line 59\n",
      "2021-04-13 09:48:11,474 - INFO - No. of unusual artifacts: 1 - /mnt/resource/batch/tasks/shared/LS_root/mounts/clusters/jzcomp/code/Users/jziegler/cgm-ml/src/data_utils/dataset_EDA/data_utilities.py: line 61\n",
      "2021-04-13 09:48:11,476 - INFO - No. of unique outlier qr_codes: 1 - /mnt/resource/batch/tasks/shared/LS_root/mounts/clusters/jzcomp/code/Users/jziegler/cgm-ml/src/data_utils/dataset_EDA/data_utilities.py: line 63\n",
      "2021-04-13 09:48:11,476 - INFO - Extracting qr_codes... - /mnt/resource/batch/tasks/shared/LS_root/mounts/clusters/jzcomp/code/Users/jziegler/cgm-ml/src/data_utils/dataset_EDA/data_utilities.py: line 64\n",
      "2021-04-13 09:48:11,478 - INFO - No. of qrcodes: 1 - /mnt/resource/batch/tasks/shared/LS_root/mounts/clusters/jzcomp/code/Users/jziegler/cgm-ml/src/data_utils/dataset_EDA/data_utilities.py: line 66\n"
     ]
    },
    {
     "name": "stdout",
     "output_type": "stream",
     "text": [
      "No. of qrcodes: %d 1\n"
     ]
    },
    {
     "data": {
      "text/plain": [
       "['1212121212-jajajajaja']"
      ]
     },
     "execution_count": 7,
     "metadata": {},
     "output_type": "execute_result"
    }
   ],
   "source": [
    "test_find_outlier_qrcodes_weight_max(df)"
   ]
  },
  {
   "cell_type": "markdown",
   "metadata": {},
   "source": [
    "### Test height min <40.0 cm - should be 1 qrcode [1585013006-yqwb95138e (duplicate)]"
   ]
  },
  {
   "cell_type": "code",
   "execution_count": 8,
   "metadata": {},
   "outputs": [
    {
     "name": "stderr",
     "output_type": "stream",
     "text": [
      "2021-04-13 09:48:11,485 - INFO - Running the following query: @df.height<40.0 - /mnt/resource/batch/tasks/shared/LS_root/mounts/clusters/jzcomp/code/Users/jziegler/cgm-ml/src/data_utils/dataset_EDA/data_utilities.py: line 59\n",
      "2021-04-13 09:48:11,488 - INFO - No. of unusual artifacts: 2 - /mnt/resource/batch/tasks/shared/LS_root/mounts/clusters/jzcomp/code/Users/jziegler/cgm-ml/src/data_utils/dataset_EDA/data_utilities.py: line 61\n",
      "2021-04-13 09:48:11,491 - INFO - No. of unique outlier qr_codes: 1 - /mnt/resource/batch/tasks/shared/LS_root/mounts/clusters/jzcomp/code/Users/jziegler/cgm-ml/src/data_utils/dataset_EDA/data_utilities.py: line 63\n",
      "2021-04-13 09:48:11,491 - INFO - Extracting qr_codes... - /mnt/resource/batch/tasks/shared/LS_root/mounts/clusters/jzcomp/code/Users/jziegler/cgm-ml/src/data_utils/dataset_EDA/data_utilities.py: line 64\n",
      "2021-04-13 09:48:11,492 - INFO - No. of qrcodes: 1 - /mnt/resource/batch/tasks/shared/LS_root/mounts/clusters/jzcomp/code/Users/jziegler/cgm-ml/src/data_utils/dataset_EDA/data_utilities.py: line 66\n"
     ]
    },
    {
     "name": "stdout",
     "output_type": "stream",
     "text": [
      "No. of qrcodes: %d 1\n"
     ]
    },
    {
     "data": {
      "text/plain": [
       "['1585013006-yqwb95138e']"
      ]
     },
     "execution_count": 8,
     "metadata": {},
     "output_type": "execute_result"
    }
   ],
   "source": [
    "test_find_outlier_qrcodes_height_min(df)"
   ]
  },
  {
   "cell_type": "markdown",
   "metadata": {},
   "source": [
    "### Test height max >150.0 cm - should be 1 qrcode [9922992299-lelelelele]"
   ]
  },
  {
   "cell_type": "code",
   "execution_count": 9,
   "metadata": {},
   "outputs": [
    {
     "name": "stderr",
     "output_type": "stream",
     "text": [
      "2021-04-13 09:48:11,499 - INFO - Running the following query: @df.height>150.0 - /mnt/resource/batch/tasks/shared/LS_root/mounts/clusters/jzcomp/code/Users/jziegler/cgm-ml/src/data_utils/dataset_EDA/data_utilities.py: line 59\n",
      "2021-04-13 09:48:11,502 - INFO - No. of unusual artifacts: 1 - /mnt/resource/batch/tasks/shared/LS_root/mounts/clusters/jzcomp/code/Users/jziegler/cgm-ml/src/data_utils/dataset_EDA/data_utilities.py: line 61\n",
      "2021-04-13 09:48:11,505 - INFO - No. of unique outlier qr_codes: 1 - /mnt/resource/batch/tasks/shared/LS_root/mounts/clusters/jzcomp/code/Users/jziegler/cgm-ml/src/data_utils/dataset_EDA/data_utilities.py: line 63\n",
      "2021-04-13 09:48:11,505 - INFO - Extracting qr_codes... - /mnt/resource/batch/tasks/shared/LS_root/mounts/clusters/jzcomp/code/Users/jziegler/cgm-ml/src/data_utils/dataset_EDA/data_utilities.py: line 64\n",
      "2021-04-13 09:48:11,506 - INFO - No. of qrcodes: 1 - /mnt/resource/batch/tasks/shared/LS_root/mounts/clusters/jzcomp/code/Users/jziegler/cgm-ml/src/data_utils/dataset_EDA/data_utilities.py: line 66\n"
     ]
    },
    {
     "name": "stdout",
     "output_type": "stream",
     "text": [
      "No. of qrcodes: %d 1\n"
     ]
    },
    {
     "data": {
      "text/plain": [
       "['9922992299-lelelelele']"
      ]
     },
     "execution_count": 9,
     "metadata": {},
     "output_type": "execute_result"
    }
   ],
   "source": [
    "test_find_outlier_qrcodes_height_max(df)"
   ]
  }
 ],
 "metadata": {
  "kernel_info": {
   "name": "python3-azureml"
  },
  "kernelspec": {
   "display_name": "Python 3.6 - AzureML",
   "language": "python",
   "name": "python3-azureml"
  },
  "language_info": {
   "codemirror_mode": {
    "name": "ipython",
    "version": 3
   },
   "file_extension": ".py",
   "mimetype": "text/x-python",
   "name": "python",
   "nbconvert_exporter": "python",
   "pygments_lexer": "ipython3",
   "version": "3.6.9"
  },
  "nteract": {
   "version": "nteract-front-end@1.0.0"
  }
 },
 "nbformat": 4,
 "nbformat_minor": 2
}
