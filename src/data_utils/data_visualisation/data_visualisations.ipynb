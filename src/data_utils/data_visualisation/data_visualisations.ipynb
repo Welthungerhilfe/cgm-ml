{
  "cells": [
    {
      "cell_type": "code",
      "source": [
        "!pip install portalocker==1.0\n"
      ],
      "outputs": [],
      "execution_count": null,
      "metadata": {
        "nteract": {
          "transient": {
            "deleting": false
          }
        }
      }
    },
    {
      "cell_type": "code",
      "source": [
        "!python -m pip install open3d==0.9\n"
      ],
      "outputs": [],
      "execution_count": null,
      "metadata": {
        "nteract": {
          "transient": {
            "deleting": false
          }
        }
      }
    },
    {
      "cell_type": "code",
      "source": [
        "import json\n",
        "from glob import glob\n",
        "import math\n",
        "import os\n",
        "\n",
        "import matplotlib.pyplot as plt\n",
        "%matplotlib inline\n",
        "import matplotlib.pyplot as plt\n",
        "from PIL import Image\n",
        "import numpy as np\n",
        "import azureml.core\n",
        "from azureml.core import Workspace\n",
        "from azureml.core.dataset import Dataset\n",
        "\n",
        "# check core SDK version number\n",
        "print(\"Azure ML SDK Version: \", azureml.core.VERSION)"
      ],
      "outputs": [],
      "execution_count": null,
      "metadata": {
        "gather": {
          "logged": 1600151734948
        }
      }
    },
    {
      "cell_type": "markdown",
      "source": [
        "### Get access to workspace and use one of databases for visualisation. Using 'anon-pcd-7k' here as an example."
      ],
      "metadata": {}
    },
    {
      "cell_type": "code",
      "source": [
        "ws = Workspace.from_config()\n",
        "ws\n",
        "dataset = Dataset.get_by_name(ws, name='anon-pcd-7k')\n",
        "type(dataset)"
      ],
      "outputs": [],
      "execution_count": null,
      "metadata": {
        "gather": {
          "logged": 1600151739893
        }
      }
    },
    {
      "cell_type": "markdown",
      "source": [
        "### Mount the data to your local compute machine"
      ],
      "metadata": {}
    },
    {
      "cell_type": "code",
      "source": [
        "# This takes up to a minute\n",
        "\n",
        "with dataset.mount() as mount_context:\n",
        "    # list top level mounted files and folders in the dataset\n",
        "    print(os.listdir(mount_context.mount_point))"
      ],
      "outputs": [],
      "execution_count": null,
      "metadata": {
        "gather": {
          "logged": 1600063364929
        }
      }
    },
    {
      "cell_type": "code",
      "source": [
        "print(mount_context.mount_point) #get the location of the mountpoint for your machine"
      ],
      "outputs": [],
      "execution_count": null,
      "metadata": {
        "gather": {
          "logged": 1600151751612
        }
      }
    },
    {
      "cell_type": "code",
      "source": [
        "mount_context = dataset.mount()\n",
        "mount_context.start()  # this will mount the file streams\n",
        "print(mount_context.mount_point)\n"
      ],
      "outputs": [],
      "execution_count": null,
      "metadata": {
        "gather": {
          "logged": 1600151766911
        }
      }
    },
    {
      "cell_type": "markdown",
      "source": [
        "### get all the rgb images for one of the folder"
      ],
      "metadata": {}
    },
    {
      "cell_type": "code",
      "source": [
        "mount_point = mount_context.mount_point + '/qrcode'"
      ],
      "outputs": [],
      "execution_count": null,
      "metadata": {
        "gather": {
          "logged": 1600151772217
        },
        "scrolled": true
      }
    },
    {
      "cell_type": "code",
      "source": [
        "current_folder = '1583438052-nxew87bcv0'\n",
        "working_dir = mount_point + '/' + current_folder + '/measure/1566562694355/'  # Replace last number with something existing\n",
        "images_dir = working_dir + 'rgb/'\n",
        "rgb_files = glob(images_dir + '*.jpg')\n",
        "len(rgb_files)\n",
        "# TODO refactor"
      ],
      "outputs": [],
      "execution_count": null,
      "metadata": {
        "gather": {
          "logged": 1600151814353
        }
      }
    },
    {
      "cell_type": "code",
      "source": [
        "# print(mount_point)\n",
        "# ! ls {mount_point}\n",
        "# ! ls \"{mount_point}/1583438052-nxew87bcv0/measure/1566562694355/rgb\""
      ],
      "outputs": [],
      "execution_count": null,
      "metadata": {
        "gather": {
          "logged": 1600151815357
        }
      }
    },
    {
      "cell_type": "code",
      "source": [
        "top_files = rgb_files[0:15]"
      ],
      "outputs": [],
      "execution_count": null,
      "metadata": {
        "gather": {
          "logged": 1600152283546
        }
      }
    },
    {
      "cell_type": "code",
      "source": [
        "# plotting the one of the image from the list \n",
        "im = Image.open(rgb_files[0])\n",
        "plt.imshow(im);"
      ],
      "outputs": [],
      "execution_count": null,
      "metadata": {
        "gather": {
          "logged": 1600152289345
        }
      }
    },
    {
      "cell_type": "markdown",
      "source": [
        "### Plot all the images of folder containing the frames of a video and save them in a grid images"
      ],
      "metadata": {}
    },
    {
      "cell_type": "code",
      "source": [
        "# Config:\n",
        "result_grid_filename = 'grid.jpg'\n",
        "result_figsize_resolution = 80 # 1 = 100px\n",
        "\n",
        "# images_list = os.listdir(images_dir)\n",
        "images_count = len(top_files)\n",
        "# print('Images: ', images_list)\n",
        "print('Images count: ', images_count)\n",
        "\n",
        "# Calculate the grid size:\n",
        "grid_size = math.ceil(math.sqrt(images_count))"
      ],
      "outputs": [],
      "execution_count": null,
      "metadata": {
        "gather": {
          "logged": 1600152312203
        }
      }
    },
    {
      "cell_type": "code",
      "source": [
        "# Create plt plot:\n",
        "fig, axes = plt.subplots(grid_size, grid_size, figsize=(result_figsize_resolution, result_figsize_resolution))\n",
        "\n",
        "current_file_number = 0\n",
        "for image_filename in top_files:\n",
        "    print(image_filename)\n",
        "    x_position = current_file_number % grid_size\n",
        "    y_position = current_file_number // grid_size\n",
        "#     plt_image = plt.imread(images_dir +images_list[current_file_number])\n",
        "    plt_image = plt.imread(image_filename)\n",
        "    axes[x_position, y_position].imshow(plt_image)\n",
        "#     print((current_file_number + 1), '/', images_count, ': ', image_filename)\n",
        "\n",
        "    current_file_number += 1\n",
        "\n",
        "plt.subplots_adjust(left=0.0, right=1.0, bottom=0.0, top=1.0)\n",
        "plt.savefig(result_grid_filename)"
      ],
      "outputs": [],
      "execution_count": null,
      "metadata": {
        "gather": {
          "logged": 1600152410299
        }
      }
    },
    {
      "cell_type": "code",
      "source": [
        "grid = Image.open('grid.jpg')\n",
        "plt.imshow(grid)"
      ],
      "outputs": [],
      "execution_count": null,
      "metadata": {
        "gather": {
          "logged": 1600152452833
        }
      }
    },
    {
      "cell_type": "markdown",
      "source": [
        "### Get the label for the corresponding video capture"
      ],
      "metadata": {}
    },
    {
      "cell_type": "code",
      "source": [
        "json_file = mount_point+'/'+current_folder+'/targets.json'\n",
        "with open(json_file) as f:\n",
        "    data = json.load(f)\n",
        "print(data)"
      ],
      "outputs": [],
      "execution_count": null,
      "metadata": {
        "gather": {
          "logged": 1600088458134
        }
      }
    },
    {
      "cell_type": "markdown",
      "source": [
        "### Get the point cloud file for the video capture"
      ],
      "metadata": {}
    },
    {
      "cell_type": "code",
      "source": [
        "pointcloud_files = working_dir + 'pc/'\n",
        "pcd_files = glob(pointcloud_files + '*.pcd')\n",
        "pcd_files, len(pcd_files)"
      ],
      "outputs": [],
      "execution_count": null,
      "metadata": {
        "gather": {
          "logged": 1600088469885
        }
      }
    },
    {
      "cell_type": "code",
      "source": [
        "## visualise the one of the point cloud files\n",
        "import open3d as o3\n",
        "from open3d import JVisualizer\n",
        "\n",
        "fragment = o3.io.read_point_cloud(pcd_files[0])\n",
        "visualizer = JVisualizer()\n",
        "visualizer.add_geometry(fragment)\n",
        "visualizer.show()"
      ],
      "outputs": [],
      "execution_count": null,
      "metadata": {
        "gather": {
          "logged": 1600165424758
        }
      }
    },
    {
      "cell_type": "code",
      "source": [],
      "outputs": [],
      "execution_count": null,
      "metadata": {}
    }
  ],
  "metadata": {
    "kernel_info": {
      "name": "python3-azureml"
    },
    "kernelspec": {
      "display_name": "Python 3",
      "language": "python",
      "name": "python3"
    },
    "language_info": {
      "name": "python",
      "version": "3.6.9",
      "mimetype": "text/x-python",
      "codemirror_mode": {
        "name": "ipython",
        "version": 3
      },
      "pygments_lexer": "ipython3",
      "nbconvert_exporter": "python",
      "file_extension": ".py"
    },
    "nteract": {
      "version": "nteract-front-end@1.0.0"
    },
    "microsoft": {
      "host": {
        "AzureML": {
          "notebookHasBeenCompleted": true
        }
      }
    }
  },
  "nbformat": 4,
  "nbformat_minor": 4
}