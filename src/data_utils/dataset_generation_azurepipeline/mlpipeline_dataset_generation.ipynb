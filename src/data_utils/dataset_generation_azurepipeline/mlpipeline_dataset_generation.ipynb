{
 "cells": [
  {
   "cell_type": "code",
   "execution_count": null,
   "metadata": {},
   "outputs": [],
   "source": [
    "%reload_ext autoreload\n",
    "%autoreload 2\n",
    "\n",
    "from datetime import datetime, timezone\n",
    "import os\n",
    "import shutil\n",
    "from pathlib import Path\n",
    "\n",
    "import glob2 as glob\n",
    "from azureml.core import Dataset, Experiment, Environment, Run, ScriptRunConfig, Workspace\n",
    "from azureml.core.compute import ComputeTarget, AmlCompute\n",
    "from azureml.core.compute_target import ComputeTargetException\n",
    "from azureml.core.runconfig import MpiConfiguration, RunConfiguration\n",
    "from azureml.core import Datastore\n",
    "from azureml.core.conda_dependencies import CondaDependencies\n",
    "from azureml.data import OutputFileDatasetConfig\n",
    "from azureml.pipeline.steps import PythonScriptStep\n",
    "from azureml.pipeline.core import Pipeline"
   ]
  },
  {
   "cell_type": "code",
   "execution_count": null,
   "metadata": {},
   "outputs": [],
   "source": [
    "REPO_DIR = Path.cwd().parents[2]"
   ]
  },
  {
   "cell_type": "code",
   "execution_count": null,
   "metadata": {},
   "outputs": [],
   "source": [
    "workspace = Workspace.from_config('./config.py'); workspace"
   ]
  },
  {
   "cell_type": "code",
   "execution_count": null,
   "metadata": {},
   "outputs": [],
   "source": [
    "cgm_result_datastore = Datastore(workspace, 'cgm_result_datastore')\n",
    "cgm_datasets_datastore = Datastore(workspace, 'cgm_datasets_datastore')"
   ]
  },
  {
   "cell_type": "code",
   "execution_count": null,
   "metadata": {},
   "outputs": [],
   "source": [
    "sql_dataset_name = \"sql-dataset\"\n",
    "sql_dataset = workspace.datasets[sql_dataset_name]"
   ]
  },
  {
   "cell_type": "code",
   "execution_count": null,
   "metadata": {},
   "outputs": [],
   "source": [
    "blob_dataset_name = 'cgm-result-dataset'\n",
    "blob_dataset = workspace.datasets[blob_dataset_name]"
   ]
  },
  {
   "cell_type": "code",
   "execution_count": null,
   "metadata": {},
   "outputs": [],
   "source": [
    "cluster_name = 'pipeline-cpu'  # 'mhinsche-cpu'# \"gpu-cluster\"\n",
    "compute_target = ComputeTarget(workspace=workspace, name=cluster_name);compute_target"
   ]
  },
  {
   "cell_type": "code",
   "execution_count": null,
   "metadata": {},
   "outputs": [],
   "source": [
    "aml_run_config = RunConfiguration()\n",
    "aml_run_config.target = compute_target\n",
    "curated_environment = Environment.get(workspace=workspace, name=\"AzureML-Tutorial\")\n",
    "aml_run_config.environment = curated_environment"
   ]
  },
  {
   "cell_type": "code",
   "execution_count": null,
   "metadata": {},
   "outputs": [],
   "source": [
    "curated_env_name = \"cgm-env\"\n",
    "\n",
    "ENV_EXISTS = True\n",
    "if ENV_EXISTS:\n",
    "    cgm_env = Environment.get(workspace=workspace, name=curated_env_name)\n",
    "else:\n",
    "    cgm_env = Environment.from_conda_specification(name=curated_env_name, file_path=REPO_DIR / \"environment_train.yml\")\n",
    "    cgm_env.docker.enabled = True\n",
    "    cgm_env.docker.base_image = 'mcr.microsoft.com/azureml/openmpi3.1.2-cuda10.1-cudnn7-ubuntu18.04'\n",
    "    # cgm_env.register(workspace)  # Please be careful not to overwrite existing environments"
   ]
  },
  {
   "cell_type": "code",
   "execution_count": null,
   "metadata": {},
   "outputs": [],
   "source": [
    "aml_run_config.environment = cgm_env"
   ]
  },
  {
   "cell_type": "code",
   "execution_count": null,
   "metadata": {},
   "outputs": [],
   "source": [
    "dataprep_source_dir = \"./dataprep_src\"\n",
    "entry_point = \"prepare.py\"\n",
    "\n",
    "sql_ds_input = sql_dataset.as_named_input('input1')\n",
    "blob_ds_input = blob_dataset.as_named_input('input2')\n",
    "\n",
    "dataset_out_dir = datetime.now(timezone.utc).strftime(\"dataset-%Y-%m-%d-%H-%M-%S\")\n",
    "output_data1 = OutputFileDatasetConfig(destination = (cgm_datasets_datastore, dataset_out_dir))\n",
    "output_data_dataset = output_data1.register_on_complete(name = 'prepared_output_data')\n",
    "\n",
    "data_prep_step = PythonScriptStep(\n",
    "    script_name=entry_point,\n",
    "    source_directory=dataprep_source_dir,\n",
    "    arguments=[\"--input\", sql_ds_input,\n",
    "               \"--input\", blob_ds_input.as_mount(), \n",
    "               \"--output\", output_data1],\n",
    "    compute_target=compute_target,\n",
    "    runconfig=aml_run_config,\n",
    "    allow_reuse=True\n",
    ")"
   ]
  },
  {
   "cell_type": "code",
   "execution_count": null,
   "metadata": {},
   "outputs": [],
   "source": [
    "create_dataset = [data_prep_step]\n",
    "pipeline1 = Pipeline(workspace=workspace, steps=[create_dataset])"
   ]
  },
  {
   "cell_type": "code",
   "execution_count": null,
   "metadata": {},
   "outputs": [],
   "source": [
    "# Submit the pipeline to be run\n",
    "pipeline_run1 = Experiment(workspace, 'Compare_Models_Exp').submit(pipeline1)\n",
    "pipeline_run1.wait_for_completion()"
   ]
  },
  {
   "cell_type": "code",
   "execution_count": null,
   "metadata": {},
   "outputs": [],
   "source": []
  }
 ],
 "metadata": {
  "kernelspec": {
   "display_name": "Python 3.7.5 64-bit ('env_p_3': virtualenv)",
   "language": "python",
   "name": "python37564bitenvp3virtualenvba1e5b23cb4b48a69a71f222fe56e324"
  },
  "language_info": {
   "codemirror_mode": {
    "name": "ipython",
    "version": 3
   },
   "file_extension": ".py",
   "mimetype": "text/x-python",
   "name": "python",
   "nbconvert_exporter": "python",
   "pygments_lexer": "ipython3",
   "version": "3.7.5"
  }
 },
 "nbformat": 4,
 "nbformat_minor": 4
}
