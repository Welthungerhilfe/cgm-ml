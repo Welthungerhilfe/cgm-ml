{
 "cells": [
  {
   "cell_type": "code",
   "execution_count": 1,
   "metadata": {},
   "outputs": [],
   "source": [
    "from azureml.core import Workspace\n",
    "from azureml.core.dataset import Dataset\n",
    "import pandas as pd\n",
    "import math\n",
    "import numpy as np"
   ]
  },
  {
   "cell_type": "code",
   "execution_count": 2,
   "metadata": {},
   "outputs": [
    {
     "name": "stdout",
     "output_type": "stream",
     "text": [
      "Total no. of artifacts: 106326\n"
     ]
    },
    {
     "name": "stderr",
     "output_type": "stream",
     "text": [
      "/anaconda/envs/azureml_py36/lib/python3.6/site-packages/IPython/core/interactiveshell.py:3072: DtypeWarning: Columns (6) have mixed types. Specify dtype option on import or set low_memory=False.\n",
      "  interactivity=interactivity, compiler=compiler, result=result)\n"
     ]
    },
    {
     "data": {
      "text/html": [
       "<div>\n",
       "<style scoped>\n",
       "    .dataframe tbody tr th:only-of-type {\n",
       "        vertical-align: middle;\n",
       "    }\n",
       "\n",
       "    .dataframe tbody tr th {\n",
       "        vertical-align: top;\n",
       "    }\n",
       "\n",
       "    .dataframe thead th {\n",
       "        text-align: right;\n",
       "    }\n",
       "</style>\n",
       "<table border=\"1\" class=\"dataframe\">\n",
       "  <thead>\n",
       "    <tr style=\"text-align: right;\">\n",
       "      <th></th>\n",
       "      <th>qrcode</th>\n",
       "      <th>id</th>\n",
       "      <th>storage_path</th>\n",
       "      <th>height</th>\n",
       "      <th>weight</th>\n",
       "      <th>muac</th>\n",
       "      <th>scan_group</th>\n",
       "      <th>key</th>\n",
       "      <th>tag</th>\n",
       "      <th>age</th>\n",
       "      <th>sex</th>\n",
       "    </tr>\n",
       "  </thead>\n",
       "  <tbody>\n",
       "    <tr>\n",
       "      <th>0</th>\n",
       "      <td>1585012883-9c7qb46z18</td>\n",
       "      <td>Z0iXfLI26pdmChvR_artifact-scan-pcd_15717024000...</td>\n",
       "      <td>qrcode/1585012883-9c7qb46z18/measure/159184878...</td>\n",
       "      <td>79.0</td>\n",
       "      <td>8.55</td>\n",
       "      <td>12.7</td>\n",
       "      <td>test</td>\n",
       "      <td>100</td>\n",
       "      <td>good</td>\n",
       "      <td>808</td>\n",
       "      <td>female</td>\n",
       "    </tr>\n",
       "    <tr>\n",
       "      <th>1</th>\n",
       "      <td>1585012883-9c7qb46z18</td>\n",
       "      <td>Z0iXfLI26pdmChvR_artifact-scan-pcd_15717024000...</td>\n",
       "      <td>qrcode/1585012883-9c7qb46z18/measure/159184878...</td>\n",
       "      <td>79.0</td>\n",
       "      <td>8.55</td>\n",
       "      <td>12.7</td>\n",
       "      <td>test</td>\n",
       "      <td>101</td>\n",
       "      <td>good</td>\n",
       "      <td>808</td>\n",
       "      <td>female</td>\n",
       "    </tr>\n",
       "    <tr>\n",
       "      <th>2</th>\n",
       "      <td>1585012883-9c7qb46z18</td>\n",
       "      <td>Z0iXfLI26pdmChvR_artifact-scan-pcd_15717024000...</td>\n",
       "      <td>qrcode/1585012883-9c7qb46z18/measure/159184878...</td>\n",
       "      <td>79.0</td>\n",
       "      <td>8.55</td>\n",
       "      <td>12.7</td>\n",
       "      <td>test</td>\n",
       "      <td>102</td>\n",
       "      <td>good</td>\n",
       "      <td>808</td>\n",
       "      <td>female</td>\n",
       "    </tr>\n",
       "    <tr>\n",
       "      <th>3</th>\n",
       "      <td>1585012883-9c7qb46z18</td>\n",
       "      <td>Z0iXfLI26pdmChvR_artifact-scan-pcd_15717024000...</td>\n",
       "      <td>qrcode/1585012883-9c7qb46z18/measure/159184878...</td>\n",
       "      <td>79.0</td>\n",
       "      <td>8.55</td>\n",
       "      <td>12.7</td>\n",
       "      <td>test</td>\n",
       "      <td>100</td>\n",
       "      <td>good</td>\n",
       "      <td>808</td>\n",
       "      <td>female</td>\n",
       "    </tr>\n",
       "    <tr>\n",
       "      <th>4</th>\n",
       "      <td>1585012883-9c7qb46z18</td>\n",
       "      <td>Z0iXfLI26pdmChvR_artifact-scan-pcd_15717024000...</td>\n",
       "      <td>qrcode/1585012883-9c7qb46z18/measure/159184878...</td>\n",
       "      <td>79.0</td>\n",
       "      <td>8.55</td>\n",
       "      <td>12.7</td>\n",
       "      <td>test</td>\n",
       "      <td>101</td>\n",
       "      <td>good</td>\n",
       "      <td>808</td>\n",
       "      <td>female</td>\n",
       "    </tr>\n",
       "  </tbody>\n",
       "</table>\n",
       "</div>"
      ],
      "text/plain": [
       "                  qrcode                                                 id  \\\n",
       "0  1585012883-9c7qb46z18  Z0iXfLI26pdmChvR_artifact-scan-pcd_15717024000...   \n",
       "1  1585012883-9c7qb46z18  Z0iXfLI26pdmChvR_artifact-scan-pcd_15717024000...   \n",
       "2  1585012883-9c7qb46z18  Z0iXfLI26pdmChvR_artifact-scan-pcd_15717024000...   \n",
       "3  1585012883-9c7qb46z18  Z0iXfLI26pdmChvR_artifact-scan-pcd_15717024000...   \n",
       "4  1585012883-9c7qb46z18  Z0iXfLI26pdmChvR_artifact-scan-pcd_15717024000...   \n",
       "\n",
       "                                        storage_path  height  weight  muac  \\\n",
       "0  qrcode/1585012883-9c7qb46z18/measure/159184878...    79.0    8.55  12.7   \n",
       "1  qrcode/1585012883-9c7qb46z18/measure/159184878...    79.0    8.55  12.7   \n",
       "2  qrcode/1585012883-9c7qb46z18/measure/159184878...    79.0    8.55  12.7   \n",
       "3  qrcode/1585012883-9c7qb46z18/measure/159184878...    79.0    8.55  12.7   \n",
       "4  qrcode/1585012883-9c7qb46z18/measure/159184878...    79.0    8.55  12.7   \n",
       "\n",
       "  scan_group  key   tag  age     sex  \n",
       "0       test  100  good  808  female  \n",
       "1       test  101  good  808  female  \n",
       "2       test  102  good  808  female  \n",
       "3       test  100  good  808  female  \n",
       "4       test  101  good  808  female  "
      ]
     },
     "execution_count": 2,
     "metadata": {},
     "output_type": "execute_result"
    }
   ],
   "source": [
    "artifacts = pd.read_csv('evaluation.csv')\n",
    "print(\"Total no. of artifacts:\", len(artifacts))\n",
    "artifacts.head()"
   ]
  },
  {
   "cell_type": "code",
   "execution_count": 12,
   "metadata": {},
   "outputs": [
    {
     "data": {
      "text/html": [
       "<div>\n",
       "<style scoped>\n",
       "    .dataframe tbody tr th:only-of-type {\n",
       "        vertical-align: middle;\n",
       "    }\n",
       "\n",
       "    .dataframe tbody tr th {\n",
       "        vertical-align: top;\n",
       "    }\n",
       "\n",
       "    .dataframe thead th {\n",
       "        text-align: right;\n",
       "    }\n",
       "</style>\n",
       "<table border=\"1\" class=\"dataframe\">\n",
       "  <thead>\n",
       "    <tr style=\"text-align: right;\">\n",
       "      <th></th>\n",
       "      <th>height</th>\n",
       "      <th>weight</th>\n",
       "      <th>muac</th>\n",
       "      <th>key</th>\n",
       "      <th>age</th>\n",
       "      <th>Years</th>\n",
       "    </tr>\n",
       "  </thead>\n",
       "  <tbody>\n",
       "    <tr>\n",
       "      <th>count</th>\n",
       "      <td>106326.000000</td>\n",
       "      <td>106326.000000</td>\n",
       "      <td>106326.000000</td>\n",
       "      <td>106326.000000</td>\n",
       "      <td>106326.000000</td>\n",
       "      <td>106326.000000</td>\n",
       "    </tr>\n",
       "    <tr>\n",
       "      <th>mean</th>\n",
       "      <td>88.606433</td>\n",
       "      <td>11.491345</td>\n",
       "      <td>14.092647</td>\n",
       "      <td>107.434569</td>\n",
       "      <td>1204.457743</td>\n",
       "      <td>3.293305</td>\n",
       "    </tr>\n",
       "    <tr>\n",
       "      <th>std</th>\n",
       "      <td>10.254950</td>\n",
       "      <td>2.357475</td>\n",
       "      <td>1.057554</td>\n",
       "      <td>24.552888</td>\n",
       "      <td>428.141734</td>\n",
       "      <td>1.226324</td>\n",
       "    </tr>\n",
       "    <tr>\n",
       "      <th>min</th>\n",
       "      <td>10.500000</td>\n",
       "      <td>4.400000</td>\n",
       "      <td>10.000000</td>\n",
       "      <td>100.000000</td>\n",
       "      <td>0.000000</td>\n",
       "      <td>0.000000</td>\n",
       "    </tr>\n",
       "    <tr>\n",
       "      <th>25%</th>\n",
       "      <td>81.900000</td>\n",
       "      <td>9.750000</td>\n",
       "      <td>13.400000</td>\n",
       "      <td>101.000000</td>\n",
       "      <td>894.000000</td>\n",
       "      <td>2.000000</td>\n",
       "    </tr>\n",
       "    <tr>\n",
       "      <th>50%</th>\n",
       "      <td>89.600000</td>\n",
       "      <td>11.550000</td>\n",
       "      <td>14.100000</td>\n",
       "      <td>101.000000</td>\n",
       "      <td>1240.000000</td>\n",
       "      <td>3.000000</td>\n",
       "    </tr>\n",
       "    <tr>\n",
       "      <th>75%</th>\n",
       "      <td>95.800000</td>\n",
       "      <td>13.150000</td>\n",
       "      <td>14.800000</td>\n",
       "      <td>102.000000</td>\n",
       "      <td>1547.000000</td>\n",
       "      <td>4.000000</td>\n",
       "    </tr>\n",
       "    <tr>\n",
       "      <th>max</th>\n",
       "      <td>192.200000</td>\n",
       "      <td>19.950000</td>\n",
       "      <td>17.700000</td>\n",
       "      <td>202.000000</td>\n",
       "      <td>2121.000000</td>\n",
       "      <td>6.000000</td>\n",
       "    </tr>\n",
       "  </tbody>\n",
       "</table>\n",
       "</div>"
      ],
      "text/plain": [
       "              height         weight           muac            key  \\\n",
       "count  106326.000000  106326.000000  106326.000000  106326.000000   \n",
       "mean       88.606433      11.491345      14.092647     107.434569   \n",
       "std        10.254950       2.357475       1.057554      24.552888   \n",
       "min        10.500000       4.400000      10.000000     100.000000   \n",
       "25%        81.900000       9.750000      13.400000     101.000000   \n",
       "50%        89.600000      11.550000      14.100000     101.000000   \n",
       "75%        95.800000      13.150000      14.800000     102.000000   \n",
       "max       192.200000      19.950000      17.700000     202.000000   \n",
       "\n",
       "                 age          Years  \n",
       "count  106326.000000  106326.000000  \n",
       "mean     1204.457743       3.293305  \n",
       "std       428.141734       1.226324  \n",
       "min         0.000000       0.000000  \n",
       "25%       894.000000       2.000000  \n",
       "50%      1240.000000       3.000000  \n",
       "75%      1547.000000       4.000000  \n",
       "max      2121.000000       6.000000  "
      ]
     },
     "execution_count": 12,
     "metadata": {},
     "output_type": "execute_result"
    }
   ],
   "source": [
    "artifacts.describe()"
   ]
  },
  {
   "cell_type": "code",
   "execution_count": 3,
   "metadata": {},
   "outputs": [],
   "source": [
    "## function to convert the days into age\n",
    "def age(row):\n",
    "    in_years= row['age']/365\n",
    "    return round(in_years)"
   ]
  },
  {
   "cell_type": "code",
   "execution_count": 4,
   "metadata": {},
   "outputs": [
    {
     "data": {
      "text/html": [
       "<div>\n",
       "<style scoped>\n",
       "    .dataframe tbody tr th:only-of-type {\n",
       "        vertical-align: middle;\n",
       "    }\n",
       "\n",
       "    .dataframe tbody tr th {\n",
       "        vertical-align: top;\n",
       "    }\n",
       "\n",
       "    .dataframe thead th {\n",
       "        text-align: right;\n",
       "    }\n",
       "</style>\n",
       "<table border=\"1\" class=\"dataframe\">\n",
       "  <thead>\n",
       "    <tr style=\"text-align: right;\">\n",
       "      <th></th>\n",
       "      <th>qrcode</th>\n",
       "      <th>id</th>\n",
       "      <th>storage_path</th>\n",
       "      <th>height</th>\n",
       "      <th>weight</th>\n",
       "      <th>muac</th>\n",
       "      <th>scan_group</th>\n",
       "      <th>key</th>\n",
       "      <th>tag</th>\n",
       "      <th>age</th>\n",
       "      <th>sex</th>\n",
       "      <th>Years</th>\n",
       "    </tr>\n",
       "  </thead>\n",
       "  <tbody>\n",
       "    <tr>\n",
       "      <th>0</th>\n",
       "      <td>1585012883-9c7qb46z18</td>\n",
       "      <td>Z0iXfLI26pdmChvR_artifact-scan-pcd_15717024000...</td>\n",
       "      <td>qrcode/1585012883-9c7qb46z18/measure/159184878...</td>\n",
       "      <td>79.0</td>\n",
       "      <td>8.55</td>\n",
       "      <td>12.7</td>\n",
       "      <td>test</td>\n",
       "      <td>100</td>\n",
       "      <td>good</td>\n",
       "      <td>808</td>\n",
       "      <td>female</td>\n",
       "      <td>2</td>\n",
       "    </tr>\n",
       "    <tr>\n",
       "      <th>1</th>\n",
       "      <td>1585012883-9c7qb46z18</td>\n",
       "      <td>Z0iXfLI26pdmChvR_artifact-scan-pcd_15717024000...</td>\n",
       "      <td>qrcode/1585012883-9c7qb46z18/measure/159184878...</td>\n",
       "      <td>79.0</td>\n",
       "      <td>8.55</td>\n",
       "      <td>12.7</td>\n",
       "      <td>test</td>\n",
       "      <td>101</td>\n",
       "      <td>good</td>\n",
       "      <td>808</td>\n",
       "      <td>female</td>\n",
       "      <td>2</td>\n",
       "    </tr>\n",
       "    <tr>\n",
       "      <th>2</th>\n",
       "      <td>1585012883-9c7qb46z18</td>\n",
       "      <td>Z0iXfLI26pdmChvR_artifact-scan-pcd_15717024000...</td>\n",
       "      <td>qrcode/1585012883-9c7qb46z18/measure/159184878...</td>\n",
       "      <td>79.0</td>\n",
       "      <td>8.55</td>\n",
       "      <td>12.7</td>\n",
       "      <td>test</td>\n",
       "      <td>102</td>\n",
       "      <td>good</td>\n",
       "      <td>808</td>\n",
       "      <td>female</td>\n",
       "      <td>2</td>\n",
       "    </tr>\n",
       "    <tr>\n",
       "      <th>3</th>\n",
       "      <td>1585012883-9c7qb46z18</td>\n",
       "      <td>Z0iXfLI26pdmChvR_artifact-scan-pcd_15717024000...</td>\n",
       "      <td>qrcode/1585012883-9c7qb46z18/measure/159184878...</td>\n",
       "      <td>79.0</td>\n",
       "      <td>8.55</td>\n",
       "      <td>12.7</td>\n",
       "      <td>test</td>\n",
       "      <td>100</td>\n",
       "      <td>good</td>\n",
       "      <td>808</td>\n",
       "      <td>female</td>\n",
       "      <td>2</td>\n",
       "    </tr>\n",
       "    <tr>\n",
       "      <th>4</th>\n",
       "      <td>1585012883-9c7qb46z18</td>\n",
       "      <td>Z0iXfLI26pdmChvR_artifact-scan-pcd_15717024000...</td>\n",
       "      <td>qrcode/1585012883-9c7qb46z18/measure/159184878...</td>\n",
       "      <td>79.0</td>\n",
       "      <td>8.55</td>\n",
       "      <td>12.7</td>\n",
       "      <td>test</td>\n",
       "      <td>101</td>\n",
       "      <td>good</td>\n",
       "      <td>808</td>\n",
       "      <td>female</td>\n",
       "      <td>2</td>\n",
       "    </tr>\n",
       "  </tbody>\n",
       "</table>\n",
       "</div>"
      ],
      "text/plain": [
       "                  qrcode                                                 id  \\\n",
       "0  1585012883-9c7qb46z18  Z0iXfLI26pdmChvR_artifact-scan-pcd_15717024000...   \n",
       "1  1585012883-9c7qb46z18  Z0iXfLI26pdmChvR_artifact-scan-pcd_15717024000...   \n",
       "2  1585012883-9c7qb46z18  Z0iXfLI26pdmChvR_artifact-scan-pcd_15717024000...   \n",
       "3  1585012883-9c7qb46z18  Z0iXfLI26pdmChvR_artifact-scan-pcd_15717024000...   \n",
       "4  1585012883-9c7qb46z18  Z0iXfLI26pdmChvR_artifact-scan-pcd_15717024000...   \n",
       "\n",
       "                                        storage_path  height  weight  muac  \\\n",
       "0  qrcode/1585012883-9c7qb46z18/measure/159184878...    79.0    8.55  12.7   \n",
       "1  qrcode/1585012883-9c7qb46z18/measure/159184878...    79.0    8.55  12.7   \n",
       "2  qrcode/1585012883-9c7qb46z18/measure/159184878...    79.0    8.55  12.7   \n",
       "3  qrcode/1585012883-9c7qb46z18/measure/159184878...    79.0    8.55  12.7   \n",
       "4  qrcode/1585012883-9c7qb46z18/measure/159184878...    79.0    8.55  12.7   \n",
       "\n",
       "  scan_group  key   tag  age     sex  Years  \n",
       "0       test  100  good  808  female      2  \n",
       "1       test  101  good  808  female      2  \n",
       "2       test  102  good  808  female      2  \n",
       "3       test  100  good  808  female      2  \n",
       "4       test  101  good  808  female      2  "
      ]
     },
     "execution_count": 4,
     "metadata": {},
     "output_type": "execute_result"
    }
   ],
   "source": [
    "#adding the Years column into dataframe\n",
    "artifacts['Years'] = artifacts.apply(age,axis=1)\n",
    "artifacts.head()"
   ]
  },
  {
   "cell_type": "code",
   "execution_count": 5,
   "metadata": {},
   "outputs": [
    {
     "name": "stdout",
     "output_type": "stream",
     "text": [
      "Total no. of children: 3000\n"
     ]
    }
   ],
   "source": [
    "scans = artifacts.drop_duplicates(subset='qrcode',keep ='first')\n",
    "print(\"Total no. of children:\", len(scans))"
   ]
  },
  {
   "cell_type": "code",
   "execution_count": 6,
   "metadata": {},
   "outputs": [
    {
     "name": "stdout",
     "output_type": "stream",
     "text": [
      "4    796\n",
      "3    756\n",
      "5    569\n",
      "2    549\n",
      "1    308\n",
      "0     17\n",
      "6      5\n",
      "Name: Years, dtype: int64\n"
     ]
    },
    {
     "data": {
      "image/png": "[encoded data removed]",
      "text/plain": [
       "<Figure size 432x288 with 1 Axes>"
      ]
     },
     "metadata": {
      "needs_background": "light"
     },
     "output_type": "display_data"
    }
   ],
   "source": [
    "age_ax = scans['Years'].value_counts().plot(kind='bar')\n",
    "age_ax.set_xlabel('age')\n",
    "age_ax.set_ylabel('no. of children')\n",
    "print(scans['Years'].value_counts())"
   ]
  },
  {
   "cell_type": "code",
   "execution_count": 7,
   "metadata": {},
   "outputs": [
    {
     "name": "stdout",
     "output_type": "stream",
     "text": [
      "101    50723\n",
      "100    24540\n",
      "102    24218\n",
      "201     2693\n",
      "200     2084\n",
      "202     2068\n",
      "Name: key, dtype: int64\n"
     ]
    },
    {
     "data": {
      "text/plain": [
       "<matplotlib.axes._subplots.AxesSubplot at 0x7f6470204a90>"
      ]
     },
     "execution_count": 7,
     "metadata": {},
     "output_type": "execute_result"
    },
    {
     "data": {
      "image/png": "[encoded data removed]",
      "text/plain": [
       "<Figure size 432x288 with 1 Axes>"
      ]
     },
     "metadata": {},
     "output_type": "display_data"
    }
   ],
   "source": [
    "## keys for different scan type and their distribution in dataset\n",
    "\"- 100 - standing front scan\",\n",
    "\"- 101 - standing 360 scan\",\n",
    "\"- 102 - standing back scan\",\n",
    "\"- 200 - lying front scan\",\n",
    "\"- 201 - lying side scan\",\n",
    "\"- 202 - lying back scan\"\n",
    "print(artifacts['key'].value_counts())\n",
    "artifacts['key'].value_counts().plot(kind='pie')"
   ]
  },
  {
   "cell_type": "code",
   "execution_count": 8,
   "metadata": {},
   "outputs": [
    {
     "data": {
      "image/png": "[encoded data removed]",
      "text/plain": [
       "<Figure size 432x288 with 1 Axes>"
      ]
     },
     "metadata": {
      "needs_background": "light"
     },
     "output_type": "display_data"
    }
   ],
   "source": [
    "#distribution of height against age\n",
    "heightvsage = scans.plot.scatter(x='height',\n",
    "                      y='age',\n",
    "                      c='red')"
   ]
  },
  {
   "cell_type": "code",
   "execution_count": 9,
   "metadata": {},
   "outputs": [
    {
     "data": {
      "image/png": "[encoded data removed]",
      "text/plain": [
       "<Figure size 432x288 with 1 Axes>"
      ]
     },
     "metadata": {
      "needs_background": "light"
     },
     "output_type": "display_data"
    }
   ],
   "source": [
    "#distribution of weight against age\n",
    "weightvsage = scans.plot.scatter(x='weight',\n",
    "                      y='age',\n",
    "                      c='red')"
   ]
  },
  {
   "cell_type": "code",
   "execution_count": 10,
   "metadata": {},
   "outputs": [
    {
     "data": {
      "image/png": "[encoded data removed]",
      "text/plain": [
       "<Figure size 432x288 with 1 Axes>"
      ]
     },
     "metadata": {
      "needs_background": "light"
     },
     "output_type": "display_data"
    }
   ],
   "source": [
    "## distribution of height against weight\n",
    "weightvsheight = scans.plot.scatter(x='height',\n",
    "                      y='weight',\n",
    "                      c='red')"
   ]
  },
  {
   "cell_type": "code",
   "execution_count": 15,
   "metadata": {},
   "outputs": [
    {
     "data": {
      "text/html": [
       "<div>\n",
       "<style scoped>\n",
       "    .dataframe tbody tr th:only-of-type {\n",
       "        vertical-align: middle;\n",
       "    }\n",
       "\n",
       "    .dataframe tbody tr th {\n",
       "        vertical-align: top;\n",
       "    }\n",
       "\n",
       "    .dataframe thead th {\n",
       "        text-align: right;\n",
       "    }\n",
       "</style>\n",
       "<table border=\"1\" class=\"dataframe\">\n",
       "  <thead>\n",
       "    <tr style=\"text-align: right;\">\n",
       "      <th></th>\n",
       "      <th></th>\n",
       "      <th>height</th>\n",
       "      <th>weight</th>\n",
       "      <th>muac</th>\n",
       "      <th>key</th>\n",
       "      <th>age</th>\n",
       "      <th>Years</th>\n",
       "    </tr>\n",
       "    <tr>\n",
       "      <th>qrcode</th>\n",
       "      <th>tag</th>\n",
       "      <th></th>\n",
       "      <th></th>\n",
       "      <th></th>\n",
       "      <th></th>\n",
       "      <th></th>\n",
       "      <th></th>\n",
       "    </tr>\n",
       "  </thead>\n",
       "  <tbody>\n",
       "    <tr>\n",
       "      <th rowspan=\"2\" valign=\"top\">1583462505-43bak4gvfa</th>\n",
       "      <th>bad</th>\n",
       "      <td>94.755285</td>\n",
       "      <td>13.243902</td>\n",
       "      <td>14.743902</td>\n",
       "      <td>100.837398</td>\n",
       "      <td>1310.0</td>\n",
       "      <td>4.0</td>\n",
       "    </tr>\n",
       "    <tr>\n",
       "      <th>good</th>\n",
       "      <td>95.459471</td>\n",
       "      <td>13.210132</td>\n",
       "      <td>14.501762</td>\n",
       "      <td>100.735683</td>\n",
       "      <td>1310.0</td>\n",
       "      <td>4.0</td>\n",
       "    </tr>\n",
       "    <tr>\n",
       "      <th>1583462533-hxipp8enl2</th>\n",
       "      <th>good</th>\n",
       "      <td>104.562722</td>\n",
       "      <td>13.686095</td>\n",
       "      <td>13.129586</td>\n",
       "      <td>100.964497</td>\n",
       "      <td>1510.0</td>\n",
       "      <td>4.0</td>\n",
       "    </tr>\n",
       "    <tr>\n",
       "      <th rowspan=\"2\" valign=\"top\">1583462828-2dmyjcwrkp</th>\n",
       "      <th>bad</th>\n",
       "      <td>94.265761</td>\n",
       "      <td>12.393478</td>\n",
       "      <td>15.100000</td>\n",
       "      <td>101.114130</td>\n",
       "      <td>1298.0</td>\n",
       "      <td>4.0</td>\n",
       "    </tr>\n",
       "    <tr>\n",
       "      <th>good</th>\n",
       "      <td>94.233766</td>\n",
       "      <td>11.951299</td>\n",
       "      <td>15.068831</td>\n",
       "      <td>100.818182</td>\n",
       "      <td>1298.0</td>\n",
       "      <td>4.0</td>\n",
       "    </tr>\n",
       "    <tr>\n",
       "      <th>...</th>\n",
       "      <th>...</th>\n",
       "      <td>...</td>\n",
       "      <td>...</td>\n",
       "      <td>...</td>\n",
       "      <td>...</td>\n",
       "      <td>...</td>\n",
       "      <td>...</td>\n",
       "    </tr>\n",
       "    <tr>\n",
       "      <th>1598381173-f80mmnxe33</th>\n",
       "      <th>good</th>\n",
       "      <td>70.700000</td>\n",
       "      <td>6.900000</td>\n",
       "      <td>12.500000</td>\n",
       "      <td>202.000000</td>\n",
       "      <td>508.0</td>\n",
       "      <td>1.0</td>\n",
       "    </tr>\n",
       "    <tr>\n",
       "      <th rowspan=\"2\" valign=\"top\">1598381979-a0r8k65mw4</th>\n",
       "      <th>bad</th>\n",
       "      <td>93.700000</td>\n",
       "      <td>11.800000</td>\n",
       "      <td>14.700000</td>\n",
       "      <td>101.291667</td>\n",
       "      <td>1232.0</td>\n",
       "      <td>3.0</td>\n",
       "    </tr>\n",
       "    <tr>\n",
       "      <th>good</th>\n",
       "      <td>93.700000</td>\n",
       "      <td>11.800000</td>\n",
       "      <td>14.700000</td>\n",
       "      <td>100.000000</td>\n",
       "      <td>1232.0</td>\n",
       "      <td>3.0</td>\n",
       "    </tr>\n",
       "    <tr>\n",
       "      <th rowspan=\"2\" valign=\"top\">1598382355-k5eyhov4bu</th>\n",
       "      <th>bad</th>\n",
       "      <td>92.000000</td>\n",
       "      <td>11.400000</td>\n",
       "      <td>14.300000</td>\n",
       "      <td>101.000000</td>\n",
       "      <td>1350.0</td>\n",
       "      <td>4.0</td>\n",
       "    </tr>\n",
       "    <tr>\n",
       "      <th>good</th>\n",
       "      <td>92.000000</td>\n",
       "      <td>11.400000</td>\n",
       "      <td>14.300000</td>\n",
       "      <td>100.923077</td>\n",
       "      <td>1350.0</td>\n",
       "      <td>4.0</td>\n",
       "    </tr>\n",
       "  </tbody>\n",
       "</table>\n",
       "<p>4579 rows × 6 columns</p>\n",
       "</div>"
      ],
      "text/plain": [
       "                                height     weight       muac         key  \\\n",
       "qrcode                tag                                                  \n",
       "1583462505-43bak4gvfa bad    94.755285  13.243902  14.743902  100.837398   \n",
       "                      good   95.459471  13.210132  14.501762  100.735683   \n",
       "1583462533-hxipp8enl2 good  104.562722  13.686095  13.129586  100.964497   \n",
       "1583462828-2dmyjcwrkp bad    94.265761  12.393478  15.100000  101.114130   \n",
       "                      good   94.233766  11.951299  15.068831  100.818182   \n",
       "...                                ...        ...        ...         ...   \n",
       "1598381173-f80mmnxe33 good   70.700000   6.900000  12.500000  202.000000   \n",
       "1598381979-a0r8k65mw4 bad    93.700000  11.800000  14.700000  101.291667   \n",
       "                      good   93.700000  11.800000  14.700000  100.000000   \n",
       "1598382355-k5eyhov4bu bad    92.000000  11.400000  14.300000  101.000000   \n",
       "                      good   92.000000  11.400000  14.300000  100.923077   \n",
       "\n",
       "                               age  Years  \n",
       "qrcode                tag                  \n",
       "1583462505-43bak4gvfa bad   1310.0    4.0  \n",
       "                      good  1310.0    4.0  \n",
       "1583462533-hxipp8enl2 good  1510.0    4.0  \n",
       "1583462828-2dmyjcwrkp bad   1298.0    4.0  \n",
       "                      good  1298.0    4.0  \n",
       "...                            ...    ...  \n",
       "1598381173-f80mmnxe33 good   508.0    1.0  \n",
       "1598381979-a0r8k65mw4 bad   1232.0    3.0  \n",
       "                      good  1232.0    3.0  \n",
       "1598382355-k5eyhov4bu bad   1350.0    4.0  \n",
       "                      good  1350.0    4.0  \n",
       "\n",
       "[4579 rows x 6 columns]"
      ]
     },
     "execution_count": 15,
     "metadata": {},
     "output_type": "execute_result"
    }
   ],
   "source": [
    "tag = artifacts.groupby(['qrcode','tag']).mean()\n",
    "tag"
   ]
  },
  {
   "cell_type": "code",
   "execution_count": 64,
   "metadata": {},
   "outputs": [
    {
     "data": {
      "text/html": [
       "<div>\n",
       "<style scoped>\n",
       "    .dataframe tbody tr th:only-of-type {\n",
       "        vertical-align: middle;\n",
       "    }\n",
       "\n",
       "    .dataframe tbody tr th {\n",
       "        vertical-align: top;\n",
       "    }\n",
       "\n",
       "    .dataframe thead th {\n",
       "        text-align: right;\n",
       "    }\n",
       "</style>\n",
       "<table border=\"1\" class=\"dataframe\">\n",
       "  <thead>\n",
       "    <tr style=\"text-align: right;\">\n",
       "      <th></th>\n",
       "      <th></th>\n",
       "      <th>height</th>\n",
       "      <th>weight</th>\n",
       "      <th>muac</th>\n",
       "      <th>key</th>\n",
       "      <th>age</th>\n",
       "      <th>Years</th>\n",
       "    </tr>\n",
       "    <tr>\n",
       "      <th>qrcode</th>\n",
       "      <th>tag</th>\n",
       "      <th></th>\n",
       "      <th></th>\n",
       "      <th></th>\n",
       "      <th></th>\n",
       "      <th></th>\n",
       "      <th></th>\n",
       "    </tr>\n",
       "  </thead>\n",
       "  <tbody>\n",
       "    <tr>\n",
       "      <th rowspan=\"2\" valign=\"top\">1583462505-43bak4gvfa</th>\n",
       "      <th>bad</th>\n",
       "      <td>94.755285</td>\n",
       "      <td>13.243902</td>\n",
       "      <td>14.743902</td>\n",
       "      <td>100.837398</td>\n",
       "      <td>1310.0</td>\n",
       "      <td>4.0</td>\n",
       "    </tr>\n",
       "    <tr>\n",
       "      <th>good</th>\n",
       "      <td>95.459471</td>\n",
       "      <td>13.210132</td>\n",
       "      <td>14.501762</td>\n",
       "      <td>100.735683</td>\n",
       "      <td>1310.0</td>\n",
       "      <td>4.0</td>\n",
       "    </tr>\n",
       "  </tbody>\n",
       "</table>\n",
       "</div>"
      ],
      "text/plain": [
       "                               height     weight       muac         key  \\\n",
       "qrcode                tag                                                 \n",
       "1583462505-43bak4gvfa bad   94.755285  13.243902  14.743902  100.837398   \n",
       "                      good  95.459471  13.210132  14.501762  100.735683   \n",
       "\n",
       "                               age  Years  \n",
       "qrcode                tag                  \n",
       "1583462505-43bak4gvfa bad   1310.0    4.0  \n",
       "                      good  1310.0    4.0  "
      ]
     },
     "execution_count": 64,
     "metadata": {},
     "output_type": "execute_result"
    }
   ],
   "source": [
    "tag.iloc[tag.index.get_level_values('qrcode') == '1583462505-43bak4gvfa']"
   ]
  },
  {
   "cell_type": "code",
   "execution_count": 55,
   "metadata": {},
   "outputs": [
    {
     "data": {
      "text/plain": [
       "'1583462505-43bak4gvfa'"
      ]
     },
     "execution_count": 55,
     "metadata": {},
     "output_type": "execute_result"
    }
   ],
   "source": [
    "tag.index[1][0]\n",
    "# a = pd.DataFrame(tag.index)\n",
    "# a"
   ]
  },
  {
   "cell_type": "code",
   "execution_count": 20,
   "metadata": {},
   "outputs": [
    {
     "data": {
      "text/html": [
       "<div>\n",
       "<style scoped>\n",
       "    .dataframe tbody tr th:only-of-type {\n",
       "        vertical-align: middle;\n",
       "    }\n",
       "\n",
       "    .dataframe tbody tr th {\n",
       "        vertical-align: top;\n",
       "    }\n",
       "\n",
       "    .dataframe thead th {\n",
       "        text-align: right;\n",
       "    }\n",
       "</style>\n",
       "<table border=\"1\" class=\"dataframe\">\n",
       "  <thead>\n",
       "    <tr style=\"text-align: right;\">\n",
       "      <th></th>\n",
       "      <th></th>\n",
       "      <th>height</th>\n",
       "      <th>weight</th>\n",
       "      <th>muac</th>\n",
       "      <th>key</th>\n",
       "      <th>age</th>\n",
       "      <th>Years</th>\n",
       "    </tr>\n",
       "    <tr>\n",
       "      <th>qrcode</th>\n",
       "      <th>tag</th>\n",
       "      <th></th>\n",
       "      <th></th>\n",
       "      <th></th>\n",
       "      <th></th>\n",
       "      <th></th>\n",
       "      <th></th>\n",
       "    </tr>\n",
       "  </thead>\n",
       "  <tbody>\n",
       "    <tr>\n",
       "      <th>1583831095-qwmm1mmr33</th>\n",
       "      <th>delete</th>\n",
       "      <td>73.6</td>\n",
       "      <td>8.05</td>\n",
       "      <td>14.1</td>\n",
       "      <td>100.000000</td>\n",
       "      <td>641.0</td>\n",
       "      <td>2.0</td>\n",
       "    </tr>\n",
       "    <tr>\n",
       "      <th>1583997996-dahj59a5bu</th>\n",
       "      <th>delete</th>\n",
       "      <td>91.7</td>\n",
       "      <td>12.00</td>\n",
       "      <td>14.9</td>\n",
       "      <td>101.000000</td>\n",
       "      <td>1276.0</td>\n",
       "      <td>3.0</td>\n",
       "    </tr>\n",
       "    <tr>\n",
       "      <th>1584249719-uoibvyjllm</th>\n",
       "      <th>delete</th>\n",
       "      <td>69.1</td>\n",
       "      <td>7.05</td>\n",
       "      <td>13.2</td>\n",
       "      <td>200.000000</td>\n",
       "      <td>370.0</td>\n",
       "      <td>1.0</td>\n",
       "    </tr>\n",
       "    <tr>\n",
       "      <th>1584994118-vi6zfw8kbe</th>\n",
       "      <th>delete</th>\n",
       "      <td>69.5</td>\n",
       "      <td>6.70</td>\n",
       "      <td>12.1</td>\n",
       "      <td>202.000000</td>\n",
       "      <td>319.0</td>\n",
       "      <td>1.0</td>\n",
       "    </tr>\n",
       "    <tr>\n",
       "      <th>1585000742-6m2xj8r3f3</th>\n",
       "      <th>delete</th>\n",
       "      <td>85.8</td>\n",
       "      <td>10.55</td>\n",
       "      <td>13.4</td>\n",
       "      <td>101.000000</td>\n",
       "      <td>931.0</td>\n",
       "      <td>3.0</td>\n",
       "    </tr>\n",
       "    <tr>\n",
       "      <th>...</th>\n",
       "      <th>...</th>\n",
       "      <td>...</td>\n",
       "      <td>...</td>\n",
       "      <td>...</td>\n",
       "      <td>...</td>\n",
       "      <td>...</td>\n",
       "      <td>...</td>\n",
       "    </tr>\n",
       "    <tr>\n",
       "      <th>1598220609-1jjshis20f</th>\n",
       "      <th>delete</th>\n",
       "      <td>84.0</td>\n",
       "      <td>10.50</td>\n",
       "      <td>13.1</td>\n",
       "      <td>101.000000</td>\n",
       "      <td>973.0</td>\n",
       "      <td>3.0</td>\n",
       "    </tr>\n",
       "    <tr>\n",
       "      <th>1598234741-izsh2i32fn</th>\n",
       "      <th>delete</th>\n",
       "      <td>83.2</td>\n",
       "      <td>8.85</td>\n",
       "      <td>12.1</td>\n",
       "      <td>101.000000</td>\n",
       "      <td>1608.0</td>\n",
       "      <td>4.0</td>\n",
       "    </tr>\n",
       "    <tr>\n",
       "      <th>1598241851-x52r32wwfj</th>\n",
       "      <th>delete</th>\n",
       "      <td>78.2</td>\n",
       "      <td>8.90</td>\n",
       "      <td>14.6</td>\n",
       "      <td>101.428571</td>\n",
       "      <td>603.0</td>\n",
       "      <td>2.0</td>\n",
       "    </tr>\n",
       "    <tr>\n",
       "      <th>1598242079-aaiyv619jw</th>\n",
       "      <th>delete</th>\n",
       "      <td>70.6</td>\n",
       "      <td>7.75</td>\n",
       "      <td>14.1</td>\n",
       "      <td>102.000000</td>\n",
       "      <td>436.0</td>\n",
       "      <td>1.0</td>\n",
       "    </tr>\n",
       "    <tr>\n",
       "      <th>1598284890-0ulh4v6icn</th>\n",
       "      <th>delete</th>\n",
       "      <td>71.0</td>\n",
       "      <td>8.95</td>\n",
       "      <td>12.9</td>\n",
       "      <td>102.000000</td>\n",
       "      <td>540.0</td>\n",
       "      <td>1.0</td>\n",
       "    </tr>\n",
       "  </tbody>\n",
       "</table>\n",
       "<p>62 rows × 6 columns</p>\n",
       "</div>"
      ],
      "text/plain": [
       "                              height  weight  muac         key     age  Years\n",
       "qrcode                tag                                                    \n",
       "1583831095-qwmm1mmr33 delete    73.6    8.05  14.1  100.000000   641.0    2.0\n",
       "1583997996-dahj59a5bu delete    91.7   12.00  14.9  101.000000  1276.0    3.0\n",
       "1584249719-uoibvyjllm delete    69.1    7.05  13.2  200.000000   370.0    1.0\n",
       "1584994118-vi6zfw8kbe delete    69.5    6.70  12.1  202.000000   319.0    1.0\n",
       "1585000742-6m2xj8r3f3 delete    85.8   10.55  13.4  101.000000   931.0    3.0\n",
       "...                              ...     ...   ...         ...     ...    ...\n",
       "1598220609-1jjshis20f delete    84.0   10.50  13.1  101.000000   973.0    3.0\n",
       "1598234741-izsh2i32fn delete    83.2    8.85  12.1  101.000000  1608.0    4.0\n",
       "1598241851-x52r32wwfj delete    78.2    8.90  14.6  101.428571   603.0    2.0\n",
       "1598242079-aaiyv619jw delete    70.6    7.75  14.1  102.000000   436.0    1.0\n",
       "1598284890-0ulh4v6icn delete    71.0    8.95  12.9  102.000000   540.0    1.0\n",
       "\n",
       "[62 rows x 6 columns]"
      ]
     },
     "execution_count": 20,
     "metadata": {},
     "output_type": "execute_result"
    }
   ],
   "source": [
    "delete = tag.iloc[tag.index.get_level_values('tag') == 'delete']\n",
    "delete"
   ]
  },
  {
   "cell_type": "code",
   "execution_count": 45,
   "metadata": {},
   "outputs": [
    {
     "data": {
      "text/plain": [
       "2765"
      ]
     },
     "execution_count": 45,
     "metadata": {},
     "output_type": "execute_result"
    }
   ],
   "source": [
    "good = tag.query(\"tag == 'good'\")\n",
    "good_qrc = good.index.get_level_values('qrcode')\n",
    "len(good_qrc)"
   ]
  },
  {
   "cell_type": "code",
   "execution_count": 39,
   "metadata": {},
   "outputs": [],
   "source": [
    "bad = tag.query(\"tag == 'bad'\")\n",
    "bad_qrc = bad.index.get_level_values('qrcode')"
   ]
  },
  {
   "cell_type": "code",
   "execution_count": 69,
   "metadata": {},
   "outputs": [],
   "source": [
    "total_good = list(set(list(good_qrc)) - set(list(bad_qrc)))\n",
    "total_bad = list(set(list(bad_qrc)) - set(list(good_qrc)))"
   ]
  },
  {
   "cell_type": "code",
   "execution_count": 70,
   "metadata": {},
   "outputs": [
    {
     "name": "stdout",
     "output_type": "stream",
     "text": [
      "Total good scans 1248\n",
      "Total bad scans 235\n"
     ]
    }
   ],
   "source": [
    "print(\"Total good scans\",len(total_good))\n",
    "print(\"Total bad scans\",len(total_bad))"
   ]
  },
  {
   "cell_type": "code",
   "execution_count": 67,
   "metadata": {},
   "outputs": [
    {
     "data": {
      "text/plain": [
       "'1585360156-pgioyzd9tm'"
      ]
     },
     "execution_count": 67,
     "metadata": {},
     "output_type": "execute_result"
    }
   ],
   "source": [
    "total_good[10]"
   ]
  },
  {
   "cell_type": "code",
   "execution_count": 68,
   "metadata": {},
   "outputs": [
    {
     "data": {
      "text/html": [
       "<div>\n",
       "<style scoped>\n",
       "    .dataframe tbody tr th:only-of-type {\n",
       "        vertical-align: middle;\n",
       "    }\n",
       "\n",
       "    .dataframe tbody tr th {\n",
       "        vertical-align: top;\n",
       "    }\n",
       "\n",
       "    .dataframe thead th {\n",
       "        text-align: right;\n",
       "    }\n",
       "</style>\n",
       "<table border=\"1\" class=\"dataframe\">\n",
       "  <thead>\n",
       "    <tr style=\"text-align: right;\">\n",
       "      <th></th>\n",
       "      <th></th>\n",
       "      <th>height</th>\n",
       "      <th>weight</th>\n",
       "      <th>muac</th>\n",
       "      <th>key</th>\n",
       "      <th>age</th>\n",
       "      <th>Years</th>\n",
       "    </tr>\n",
       "    <tr>\n",
       "      <th>qrcode</th>\n",
       "      <th>tag</th>\n",
       "      <th></th>\n",
       "      <th></th>\n",
       "      <th></th>\n",
       "      <th></th>\n",
       "      <th></th>\n",
       "      <th></th>\n",
       "    </tr>\n",
       "  </thead>\n",
       "  <tbody>\n",
       "    <tr>\n",
       "      <th>1585360156-pgioyzd9tm</th>\n",
       "      <th>good</th>\n",
       "      <td>94.5</td>\n",
       "      <td>12.45</td>\n",
       "      <td>13.9</td>\n",
       "      <td>101.0</td>\n",
       "      <td>1438.0</td>\n",
       "      <td>4.0</td>\n",
       "    </tr>\n",
       "  </tbody>\n",
       "</table>\n",
       "</div>"
      ],
      "text/plain": [
       "                            height  weight  muac    key     age  Years\n",
       "qrcode                tag                                             \n",
       "1585360156-pgioyzd9tm good    94.5   12.45  13.9  101.0  1438.0    4.0"
      ]
     },
     "execution_count": 68,
     "metadata": {},
     "output_type": "execute_result"
    }
   ],
   "source": [
    "search = tag.iloc[tag.index.get_level_values('qrcode') == '1585360156-pgioyzd9tm']\n",
    "search"
   ]
  },
  {
   "cell_type": "code",
   "execution_count": null,
   "metadata": {},
   "outputs": [],
   "source": [
    "le"
   ]
  },
  {
   "cell_type": "code",
   "execution_count": 36,
   "metadata": {},
   "outputs": [
    {
     "data": {
      "text/plain": [
       "Index(['1583831095-qwmm1mmr33', '1583997996-dahj59a5bu',\n",
       "       '1584249719-uoibvyjllm', '1584994118-vi6zfw8kbe',\n",
       "       '1585000742-6m2xj8r3f3', '1585011746-wp7p1irz40',\n",
       "       '1585013629-37es7x8nzp', '1585120745-ozcvruh4t0',\n",
       "       '1585120970-euobrj4j16', '1585219047-c3t9se4dm4',\n",
       "       '1585271291-ae722v2ths', '1585273355-7n4haa4dj2',\n",
       "       '1585273573-66adr9iet8', '1585275024-qjifs3otf9',\n",
       "       '1585275549-a84jbsepgp', '1585294277-cdb57jj0je',\n",
       "       '1585294445-nrw5kevrwq', '1585296590-v6uhkhwsqb',\n",
       "       '1585296715-anwxpch6nq', '1585296748-v4h6jw0jsr',\n",
       "       '1585296804-8tq5qj3px5', '1585297634-58ykln14hm',\n",
       "       '1585297649-gxiy0enrix', '1585297671-4557p5fehv',\n",
       "       '1585350507-fsz1v7d3yw', '1585351945-u33w9wes0e',\n",
       "       '1585352167-db85dtpshe', '1585353242-h6xc5810mp',\n",
       "       '1585360095-tglykqtxux', '1585361275-o5v6krug62',\n",
       "       '1585361447-kesr295isz', '1585362140-08kydim224',\n",
       "       '1585362299-q8daiz7wab', '1585362387-8ehx04r2f6',\n",
       "       '1585365696-hx01no82tc', '1585367119-0w5gowqml9',\n",
       "       '1597614360-n3zoto58m9', '1597663638-qp2vobj3uv',\n",
       "       '1597663988-nyhju2k1s0', '1597698286-02xazvus6n',\n",
       "       '1597731417-t5plyqupxq', '1597785147-ktrmpmxcqf',\n",
       "       '1597836087-vp138ze00t', '1597904814-4f1pmmzlw1',\n",
       "       '1597911837-oi0trbrdqp', '1597919370-mgwuujxoec',\n",
       "       '1597937863-6jwh8cyxve', '1597993142-g68asuqx3w',\n",
       "       '1598009267-ebn737cz6k', '1598009789-qbgi23dhfp',\n",
       "       '1598021013-rpw7n9mj6h', '1598035457-py3z4i4vkn',\n",
       "       '1598079550-hzdmi3o7ko', '1598090035-dko293kq5d',\n",
       "       '1598178343-tvt9e237oc', '1598193188-4vsf90fl8f',\n",
       "       '1598204992-fudzthn9il', '1598220609-1jjshis20f',\n",
       "       '1598234741-izsh2i32fn', '1598241851-x52r32wwfj',\n",
       "       '1598242079-aaiyv619jw', '1598284890-0ulh4v6icn'],\n",
       "      dtype='object', name='qrcode')"
      ]
     },
     "execution_count": 36,
     "metadata": {},
     "output_type": "execute_result"
    }
   ],
   "source": [
    "delete.index.get_level_values('qrcode')"
   ]
  },
  {
   "cell_type": "code",
   "execution_count": 37,
   "metadata": {},
   "outputs": [
    {
     "data": {
      "text/plain": [
       "62"
      ]
     },
     "execution_count": 37,
     "metadata": {},
     "output_type": "execute_result"
    }
   ],
   "source": [
    "len(delete)"
   ]
  },
  {
   "cell_type": "code",
   "execution_count": 29,
   "metadata": {},
   "outputs": [
    {
     "data": {
      "text/plain": [
       "'1583997996-dahj59a5bu'"
      ]
     },
     "execution_count": 29,
     "metadata": {},
     "output_type": "execute_result"
    }
   ],
   "source": [
    "delqrc[1][0]"
   ]
  },
  {
   "cell_type": "code",
   "execution_count": 21,
   "metadata": {},
   "outputs": [
    {
     "ename": "ValueError",
     "evalue": "invalid literal for int() with base 10: '1583831095-qwmm1mmr33'",
     "output_type": "error",
     "traceback": [
      "\u001b[0;31m---------------------------------------------------------------------------\u001b[0m",
      "\u001b[0;31mValueError\u001b[0m                                Traceback (most recent call last)",
      "\u001b[0;32m<ipython-input-21-3dddcde7d3c3>\u001b[0m in \u001b[0;36m<module>\u001b[0;34m\u001b[0m\n\u001b[0;32m----> 1\u001b[0;31m \u001b[0mdelete\u001b[0m\u001b[0;34m.\u001b[0m\u001b[0miloc\u001b[0m\u001b[0;34m[\u001b[0m\u001b[0mdelete\u001b[0m\u001b[0;34m.\u001b[0m\u001b[0mindex\u001b[0m\u001b[0;34m.\u001b[0m\u001b[0mget_level_values\u001b[0m\u001b[0;34m(\u001b[0m\u001b[0;34m'qrcode'\u001b[0m\u001b[0;34m)\u001b[0m\u001b[0;34m]\u001b[0m\u001b[0;34m\u001b[0m\u001b[0;34m\u001b[0m\u001b[0m\n\u001b[0m",
      "\u001b[0;32m/anaconda/envs/azureml_py36/lib/python3.6/site-packages/pandas/core/indexing.py\u001b[0m in \u001b[0;36m__getitem__\u001b[0;34m(self, key)\u001b[0m\n\u001b[1;32m   1422\u001b[0m \u001b[0;34m\u001b[0m\u001b[0m\n\u001b[1;32m   1423\u001b[0m             \u001b[0mmaybe_callable\u001b[0m \u001b[0;34m=\u001b[0m \u001b[0mcom\u001b[0m\u001b[0;34m.\u001b[0m\u001b[0mapply_if_callable\u001b[0m\u001b[0;34m(\u001b[0m\u001b[0mkey\u001b[0m\u001b[0;34m,\u001b[0m \u001b[0mself\u001b[0m\u001b[0;34m.\u001b[0m\u001b[0mobj\u001b[0m\u001b[0;34m)\u001b[0m\u001b[0;34m\u001b[0m\u001b[0;34m\u001b[0m\u001b[0m\n\u001b[0;32m-> 1424\u001b[0;31m             \u001b[0;32mreturn\u001b[0m \u001b[0mself\u001b[0m\u001b[0;34m.\u001b[0m\u001b[0m_getitem_axis\u001b[0m\u001b[0;34m(\u001b[0m\u001b[0mmaybe_callable\u001b[0m\u001b[0;34m,\u001b[0m \u001b[0maxis\u001b[0m\u001b[0;34m=\u001b[0m\u001b[0maxis\u001b[0m\u001b[0;34m)\u001b[0m\u001b[0;34m\u001b[0m\u001b[0;34m\u001b[0m\u001b[0m\n\u001b[0m\u001b[1;32m   1425\u001b[0m \u001b[0;34m\u001b[0m\u001b[0m\n\u001b[1;32m   1426\u001b[0m     \u001b[0;32mdef\u001b[0m \u001b[0m_is_scalar_access\u001b[0m\u001b[0;34m(\u001b[0m\u001b[0mself\u001b[0m\u001b[0;34m,\u001b[0m \u001b[0mkey\u001b[0m\u001b[0;34m:\u001b[0m \u001b[0mTuple\u001b[0m\u001b[0;34m)\u001b[0m\u001b[0;34m:\u001b[0m\u001b[0;34m\u001b[0m\u001b[0;34m\u001b[0m\u001b[0m\n",
      "\u001b[0;32m/anaconda/envs/azureml_py36/lib/python3.6/site-packages/pandas/core/indexing.py\u001b[0m in \u001b[0;36m_getitem_axis\u001b[0;34m(self, key, axis)\u001b[0m\n\u001b[1;32m   2146\u001b[0m         \u001b[0;31m# a list of integers\u001b[0m\u001b[0;34m\u001b[0m\u001b[0;34m\u001b[0m\u001b[0;34m\u001b[0m\u001b[0m\n\u001b[1;32m   2147\u001b[0m         \u001b[0;32melif\u001b[0m \u001b[0mis_list_like_indexer\u001b[0m\u001b[0;34m(\u001b[0m\u001b[0mkey\u001b[0m\u001b[0;34m)\u001b[0m\u001b[0;34m:\u001b[0m\u001b[0;34m\u001b[0m\u001b[0;34m\u001b[0m\u001b[0m\n\u001b[0;32m-> 2148\u001b[0;31m             \u001b[0;32mreturn\u001b[0m \u001b[0mself\u001b[0m\u001b[0;34m.\u001b[0m\u001b[0m_get_list_axis\u001b[0m\u001b[0;34m(\u001b[0m\u001b[0mkey\u001b[0m\u001b[0;34m,\u001b[0m \u001b[0maxis\u001b[0m\u001b[0;34m=\u001b[0m\u001b[0maxis\u001b[0m\u001b[0;34m)\u001b[0m\u001b[0;34m\u001b[0m\u001b[0;34m\u001b[0m\u001b[0m\n\u001b[0m\u001b[1;32m   2149\u001b[0m \u001b[0;34m\u001b[0m\u001b[0m\n\u001b[1;32m   2150\u001b[0m         \u001b[0;31m# a single integer\u001b[0m\u001b[0;34m\u001b[0m\u001b[0;34m\u001b[0m\u001b[0;34m\u001b[0m\u001b[0m\n",
      "\u001b[0;32m/anaconda/envs/azureml_py36/lib/python3.6/site-packages/pandas/core/indexing.py\u001b[0m in \u001b[0;36m_get_list_axis\u001b[0;34m(self, key, axis)\u001b[0m\n\u001b[1;32m   2128\u001b[0m         \"\"\"\n\u001b[1;32m   2129\u001b[0m         \u001b[0;32mtry\u001b[0m\u001b[0;34m:\u001b[0m\u001b[0;34m\u001b[0m\u001b[0;34m\u001b[0m\u001b[0m\n\u001b[0;32m-> 2130\u001b[0;31m             \u001b[0;32mreturn\u001b[0m \u001b[0mself\u001b[0m\u001b[0;34m.\u001b[0m\u001b[0mobj\u001b[0m\u001b[0;34m.\u001b[0m\u001b[0mtake\u001b[0m\u001b[0;34m(\u001b[0m\u001b[0mkey\u001b[0m\u001b[0;34m,\u001b[0m \u001b[0maxis\u001b[0m\u001b[0;34m=\u001b[0m\u001b[0maxis\u001b[0m\u001b[0;34m)\u001b[0m\u001b[0;34m\u001b[0m\u001b[0;34m\u001b[0m\u001b[0m\n\u001b[0m\u001b[1;32m   2131\u001b[0m         \u001b[0;32mexcept\u001b[0m \u001b[0mIndexError\u001b[0m\u001b[0;34m:\u001b[0m\u001b[0;34m\u001b[0m\u001b[0;34m\u001b[0m\u001b[0m\n\u001b[1;32m   2132\u001b[0m             \u001b[0;31m# re-raise with different error message\u001b[0m\u001b[0;34m\u001b[0m\u001b[0;34m\u001b[0m\u001b[0;34m\u001b[0m\u001b[0m\n",
      "\u001b[0;32m/anaconda/envs/azureml_py36/lib/python3.6/site-packages/pandas/core/generic.py\u001b[0m in \u001b[0;36mtake\u001b[0;34m(self, indices, axis, is_copy, **kwargs)\u001b[0m\n\u001b[1;32m   3602\u001b[0m \u001b[0;34m\u001b[0m\u001b[0m\n\u001b[1;32m   3603\u001b[0m         new_data = self._data.take(\n\u001b[0;32m-> 3604\u001b[0;31m             \u001b[0mindices\u001b[0m\u001b[0;34m,\u001b[0m \u001b[0maxis\u001b[0m\u001b[0;34m=\u001b[0m\u001b[0mself\u001b[0m\u001b[0;34m.\u001b[0m\u001b[0m_get_block_manager_axis\u001b[0m\u001b[0;34m(\u001b[0m\u001b[0maxis\u001b[0m\u001b[0;34m)\u001b[0m\u001b[0;34m,\u001b[0m \u001b[0mverify\u001b[0m\u001b[0;34m=\u001b[0m\u001b[0;32mTrue\u001b[0m\u001b[0;34m\u001b[0m\u001b[0;34m\u001b[0m\u001b[0m\n\u001b[0m\u001b[1;32m   3605\u001b[0m         )\n\u001b[1;32m   3606\u001b[0m         \u001b[0mresult\u001b[0m \u001b[0;34m=\u001b[0m \u001b[0mself\u001b[0m\u001b[0;34m.\u001b[0m\u001b[0m_constructor\u001b[0m\u001b[0;34m(\u001b[0m\u001b[0mnew_data\u001b[0m\u001b[0;34m)\u001b[0m\u001b[0;34m.\u001b[0m\u001b[0m__finalize__\u001b[0m\u001b[0;34m(\u001b[0m\u001b[0mself\u001b[0m\u001b[0;34m)\u001b[0m\u001b[0;34m\u001b[0m\u001b[0;34m\u001b[0m\u001b[0m\n",
      "\u001b[0;32m/anaconda/envs/azureml_py36/lib/python3.6/site-packages/pandas/core/internals/managers.py\u001b[0m in \u001b[0;36mtake\u001b[0;34m(self, indexer, axis, verify, convert)\u001b[0m\n\u001b[1;32m   1382\u001b[0m             \u001b[0mnp\u001b[0m\u001b[0;34m.\u001b[0m\u001b[0marange\u001b[0m\u001b[0;34m(\u001b[0m\u001b[0mindexer\u001b[0m\u001b[0;34m.\u001b[0m\u001b[0mstart\u001b[0m\u001b[0;34m,\u001b[0m \u001b[0mindexer\u001b[0m\u001b[0;34m.\u001b[0m\u001b[0mstop\u001b[0m\u001b[0;34m,\u001b[0m \u001b[0mindexer\u001b[0m\u001b[0;34m.\u001b[0m\u001b[0mstep\u001b[0m\u001b[0;34m,\u001b[0m \u001b[0mdtype\u001b[0m\u001b[0;34m=\u001b[0m\u001b[0;34m\"int64\"\u001b[0m\u001b[0;34m)\u001b[0m\u001b[0;34m\u001b[0m\u001b[0;34m\u001b[0m\u001b[0m\n\u001b[1;32m   1383\u001b[0m             \u001b[0;32mif\u001b[0m \u001b[0misinstance\u001b[0m\u001b[0;34m(\u001b[0m\u001b[0mindexer\u001b[0m\u001b[0;34m,\u001b[0m \u001b[0mslice\u001b[0m\u001b[0;34m)\u001b[0m\u001b[0;34m\u001b[0m\u001b[0;34m\u001b[0m\u001b[0m\n\u001b[0;32m-> 1384\u001b[0;31m             \u001b[0;32melse\u001b[0m \u001b[0mnp\u001b[0m\u001b[0;34m.\u001b[0m\u001b[0masanyarray\u001b[0m\u001b[0;34m(\u001b[0m\u001b[0mindexer\u001b[0m\u001b[0;34m,\u001b[0m \u001b[0mdtype\u001b[0m\u001b[0;34m=\u001b[0m\u001b[0;34m\"int64\"\u001b[0m\u001b[0;34m)\u001b[0m\u001b[0;34m\u001b[0m\u001b[0;34m\u001b[0m\u001b[0m\n\u001b[0m\u001b[1;32m   1385\u001b[0m         )\n\u001b[1;32m   1386\u001b[0m \u001b[0;34m\u001b[0m\u001b[0m\n",
      "\u001b[0;32m/anaconda/envs/azureml_py36/lib/python3.6/site-packages/numpy/core/_asarray.py\u001b[0m in \u001b[0;36masanyarray\u001b[0;34m(a, dtype, order)\u001b[0m\n\u001b[1;32m    136\u001b[0m \u001b[0;34m\u001b[0m\u001b[0m\n\u001b[1;32m    137\u001b[0m     \"\"\"\n\u001b[0;32m--> 138\u001b[0;31m     \u001b[0;32mreturn\u001b[0m \u001b[0marray\u001b[0m\u001b[0;34m(\u001b[0m\u001b[0ma\u001b[0m\u001b[0;34m,\u001b[0m \u001b[0mdtype\u001b[0m\u001b[0;34m,\u001b[0m \u001b[0mcopy\u001b[0m\u001b[0;34m=\u001b[0m\u001b[0;32mFalse\u001b[0m\u001b[0;34m,\u001b[0m \u001b[0morder\u001b[0m\u001b[0;34m=\u001b[0m\u001b[0morder\u001b[0m\u001b[0;34m,\u001b[0m \u001b[0msubok\u001b[0m\u001b[0;34m=\u001b[0m\u001b[0;32mTrue\u001b[0m\u001b[0;34m)\u001b[0m\u001b[0;34m\u001b[0m\u001b[0;34m\u001b[0m\u001b[0m\n\u001b[0m\u001b[1;32m    139\u001b[0m \u001b[0;34m\u001b[0m\u001b[0m\n\u001b[1;32m    140\u001b[0m \u001b[0;34m\u001b[0m\u001b[0m\n",
      "\u001b[0;32m/anaconda/envs/azureml_py36/lib/python3.6/site-packages/pandas/core/indexes/base.py\u001b[0m in \u001b[0;36m__array__\u001b[0;34m(self, dtype)\u001b[0m\n\u001b[1;32m    731\u001b[0m         \u001b[0mThe\u001b[0m \u001b[0marray\u001b[0m \u001b[0minterface\u001b[0m\u001b[0;34m,\u001b[0m \u001b[0;32mreturn\u001b[0m \u001b[0mmy\u001b[0m \u001b[0mvalues\u001b[0m\u001b[0;34m.\u001b[0m\u001b[0;34m\u001b[0m\u001b[0;34m\u001b[0m\u001b[0m\n\u001b[1;32m    732\u001b[0m         \"\"\"\n\u001b[0;32m--> 733\u001b[0;31m         \u001b[0;32mreturn\u001b[0m \u001b[0mnp\u001b[0m\u001b[0;34m.\u001b[0m\u001b[0masarray\u001b[0m\u001b[0;34m(\u001b[0m\u001b[0mself\u001b[0m\u001b[0;34m.\u001b[0m\u001b[0m_data\u001b[0m\u001b[0;34m,\u001b[0m \u001b[0mdtype\u001b[0m\u001b[0;34m=\u001b[0m\u001b[0mdtype\u001b[0m\u001b[0;34m)\u001b[0m\u001b[0;34m\u001b[0m\u001b[0;34m\u001b[0m\u001b[0m\n\u001b[0m\u001b[1;32m    734\u001b[0m \u001b[0;34m\u001b[0m\u001b[0m\n\u001b[1;32m    735\u001b[0m     \u001b[0;32mdef\u001b[0m \u001b[0m__array_wrap__\u001b[0m\u001b[0;34m(\u001b[0m\u001b[0mself\u001b[0m\u001b[0;34m,\u001b[0m \u001b[0mresult\u001b[0m\u001b[0;34m,\u001b[0m \u001b[0mcontext\u001b[0m\u001b[0;34m=\u001b[0m\u001b[0;32mNone\u001b[0m\u001b[0;34m)\u001b[0m\u001b[0;34m:\u001b[0m\u001b[0;34m\u001b[0m\u001b[0;34m\u001b[0m\u001b[0m\n",
      "\u001b[0;32m/anaconda/envs/azureml_py36/lib/python3.6/site-packages/numpy/core/_asarray.py\u001b[0m in \u001b[0;36masarray\u001b[0;34m(a, dtype, order)\u001b[0m\n\u001b[1;32m     83\u001b[0m \u001b[0;34m\u001b[0m\u001b[0m\n\u001b[1;32m     84\u001b[0m     \"\"\"\n\u001b[0;32m---> 85\u001b[0;31m     \u001b[0;32mreturn\u001b[0m \u001b[0marray\u001b[0m\u001b[0;34m(\u001b[0m\u001b[0ma\u001b[0m\u001b[0;34m,\u001b[0m \u001b[0mdtype\u001b[0m\u001b[0;34m,\u001b[0m \u001b[0mcopy\u001b[0m\u001b[0;34m=\u001b[0m\u001b[0;32mFalse\u001b[0m\u001b[0;34m,\u001b[0m \u001b[0morder\u001b[0m\u001b[0;34m=\u001b[0m\u001b[0morder\u001b[0m\u001b[0;34m)\u001b[0m\u001b[0;34m\u001b[0m\u001b[0;34m\u001b[0m\u001b[0m\n\u001b[0m\u001b[1;32m     86\u001b[0m \u001b[0;34m\u001b[0m\u001b[0m\n\u001b[1;32m     87\u001b[0m \u001b[0;34m\u001b[0m\u001b[0m\n",
      "\u001b[0;31mValueError\u001b[0m: invalid literal for int() with base 10: '1583831095-qwmm1mmr33'"
     ]
    }
   ],
   "source": [
    "delete.iloc[delete.index.get_level_values('qrcode')]"
   ]
  }
 ],
 "metadata": {
  "kernelspec": {
   "display_name": "Python 3.6 - AzureML",
   "language": "python",
   "name": "python3-azureml"
  },
  "language_info": {
   "codemirror_mode": {
    "name": "ipython",
    "version": 3
   },
   "file_extension": ".py",
   "mimetype": "text/x-python",
   "name": "python",
   "nbconvert_exporter": "python",
   "pygments_lexer": "ipython3",
   "version": "3.6.9"
  }
 },
 "nbformat": 4,
 "nbformat_minor": 4
}
