{
 "cells": [
  {
   "cell_type": "code",
   "execution_count": 8,
   "metadata": {},
   "outputs": [],
   "source": [
    "%reload_ext autoreload\n",
    "%autoreload 2\n",
    "\n",
    "import os\n",
    "import shutil\n",
    "from pathlib import Path\n",
    "from typing import List\n",
    "\n",
    "%matplotlib inline\n",
    "import matplotlib.pyplot as plt\n",
    "from matplotlib.widgets import Button\n",
    "import numpy as np\n",
    "from ipywidgets import interact, Layout\n",
    "import ipywidgets as widgets\n",
    "from IPython.display import display\n",
    "from tqdm import tqdm\n",
    "\n",
    "from visualisation import render_plot\n",
    "from exporter import export_obj\n",
    "from depthmap import Depthmap"
   ]
  },
  {
   "cell_type": "code",
   "execution_count": 2,
   "metadata": {},
   "outputs": [
    {
     "data": {
      "text/plain": [
       "PosixPath('/Users/markus/Development/cgm/cgm-ml/src/common/depthmap_toolkit')"
      ]
     },
     "execution_count": 2,
     "metadata": {},
     "output_type": "execute_result"
    }
   ],
   "source": [
    "TOOLKIT_DIR = Path(os.getcwd()).absolute()\n",
    "TOOLKIT_DIR"
   ]
  },
  {
   "cell_type": "code",
   "execution_count": 3,
   "metadata": {},
   "outputs": [],
   "source": [
    "depthmap_dir = TOOLKIT_DIR / 'tests' / 'huawei_p40pro'\n",
    "depthmap_fname = 'depth_dog_1622182020448_100_234.depth'\n",
    "rgb_fname = 'rgb_dog_1622182020448_100_234.jpg'\n",
    "calibration_file = TOOLKIT_DIR / 'tests' / 'huawei_p40pro' / 'camera_calibration.txt'"
   ]
  },
  {
   "cell_type": "code",
   "execution_count": 4,
   "metadata": {},
   "outputs": [],
   "source": [
    "def check_depthmap_and_rgb_frames_are_in_same_order(depthmap_fnames: List[str], rgb_fnames: List[str]):\n",
    "    for depthmap_fname, rgb_fname in zip(depthmap_fnames, rgb_fnames):\n",
    "        assert depthmap_fname.startswith('depth')\n",
    "        assert rgb_fname.startswith('rgb')\n",
    "        assert depthmap_fname.endswith('.depth')\n",
    "        assert rgb_fname.endswith('.jpg')\n",
    "\n",
    "        _depthmap_fname = depthmap_fname.replace('depth_', '', 1)\n",
    "        _rgb_fname = rgb_fname.replace('rgb_', '', 1)\n",
    "        _depthmap_fname = _depthmap_fname.split('.')[0]\n",
    "        _rgb_fname = _rgb_fname.split('.')[0]\n",
    "\n",
    "        assert _depthmap_fname == _rgb_fname, (_depthmap_fname, _rgb_fname)"
   ]
  },
  {
   "cell_type": "code",
   "execution_count": 5,
   "metadata": {},
   "outputs": [],
   "source": [
    "depthmap_fnames = sorted(map(lambda x: x.name, depthmap_dir.rglob('*.depth')))\n",
    "rgb_fnames = sorted(map(lambda x: x.name, depthmap_dir.rglob('*.jpg')))\n",
    "check_depthmap_and_rgb_frames_are_in_same_order(depthmap_fnames, rgb_fnames)"
   ]
  },
  {
   "cell_type": "code",
   "execution_count": 6,
   "metadata": {},
   "outputs": [
    {
     "name": "stderr",
     "output_type": "stream",
     "text": [
      "  0%|          | 0/3 [00:00<?, ?it/s]2021-06-18 18:31:17,433 - INFO - height=0.435327m - /Users/markus/Development/cgm/cgm-ml/src/common/depthmap_toolkit/visualisation.py: line 99\n",
      " 33%|███▎      | 1/3 [00:06<00:13,  6.85s/it]2021-06-18 18:31:23,989 - INFO - height=0.433781m - /Users/markus/Development/cgm/cgm-ml/src/common/depthmap_toolkit/visualisation.py: line 99\n",
      " 67%|██████▋   | 2/3 [00:13<00:06,  6.76s/it]2021-06-18 18:31:30,489 - INFO - height=0.434632m - /Users/markus/Development/cgm/cgm-ml/src/common/depthmap_toolkit/visualisation.py: line 99\n",
      "100%|██████████| 3/3 [00:19<00:00,  6.63s/it]\n"
     ]
    }
   ],
   "source": [
    "dmaps, dmaps_visualizations = [], []\n",
    "for depthmap_fname, rgb_fname in tqdm(list(zip(depthmap_fnames, rgb_fnames))):\n",
    "    dmap = Depthmap.create_from_file(str(depthmap_dir), str(depthmap_fname), str(rgb_fname), str(calibration_file))\n",
    "    dmaps.append(dmap)\n",
    "    dmaps_visualizations.append(render_plot(dmap))  # takes 5 seconds each time"
   ]
  },
  {
   "cell_type": "code",
   "execution_count": 9,
   "metadata": {},
   "outputs": [
    {
     "data": {
      "application/vnd.jupyter.widget-view+json": {
       "model_id": "ae27979165684b0a8c0dea6db9a1e458",
       "version_major": 2,
       "version_minor": 0
      },
      "text/plain": [
       "VBox(children=(IntSlider(value=0, description='artifact_idx', max=2), Output()), layout=Layout(width='50%'))"
      ]
     },
     "metadata": {},
     "output_type": "display_data"
    }
   ],
   "source": [
    "# Easy visualization\n",
    "\n",
    "def trigger_visualization(artifact_idx):\n",
    "    plt.imshow(dmaps_visualizations[artifact_idx])\n",
    "    plt.show()\n",
    "\n",
    "slider = widgets.IntSlider(description='artifact_idx', value=0, min=0, max=2);\n",
    "plot_out = widgets.interactive_output(trigger_visualization, {'artifact_idx': slider});\n",
    "display(widgets.VBox([slider, plot_out], layout=Layout(width='50%')))"
   ]
  },
  {
   "cell_type": "code",
   "execution_count": 12,
   "metadata": {},
   "outputs": [],
   "source": [
    "# Advanced visualization\n",
    "\n",
    "class Viz:\n",
    "    def __init__(self, dmaps: List[Depthmap], dmaps_visualizations: List[np.array]):\n",
    "        assert isinstance(dmaps_visualizations, List)\n",
    "        assert len(dmaps) == len(dmaps)\n",
    "        self.dmaps = dmaps\n",
    "        self.dmaps_visualizations = dmaps_visualizations\n",
    "        self.num_artifacts = len(dmaps_visualizations)\n",
    "        self.setup_ui()\n",
    "        \n",
    "    def setup_ui(self):\n",
    "        self.slider = widgets.IntSlider(description='artifact_idx', value=0, min=0, max=self.num_artifacts - 1)\n",
    "        self.plot_out = widgets.interactive_output(self.trigger_visualization, {'artifact_idx': self.slider})\n",
    "        self.export_obj_button = widgets.Button(description=\"Export OBJ!\")\n",
    "        self.export_obj_button.on_click(self.on_export_obj_clicked)\n",
    "        self.message_textbox = widgets.Text(description='')\n",
    "\n",
    "        display(self.slider)\n",
    "        display(self.plot_out);\n",
    "        display(widgets.HBox([self.export_obj_button, self.message_textbox], layout=Layout(width='50%')))\n",
    "        \n",
    "    def trigger_visualization(self, artifact_idx):\n",
    "        plt.imshow(self.dmaps_visualizations[artifact_idx])\n",
    "        plt.show()\n",
    "\n",
    "    def on_export_obj_clicked(self, b):\n",
    "        artifact_idx = self.slider.value\n",
    "        self.message_textbox.value = str(f\"Exporting artifact with index '{artifact_idx}'\")\n",
    "        dmap = dmaps[artifact_idx]\n",
    "        floor = dmap.get_floor_level()\n",
    "        fname = f'output{artifact_idx}.obj'\n",
    "        export_obj(f'export/{fname}', dmap, floor, triangulate=True)\n",
    "        self.message_textbox.value = str(f\"Exported artifact with index '{artifact_idx}'\")"
   ]
  },
  {
   "cell_type": "code",
   "execution_count": 13,
   "metadata": {},
   "outputs": [
    {
     "name": "stdout",
     "output_type": "stream",
     "text": [
      "Use the slider to navigate between artifacts, click the button to export the current image\n"
     ]
    },
    {
     "data": {
      "application/vnd.jupyter.widget-view+json": {
       "model_id": "442fab4b18d64569a84349e8cb8a9f78",
       "version_major": 2,
       "version_minor": 0
      },
      "text/plain": [
       "IntSlider(value=0, description='artifact_idx', max=2)"
      ]
     },
     "metadata": {},
     "output_type": "display_data"
    },
    {
     "data": {
      "application/vnd.jupyter.widget-view+json": {
       "model_id": "0fb6892d158445c5b7b24c6f2061da0d",
       "version_major": 2,
       "version_minor": 0
      },
      "text/plain": [
       "Output()"
      ]
     },
     "metadata": {},
     "output_type": "display_data"
    },
    {
     "data": {
      "application/vnd.jupyter.widget-view+json": {
       "model_id": "279d485779144f07bb30a522f38f6ce5",
       "version_major": 2,
       "version_minor": 0
      },
      "text/plain": [
       "HBox(children=(Button(description='Export OBJ!', style=ButtonStyle()), Text(value='')), layout=Layout(width='5…"
      ]
     },
     "metadata": {},
     "output_type": "display_data"
    }
   ],
   "source": [
    "print(\"Use the slider to navigate between artifacts, click the button to export the current image\")\n",
    "viz = Viz(dmaps=dmaps, dmaps_visualizations=dmaps_visualizations)"
   ]
  },
  {
   "cell_type": "code",
   "execution_count": null,
   "metadata": {},
   "outputs": [],
   "source": []
  },
  {
   "cell_type": "code",
   "execution_count": null,
   "metadata": {},
   "outputs": [],
   "source": []
  }
 ],
 "metadata": {
  "file_extension": ".py",
  "interpreter": {
   "hash": "e88cacac4a4e81780274e5b67662f71286bfdfe71b49b67699dc84b91a2b06f4"
  },
  "kernel_info": {
   "name": "python3"
  },
  "kernelspec": {
   "display_name": "Python 3",
   "language": "python",
   "name": "python3"
  },
  "language_info": {
   "codemirror_mode": {
    "name": "ipython",
    "version": 3
   },
   "file_extension": ".py",
   "mimetype": "text/x-python",
   "name": "python",
   "nbconvert_exporter": "python",
   "pygments_lexer": "ipython3",
   "version": "3.7.5"
  },
  "mimetype": "text/x-python",
  "name": "python",
  "npconvert_exporter": "python",
  "nteract": {
   "version": "nteract-front-end@1.0.0"
  },
  "pygments_lexer": "ipython3",
  "version": 3
 },
 "nbformat": 4,
 "nbformat_minor": 4
}
