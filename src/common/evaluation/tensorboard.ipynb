{
 "cells": [
  {
   "cell_type": "markdown",
   "metadata": {},
   "source": [
    "# Using TensorBoard with AzureML."
   ]
  },
  {
   "cell_type": "code",
   "execution_count": null,
   "metadata": {},
   "outputs": [],
   "source": [
    "from azureml.core import Workspace, Dataset\n",
    "from azureml.core import Experiment\n",
    "import os\n",
    "import shutil"
   ]
  },
  {
   "cell_type": "markdown",
   "metadata": {},
   "source": [
    "# Connect to workspace."
   ]
  },
  {
   "cell_type": "code",
   "execution_count": null,
   "metadata": {},
   "outputs": [],
   "source": [
    "workspace = Workspace.from_config()\n",
    "workspace"
   ]
  },
  {
   "cell_type": "markdown",
   "metadata": {},
   "source": [
    "# Select experiment(s)."
   ]
  },
  {
   "cell_type": "code",
   "execution_count": null,
   "metadata": {},
   "outputs": [],
   "source": [
    "from ipywidgets import interact, interactive, fixed, interact_manual\n",
    "import ipywidgets as widgets\n",
    "from IPython.display import display\n",
    "\n",
    "checkboxes = []\n",
    "\n",
    "for experiment_name, experiment in workspace.experiments.items():\n",
    "    checkbox = widgets.Checkbox(\n",
    "        value=False,\n",
    "        description=experiment_name\n",
    "    )\n",
    "    display(checkbox)\n",
    "    checkboxes.append(checkbox)"
   ]
  },
  {
   "cell_type": "markdown",
   "metadata": {},
   "source": [
    "# Download logs of selected experiments."
   ]
  },
  {
   "cell_type": "code",
   "execution_count": null,
   "metadata": {},
   "outputs": [],
   "source": [
    "# Get the selected experiments.\n",
    "selected_experiments = []\n",
    "for checkbox in checkboxes:\n",
    "    if checkbox.value == True:\n",
    "        selected_experiments.append(checkbox.description)\n",
    "\n",
    "# Get folder.\n",
    "temp_path = \"logs\"\n",
    "if os.path.exists(temp_path):\n",
    "    shutil.rmtree(temp_path)\n",
    "os.mkdir(temp_path)\n",
    "\n",
    "# For each selected experiment download logs of all completed runs.\n",
    "for selected_experiment in selected_experiments:\n",
    "    print(\"Experiment: {}\".format(selected_experiment))\n",
    "    experiment = workspace.experiments.get(selected_experiment)\n",
    "    for run_index, run in enumerate(list(experiment.get_runs())[::-1]):\n",
    "        log_path = os.path.join(temp_path, experiment.name, \"run_{:02d}\".format(run_index + 1))\n",
    "        if run.status == \"Completed\":\n",
    "            print(\"  Run: {}\".format(run_index + 1))\n",
    "            run.download_files(prefix=\"logs\", output_directory=log_path, output_paths=None, batch_size=100, append_prefix=False)\n",
    "\n",
    "print(\"Done.\")"
   ]
  },
  {
   "cell_type": "markdown",
   "metadata": {},
   "source": [
    "# Start tensorboard."
   ]
  },
  {
   "cell_type": "code",
   "execution_count": null,
   "metadata": {},
   "outputs": [],
   "source": [
    "%load_ext tensorboard\n",
    "%tensorboard --logdir logs"
   ]
  },
  {
   "cell_type": "code",
   "execution_count": null,
   "metadata": {},
   "outputs": [],
   "source": []
  }
 ],
 "metadata": {
  "kernelspec": {
   "display_name": "Python 3",
   "language": "python",
   "name": "python3"
  },
  "language_info": {
   "codemirror_mode": {
    "name": "ipython",
    "version": 3
   },
   "file_extension": ".py",
   "mimetype": "text/x-python",
   "name": "python",
   "nbconvert_exporter": "python",
   "pygments_lexer": "ipython3",
   "version": "3.7.6"
  }
 },
 "nbformat": 4,
 "nbformat_minor": 4
}
