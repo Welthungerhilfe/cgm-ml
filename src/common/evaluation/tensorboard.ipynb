{
  "cells": [
    {
      "cell_type": "markdown",
      "source": [
        "# Using TensorBoard with AzureML."
      ],
      "metadata": {}
    },
    {
      "cell_type": "code",
      "source": [
        "from azureml.core import Workspace, Dataset\n",
        "from azureml.core import Experiment\n",
        "import os\n",
        "import shutil"
      ],
      "outputs": [],
      "execution_count": null,
      "metadata": {}
    },
    {
      "cell_type": "markdown",
      "source": [
        "# Connect to workspace."
      ],
      "metadata": {}
    },
    {
      "cell_type": "code",
      "source": [
        "workspace = Workspace.from_config()\n",
        "workspace"
      ],
      "outputs": [],
      "execution_count": null,
      "metadata": {}
    },
    {
      "cell_type": "markdown",
      "source": [
        "# Select experiment(s)."
      ],
      "metadata": {}
    },
    {
      "cell_type": "code",
      "source": [
        "from ipywidgets import interact, interactive, fixed, interact_manual\n",
        "import ipywidgets as widgets\n",
        "from IPython.display import display\n",
        "\n",
        "checkboxes = []\n",
        "\n",
        "for experiment_name, experiment in workspace.experiments.items():\n",
        "    checkbox = widgets.Checkbox(\n",
        "        value=False,\n",
        "        description=experiment_name\n",
        "    )\n",
        "    display(checkbox)\n",
        "    checkboxes.append(checkbox)"
      ],
      "outputs": [],
      "execution_count": null,
      "metadata": {}
    },
    {
      "cell_type": "markdown",
      "source": [
        "# Download logs of selected experiments."
      ],
      "metadata": {}
    },
    {
      "cell_type": "code",
      "source": [
        "# Get the selected experiments.\n",
        "selected_experiments = []\n",
        "for checkbox in checkboxes:\n",
        "    if checkbox.value == True:\n",
        "        selected_experiments.append(checkbox.description)\n",
        "\n",
        "# Get folder.\n",
        "temp_path = \"logs\"\n",
        "if os.path.exists(temp_path):\n",
        "    shutil.rmtree(temp_path)\n",
        "os.mkdir(temp_path)\n",
        "\n",
        "# For each selected experiment download logs of all completed runs.\n",
        "for selected_experiment in selected_experiments:\n",
        "    print(\"Experiment: {}\".format(selected_experiment))\n",
        "    experiment = workspace.experiments.get(selected_experiment)\n",
        "    for run_index, run in enumerate(list(experiment.get_runs())[::-1]):\n",
        "        log_path = os.path.join(temp_path, experiment.name, \"run_{:02d}\".format(run_index + 1))\n",
        "        if run.status == \"Completed\":\n",
        "            print(\"  Run: {}\".format(run_index + 1))\n",
        "            run.download_files(prefix=\"logs\", output_directory=log_path, output_paths=None, batch_size=100, append_prefix=False)\n",
        "\n",
        "print(\"Done.\")"
      ],
      "outputs": [],
      "execution_count": null,
      "metadata": {}
    },
    {
      "cell_type": "markdown",
      "source": [
        "# Start tensorboard."
      ],
      "metadata": {}
    },
    {
      "cell_type": "code",
      "source": [
        "%load_ext tensorboard\n",
        "%tensorboard --logdir logs"
      ],
      "outputs": [],
      "execution_count": null,
      "metadata": {}
    },
    {
      "cell_type": "code",
      "source": [],
      "outputs": [],
      "execution_count": null,
      "metadata": {}
    }
  ],
  "metadata": {
    "kernelspec": {
      "name": "python3",
      "language": "python",
      "display_name": "Python 3"
    },
    "language_info": {
      "name": "python",
      "version": "3.6.9",
      "mimetype": "text/x-python",
      "codemirror_mode": {
        "name": "ipython",
        "version": 3
      },
      "pygments_lexer": "ipython3",
      "nbconvert_exporter": "python",
      "file_extension": ".py"
    },
    "kernel_info": {
      "name": "python3"
    },
    "nteract": {
      "version": "nteract-front-end@1.0.0"
    }
  },
  "nbformat": 4,
  "nbformat_minor": 4
}