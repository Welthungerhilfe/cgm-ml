{
 "cells": [
  {
   "cell_type": "code",
   "execution_count": null,
   "metadata": {},
   "outputs": [],
   "source": [
    "import pandas as pd \n",
    "import matplotlib.pyplot as plt\n",
    "from PIL import Image\n",
    "from glob import glob\n",
    "import numpy as np\n",
    "import cv2\n",
    "import pickle"
   ]
  },
  {
   "cell_type": "code",
   "execution_count": null,
   "metadata": {},
   "outputs": [],
   "source": [
    "DEPTH_DATA_PATH = '/mnt/omdena_dataset/realtime_testset/'\n",
    "RGB_DATA_PATH ='/mnt/omdena_dataset/realtime_evaluation/'"
   ]
  },
  {
   "cell_type": "code",
   "execution_count": null,
   "metadata": {},
   "outputs": [],
   "source": [
    "def convert_age_from_days_to_years(age_in_days: pd.Series) -> int:\n",
    "    \"\"\"Convert age in days into age in years\"\"\"\n",
    "    age_in_years = int(age_in_days['GT_age']) / 365\n",
    "    return round(age_in_years)"
   ]
  },
  {
   "cell_type": "code",
   "execution_count": null,
   "metadata": {},
   "outputs": [],
   "source": [
    "## To obtain this file, please run the model evaluation pipline and download the csv \n",
    "## file begin with 'file_inaccurate_scan_YOUR MODEL NAME' and use it here.\n",
    "\n",
    "label_data = pd.read_csv('file_inaccurate_scans_q3-depthmap-plaincnn-height-95k_1614792769_0fc49ac6.csv')\n",
    "label_data.head()"
   ]
  },
  {
   "cell_type": "code",
   "execution_count": null,
   "metadata": {},
   "outputs": [],
   "source": [
    "print(\"Total scan_code in file1 :\",len(file1['scan_code'].unique()))"
   ]
  },
  {
   "cell_type": "code",
   "execution_count": null,
   "metadata": {},
   "outputs": [],
   "source": [
    "def display_images(images,grid_size):\n",
    "    current_file_number = 0\n",
    "    for image_filename in images:\n",
    "        x_position = current_file_number % grid_size\n",
    "        y_position = current_file_number // grid_size\n",
    "    #     plt_image = plt.imread(images_dir +images_list[current_file_number])\n",
    "        plt_image = plt.imread(image_filename)\n",
    "        rot_image = np.rot90(plt_image,3 )\n",
    "        axes[x_position, y_position].imshow(rot_image)\n",
    "    #     print((current_file_number + 1), '/', images_count, ': ', image_filename)\n",
    "        current_file_number += 1\n",
    "    plt.subplots_adjust(left=0.0, right=1.0, bottom=0.0, top=1.0)    "
   ]
  },
  {
   "cell_type": "code",
   "execution_count": null,
   "metadata": {},
   "outputs": [],
   "source": [
    "def display_depths(depth,grid_size):\n",
    "    current_file_number = 0\n",
    "    for depth_filename in depth:\n",
    "        x_position = current_file_number % grid_size\n",
    "        y_position = current_file_number // grid_size\n",
    "        infile = open(depth_filename,'rb')\n",
    "        depthmap = pickle.load(infile)\n",
    "        axes[x_position, y_position].imshow(np.squeeze(depthmap[0]))\n",
    "        current_file_number += 1\n",
    "    plt.subplots_adjust(left=0.0, right=1.0, bottom=0.0, top=1.0) "
   ]
  },
  {
   "cell_type": "code",
   "execution_count": null,
   "metadata": {},
   "outputs": [],
   "source": [
    "file1['error'] = file1['error'].abs()"
   ]
  },
  {
   "cell_type": "code",
   "execution_count": null,
   "metadata": {},
   "outputs": [],
   "source": [
    "file1 = file1.sort_values(by=['error'],ascending=False)\n",
    "high_outliers = file1[file1['error'] >50]\n",
    "high_outliers"
   ]
  },
  {
   "cell_type": "code",
   "execution_count": null,
   "metadata": {},
   "outputs": [],
   "source": [
    "outliers_20 = file1[file1['error'] >20]\n",
    "outliers_20.head()"
   ]
  },
  {
   "cell_type": "code",
   "execution_count": null,
   "metadata": {},
   "outputs": [],
   "source": [
    "outliers_20['Years'] = outliers_20.apply(convert_age_from_days_to_years,axis=1)\n",
    "outliers_20['Years'].value_counts()"
   ]
  },
  {
   "cell_type": "markdown",
   "metadata": {},
   "source": [
    "## Sample from error over 20cm : 1585016351-fimdbtjuta"
   ]
  },
  {
   "cell_type": "code",
   "execution_count": null,
   "metadata": {},
   "outputs": [],
   "source": [
    "# Config:\n",
    "full_image_path = f'{RGB_DATA_PATH}RGB/1585016351-fimdbtjuta/100/*.jpg'\n",
    "image_list = glob(full_image_path)\n",
    "print(\"Total images for qrcode:\",len(image_list))\n",
    "sample_image = image_list[0:30]\n",
    "result_figsize_resolution = 80 # 1 = 100px\n",
    "# images_list = os.listdir(images_dir)\n",
    "images_count = len(sample_image)\n",
    "# print('Images: ', images_list)\n",
    "print('Images count: ', images_count)\n",
    "# Calculate the grid size:\n",
    "grid_size = math.ceil(math.sqrt(images_count))\n",
    "fig, axes = plt.subplots(grid_size, grid_size, figsize=(result_figsize_resolution, result_figsize_resolution))\n",
    "display_images(sample_image,grid_size)"
   ]
  },
  {
   "cell_type": "markdown",
   "metadata": {},
   "source": [
    "## Depthmap visualisation "
   ]
  },
  {
   "cell_type": "code",
   "execution_count": null,
   "metadata": {},
   "outputs": [],
   "source": [
    "full_depth_path = f'{DEPTH_DATA_PATH}scans/1585016351-fimdbtjuta/100/*.p'\n",
    "depth_list = glob(full_depth_path)\n",
    "print(\"Total images for qrcode:\",len(depth_list))\n",
    "sample_depth = depth_list[0:30]\n",
    "result_figsize_resolution = 80 # 1 = 100px\n",
    "# images_list = os.listdir(images_dir)\n",
    "depth_count = len(sample_depth)\n",
    "# print('Images: ', images_list)\n",
    "print('Images count: ', depth_count)\n",
    "# Calculate the grid size:\n",
    "grid_size = math.ceil(math.sqrt(depth_count))\n",
    "fig, axes = plt.subplots(grid_size, grid_size, figsize=(result_figsize_resolution, result_figsize_resolution))\n",
    "display_depths(sample_depth,grid_size)"
   ]
  },
  {
   "cell_type": "markdown",
   "metadata": {},
   "source": [
    "## Samples from error margin between 8 and 10"
   ]
  },
  {
   "cell_type": "code",
   "execution_count": null,
   "metadata": {},
   "outputs": [],
   "source": [
    "outliers_8_10 = file1[(file1['error'] >8) & (file1['error'] <10)]\n",
    "outliers_8_10"
   ]
  },
  {
   "cell_type": "code",
   "execution_count": null,
   "metadata": {},
   "outputs": [],
   "source": [
    "outliers_8_10['Years'] = outliers_8_10.apply(convert_age_from_days_to_years,axis=1)\n",
    "print(outliers_8_10['Years'].value_counts())\n",
    "print(outliers_8_10['scantype'].value_counts())"
   ]
  },
  {
   "cell_type": "code",
   "execution_count": null,
   "metadata": {},
   "outputs": [],
   "source": [
    "outliers_8_10_100 = outliers_8_10[outliers_8_10['scantype'] == 100]\n",
    "height_vs_age = outliers_8_10_100.plot.scatter(x='GT', y='GT_age', c='red')"
   ]
  },
  {
   "cell_type": "markdown",
   "metadata": {},
   "source": [
    "## Sample from error over 8cm :1597945980-1uai8edcg8 "
   ]
  },
  {
   "cell_type": "code",
   "execution_count": null,
   "metadata": {},
   "outputs": [],
   "source": [
    "# Config:\n",
    "full_image_path = f'{RGB_DATA_PATH}RGB/1597945980-1uai8edcg8/100/*.jpg'\n",
    "image_list = glob(full_image_path)\n",
    "sample_image = image_list[1:30]\n",
    "result_grid_filename = 'grid.jpg'\n",
    "result_figsize_resolution = 80 # 1 = 100px\n",
    "\n",
    "# images_list = os.listdir(images_dir)\n",
    "images_count = len(sample_image)\n",
    "# print('Images: ', images_list)\n",
    "print('Images count: ', images_count)\n",
    "\n",
    "# Calculate the grid size:\n",
    "grid_size = math.ceil(math.sqrt(images_count))\n",
    "fig, axes = plt.subplots(grid_size, grid_size, figsize=(result_figsize_resolution, result_figsize_resolution))\n",
    "display_images(sample_image,grid_size)"
   ]
  },
  {
   "cell_type": "code",
   "execution_count": null,
   "metadata": {},
   "outputs": [],
   "source": [
    "full_depth_path = f'{DEPTH_DATA_PATH}scans/1597945980-1uai8edcg8/100/*.p'\n",
    "depth_list = glob(full_depth_path)\n",
    "print(\"Total images for qrcode:\",len(depth_list))\n",
    "sample_depth = depth_list[0:30]\n",
    "result_figsize_resolution = 80 # 1 = 100px\n",
    "# images_list = os.listdir(images_dir)\n",
    "depth_count = len(sample_depth)\n",
    "# print('Images: ', images_list)\n",
    "print('Images count: ', depth_count)\n",
    "# Calculate the grid size:\n",
    "grid_size = math.ceil(math.sqrt(depth_count))\n",
    "fig, axes = plt.subplots(grid_size, grid_size, figsize=(result_figsize_resolution, result_figsize_resolution))\n",
    "display_depths(sample_depth,grid_size)"
   ]
  },
  {
   "cell_type": "markdown",
   "metadata": {},
   "source": [
    "## Samples for error margin between 6 and 8"
   ]
  },
  {
   "cell_type": "code",
   "execution_count": null,
   "metadata": {},
   "outputs": [],
   "source": [
    "outliers_6_8 = file1[(file1['error'] > 6) & (file1['error'] <8)]\n",
    "outliers_6_8['Years'] = outliers_6_8.apply(convert_age_from_days_to_years,axis=1)\n",
    "print(outliers_6_8['Years'].value_counts())\n",
    "print(outliers_6_8['scantype'].value_counts())\n",
    "outliers_6_8"
   ]
  },
  {
   "cell_type": "markdown",
   "metadata": {},
   "source": [
    "## Sample from error over 6 cm :1585015460-8zsf3t92ah"
   ]
  },
  {
   "cell_type": "code",
   "execution_count": null,
   "metadata": {
    "scrolled": true
   },
   "outputs": [],
   "source": [
    "full_image_path = f'{RGB_DATA_PATH}RGB/1585015460-8zsf3t92ah/100/*.jpg'\n",
    "image_list = glob(full_image_path)\n",
    "print(\"Total_files:\",len(image_list))\n",
    "sample_image = image_list[1:50]\n",
    "result_grid_filename = 'grid.jpg'\n",
    "result_figsize_resolution = 80 # 1 = 100px\n",
    "\n",
    "# images_list = os.listdir(images_dir)\n",
    "images_count = len(sample_image)\n",
    "# print('Images: ', images_list)\n",
    "print('Images count: ', images_count)\n",
    "\n",
    "# Calculate the grid size:\n",
    "grid_size = math.ceil(math.sqrt(images_count))\n",
    "\n",
    "fig, axes = plt.subplots(grid_size, grid_size, figsize=(result_figsize_resolution, result_figsize_resolution))\n",
    "display_images(sample_image,grid_size)"
   ]
  },
  {
   "cell_type": "code",
   "execution_count": null,
   "metadata": {
    "scrolled": true
   },
   "outputs": [],
   "source": [
    "full_depth_path = f'{DEPTH_DATA_PATH}scans/1585015460-8zsf3t92ah/100/*.p'\n",
    "depth_list = glob(full_depth_path)\n",
    "print(\"Total images for qrcode:\",len(depth_list))\n",
    "sample_depth = depth_list[0:30]\n",
    "result_figsize_resolution = 80 # 1 = 100px\n",
    "# images_list = os.listdir(images_dir)\n",
    "depth_count = len(sample_depth)\n",
    "# print('Images: ', images_list)\n",
    "print('Images count: ', depth_count)\n",
    "# Calculate the grid size:\n",
    "grid_size = math.ceil(math.sqrt(depth_count))\n",
    "fig, axes = plt.subplots(grid_size, grid_size, figsize=(result_figsize_resolution, result_figsize_resolution))\n",
    "display_depths(sample_depth,grid_size)"
   ]
  },
  {
   "cell_type": "markdown",
   "metadata": {},
   "source": [
    "## Sample from error over 6 cm :1598341542-43g4oosjoq"
   ]
  },
  {
   "cell_type": "code",
   "execution_count": null,
   "metadata": {},
   "outputs": [],
   "source": [
    "full_image_path = f'{RGB_DATA_PATH}RGB/1598341542-43g4oosjoq/100/*.jpg'\n",
    "image_list = glob(full_image_path)\n",
    "print(\"Total_files:\",len(image_list))\n",
    "sample_image = image_list[1:50]\n",
    "result_grid_filename = 'grid.jpg'\n",
    "result_figsize_resolution = 80 # 1 = 100px\n",
    "\n",
    "# images_list = os.listdir(images_dir)\n",
    "images_count = len(sample_image)\n",
    "# print('Images: ', images_list)\n",
    "print('Images count: ', images_count)\n",
    "\n",
    "# Calculate the grid size:\n",
    "grid_size = math.ceil(math.sqrt(images_count))\n",
    "\n",
    "fig, axes = plt.subplots(grid_size, grid_size, figsize=(result_figsize_resolution, result_figsize_resolution))\n",
    "display_images(sample_image,grid_size)"
   ]
  },
  {
   "cell_type": "code",
   "execution_count": null,
   "metadata": {},
   "outputs": [],
   "source": [
    "full_depth_path = f'{DEPTH_DATA_PATH}scans/1598341542-43g4oosjoq/100/*.p'\n",
    "depth_list = glob(full_depth_path)\n",
    "print(\"Total images for qrcode:\",len(depth_list))\n",
    "sample_depth = depth_list[0:30]\n",
    "result_figsize_resolution = 80 # 1 = 100px\n",
    "# images_list = os.listdir(images_dir)\n",
    "depth_count = len(sample_depth)\n",
    "# print('Images: ', images_list)\n",
    "print('Images count: ', depth_count)\n",
    "# Calculate the grid size:\n",
    "grid_size = math.ceil(math.sqrt(depth_count))\n",
    "fig, axes = plt.subplots(grid_size, grid_size, figsize=(result_figsize_resolution, result_figsize_resolution))\n",
    "display_depths(sample_depth,grid_size)"
   ]
  }
 ],
 "metadata": {
  "kernel_info": {
   "name": "python3-azureml"
  },
  "kernelspec": {
   "display_name": "Python 3.6 - AzureML",
   "language": "python",
   "name": "python3-azureml"
  },
  "language_info": {
   "codemirror_mode": {
    "name": "ipython",
    "version": 3
   },
   "file_extension": ".py",
   "mimetype": "text/x-python",
   "name": "python",
   "nbconvert_exporter": "python",
   "pygments_lexer": "ipython3",
   "version": "3.6.9"
  },
  "nteract": {
   "version": "nteract-front-end@1.0.0"
  }
 },
 "nbformat": 4,
 "nbformat_minor": 4
}
