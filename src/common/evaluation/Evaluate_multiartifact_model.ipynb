{
 "cells": [
  {
   "cell_type": "markdown",
   "metadata": {},
   "source": [
    "# Evaluate a trained model\n",
    "\n",
    "Setup for tqdm widgets: https://ipywidgets.readthedocs.io/en/stable/user_install.html#installing-the-jupyterlab-extension"
   ]
  },
  {
   "cell_type": "code",
   "execution_count": 108,
   "metadata": {},
   "outputs": [
    {
     "name": "stdout",
     "output_type": "stream",
     "text": [
      "Azure ML SDK Version:  1.18.0\n"
     ]
    }
   ],
   "source": [
    "%reload_ext autoreload\n",
    "%autoreload 2\n",
    "\n",
    "import os\n",
    "from pathlib import Path\n",
    "import pickle\n",
    "import shutil\n",
    "import sys\n",
    "from typing import List\n",
    "\n",
    "import azureml.core\n",
    "from azureml.core import Experiment, Workspace\n",
    "from azureml.core.dataset import Dataset\n",
    "from azureml.core.run import Run\n",
    "import glob2\n",
    "import numpy as np\n",
    "import pandas as pd\n",
    "from PIL import Image\n",
    "import matplotlib.pyplot as plt\n",
    "%matplotlib inline\n",
    "from ipywidgets import interact, interactive, fixed, interact_manual\n",
    "import ipywidgets as widgets\n",
    "from IPython.display import display\n",
    "import tensorflow as tf\n",
    "from tensorflow.keras.models import load_model\n",
    "from tqdm.notebook import tqdm\n",
    "from IPython.display import display, HTML\n",
    "\n",
    "print(\"Azure ML SDK Version: \", azureml.core.VERSION)\n",
    "\n",
    "sys.path.append(str(Path(os.getcwd()).parent / 'src'))\n",
    "from eval_utils import calculate_performance, CODE_TO_SCANTYPE, CONFIG, MODEL_CKPT_FILENAME, REPO_DIR, preprocess_targets, preprocess_depthmap, tf_load_pickle, preprocess, extract_qrcode, extract_scantype, avgerror\n",
    "\n",
    "latefusion_path = 'src/models/CNNDepthMap/CNNDepthMap-height/q3-depthmapmultiartifactlatefusion-plaincnn-height/src'\n",
    "sys.path.append(str(REPO_DIR / latefusion_path))\n",
    "sys.path.append(str(REPO_DIR / 'src/common/model_utils'))\n",
    "from preprocessing import create_multiartifact_paths, create_samples\n",
    "from preprocessing_multiartifact import create_multiartifact_sample"
   ]
  },
  {
   "cell_type": "code",
   "execution_count": 109,
   "metadata": {},
   "outputs": [
    {
     "name": "stdout",
     "output_type": "stream",
     "text": [
      "/mnt/resource/batch/tasks/shared/LS_root/mounts/clusters/mhinsche-cpu/code/Users/mhinsche/cgm-ml\n",
      "/mnt/resource/batch/tasks/shared/LS_root/mounts/clusters/mhinsche-cpu/code/Users/mhinsche/cgm-ml/data\n"
     ]
    }
   ],
   "source": [
    "print(REPO_DIR)\n",
    "DATA_DIR = REPO_DIR / 'data' if Run.get_context().id.startswith(\"OfflineRun\") else Path(\".\")\n",
    "print(DATA_DIR)"
   ]
  },
  {
   "cell_type": "markdown",
   "metadata": {},
   "source": [
    "### Select the  model to be evaluated from workspace"
   ]
  },
  {
   "cell_type": "code",
   "execution_count": 110,
   "metadata": {},
   "outputs": [],
   "source": [
    "workspace = Workspace.from_config()\n",
    "\n",
    "# RUN_ID = 'q3-depthmapmultiartifactlatefusion-plaincnn-height-95k_1614066635_8c470f0a'\n",
    "# RUN_NUMBER = 4\n",
    "\n",
    "RUN_ID = 'q3-depthmapmultiartifactlatefusion-plaincnn-height-95k_1614177517_ecd7b6e2'\n",
    "RUN_NUMBER = 6\n",
    "\n",
    "\n",
    "EXPERIMENT = \"_\".join(RUN_ID.split('_')[:-2])\n",
    "OUTPUT_DIR = f'data/logs/q3-depthmapmultiartifact-plaincnn-height-95k/run_{RUN_NUMBER}/'"
   ]
  },
  {
   "cell_type": "markdown",
   "metadata": {},
   "source": [
    "### Download the models on your local system for evaluation"
   ]
  },
  {
   "cell_type": "code",
   "execution_count": 111,
   "metadata": {},
   "outputs": [
    {
     "name": "stdout",
     "output_type": "stream",
     "text": [
      "Downloading model from q3-depthmapmultiartifactlatefusion-plaincnn-height-95k_1614177517_ecd7b6e2\n"
     ]
    }
   ],
   "source": [
    "# Download model\n",
    "print(f\"Downloading model from {RUN_ID}\")\n",
    "previous_experiment = Experiment(workspace=workspace, name=EXPERIMENT)\n",
    "previous_run = Run(previous_experiment, RUN_ID)\n",
    "model_fpath = DATA_DIR / \"pretrained\" / RUN_ID\n",
    "previous_run.download_files(f\"outputs/{MODEL_CKPT_FILENAME}\", model_fpath)"
   ]
  },
  {
   "cell_type": "code",
   "execution_count": 112,
   "metadata": {},
   "outputs": [],
   "source": [
    "# Debug with local model\n",
    "# model_fpath = DATA_DIR / 'outputs' / MODEL_CKPT_FILENAME"
   ]
  },
  {
   "cell_type": "markdown",
   "metadata": {},
   "source": [
    "### Load the models"
   ]
  },
  {
   "cell_type": "code",
   "execution_count": 113,
   "metadata": {},
   "outputs": [
    {
     "data": {
      "text/plain": [
       "PosixPath('/mnt/resource/batch/tasks/shared/LS_root/mounts/clusters/mhinsche-cpu/code/Users/mhinsche/cgm-ml/data/pretrained/q3-depthmapmultiartifactlatefusion-plaincnn-height-95k_1614177517_ecd7b6e2')"
      ]
     },
     "execution_count": 113,
     "metadata": {},
     "output_type": "execute_result"
    }
   ],
   "source": [
    "model_fpath"
   ]
  },
  {
   "cell_type": "code",
   "execution_count": 114,
   "metadata": {},
   "outputs": [],
   "source": [
    "model = load_model(f'{model_fpath}/outputs/{MODEL_CKPT_FILENAME}')\n",
    "# summarize model.\n",
    "# model.summary()"
   ]
  },
  {
   "cell_type": "markdown",
   "metadata": {},
   "source": [
    "### Show a sample from the testset"
   ]
  },
  {
   "cell_type": "code",
   "execution_count": 115,
   "metadata": {},
   "outputs": [],
   "source": [
    "# Clean: anon-depthmap-testset\n",
    "# DATASET_DIR = DATA_DIR / \"anon-depthmap-testset\" / \"scans\"  # locally\n",
    "# DATASET_DIR = Path('/mnt/datasets/depthmap_testset') / \"scans\"  # on VM\n",
    "\n",
    "# Unclean: anon-realtime-testdata\n",
    "# DATASET_DIR = DATA_DIR / \"anon-realtime-testdata\" / \"depthmaps\" # locally\n",
    "DATASET_DIR = Path('/mnt/datasets/realtime_evaluation') / \"depthmaps\" # on VM"
   ]
  },
  {
   "cell_type": "code",
   "execution_count": 116,
   "metadata": {},
   "outputs": [
    {
     "name": "stdout",
     "output_type": "stream",
     "text": [
      "depthmap_max: 1.0\n"
     ]
    },
    {
     "data": {
      "image/png": "[encoded data removed]",
      "text/plain": [
       "<Figure size 432x288 with 1 Axes>"
      ]
     },
     "metadata": {
      "needs_background": "light"
     },
     "output_type": "display_data"
    }
   ],
   "source": [
    "paths = DATASET_DIR / \"1585015607-01sk32pthg/100/pc_1585015607-01sk32pthg_1591875909425_100_000.p\"\n",
    "\n",
    "depthmap, targets = pickle.load(open(paths, \"rb\"))\n",
    "depthmap = preprocess_depthmap(depthmap)\n",
    "depthmap = depthmap / depthmap.max()\n",
    "print(\"depthmap_max:\", depthmap.max())\n",
    "depthmap = tf.image.resize(depthmap, (CONFIG.IMAGE_TARGET_HEIGHT, CONFIG.IMAGE_TARGET_WIDTH))\n",
    "targets = preprocess_targets(targets, CONFIG.TARGET_INDEXES)\n",
    "depthmap.set_shape((CONFIG.IMAGE_TARGET_HEIGHT, CONFIG.IMAGE_TARGET_WIDTH, 1))\n",
    "# targets.set_shape((len(targets_indices,)))\n",
    "plt.imshow(np.squeeze(depthmap), cmap='gray');"
   ]
  },
  {
   "cell_type": "markdown",
   "metadata": {},
   "source": [
    "## Dataset\n",
    "\n",
    "To use the dataset, you can:\n",
    "- mount the dataset\n",
    "- use datastore (blob storage)\n",
    "- download the dataset\n",
    "\n",
    "Choose your preferred way and make sure to adjust the absolute path"
   ]
  },
  {
   "cell_type": "code",
   "execution_count": 117,
   "metadata": {},
   "outputs": [],
   "source": [
    "DATASET_PATH = str(DATASET_DIR / \"*/\")"
   ]
  },
  {
   "cell_type": "markdown",
   "metadata": {},
   "source": [
    "### Perform the prediction"
   ]
  },
  {
   "cell_type": "code",
   "execution_count": 118,
   "metadata": {},
   "outputs": [
    {
     "name": "stdout",
     "output_type": "stream",
     "text": [
      "3000\n"
     ]
    },
    {
     "data": {
      "text/plain": [
       "['/mnt/datasets/realtime_evaluation/depthmaps/1585221777-nbkphm80ut',\n",
       " '/mnt/datasets/realtime_evaluation/depthmaps/1585120870-mmu6j6fyir',\n",
       " '/mnt/datasets/realtime_evaluation/depthmaps/1583997707-txmia01gdm']"
      ]
     },
     "execution_count": 118,
     "metadata": {},
     "output_type": "execute_result"
    }
   ],
   "source": [
    "qrcode_paths = glob2.glob(DATASET_PATH); \n",
    "print(len(qrcode_paths))\n",
    "qrcode_paths = qrcode_paths# [:100]  # reduce size for DEBUG speed\n",
    "qrcode_paths[:3]"
   ]
  },
  {
   "cell_type": "code",
   "execution_count": 119,
   "metadata": {},
   "outputs": [
    {
     "data": {
      "text/plain": [
       "('100', '101', '102', '200', '201', '202')"
      ]
     },
     "execution_count": 119,
     "metadata": {},
     "output_type": "execute_result"
    }
   ],
   "source": [
    "CONFIG.CODES_FOR_POSE_AND_SCANSTEP"
   ]
  },
  {
   "cell_type": "code",
   "execution_count": null,
   "metadata": {},
   "outputs": [],
   "source": [
    "samples_paths = create_samples(qrcode_paths, CONFIG)"
   ]
  },
  {
   "cell_type": "code",
   "execution_count": null,
   "metadata": {},
   "outputs": [],
   "source": [
    "# create_multiartifact_paths??"
   ]
  },
  {
   "cell_type": "code",
   "execution_count": 121,
   "metadata": {},
   "outputs": [],
   "source": [
    "# len(samples_paths), samples_paths[0]"
   ]
  },
  {
   "cell_type": "code",
   "execution_count": 122,
   "metadata": {},
   "outputs": [
    {
     "data": {
      "application/vnd.jupyter.widget-view+json": {
       "model_id": "e25412b3cc9045c98ffea1f86a656f5c",
       "version_major": 2,
       "version_minor": 0
      },
      "text/plain": [
       "  0%|          | 0/8967 [00:00<?, ?it/s]"
      ]
     },
     "metadata": {},
     "output_type": "display_data"
    },
    {
     "name": "stdout",
     "output_type": "stream",
     "text": [
      "Warning: Not all targets are the same!!\n",
      "target_list: [array([64.3], dtype=float32), array([85.8], dtype=float32), array([85.8], dtype=float32), array([85.8], dtype=float32), array([85.8], dtype=float32)] artifacts: ['/mnt/datasets/realtime_evaluation/depthmaps/1585016399-mg9sx56znh/100/pc_1585016399-mg9sx56znh_1591886138741_100_000.p', '/mnt/datasets/realtime_evaluation/depthmaps/1585016399-mg9sx56znh/100/pc_1585016399-mg9sx56znh_1591886138741_100_001.p', '/mnt/datasets/realtime_evaluation/depthmaps/1585016399-mg9sx56znh/100/pc_1585016399-mg9sx56znh_1591886138741_100_002.p', '/mnt/datasets/realtime_evaluation/depthmaps/1585016399-mg9sx56znh/100/pc_1585016399-mg9sx56znh_1591886138741_100_003.p', '/mnt/datasets/realtime_evaluation/depthmaps/1585016399-mg9sx56znh/100/pc_1585016399-mg9sx56znh_1591886138741_100_004.p']\n",
      "Warning: Not all targets are the same!!\n",
      "target_list: [array([85.8], dtype=float32), array([85.8], dtype=float32), array([85.8], dtype=float32), array([85.8], dtype=float32), array([64.3], dtype=float32)] artifacts: ['/mnt/datasets/realtime_evaluation/depthmaps/1585016399-mg9sx56znh/101/pc_1585016399-mg9sx56znh_1591886138741_101_001.p', '/mnt/datasets/realtime_evaluation/depthmaps/1585016399-mg9sx56znh/101/pc_1585016399-mg9sx56znh_1591886138741_101_004.p', '/mnt/datasets/realtime_evaluation/depthmaps/1585016399-mg9sx56znh/101/pc_1585016399-mg9sx56znh_1591886138741_101_007.p', '/mnt/datasets/realtime_evaluation/depthmaps/1585016399-mg9sx56znh/101/pc_1585016399-mg9sx56znh_1591886138741_101_010.p', '/mnt/datasets/realtime_evaluation/depthmaps/1585016399-mg9sx56znh/101/pc_1585016399-mg9sx56znh_1591886138741_101_013.p']\n",
      "Warning: Not all targets are the same!!\n",
      "target_list: [array([64.3], dtype=float32), array([85.8], dtype=float32), array([64.3], dtype=float32), array([85.8], dtype=float32), array([85.8], dtype=float32)] artifacts: ['/mnt/datasets/realtime_evaluation/depthmaps/1585016399-mg9sx56znh/102/pc_1585016399-mg9sx56znh_1591886138741_102_001.p', '/mnt/datasets/realtime_evaluation/depthmaps/1585016399-mg9sx56znh/102/pc_1585016399-mg9sx56znh_1591886138741_102_003.p', '/mnt/datasets/realtime_evaluation/depthmaps/1585016399-mg9sx56znh/102/pc_1585016399-mg9sx56znh_1591886138741_102_005.p', '/mnt/datasets/realtime_evaluation/depthmaps/1585016399-mg9sx56znh/102/pc_1585016399-mg9sx56znh_1591886138741_102_007.p', '/mnt/datasets/realtime_evaluation/depthmaps/1585016399-mg9sx56znh/102/pc_1585016399-mg9sx56znh_1591886138741_102_009.p']\n"
     ]
    },
    {
     "name": "stderr",
     "output_type": "stream",
     "text": [
      "IOPub message rate exceeded.\n",
      "The notebook server will temporarily stop sending output\n",
      "to the client in order to avoid crashing it.\n",
      "To change this limit, set the config variable\n",
      "`--NotebookApp.iopub_msg_rate_limit`.\n",
      "\n",
      "Current values:\n",
      "NotebookApp.iopub_msg_rate_limit=1000.0 (msgs/sec)\n",
      "NotebookApp.rate_limit_window=3.0 (secs)\n",
      "\n"
     ]
    }
   ],
   "source": [
    "predictions = []\n",
    "for sample_paths in tqdm(samples_paths):\n",
    "    depthmap, targets = create_multiartifact_sample(sample_paths)\n",
    "    depthmaps = tf.stack([depthmap])\n",
    "    \n",
    "    pred = model.predict(depthmaps)\n",
    "    \n",
    "    predictions.append([sample_paths[0], float(np.squeeze(pred)), targets[0]])"
   ]
  },
  {
   "cell_type": "code",
   "execution_count": 123,
   "metadata": {},
   "outputs": [
    {
     "data": {
      "text/plain": [
       "['/mnt/datasets/realtime_evaluation/depthmaps/1583462505-43bak4gvfa/100/pc_1583462505-43bak4gvfa_1591122173510_100_000.p',\n",
       " 94.78632354736328,\n",
       " 95.5]"
      ]
     },
     "execution_count": 123,
     "metadata": {},
     "output_type": "execute_result"
    }
   ],
   "source": [
    "# 4.2 minutes for all 1745 scans' predictions\n",
    "\n",
    "predictions[0]"
   ]
  },
  {
   "cell_type": "code",
   "execution_count": 124,
   "metadata": {},
   "outputs": [],
   "source": [
    "# list to dataframe\n",
    "df = pd.DataFrame(predictions, columns=['artifacts', 'predicted', 'GT'])"
   ]
  },
  {
   "cell_type": "code",
   "execution_count": 125,
   "metadata": {},
   "outputs": [],
   "source": [
    "# df.head(5)"
   ]
  },
  {
   "cell_type": "code",
   "execution_count": 126,
   "metadata": {},
   "outputs": [
    {
     "data": {
      "text/plain": [
       "'/mnt/datasets/realtime_evaluation/depthmaps/1583462505-43bak4gvfa/100/pc_1583462505-43bak4gvfa_1591122192186_100_001.p'"
      ]
     },
     "execution_count": 126,
     "metadata": {},
     "output_type": "execute_result"
    }
   ],
   "source": [
    "df['artifacts'].iloc[1]  # sample of how the artifacts path looks like for me, modify it accordingly to suit your path dependency"
   ]
  },
  {
   "cell_type": "code",
   "execution_count": 127,
   "metadata": {},
   "outputs": [
    {
     "data": {
      "text/plain": [
       "101    2766\n",
       "102    2754\n",
       "100    2744\n",
       "201     235\n",
       "200     234\n",
       "202     234\n",
       "Name: scantype, dtype: int64"
      ]
     },
     "execution_count": 127,
     "metadata": {},
     "output_type": "execute_result"
    }
   ],
   "source": [
    "df['scantype'] = df.apply(extract_scantype, axis=1)\n",
    "df['qrcode'] = df.apply(extract_qrcode, axis=1)\n",
    "df['scantype'].value_counts()"
   ]
  },
  {
   "cell_type": "code",
   "execution_count": 128,
   "metadata": {},
   "outputs": [
    {
     "data": {
      "text/html": [
       "<div>\n",
       "<style scoped>\n",
       "    .dataframe tbody tr th:only-of-type {\n",
       "        vertical-align: middle;\n",
       "    }\n",
       "\n",
       "    .dataframe tbody tr th {\n",
       "        vertical-align: top;\n",
       "    }\n",
       "\n",
       "    .dataframe thead th {\n",
       "        text-align: right;\n",
       "    }\n",
       "</style>\n",
       "<table border=\"1\" class=\"dataframe\">\n",
       "  <thead>\n",
       "    <tr style=\"text-align: right;\">\n",
       "      <th></th>\n",
       "      <th>artifacts</th>\n",
       "      <th>predicted</th>\n",
       "      <th>GT</th>\n",
       "      <th>scantype</th>\n",
       "      <th>qrcode</th>\n",
       "    </tr>\n",
       "  </thead>\n",
       "  <tbody>\n",
       "    <tr>\n",
       "      <th>0</th>\n",
       "      <td>/mnt/datasets/realtime_evaluation/depthmaps/15...</td>\n",
       "      <td>94.786324</td>\n",
       "      <td>95.500000</td>\n",
       "      <td>100</td>\n",
       "      <td>1583462505-43bak4gvfa</td>\n",
       "    </tr>\n",
       "    <tr>\n",
       "      <th>1</th>\n",
       "      <td>/mnt/datasets/realtime_evaluation/depthmaps/15...</td>\n",
       "      <td>95.828590</td>\n",
       "      <td>95.500000</td>\n",
       "      <td>100</td>\n",
       "      <td>1583462505-43bak4gvfa</td>\n",
       "    </tr>\n",
       "    <tr>\n",
       "      <th>2</th>\n",
       "      <td>/mnt/datasets/realtime_evaluation/depthmaps/15...</td>\n",
       "      <td>99.176094</td>\n",
       "      <td>95.500000</td>\n",
       "      <td>100</td>\n",
       "      <td>1583462505-43bak4gvfa</td>\n",
       "    </tr>\n",
       "    <tr>\n",
       "      <th>3</th>\n",
       "      <td>/mnt/datasets/realtime_evaluation/depthmaps/15...</td>\n",
       "      <td>95.155167</td>\n",
       "      <td>95.300003</td>\n",
       "      <td>100</td>\n",
       "      <td>1583462505-43bak4gvfa</td>\n",
       "    </tr>\n",
       "    <tr>\n",
       "      <th>4</th>\n",
       "      <td>/mnt/datasets/realtime_evaluation/depthmaps/15...</td>\n",
       "      <td>95.740143</td>\n",
       "      <td>94.599998</td>\n",
       "      <td>100</td>\n",
       "      <td>1583462505-43bak4gvfa</td>\n",
       "    </tr>\n",
       "  </tbody>\n",
       "</table>\n",
       "</div>"
      ],
      "text/plain": [
       "                                           artifacts  predicted         GT  \\\n",
       "0  /mnt/datasets/realtime_evaluation/depthmaps/15...  94.786324  95.500000   \n",
       "1  /mnt/datasets/realtime_evaluation/depthmaps/15...  95.828590  95.500000   \n",
       "2  /mnt/datasets/realtime_evaluation/depthmaps/15...  99.176094  95.500000   \n",
       "3  /mnt/datasets/realtime_evaluation/depthmaps/15...  95.155167  95.300003   \n",
       "4  /mnt/datasets/realtime_evaluation/depthmaps/15...  95.740143  94.599998   \n",
       "\n",
       "  scantype                 qrcode  \n",
       "0      100  1583462505-43bak4gvfa  \n",
       "1      100  1583462505-43bak4gvfa  \n",
       "2      100  1583462505-43bak4gvfa  \n",
       "3      100  1583462505-43bak4gvfa  \n",
       "4      100  1583462505-43bak4gvfa  "
      ]
     },
     "execution_count": 128,
     "metadata": {},
     "output_type": "execute_result"
    }
   ],
   "source": [
    "df.head(5)"
   ]
  },
  {
   "cell_type": "code",
   "execution_count": 129,
   "metadata": {},
   "outputs": [
    {
     "data": {
      "text/plain": [
       "8967"
      ]
     },
     "execution_count": 129,
     "metadata": {},
     "output_type": "execute_result"
    }
   ],
   "source": [
    "len(df)"
   ]
  },
  {
   "cell_type": "code",
   "execution_count": 130,
   "metadata": {},
   "outputs": [
    {
     "data": {
      "text/plain": [
       "2984"
      ]
     },
     "execution_count": 130,
     "metadata": {},
     "output_type": "execute_result"
    }
   ],
   "source": [
    "len(df['qrcode'].unique()) ## total number of scans"
   ]
  },
  {
   "cell_type": "markdown",
   "metadata": {},
   "source": [
    "### Group the results of artifacts by qrcode and scantype by taking mean across the same scantype"
   ]
  },
  {
   "cell_type": "code",
   "execution_count": 131,
   "metadata": {},
   "outputs": [],
   "source": [
    "MAE = df.groupby(['qrcode', 'scantype']).mean()\n",
    "# MAE"
   ]
  },
  {
   "cell_type": "markdown",
   "metadata": {},
   "source": [
    "## Error between predicted and ground truth"
   ]
  },
  {
   "cell_type": "code",
   "execution_count": 132,
   "metadata": {},
   "outputs": [],
   "source": [
    "MAE['error'] = MAE.apply(avgerror, axis=1)\n",
    "# MAE"
   ]
  },
  {
   "cell_type": "markdown",
   "metadata": {},
   "source": [
    "## Calculate accuracies across the scantypes"
   ]
  },
  {
   "cell_type": "code",
   "execution_count": 133,
   "metadata": {},
   "outputs": [
    {
     "data": {
      "text/plain": [
       "{'100': '_standingfront',\n",
       " '101': '_standing360',\n",
       " '102': '_standingback',\n",
       " '200': '_lyingfront',\n",
       " '201': '_lyingrot',\n",
       " '202': '_lyingback'}"
      ]
     },
     "execution_count": 133,
     "metadata": {},
     "output_type": "execute_result"
    }
   ],
   "source": [
    "CODE_TO_SCANTYPE"
   ]
  },
  {
   "cell_type": "code",
   "execution_count": 142,
   "metadata": {},
   "outputs": [
    {
     "data": {
      "text/html": [
       "<table border=\"1\" class=\"dataframe\">\n",
       "  <thead>\n",
       "    <tr style=\"text-align: right;\">\n",
       "      <th></th>\n",
       "      <th>0.2</th>\n",
       "      <th>0.4</th>\n",
       "      <th>0.6</th>\n",
       "      <th>1.0</th>\n",
       "      <th>1.2</th>\n",
       "      <th>2.0</th>\n",
       "      <th>2.5</th>\n",
       "      <th>3.0</th>\n",
       "      <th>4.0</th>\n",
       "      <th>5.0</th>\n",
       "      <th>6.0</th>\n",
       "    </tr>\n",
       "  </thead>\n",
       "  <tbody>\n",
       "    <tr>\n",
       "      <th>q3-depthmapmultiartifactlatefusion-plaincnn-height-95k_standingfront_run_6_standingfront</th>\n",
       "      <td>10.66</td>\n",
       "      <td>21.95</td>\n",
       "      <td>32.72</td>\n",
       "      <td>50.62</td>\n",
       "      <td>57.87</td>\n",
       "      <td>78.68</td>\n",
       "      <td>85.62</td>\n",
       "      <td>89.12</td>\n",
       "      <td>93.01</td>\n",
       "      <td>94.93</td>\n",
       "      <td>96.18</td>\n",
       "    </tr>\n",
       "  </tbody>\n",
       "</table>"
      ],
      "text/plain": [
       "<IPython.core.display.HTML object>"
      ]
     },
     "metadata": {},
     "output_type": "display_data"
    },
    {
     "data": {
      "text/html": [
       "<table border=\"1\" class=\"dataframe\">\n",
       "  <thead>\n",
       "    <tr style=\"text-align: right;\">\n",
       "      <th></th>\n",
       "      <th>0.2</th>\n",
       "      <th>0.4</th>\n",
       "      <th>0.6</th>\n",
       "      <th>1.0</th>\n",
       "      <th>1.2</th>\n",
       "      <th>2.0</th>\n",
       "      <th>2.5</th>\n",
       "      <th>3.0</th>\n",
       "      <th>4.0</th>\n",
       "      <th>5.0</th>\n",
       "      <th>6.0</th>\n",
       "    </tr>\n",
       "  </thead>\n",
       "  <tbody>\n",
       "    <tr>\n",
       "      <th>q3-depthmapmultiartifactlatefusion-plaincnn-height-95k_standing360_run_6_standing360</th>\n",
       "      <td>11.52</td>\n",
       "      <td>21.37</td>\n",
       "      <td>30.67</td>\n",
       "      <td>47.37</td>\n",
       "      <td>54.01</td>\n",
       "      <td>74.76</td>\n",
       "      <td>81.62</td>\n",
       "      <td>86.29</td>\n",
       "      <td>91.32</td>\n",
       "      <td>94.16</td>\n",
       "      <td>95.37</td>\n",
       "    </tr>\n",
       "  </tbody>\n",
       "</table>"
      ],
      "text/plain": [
       "<IPython.core.display.HTML object>"
      ]
     },
     "metadata": {},
     "output_type": "display_data"
    },
    {
     "data": {
      "text/html": [
       "<table border=\"1\" class=\"dataframe\">\n",
       "  <thead>\n",
       "    <tr style=\"text-align: right;\">\n",
       "      <th></th>\n",
       "      <th>0.2</th>\n",
       "      <th>0.4</th>\n",
       "      <th>0.6</th>\n",
       "      <th>1.0</th>\n",
       "      <th>1.2</th>\n",
       "      <th>2.0</th>\n",
       "      <th>2.5</th>\n",
       "      <th>3.0</th>\n",
       "      <th>4.0</th>\n",
       "      <th>5.0</th>\n",
       "      <th>6.0</th>\n",
       "    </tr>\n",
       "  </thead>\n",
       "  <tbody>\n",
       "    <tr>\n",
       "      <th>q3-depthmapmultiartifactlatefusion-plaincnn-height-95k_standingback_run_6_standingback</th>\n",
       "      <td>10.62</td>\n",
       "      <td>21.65</td>\n",
       "      <td>31.14</td>\n",
       "      <td>47.91</td>\n",
       "      <td>55.09</td>\n",
       "      <td>75.86</td>\n",
       "      <td>82.6</td>\n",
       "      <td>87.11</td>\n",
       "      <td>91.98</td>\n",
       "      <td>94.21</td>\n",
       "      <td>95.6</td>\n",
       "    </tr>\n",
       "  </tbody>\n",
       "</table>"
      ],
      "text/plain": [
       "<IPython.core.display.HTML object>"
      ]
     },
     "metadata": {},
     "output_type": "display_data"
    },
    {
     "data": {
      "text/html": [
       "<table border=\"1\" class=\"dataframe\">\n",
       "  <thead>\n",
       "    <tr style=\"text-align: right;\">\n",
       "      <th></th>\n",
       "      <th>0.2</th>\n",
       "      <th>0.4</th>\n",
       "      <th>0.6</th>\n",
       "      <th>1.0</th>\n",
       "      <th>1.2</th>\n",
       "      <th>2.0</th>\n",
       "      <th>2.5</th>\n",
       "      <th>3.0</th>\n",
       "      <th>4.0</th>\n",
       "      <th>5.0</th>\n",
       "      <th>6.0</th>\n",
       "    </tr>\n",
       "  </thead>\n",
       "  <tbody>\n",
       "    <tr>\n",
       "      <th>q3-depthmapmultiartifactlatefusion-plaincnn-height-95k_lyingfront_run_6_lyingfront</th>\n",
       "      <td>4.27</td>\n",
       "      <td>9.83</td>\n",
       "      <td>14.53</td>\n",
       "      <td>23.5</td>\n",
       "      <td>26.92</td>\n",
       "      <td>38.46</td>\n",
       "      <td>46.15</td>\n",
       "      <td>54.27</td>\n",
       "      <td>69.66</td>\n",
       "      <td>78.63</td>\n",
       "      <td>83.76</td>\n",
       "    </tr>\n",
       "  </tbody>\n",
       "</table>"
      ],
      "text/plain": [
       "<IPython.core.display.HTML object>"
      ]
     },
     "metadata": {},
     "output_type": "display_data"
    },
    {
     "data": {
      "text/html": [
       "<table border=\"1\" class=\"dataframe\">\n",
       "  <thead>\n",
       "    <tr style=\"text-align: right;\">\n",
       "      <th></th>\n",
       "      <th>0.2</th>\n",
       "      <th>0.4</th>\n",
       "      <th>0.6</th>\n",
       "      <th>1.0</th>\n",
       "      <th>1.2</th>\n",
       "      <th>2.0</th>\n",
       "      <th>2.5</th>\n",
       "      <th>3.0</th>\n",
       "      <th>4.0</th>\n",
       "      <th>5.0</th>\n",
       "      <th>6.0</th>\n",
       "    </tr>\n",
       "  </thead>\n",
       "  <tbody>\n",
       "    <tr>\n",
       "      <th>q3-depthmapmultiartifactlatefusion-plaincnn-height-95k_lyingrot_run_6_lyingrot</th>\n",
       "      <td>1.28</td>\n",
       "      <td>5.53</td>\n",
       "      <td>8.51</td>\n",
       "      <td>18.72</td>\n",
       "      <td>22.55</td>\n",
       "      <td>32.34</td>\n",
       "      <td>42.13</td>\n",
       "      <td>51.06</td>\n",
       "      <td>63.4</td>\n",
       "      <td>75.74</td>\n",
       "      <td>82.55</td>\n",
       "    </tr>\n",
       "  </tbody>\n",
       "</table>"
      ],
      "text/plain": [
       "<IPython.core.display.HTML object>"
      ]
     },
     "metadata": {},
     "output_type": "display_data"
    },
    {
     "data": {
      "text/html": [
       "<table border=\"1\" class=\"dataframe\">\n",
       "  <thead>\n",
       "    <tr style=\"text-align: right;\">\n",
       "      <th></th>\n",
       "      <th>0.2</th>\n",
       "      <th>0.4</th>\n",
       "      <th>0.6</th>\n",
       "      <th>1.0</th>\n",
       "      <th>1.2</th>\n",
       "      <th>2.0</th>\n",
       "      <th>2.5</th>\n",
       "      <th>3.0</th>\n",
       "      <th>4.0</th>\n",
       "      <th>5.0</th>\n",
       "      <th>6.0</th>\n",
       "    </tr>\n",
       "  </thead>\n",
       "  <tbody>\n",
       "    <tr>\n",
       "      <th>q3-depthmapmultiartifactlatefusion-plaincnn-height-95k_lyingback_run_6_lyingback</th>\n",
       "      <td>2.14</td>\n",
       "      <td>7.69</td>\n",
       "      <td>11.54</td>\n",
       "      <td>20.51</td>\n",
       "      <td>23.08</td>\n",
       "      <td>35.9</td>\n",
       "      <td>44.87</td>\n",
       "      <td>52.56</td>\n",
       "      <td>65.38</td>\n",
       "      <td>74.79</td>\n",
       "      <td>82.05</td>\n",
       "    </tr>\n",
       "  </tbody>\n",
       "</table>"
      ],
      "text/plain": [
       "<IPython.core.display.HTML object>"
      ]
     },
     "metadata": {},
     "output_type": "display_data"
    }
   ],
   "source": [
    "dfs = []\n",
    "for code in CODE_TO_SCANTYPE.keys():\n",
    "    # unique name for the index values\n",
    "    model_name = 'q3-depthmap-plaincnn-height-100-95k'\n",
    "    run_no = f'{CODE_TO_SCANTYPE[code]}_run_{RUN_NUMBER}'\n",
    "    complete_name = EXPERIMENT + run_no; complete_name\n",
    "\n",
    "    df_out = calculate_performance(code, MAE)\n",
    "    full_model_name = complete_name + CODE_TO_SCANTYPE[code]\n",
    "    df_out.rename(index={0:full_model_name}, inplace=True)\n",
    "    df_out = df_out.round(2)\n",
    "    display(HTML(df_out.to_html()))\n",
    "    dfs.append(df_out)"
   ]
  },
  {
   "cell_type": "code",
   "execution_count": 143,
   "metadata": {},
   "outputs": [
    {
     "data": {
      "text/plain": [
       "'/mnt/datasets/realtime_evaluation/depthmaps/1583462505-43bak4gvfa/100/pc_1583462505-43bak4gvfa_1591122173510_100_000.p'"
      ]
     },
     "execution_count": 143,
     "metadata": {},
     "output_type": "execute_result"
    }
   ],
   "source": [
    "df['artifacts'].iloc[0]"
   ]
  },
  {
   "cell_type": "markdown",
   "metadata": {},
   "source": [
    "## Combine the results for all accuracies"
   ]
  },
  {
   "cell_type": "code",
   "execution_count": 144,
   "metadata": {},
   "outputs": [
    {
     "data": {
      "text/html": [
       "<div>\n",
       "<style scoped>\n",
       "    .dataframe tbody tr th:only-of-type {\n",
       "        vertical-align: middle;\n",
       "    }\n",
       "\n",
       "    .dataframe tbody tr th {\n",
       "        vertical-align: top;\n",
       "    }\n",
       "\n",
       "    .dataframe thead th {\n",
       "        text-align: right;\n",
       "    }\n",
       "</style>\n",
       "<table border=\"1\" class=\"dataframe\">\n",
       "  <thead>\n",
       "    <tr style=\"text-align: right;\">\n",
       "      <th></th>\n",
       "      <th>0.2</th>\n",
       "      <th>0.4</th>\n",
       "      <th>0.6</th>\n",
       "      <th>1.0</th>\n",
       "      <th>1.2</th>\n",
       "      <th>2.0</th>\n",
       "      <th>2.5</th>\n",
       "      <th>3.0</th>\n",
       "      <th>4.0</th>\n",
       "      <th>5.0</th>\n",
       "      <th>6.0</th>\n",
       "    </tr>\n",
       "    <tr>\n",
       "      <th>Model_Scantype</th>\n",
       "      <th></th>\n",
       "      <th></th>\n",
       "      <th></th>\n",
       "      <th></th>\n",
       "      <th></th>\n",
       "      <th></th>\n",
       "      <th></th>\n",
       "      <th></th>\n",
       "      <th></th>\n",
       "      <th></th>\n",
       "      <th></th>\n",
       "    </tr>\n",
       "  </thead>\n",
       "  <tbody>\n",
       "    <tr>\n",
       "      <th>q3-depthmapmultiartifactlatefusion-plaincnn-height-95k_standingfront_run_6_standingfront</th>\n",
       "      <td>10.66</td>\n",
       "      <td>21.95</td>\n",
       "      <td>32.72</td>\n",
       "      <td>50.62</td>\n",
       "      <td>57.87</td>\n",
       "      <td>78.68</td>\n",
       "      <td>85.62</td>\n",
       "      <td>89.12</td>\n",
       "      <td>93.01</td>\n",
       "      <td>94.93</td>\n",
       "      <td>96.18</td>\n",
       "    </tr>\n",
       "    <tr>\n",
       "      <th>q3-depthmapmultiartifactlatefusion-plaincnn-height-95k_standing360_run_6_standing360</th>\n",
       "      <td>11.52</td>\n",
       "      <td>21.37</td>\n",
       "      <td>30.67</td>\n",
       "      <td>47.37</td>\n",
       "      <td>54.01</td>\n",
       "      <td>74.76</td>\n",
       "      <td>81.62</td>\n",
       "      <td>86.29</td>\n",
       "      <td>91.32</td>\n",
       "      <td>94.16</td>\n",
       "      <td>95.37</td>\n",
       "    </tr>\n",
       "    <tr>\n",
       "      <th>q3-depthmapmultiartifactlatefusion-plaincnn-height-95k_standingback_run_6_standingback</th>\n",
       "      <td>10.62</td>\n",
       "      <td>21.65</td>\n",
       "      <td>31.14</td>\n",
       "      <td>47.91</td>\n",
       "      <td>55.09</td>\n",
       "      <td>75.86</td>\n",
       "      <td>82.60</td>\n",
       "      <td>87.11</td>\n",
       "      <td>91.98</td>\n",
       "      <td>94.21</td>\n",
       "      <td>95.60</td>\n",
       "    </tr>\n",
       "    <tr>\n",
       "      <th>q3-depthmapmultiartifactlatefusion-plaincnn-height-95k_lyingfront_run_6_lyingfront</th>\n",
       "      <td>4.27</td>\n",
       "      <td>9.83</td>\n",
       "      <td>14.53</td>\n",
       "      <td>23.50</td>\n",
       "      <td>26.92</td>\n",
       "      <td>38.46</td>\n",
       "      <td>46.15</td>\n",
       "      <td>54.27</td>\n",
       "      <td>69.66</td>\n",
       "      <td>78.63</td>\n",
       "      <td>83.76</td>\n",
       "    </tr>\n",
       "    <tr>\n",
       "      <th>q3-depthmapmultiartifactlatefusion-plaincnn-height-95k_lyingrot_run_6_lyingrot</th>\n",
       "      <td>1.28</td>\n",
       "      <td>5.53</td>\n",
       "      <td>8.51</td>\n",
       "      <td>18.72</td>\n",
       "      <td>22.55</td>\n",
       "      <td>32.34</td>\n",
       "      <td>42.13</td>\n",
       "      <td>51.06</td>\n",
       "      <td>63.40</td>\n",
       "      <td>75.74</td>\n",
       "      <td>82.55</td>\n",
       "    </tr>\n",
       "    <tr>\n",
       "      <th>q3-depthmapmultiartifactlatefusion-plaincnn-height-95k_lyingback_run_6_lyingback</th>\n",
       "      <td>2.14</td>\n",
       "      <td>7.69</td>\n",
       "      <td>11.54</td>\n",
       "      <td>20.51</td>\n",
       "      <td>23.08</td>\n",
       "      <td>35.90</td>\n",
       "      <td>44.87</td>\n",
       "      <td>52.56</td>\n",
       "      <td>65.38</td>\n",
       "      <td>74.79</td>\n",
       "      <td>82.05</td>\n",
       "    </tr>\n",
       "  </tbody>\n",
       "</table>\n",
       "</div>"
      ],
      "text/plain": [
       "                                                      0.2    0.4    0.6  \\\n",
       "Model_Scantype                                                            \n",
       "q3-depthmapmultiartifactlatefusion-plaincnn-hei...  10.66  21.95  32.72   \n",
       "q3-depthmapmultiartifactlatefusion-plaincnn-hei...  11.52  21.37  30.67   \n",
       "q3-depthmapmultiartifactlatefusion-plaincnn-hei...  10.62  21.65  31.14   \n",
       "q3-depthmapmultiartifactlatefusion-plaincnn-hei...   4.27   9.83  14.53   \n",
       "q3-depthmapmultiartifactlatefusion-plaincnn-hei...   1.28   5.53   8.51   \n",
       "q3-depthmapmultiartifactlatefusion-plaincnn-hei...   2.14   7.69  11.54   \n",
       "\n",
       "                                                      1.0    1.2    2.0  \\\n",
       "Model_Scantype                                                            \n",
       "q3-depthmapmultiartifactlatefusion-plaincnn-hei...  50.62  57.87  78.68   \n",
       "q3-depthmapmultiartifactlatefusion-plaincnn-hei...  47.37  54.01  74.76   \n",
       "q3-depthmapmultiartifactlatefusion-plaincnn-hei...  47.91  55.09  75.86   \n",
       "q3-depthmapmultiartifactlatefusion-plaincnn-hei...  23.50  26.92  38.46   \n",
       "q3-depthmapmultiartifactlatefusion-plaincnn-hei...  18.72  22.55  32.34   \n",
       "q3-depthmapmultiartifactlatefusion-plaincnn-hei...  20.51  23.08  35.90   \n",
       "\n",
       "                                                      2.5    3.0    4.0  \\\n",
       "Model_Scantype                                                            \n",
       "q3-depthmapmultiartifactlatefusion-plaincnn-hei...  85.62  89.12  93.01   \n",
       "q3-depthmapmultiartifactlatefusion-plaincnn-hei...  81.62  86.29  91.32   \n",
       "q3-depthmapmultiartifactlatefusion-plaincnn-hei...  82.60  87.11  91.98   \n",
       "q3-depthmapmultiartifactlatefusion-plaincnn-hei...  46.15  54.27  69.66   \n",
       "q3-depthmapmultiartifactlatefusion-plaincnn-hei...  42.13  51.06  63.40   \n",
       "q3-depthmapmultiartifactlatefusion-plaincnn-hei...  44.87  52.56  65.38   \n",
       "\n",
       "                                                      5.0    6.0  \n",
       "Model_Scantype                                                    \n",
       "q3-depthmapmultiartifactlatefusion-plaincnn-hei...  94.93  96.18  \n",
       "q3-depthmapmultiartifactlatefusion-plaincnn-hei...  94.16  95.37  \n",
       "q3-depthmapmultiartifactlatefusion-plaincnn-hei...  94.21  95.60  \n",
       "q3-depthmapmultiartifactlatefusion-plaincnn-hei...  78.63  83.76  \n",
       "q3-depthmapmultiartifactlatefusion-plaincnn-hei...  75.74  82.55  \n",
       "q3-depthmapmultiartifactlatefusion-plaincnn-hei...  74.79  82.05  "
      ]
     },
     "execution_count": 144,
     "metadata": {},
     "output_type": "execute_result"
    }
   ],
   "source": [
    "result = pd.concat(dfs)\n",
    "result.index.name = 'Model_Scantype'\n",
    "result"
   ]
  },
  {
   "cell_type": "code",
   "execution_count": 145,
   "metadata": {},
   "outputs": [],
   "source": [
    "# Save the model results in csv file\n",
    "CSV_OUT_PATH = DATA_DIR / 'eval' / RUN_ID / 'result.csv'\n",
    "Path(CSV_OUT_PATH.parent).mkdir(parents=True, exist_ok=True)\n",
    "result.to_csv(CSV_OUT_PATH, index=True)"
   ]
  },
  {
   "cell_type": "code",
   "execution_count": null,
   "metadata": {},
   "outputs": [],
   "source": []
  },
  {
   "cell_type": "code",
   "execution_count": null,
   "metadata": {},
   "outputs": [],
   "source": []
  }
 ],
 "metadata": {
  "kernel_info": {
   "name": "cgm_qa_pipeline"
  },
  "kernelspec": {
   "display_name": "CGM_QA_Pipeline",
   "language": "python",
   "name": "cgm_qa_pipeline"
  },
  "language_info": {
   "codemirror_mode": {
    "name": "ipython",
    "version": 3
   },
   "file_extension": ".py",
   "mimetype": "text/x-python",
   "name": "python",
   "nbconvert_exporter": "python",
   "pygments_lexer": "ipython3",
   "version": "3.7.9"
  },
  "nteract": {
   "version": "nteract-front-end@1.0.0"
  }
 },
 "nbformat": 4,
 "nbformat_minor": 4
}
