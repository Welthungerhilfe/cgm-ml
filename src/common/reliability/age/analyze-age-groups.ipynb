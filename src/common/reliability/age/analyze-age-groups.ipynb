{
  "cells": [
    {
      "cell_type": "code",
      "source": [
        "# ! pip install tensorflow-addons\n",
        "# ! pip install tensorflow==2.3.1\n",
        "! pip list | grep tensorflow"
      ],
      "outputs": [],
      "execution_count": null,
      "metadata": {
        "collapsed": true,
        "jupyter": {
          "source_hidden": false,
          "outputs_hidden": false
        },
        "nteract": {
          "transient": {
            "deleting": false
          }
        },
        "gather": {
          "logged": 1607673965724
        }
      }
    },
    {
      "cell_type": "code",
      "source": [
        "import json\n",
        "from pathlib import Path\n",
        "import os\n",
        "import pickle\n",
        "import random\n",
        "import shutil\n",
        "import sys\n",
        "import numpy as np\n",
        "\n",
        "import glob2 as glob\n",
        "import tensorflow as tf\n",
        "from tensorflow.keras import callbacks, layers, models, Model\n",
        "import matplotlib.pyplot as plt\n",
        "%matplotlib inline\n",
        "from azureml.core import Dataset, Workspace\n",
        "from azureml.core.run import Run\n",
        "\n",
        "sys.path.append(str(Path(os.getcwd()).parents[2]))  # src/ dir\n",
        "from common.model_utils.utils import get_dataset_path, download_dataset\n",
        "\n",
        "from data_utils.data_visualisation.visualization_utils import (IMAGE_TARGET_HEIGHT, \n",
        "    IMAGE_TARGET_WIDTH, REPO_DIR, path_to_ndarray, choose_a_pickle_file, get_datetime)\n",
        "\n",
        "from common.model_utils.preprocessing import preprocess_depthmap"
      ],
      "outputs": [],
      "execution_count": null,
      "metadata": {
        "collapsed": true,
        "jupyter": {
          "source_hidden": false,
          "outputs_hidden": false
        },
        "nteract": {
          "transient": {
            "deleting": false
          }
        },
        "gather": {
          "logged": 1607675144426
        }
      }
    },
    {
      "cell_type": "code",
      "source": [
        "%reload_ext autoreload\n",
        "%autoreload 2"
      ],
      "outputs": [],
      "execution_count": null,
      "metadata": {
        "collapsed": true,
        "jupyter": {
          "source_hidden": false,
          "outputs_hidden": false
        },
        "nteract": {
          "transient": {
            "deleting": false
          }
        }
      }
    },
    {
      "cell_type": "code",
      "source": [
        "dataset_name = \"anon-realtime-testdata\"  # \"anon-realtime-evaluation\"\n",
        "DEPTHMAPS_DIR_NAME = \"scans\" #  \"depthmaps\"\n",
        "sample_qr_code = \"1585348358-4ek1lj215y\""
      ],
      "outputs": [],
      "execution_count": null,
      "metadata": {
        "collapsed": true,
        "jupyter": {
          "source_hidden": false,
          "outputs_hidden": false
        },
        "nteract": {
          "transient": {
            "deleting": false
          }
        },
        "gather": {
          "logged": 1607674784136
        }
      }
    },
    {
      "cell_type": "code",
      "source": [
        "workspace = Workspace.from_config()\n",
        "dataset = Dataset.get_by_name(workspace, name=dataset_name)\n",
        "workspace, dataset"
      ],
      "outputs": [],
      "execution_count": null,
      "metadata": {
        "collapsed": true,
        "jupyter": {
          "source_hidden": false,
          "outputs_hidden": false
        },
        "nteract": {
          "transient": {
            "deleting": false
          }
        },
        "gather": {
          "logged": 1607674005616
        }
      }
    },
    {
      "cell_type": "code",
      "source": [
        "# mount_context = dataset.mount()\n",
        "# mount_context.start()  # this will mount the file streams\n",
        "# mount_context.mount_point\n",
        "# ! ls {mount_context.mount_point}\n",
        "# ! ls {mount_context.mount_point + '/depthmaps'}"
      ],
      "outputs": [],
      "execution_count": null,
      "metadata": {
        "collapsed": true,
        "jupyter": {
          "source_hidden": false,
          "outputs_hidden": false
        },
        "nteract": {
          "transient": {
            "deleting": false
          }
        },
        "gather": {
          "logged": 1606206539683
        }
      }
    },
    {
      "cell_type": "code",
      "source": [
        "# Downlaod dataset (prefer over mounting !)\n",
        "DATA_DIR_ONLINE_RUN = Path(\"/tmp/data/\")\n",
        "dataset_path = get_dataset_path(DATA_DIR_ONLINE_RUN, dataset_name)\n",
        "download_dataset(workspace, dataset_name, dataset_path)"
      ],
      "outputs": [],
      "execution_count": null,
      "metadata": {
        "collapsed": true,
        "jupyter": {
          "source_hidden": false,
          "outputs_hidden": false
        },
        "nteract": {
          "transient": {
            "deleting": false
          }
        },
        "gather": {
          "logged": 1607674548418
        }
      }
    },
    {
      "cell_type": "code",
      "source": [
        "depthmaps_paths = Path(f\"/tmp/data/{dataset_name}/{DEPTHMAPS_DIR_NAME}\")"
      ],
      "outputs": [],
      "execution_count": null,
      "metadata": {
        "collapsed": true,
        "jupyter": {
          "source_hidden": false,
          "outputs_hidden": false
        },
        "nteract": {
          "transient": {
            "deleting": false
          }
        },
        "gather": {
          "logged": 1607674570116
        }
      }
    },
    {
      "cell_type": "code",
      "source": [
        "qrcode_path_ = depthmaps_paths / sample_qr_code\n",
        "qrcode_path = str(qrcode_path_ / \"100/\")  # contains .p files\n",
        "\n",
        "assert os.path.exists(qrcode_path)\n",
        "\n",
        "path_with_wildcard = os.path.join(qrcode_path, \"*.p\")\n",
        "list_of_pickle_file_paths = sorted(glob.glob(path_with_wildcard))"
      ],
      "outputs": [],
      "execution_count": null,
      "metadata": {
        "collapsed": true,
        "jupyter": {
          "source_hidden": false,
          "outputs_hidden": false
        },
        "nteract": {
          "transient": {
            "deleting": false
          }
        },
        "gather": {
          "logged": 1607674864210
        }
      }
    },
    {
      "cell_type": "code",
      "source": [],
      "outputs": [],
      "execution_count": null,
      "metadata": {
        "collapsed": true,
        "jupyter": {
          "source_hidden": false,
          "outputs_hidden": false
        },
        "nteract": {
          "transient": {
            "deleting": false
          }
        },
        "gather": {
          "logged": 1607674617584
        }
      }
    },
    {
      "cell_type": "code",
      "source": [
        "list_of_pickle_file_paths"
      ],
      "outputs": [],
      "execution_count": null,
      "metadata": {
        "collapsed": true,
        "jupyter": {
          "source_hidden": false,
          "outputs_hidden": false
        },
        "nteract": {
          "transient": {
            "deleting": false
          }
        },
        "gather": {
          "logged": 1607674886055
        }
      }
    },
    {
      "cell_type": "code",
      "source": [
        "# TARGET contain:  height, weight, muac, age in days, gender('male' or 'female'), quality ('good' or 'bad'), 'test'\n",
        "TARGET_INDEXES = [0, 3, ]  # height, age in days  \n",
        "\n",
        "IMAGE_TARGET_HEIGHT = 240\n",
        "IMAGE_TARGET_WIDTH = 180\n",
        "\n",
        "def show_pickle(pickle_file_path):\n",
        "    depthmap, _targets = py_load_pickle(pickle_file_path)\n",
        "    depthmap = tf.reshape(depthmap, (IMAGE_TARGET_HEIGHT, IMAGE_TARGET_WIDTH))\n",
        "    plt.imshow(depthmap.numpy(), cmap='gray', vmin=0, vmax=1)\n",
        "    print(f\"height: {_targets[0]:.2f} cm\")\n",
        "    print(f\"age: {_targets[1]:.2f} days\")\n",
        "\n",
        "def preprocess_targets(targets, targets_indices):\n",
        "    if targets_indices is not None:\n",
        "        targets = targets[targets_indices]\n",
        "    return targets.astype(\"float32\")\n",
        "\n",
        "def py_load_pickle(path, max_value=7.5):\n",
        "    path_ = path if isinstance(path, str) else path.numpy()\n",
        "    depthmap, targets = pickle.load(open(path_, \"rb\"))\n",
        "    depthmap = preprocess_depthmap(depthmap)\n",
        "    depthmap = depthmap / max_value\n",
        "    depthmap = tf.image.resize(depthmap, (IMAGE_TARGET_HEIGHT, IMAGE_TARGET_WIDTH))\n",
        "    targets = preprocess_targets(targets, TARGET_INDEXES)\n",
        "    return depthmap, targets"
      ],
      "outputs": [],
      "execution_count": null,
      "metadata": {
        "collapsed": true,
        "jupyter": {
          "source_hidden": false,
          "outputs_hidden": false
        },
        "nteract": {
          "transient": {
            "deleting": false
          }
        },
        "gather": {
          "logged": 1607675642903
        }
      }
    },
    {
      "cell_type": "code",
      "source": [
        "show_pickle(list_of_pickle_file_paths[5])"
      ],
      "outputs": [],
      "execution_count": null,
      "metadata": {
        "collapsed": true,
        "jupyter": {
          "source_hidden": false,
          "outputs_hidden": false
        },
        "nteract": {
          "transient": {
            "deleting": false
          }
        },
        "gather": {
          "logged": 1607675590737
        }
      }
    },
    {
      "cell_type": "code",
      "source": [],
      "outputs": [],
      "execution_count": null,
      "metadata": {
        "collapsed": true,
        "jupyter": {
          "source_hidden": false,
          "outputs_hidden": false
        },
        "nteract": {
          "transient": {
            "deleting": false
          }
        },
        "gather": {
          "logged": 1607675647372
        }
      }
    },
    {
      "cell_type": "code",
      "source": [
        "depthmap.shape, _targets"
      ],
      "outputs": [],
      "execution_count": null,
      "metadata": {
        "collapsed": true,
        "jupyter": {
          "source_hidden": false,
          "outputs_hidden": false
        },
        "nteract": {
          "transient": {
            "deleting": false
          }
        },
        "gather": {
          "logged": 1607675648705
        }
      }
    },
    {
      "cell_type": "code",
      "source": [],
      "outputs": [],
      "execution_count": null,
      "metadata": {
        "collapsed": true,
        "jupyter": {
          "source_hidden": false,
          "outputs_hidden": false
        },
        "nteract": {
          "transient": {
            "deleting": false
          }
        },
        "gather": {
          "logged": 1607675129150
        }
      }
    },
    {
      "cell_type": "code",
      "source": [
        "# Setup prediction\n",
        "service_name = 'q3-depthmap-height-run-01-ci'\n",
        "service = workspace.webservices[service_name]\n",
        "\n",
        "# In evaluate.py:\n",
        "def get_height_prediction(model_path, depthmap_path_list):\n",
        "    \n",
        "    # Choose one artifact and predict on it  # TODO change to multiple\n",
        "    pickle_file_path = depthmap_path_list[5]\n",
        "\n",
        "    # Path to numpy array\n",
        "    depthmap, _targets = py_load_pickle(pickle_file_path)\n",
        "    depthmap_np = depthmap.numpy()\n",
        "    depthmaps = np.array([depthmap_np]).reshape(1, 240, 180, 1)\n",
        "    depthmaps_json = json.dumps({'data': depthmaps.tolist()})\n",
        "\n",
        "    # Predict\n",
        "    predictions = service.run(input_data=depthmaps_json)\n",
        "    return predictions"
      ],
      "outputs": [],
      "execution_count": null,
      "metadata": {
        "collapsed": true,
        "jupyter": {
          "source_hidden": false,
          "outputs_hidden": false
        },
        "nteract": {
          "transient": {
            "deleting": false
          }
        },
        "gather": {
          "logged": 1607677678681
        }
      }
    },
    {
      "cell_type": "code",
      "source": [
        "get_height_prediction(None, list_of_pickle_file_paths)"
      ],
      "outputs": [],
      "execution_count": null,
      "metadata": {
        "collapsed": true,
        "jupyter": {
          "source_hidden": false,
          "outputs_hidden": false
        },
        "nteract": {
          "transient": {
            "deleting": false
          }
        },
        "gather": {
          "logged": 1607677680329
        }
      }
    },
    {
      "cell_type": "code",
      "source": [
        "print(f\"prediction is: {predictions[0][0]} \\n\" + \n",
        "      f\"scan label is: {_targets[0]}\"\n",
        ")"
      ],
      "outputs": [],
      "execution_count": null,
      "metadata": {
        "collapsed": true,
        "jupyter": {
          "source_hidden": false,
          "outputs_hidden": false
        },
        "nteract": {
          "transient": {
            "deleting": false
          }
        },
        "gather": {
          "logged": 1607675680896
        }
      }
    },
    {
      "cell_type": "code",
      "source": [
        "# Maybe load model here into memory"
      ],
      "outputs": [],
      "execution_count": null,
      "metadata": {
        "collapsed": true,
        "jupyter": {
          "source_hidden": false,
          "outputs_hidden": false
        },
        "nteract": {
          "transient": {
            "deleting": false
          }
        },
        "gather": {
          "logged": 1606215069572
        }
      }
    },
    {
      "cell_type": "code",
      "source": [
        "\n"
      ],
      "outputs": [],
      "execution_count": null,
      "metadata": {
        "collapsed": true,
        "jupyter": {
          "source_hidden": false,
          "outputs_hidden": false
        },
        "nteract": {
          "transient": {
            "deleting": false
          }
        }
      }
    },
    {
      "cell_type": "code",
      "source": [],
      "outputs": [],
      "execution_count": null,
      "metadata": {
        "collapsed": true,
        "jupyter": {
          "source_hidden": false,
          "outputs_hidden": false
        },
        "nteract": {
          "transient": {
            "deleting": false
          }
        }
      }
    }
  ],
  "metadata": {
    "kernelspec": {
      "name": "python3-azureml",
      "language": "python",
      "display_name": "Python 3.6 - AzureML"
    },
    "language_info": {
      "name": "python",
      "version": "3.6.9",
      "mimetype": "text/x-python",
      "codemirror_mode": {
        "name": "ipython",
        "version": 3
      },
      "pygments_lexer": "ipython3",
      "nbconvert_exporter": "python",
      "file_extension": ".py"
    },
    "kernel_info": {
      "name": "python3-azureml"
    },
    "nteract": {
      "version": "nteract-front-end@1.0.0"
    }
  },
  "nbformat": 4,
  "nbformat_minor": 2
}